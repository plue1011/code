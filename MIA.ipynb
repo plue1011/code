{
 "cells": [
  {
   "cell_type": "code",
   "execution_count": 1,
   "metadata": {},
   "outputs": [],
   "source": [
    "import itertools\n",
    "import random\n",
    "import networkx as nx\n",
    "import matplotlib.pyplot as plt\n",
    "import numpy as np\n",
    "from scipy.sparse import csr_matrix\n",
    "from scipy.sparse.csgraph import dijkstra #フィボナッチヒープを使用している\n",
    "import math\n",
    "from tqdm import tqdm_notebook as tqdm\n",
    "import pandas as pd\n",
    "import time\n",
    "from InfMaxProblem import ICmodel\n",
    "import sys\n",
    "sys.setrecursionlimit(20000)\n",
    "\n",
    "%matplotlib inline"
   ]
  },
  {
   "cell_type": "code",
   "execution_count": 2,
   "metadata": {},
   "outputs": [],
   "source": [
    "def make_random_graph_list(V_size, E_size):\n",
    "    network_list = np.array([np.random.choice(range(V_size),2,replace=False) for i in range(E_size)])\n",
    "    network_list = np.unique(network_list, axis=0)\n",
    "    weighted = np.random.uniform(0,1,len(network_list))\n",
    "    \n",
    "    # from to と　weightedを連結\n",
    "    return np.vstack([network_list.T, weighted]).T"
   ]
  },
  {
   "cell_type": "code",
   "execution_count": 223,
   "metadata": {},
   "outputs": [],
   "source": [
    "# 確率を-log(p)変換する\n",
    "def neg_log(network_np):\n",
    "    return np.vstack([network_np.T[:2], -np.log(network_np.T[2])]).T"
   ]
  },
  {
   "cell_type": "code",
   "execution_count": 218,
   "metadata": {},
   "outputs": [],
   "source": [
    "network_np = make_random_graph_list(5000, 10000)"
   ]
  },
  {
   "cell_type": "code",
   "execution_count": 219,
   "metadata": {},
   "outputs": [],
   "source": [
    "network_np_log = neg_log(network_np)"
   ]
  },
  {
   "cell_type": "code",
   "execution_count": 220,
   "metadata": {},
   "outputs": [],
   "source": [
    "# 空の有向グラフを作成\n",
    "G = nx.DiGraph()"
   ]
  },
  {
   "cell_type": "code",
   "execution_count": 221,
   "metadata": {},
   "outputs": [],
   "source": [
    "# 重み付きの枝を加える\n",
    "G.add_weighted_edges_from(network_np_log)"
   ]
  },
  {
   "cell_type": "code",
   "execution_count": 207,
   "metadata": {},
   "outputs": [],
   "source": [
    "# plt.figure(figsize=(15,5))\n",
    "# nx.draw_networkx(G)"
   ]
  },
  {
   "cell_type": "code",
   "execution_count": 208,
   "metadata": {},
   "outputs": [],
   "source": [
    "def compute_MIP_G(G, theta):\n",
    "    return dict(nx.all_pairs_dijkstra(G, cutoff=-np.log(theta)))"
   ]
  },
  {
   "cell_type": "code",
   "execution_count": 209,
   "metadata": {},
   "outputs": [],
   "source": [
    "def compute_MIOA(v, G_table):\n",
    "    MIOA = nx.DiGraph()\n",
    "    for u_pass in G_table[v][1].values():\n",
    "        nx.add_path(MIOA, u_pass)\n",
    "    return MIOA\n",
    "\n",
    "# theta = 0.00001\n",
    "# G_table = compute_MIP_G(G, theta)\n",
    "\n",
    "# MIOA = compute_MIOA(0, G_table)\n",
    "# # nx.draw_networkx(MIOA)"
   ]
  },
  {
   "cell_type": "code",
   "execution_count": 210,
   "metadata": {},
   "outputs": [],
   "source": [
    "def compute_MIIA(v, G_table):\n",
    "    MIIA = nx.DiGraph()\n",
    "    for node in G:\n",
    "        if v in G_table[node][1]:\n",
    "            nx.add_path(MIIA, G_table[node][1][v])\n",
    "    return MIIA\n",
    "\n",
    "# theta = 0.00001\n",
    "# G_table = compute_MIP_G(G, theta)\n",
    "\n",
    "# MIIA = compute_MIIA(2, G_table)\n",
    "# # nx.draw_networkx(MIIA)"
   ]
  },
  {
   "cell_type": "code",
   "execution_count": 211,
   "metadata": {},
   "outputs": [],
   "source": [
    "def compute_ap(ap, S, MIIA_v, v, G_table):\n",
    "    # MIIAtreeの末端から計算すれば、効率的になるため、ソート\n",
    "    from_u_to_v_pass_len = dict(nx.single_target_shortest_path_length(MIIA_v, v))\n",
    "    sorted_pass_len = sorted(from_u_to_v_pass_len.items(), key=lambda x:x[1], reverse=True)\n",
    "    \n",
    "    for u, _ in sorted_pass_len:\n",
    "        if u in S:\n",
    "            ap[(u, MIIA_v)] = 1\n",
    "        else:\n",
    "            N_in = MIIA_v.in_edges([u])\n",
    "            if not N_in:\n",
    "                ap[(u, MIIA_v)] = 0\n",
    "            else:\n",
    "                prod = 1\n",
    "                for w, _ in N_in:\n",
    "                    prod *= 1 - ap[(w, MIIA_v)] * np.exp(-G_table[w][0][u])\n",
    "                ap[(u, MIIA_v)] = 1 - prod\n",
    "                \n",
    "# theta = 0.0001\n",
    "# v = 2\n",
    "# S = [3]\n",
    "# G_table = compute_MIP_G(G, theta)\n",
    "# MIIA_v = compute_MIIA(v, G_table)\n",
    "# # nx.draw_networkx(MIIA_v)\n",
    "# ap = dict()\n",
    "# compute_ap(ap, S, MIIA_v, v, G_table)\n",
    "# ap"
   ]
  },
  {
   "cell_type": "code",
   "execution_count": 212,
   "metadata": {},
   "outputs": [],
   "source": [
    "def compute_alpha(alpha, v, MIIA_v, S, G_table, ap):\n",
    "    # 木のルートからはじめると効率的に計算できる\n",
    "    from_u_to_v_pass_len = dict(nx.single_target_shortest_path_length(MIIA_v, v))\n",
    "    sorted_pass_len = sorted(from_u_to_v_pass_len.items(), key=lambda x:x[1])\n",
    "\n",
    "    for u, _ in sorted_pass_len:\n",
    "        if u == v:\n",
    "            alpha[(MIIA_v, u)] = 1\n",
    "        else:\n",
    "            w = list(MIIA_v.out_edges([u]))[0][1]\n",
    "            if w in S:\n",
    "                alpha[(MIIA_v, u)] = 0\n",
    "            else:\n",
    "                N_in = MIIA_v.in_edges([w])\n",
    "                prod = 1\n",
    "                for u_, _ in N_in:\n",
    "                    if u_ != u:\n",
    "                        prod *= 1 - ap[(u_, MIIA_v)] * np.exp(-G_table[u_][0][w])\n",
    "                alpha[(MIIA_v, u)] = alpha[(MIIA_v, w)] * np.exp(-G_table[u][0][w]) * prod\n",
    "\n",
    "# theta = 0.0001\n",
    "# v = 2\n",
    "# S = [3]\n",
    "# G_table = compute_MIP_G(G, theta)\n",
    "# MIIA_v = compute_MIIA(v, G_table)\n",
    "# nx.draw_networkx(MIIA_v)\n",
    "# ap = dict()\n",
    "# compute_ap(ap, S, MIIA_v, v, G_table)\n",
    "\n",
    "# alpha = dict()\n",
    "# compute_alpha(alpha, v, MIIA_v, S, G_table, ap)\n",
    "# alpha"
   ]
  },
  {
   "cell_type": "code",
   "execution_count": 224,
   "metadata": {},
   "outputs": [],
   "source": [
    "def compute_MIA(G, k, theta):\n",
    "    # initialization\n",
    "    # 2\n",
    "    S = []\n",
    "    \n",
    "    # 3\n",
    "    IncInf = dict(zip(G.nodes(), [0]*len(G)))\n",
    "    \n",
    "    MIIA = dict()\n",
    "    MIOA = dict()\n",
    "    ap = dict()\n",
    "    alpha = dict()\n",
    "    \n",
    "    # ダイクストラの計算を一括で行う\n",
    "    G_table = compute_MIP_G(G, theta)\n",
    "    \n",
    "    \n",
    "    # 4\n",
    "    for v in G:\n",
    "        # 5\n",
    "        MIIA[v] = compute_MIIA(v, G_table)\n",
    "        MIOA[v] = compute_MIOA(v, G_table)\n",
    "        \n",
    "        # 6\n",
    "        for u in MIIA[v]:\n",
    "            ap[(u, MIIA[v])] = 0\n",
    "        \n",
    "        # 7\n",
    "        compute_alpha(alpha, v, MIIA[v], S, G_table, ap)\n",
    "        \n",
    "        # 8\n",
    "        for u in MIIA[v]:\n",
    "            IncInf[u] += alpha[(MIIA[v], u)] * (1 - ap[(u, MIIA[v])])\n",
    "\n",
    "    # main loop\n",
    "    # 13\n",
    "    for i in range(k):\n",
    "        # 14\n",
    "        u = sorted(IncInf.items(), key=lambda x:x[1], reverse=True)[0][0]\n",
    "        print(\"u\",u)\n",
    "        \n",
    "        # 16\n",
    "        for v in MIOA[u]:\n",
    "            if not v in S:\n",
    "                for w in MIIA[v]:\n",
    "                    if not w in S:\n",
    "                        IncInf[w] -= alpha[(MIIA[v], w)] * (1 - ap[(w, MIIA[v])])\n",
    "        # 22\n",
    "        S += [u]\n",
    "        \n",
    "        if len(S) == k:\n",
    "            return S\n",
    "        \n",
    "        # 23\n",
    "        for v in MIOA[u]:\n",
    "            if not v in S:\n",
    "                # 24\n",
    "                compute_ap(ap, S, MIIA[v], v, G_table)\n",
    "                \n",
    "                # 25\n",
    "                compute_alpha(alpha, v, MIIA[v], S, G_table, ap)\n",
    "                \n",
    "                # 27\n",
    "                for w in MIIA[v]:\n",
    "                    if not w in S:\n",
    "                        # 28\n",
    "                        IncInf[w] += alpha[(MIIA[v], w)] * (1 - ap[(w, MIIA[v])])"
   ]
  },
  {
   "cell_type": "code",
   "execution_count": null,
   "metadata": {},
   "outputs": [],
   "source": [
    "network_np = make_random_graph_list(50000, 100000)"
   ]
  },
  {
   "cell_type": "code",
   "execution_count": null,
   "metadata": {},
   "outputs": [],
   "source": [
    "network_np_log = neg_log(network_np)"
   ]
  },
  {
   "cell_type": "code",
   "execution_count": null,
   "metadata": {},
   "outputs": [],
   "source": [
    "# 空の有向グラフを作成\n",
    "G = nx.DiGraph()"
   ]
  },
  {
   "cell_type": "code",
   "execution_count": null,
   "metadata": {},
   "outputs": [],
   "source": [
    "# 重み付きの枝を加える\n",
    "G.add_weighted_edges_from(network_np_log)"
   ]
  },
  {
   "cell_type": "code",
   "execution_count": null,
   "metadata": {},
   "outputs": [],
   "source": [
    "%time compute_MIA(G, 3, 0.1)"
   ]
  },
  {
   "cell_type": "code",
   "execution_count": null,
   "metadata": {},
   "outputs": [],
   "source": []
  }
 ],
 "metadata": {
  "kernelspec": {
   "display_name": "Python 3",
   "language": "python",
   "name": "python3"
  },
  "language_info": {
   "codemirror_mode": {
    "name": "ipython",
    "version": 3
   },
   "file_extension": ".py",
   "mimetype": "text/x-python",
   "name": "python",
   "nbconvert_exporter": "python",
   "pygments_lexer": "ipython3",
   "version": "3.7.4"
  }
 },
 "nbformat": 4,
 "nbformat_minor": 2
}
