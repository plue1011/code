{
 "cells": [
  {
   "cell_type": "code",
   "execution_count": 1,
   "metadata": {},
   "outputs": [],
   "source": [
    "import networkx as nx\n",
    "import pandas as pd\n",
    "import numpy as np\n",
    "import matplotlib.pyplot as plt\n",
    "from tqdm import tqdm_notebook as tqdm\n",
    "import random\n",
    "import time\n",
    "from collections import deque\n",
    "\n",
    "%matplotlib inline"
   ]
  },
  {
   "cell_type": "code",
   "execution_count": 37,
   "metadata": {
    "scrolled": true
   },
   "outputs": [
    {
     "data": {
      "text/html": [
       "<div>\n",
       "<style scoped>\n",
       "    .dataframe tbody tr th:only-of-type {\n",
       "        vertical-align: middle;\n",
       "    }\n",
       "\n",
       "    .dataframe tbody tr th {\n",
       "        vertical-align: top;\n",
       "    }\n",
       "\n",
       "    .dataframe thead th {\n",
       "        text-align: right;\n",
       "    }\n",
       "</style>\n",
       "<table border=\"1\" class=\"dataframe\">\n",
       "  <thead>\n",
       "    <tr style=\"text-align: right;\">\n",
       "      <th></th>\n",
       "      <th># FromNodeId</th>\n",
       "      <th>ToNodeId</th>\n",
       "      <th>P=0.01</th>\n",
       "    </tr>\n",
       "  </thead>\n",
       "  <tbody>\n",
       "    <tr>\n",
       "      <td>0</td>\n",
       "      <td>0</td>\n",
       "      <td>4</td>\n",
       "      <td>0.01</td>\n",
       "    </tr>\n",
       "    <tr>\n",
       "      <td>1</td>\n",
       "      <td>0</td>\n",
       "      <td>5</td>\n",
       "      <td>0.01</td>\n",
       "    </tr>\n",
       "    <tr>\n",
       "      <td>2</td>\n",
       "      <td>0</td>\n",
       "      <td>7</td>\n",
       "      <td>0.01</td>\n",
       "    </tr>\n",
       "    <tr>\n",
       "      <td>3</td>\n",
       "      <td>0</td>\n",
       "      <td>8</td>\n",
       "      <td>0.01</td>\n",
       "    </tr>\n",
       "    <tr>\n",
       "      <td>4</td>\n",
       "      <td>0</td>\n",
       "      <td>9</td>\n",
       "      <td>0.01</td>\n",
       "    </tr>\n",
       "  </tbody>\n",
       "</table>\n",
       "</div>"
      ],
      "text/plain": [
       "   # FromNodeId  ToNodeId  P=0.01\n",
       "0             0         4    0.01\n",
       "1             0         5    0.01\n",
       "2             0         7    0.01\n",
       "3             0         8    0.01\n",
       "4             0         9    0.01"
      ]
     },
     "execution_count": 37,
     "metadata": {},
     "output_type": "execute_result"
    }
   ],
   "source": [
    "# データの読み込み\n",
    "# 枝確率を計算済みのネットワークを読み込む\n",
    "network = pd.read_csv(\"data/Epinions/P=0_01.csv\")\n",
    "network.head()"
   ]
  },
  {
   "cell_type": "code",
   "execution_count": 38,
   "metadata": {},
   "outputs": [],
   "source": [
    "# numpy型に変換\n",
    "network_np = network.values"
   ]
  },
  {
   "cell_type": "code",
   "execution_count": 39,
   "metadata": {},
   "outputs": [],
   "source": [
    "# 空の有向グラフを作成\n",
    "G = nx.DiGraph()"
   ]
  },
  {
   "cell_type": "code",
   "execution_count": 40,
   "metadata": {},
   "outputs": [],
   "source": [
    "# 重み付きの枝を加える\n",
    "G.add_weighted_edges_from(network_np)"
   ]
  },
  {
   "cell_type": "code",
   "execution_count": 41,
   "metadata": {},
   "outputs": [],
   "source": [
    "# 入力は隣接リスト(numpy)[[from_node, to_node, edge_prob],...]\n",
    "def live_edge_graph_edges(p, p_len):\n",
    "    rand = np.random.uniform(0, 1, p_len)\n",
    "    return np.array([[p[i][0], p[i][1]] for i in range(p_len) if rand[i] < p[i][2]])"
   ]
  },
  {
   "cell_type": "code",
   "execution_count": 42,
   "metadata": {},
   "outputs": [
    {
     "name": "stdout",
     "output_type": "stream",
     "text": [
      "CPU times: user 761 ms, sys: 9.99 ms, total: 771 ms\n",
      "Wall time: 781 ms\n"
     ]
    }
   ],
   "source": [
    "%time simulation = live_edge_graph_edges(network_np, len(network_np))"
   ]
  },
  {
   "cell_type": "code",
   "execution_count": 43,
   "metadata": {},
   "outputs": [
    {
     "data": {
      "text/plain": [
       "array([[0.0000e+00, 4.7000e+01],\n",
       "       [5.0000e+00, 2.0000e+00],\n",
       "       [5.0000e+00, 1.0000e+02],\n",
       "       ...,\n",
       "       [7.5296e+04, 7.2114e+04],\n",
       "       [7.5574e+04, 7.3938e+04],\n",
       "       [7.5872e+04, 7.5865e+04]])"
      ]
     },
     "execution_count": 43,
     "metadata": {},
     "output_type": "execute_result"
    }
   ],
   "source": [
    "simulation"
   ]
  },
  {
   "cell_type": "code",
   "execution_count": 44,
   "metadata": {},
   "outputs": [],
   "source": [
    "# 動かせない時がある\n",
    "def reach_node_size(live_edge, seed):\n",
    "    # グラフ作成\n",
    "    H = nx.DiGraph()\n",
    "    H.add_edges_from(live_edge)\n",
    "    \n",
    "    # 到達可能な頂点集合をシードごとに和集合して求める\n",
    "    reach_set = set([])\n",
    "    for s in seed:\n",
    "        # たどり着いているノードがシードでない場合だけ計算する\n",
    "        if s not in reach_set:\n",
    "            try:\n",
    "                reach_set |= set(nx.dfs_preorder_nodes(H,source=s))\n",
    "            except:\n",
    "                return H\n",
    "    return len(reach_set)"
   ]
  },
  {
   "cell_type": "code",
   "execution_count": 45,
   "metadata": {},
   "outputs": [
    {
     "name": "stdout",
     "output_type": "stream",
     "text": [
      "CPU times: user 31.8 ms, sys: 7.08 ms, total: 38.9 ms\n",
      "Wall time: 37.8 ms\n"
     ]
    },
    {
     "data": {
      "text/plain": [
       "2"
      ]
     },
     "execution_count": 45,
     "metadata": {},
     "output_type": "execute_result"
    }
   ],
   "source": [
    "%time reach_node_size(simulation, [0])"
   ]
  },
  {
   "cell_type": "code",
   "execution_count": 46,
   "metadata": {},
   "outputs": [],
   "source": [
    "# 影響数の期待値(近似)\n",
    "# approxim_expected_influence_num(枝確率, シード, ε, δ)\n",
    "def approx_expect_inf_size(p, seed, epsi, delta):\n",
    "    # グラフの作成\n",
    "    G = nx.DiGraph()\n",
    "    G.add_weighted_edges_from(p)\n",
    "    \n",
    "    # 頂点数\n",
    "    n = G.number_of_nodes()\n",
    "    \n",
    "    # 試行回数を算出する\n",
    "    T = int(((n**2) / (epsi**2)) * np.log(1/delta)) + 1\n",
    "        \n",
    "    # 各回のシュミレーションの結果の和が格納される\n",
    "    X = 0\n",
    "    len_p = len(p)\n",
    "    # T回シュミレーションしていく\n",
    "    for i in tqdm(range(T)):\n",
    "        # live_edgeグラフを作る\n",
    "        live_edge = live_edge_graph_edges(p, len_p)\n",
    "        try:\n",
    "            X += reach_node_size(live_edge, seed)\n",
    "        except:\n",
    "            return reach_node_size(live_edge, seed)\n",
    "    expected_num = X / T\n",
    "    return expected_num"
   ]
  },
  {
   "cell_type": "code",
   "execution_count": 47,
   "metadata": {},
   "outputs": [],
   "source": [
    "# シュミレーションの結果的に変化していない場合は、回数を減らす関数\n",
    "# 影響数の期待値(近似)\n",
    "# approxim_expected_influence_num(枝確率, シード, ε, δ, 変化数)\n",
    "def approx_expect_inf_size_heuris(p, seed, epsi, delta, change):\n",
    "    # グラフの作成\n",
    "    G = nx.DiGraph()\n",
    "    G.add_weighted_edges_from(p)\n",
    "    \n",
    "    # 頂点数\n",
    "    n = G.number_of_nodes()\n",
    "    \n",
    "    # 試行回数を算出する\n",
    "    T = int(((n**2) / (epsi**2)) * np.log(1/delta)) + 1\n",
    "        \n",
    "    # 各回のシュミレーションの結果の和が格納される\n",
    "    X = 0\n",
    "    len_p = len(p)\n",
    "    # T回シュミレーションしていく\n",
    "    for i in tqdm(range(T)):\n",
    "        # live_edgeグラフを作る\n",
    "        live_edge = live_edge_graph_edges(p, len_p)\n",
    "        X += reach_node_size(live_edge, seed)\n",
    "        \n",
    "        # 前回と比較して変化なし\n",
    "        # if (i != 0) and (abs(((X / (i+1)) - expected_num) / expected_num) < rate_change):\n",
    "        if (i != 0) and (abs(((X / (i+1)) - expected_num) < change)):    \n",
    "            return expected_num\n",
    "        \n",
    "        expected_num = X / (i+1)\n",
    "    return expected_num"
   ]
  },
  {
   "cell_type": "code",
   "execution_count": null,
   "metadata": {},
   "outputs": [],
   "source": []
  },
  {
   "cell_type": "code",
   "execution_count": 48,
   "metadata": {},
   "outputs": [],
   "source": [
    "# 幅優先探索\n",
    "# アルゴリズム by https://todo314.hatenadiary.org/entry/20151013/1444720166\n",
    "\n",
    "def IC_simulation(G, S):\n",
    "    visited = {s:s for s in S}\n",
    "    queue = deque(S)\n",
    "    while queue:\n",
    "        v = queue.popleft()\n",
    "        out_node = G.successors(v)\n",
    "        for u in out_node:\n",
    "            if not (u in visited):\n",
    "                coin = np.random.uniform(0,1)\n",
    "                if G[v][u][\"weight\"] > coin:\n",
    "                    queue.append(u)\n",
    "                    visited[u] = v\n",
    "    return visited"
   ]
  },
  {
   "cell_type": "code",
   "execution_count": 49,
   "metadata": {},
   "outputs": [],
   "source": [
    "def approx_expected_inf_size_IC(G, seed, epsi, delta):\n",
    "    # 試行回数を算出する\n",
    "    n = G.number_of_nodes()\n",
    "    T = int(((n**2) / (epsi**2)) * np.log(1/delta)) + 1\n",
    "    inf_size = sum([len(IC_simulation(G, seed)) for i in range(T)])\n",
    "    return inf_size / T"
   ]
  },
  {
   "cell_type": "code",
   "execution_count": 50,
   "metadata": {},
   "outputs": [],
   "source": [
    "def approx_expected_inf_size_IC_T(G, seed, T):\n",
    "    inf_size = sum([len(IC_simulation(G, seed)) for i in range(T)])\n",
    "    return inf_size / T"
   ]
  },
  {
   "cell_type": "markdown",
   "metadata": {},
   "source": [
    "# 実行時間実験"
   ]
  },
  {
   "cell_type": "code",
   "execution_count": 51,
   "metadata": {},
   "outputs": [
    {
     "data": {
      "text/plain": [
       "606747434"
      ]
     },
     "execution_count": 51,
     "metadata": {},
     "output_type": "execute_result"
    }
   ],
   "source": [
    "epsi = 0.9999\n",
    "delta = 0.9\n",
    "seed = [0,3]\n",
    "n = G.number_of_nodes()\n",
    "int(((n**2) / (epsi**2)) * np.log(1/delta)) + 1"
   ]
  },
  {
   "cell_type": "code",
   "execution_count": 52,
   "metadata": {
    "scrolled": true
   },
   "outputs": [],
   "source": [
    "# %time approx_expected_inf_size_IC(G, seed, epsi, delta)"
   ]
  },
  {
   "cell_type": "code",
   "execution_count": null,
   "metadata": {},
   "outputs": [
    {
     "data": {
      "application/vnd.jupyter.widget-view+json": {
       "model_id": "3b93efad7ca44e12b120f6e1638c193c",
       "version_major": 2,
       "version_minor": 0
      },
      "text/plain": [
       "HBox(children=(IntProgress(value=0, max=1000), HTML(value='')))"
      ]
     },
     "metadata": {},
     "output_type": "display_data"
    }
   ],
   "source": [
    "time_list = []\n",
    "x_cnt = []\n",
    "result = []\n",
    "seed = [763, 645]\n",
    "sum_inf = 0\n",
    "T = 100\n",
    "\n",
    "for t in tqdm(range(1000)):\n",
    "    start = time.time()\n",
    "    sum_inf += sum([len(IC_simulation(G, seed)) for i in range(T)])\n",
    "    time_list.append(time.time() - start)\n",
    "    result.append(sum_inf / (T*(t+1)))\n",
    "    x_cnt.append(T*(t+1))"
   ]
  },
  {
   "cell_type": "code",
   "execution_count": null,
   "metadata": {},
   "outputs": [],
   "source": [
    "time_df = pd.DataFrame({\"T\":x_cnt, \"time\":np.cumsum(time_list)}).set_index(\"T\")\n",
    "time_df.plot()\n",
    "plt.show()"
   ]
  },
  {
   "cell_type": "code",
   "execution_count": null,
   "metadata": {},
   "outputs": [],
   "source": [
    "inf_df = pd.DataFrame({\"T\":x_cnt, \"Influence spread\":result}).set_index(\"T\")\n",
    "inf_df.plot()\n",
    "plt.show()"
   ]
  },
  {
   "cell_type": "code",
   "execution_count": null,
   "metadata": {},
   "outputs": [],
   "source": []
  }
 ],
 "metadata": {
  "kernelspec": {
   "display_name": "Python 3",
   "language": "python",
   "name": "python3"
  },
  "language_info": {
   "codemirror_mode": {
    "name": "ipython",
    "version": 3
   },
   "file_extension": ".py",
   "mimetype": "text/x-python",
   "name": "python",
   "nbconvert_exporter": "python",
   "pygments_lexer": "ipython3",
   "version": "3.7.4"
  }
 },
 "nbformat": 4,
 "nbformat_minor": 2
}
