{
 "cells": [
  {
   "cell_type": "markdown",
   "metadata": {},
   "source": [
    "# Pruned Monte-Carlo"
   ]
  },
  {
   "cell_type": "markdown",
   "metadata": {},
   "source": [
    "* 強連結成分分解の関数を作る\n",
    "* GAINの再帰部分をどうするか？\n",
    "* Cでシュミレーションだけやってしまう\n",
    "\n",
    "* deltaとlatestが上手く動作していないため、クラスで書くか、返り値等を変更する必要あり"
   ]
  },
  {
   "cell_type": "code",
   "execution_count": 1,
   "metadata": {},
   "outputs": [],
   "source": [
    "import networkx as nx\n",
    "import pandas as pd\n",
    "import numpy as np\n",
    "import matplotlib.pyplot as plt\n",
    "from tqdm import tqdm_notebook as tqdm\n",
    "import random\n",
    "import time\n",
    "from collections import deque\n",
    "\n",
    "%matplotlib inline"
   ]
  },
  {
   "cell_type": "code",
   "execution_count": 2,
   "metadata": {},
   "outputs": [
    {
     "data": {
      "text/html": [
       "<div>\n",
       "<style scoped>\n",
       "    .dataframe tbody tr th:only-of-type {\n",
       "        vertical-align: middle;\n",
       "    }\n",
       "\n",
       "    .dataframe tbody tr th {\n",
       "        vertical-align: top;\n",
       "    }\n",
       "\n",
       "    .dataframe thead th {\n",
       "        text-align: right;\n",
       "    }\n",
       "</style>\n",
       "<table border=\"1\" class=\"dataframe\">\n",
       "  <thead>\n",
       "    <tr style=\"text-align: right;\">\n",
       "      <th></th>\n",
       "      <th># FromNodeId</th>\n",
       "      <th>ToNodeId</th>\n",
       "      <th>p</th>\n",
       "    </tr>\n",
       "  </thead>\n",
       "  <tbody>\n",
       "    <tr>\n",
       "      <th>0</th>\n",
       "      <td>0</td>\n",
       "      <td>4</td>\n",
       "      <td>0.008000</td>\n",
       "    </tr>\n",
       "    <tr>\n",
       "      <th>1</th>\n",
       "      <td>0</td>\n",
       "      <td>5</td>\n",
       "      <td>0.005682</td>\n",
       "    </tr>\n",
       "    <tr>\n",
       "      <th>2</th>\n",
       "      <td>0</td>\n",
       "      <td>7</td>\n",
       "      <td>0.033333</td>\n",
       "    </tr>\n",
       "    <tr>\n",
       "      <th>3</th>\n",
       "      <td>0</td>\n",
       "      <td>8</td>\n",
       "      <td>0.009615</td>\n",
       "    </tr>\n",
       "    <tr>\n",
       "      <th>4</th>\n",
       "      <td>0</td>\n",
       "      <td>9</td>\n",
       "      <td>0.066667</td>\n",
       "    </tr>\n",
       "  </tbody>\n",
       "</table>\n",
       "</div>"
      ],
      "text/plain": [
       "   # FromNodeId  ToNodeId         p\n",
       "0             0         4  0.008000\n",
       "1             0         5  0.005682\n",
       "2             0         7  0.033333\n",
       "3             0         8  0.009615\n",
       "4             0         9  0.066667"
      ]
     },
     "execution_count": 2,
     "metadata": {},
     "output_type": "execute_result"
    }
   ],
   "source": [
    "# データの読み込み\n",
    "# 枝確率を計算済みのネットワークを読み込む\n",
    "network = pd.read_csv(\"data.csv\")\n",
    "network.head()"
   ]
  },
  {
   "cell_type": "code",
   "execution_count": 3,
   "metadata": {},
   "outputs": [],
   "source": [
    "# numpy型に変換\n",
    "network_np = network.values"
   ]
  },
  {
   "cell_type": "code",
   "execution_count": 4,
   "metadata": {},
   "outputs": [],
   "source": [
    "# 入力は隣接リスト(numpy)[[from_node, to_node, edge_prob],...]\n",
    "def live_edge_graph_edges(p, p_len):\n",
    "    rand = np.random.uniform(0, 1, p_len)\n",
    "    return np.array([[p[i][0], p[i][1]] for i in range(p_len) if rand[i] < p[i][2]])"
   ]
  },
  {
   "cell_type": "code",
   "execution_count": 5,
   "metadata": {},
   "outputs": [],
   "source": [
    "# 幅優先探索によって、Sから到達可能なノードを返す\n",
    "def bfs(G, S):\n",
    "    visited = {s:None for s in S}\n",
    "    queue = deque(S)\n",
    "    while queue:\n",
    "        v = queue.popleft()\n",
    "        out_node = G.successors(v)\n",
    "        for u in out_node:\n",
    "            if not (u in visited):\n",
    "                queue.append(u)\n",
    "                visited[u] = v\n",
    "    return visited"
   ]
  },
  {
   "cell_type": "code",
   "execution_count": 6,
   "metadata": {},
   "outputs": [],
   "source": [
    "# 幅優先探索によって、Sから到達可能なノードを返す\n",
    "def bfs_reverse(G, S):\n",
    "    visited = {s:None for s in S}\n",
    "    queue = deque(S)\n",
    "    while queue:\n",
    "        v = queue.popleft()\n",
    "        in_node = G.predecessors(v)\n",
    "        for u in in_node:\n",
    "            if not (u in visited):\n",
    "                queue.append(u)\n",
    "                visited[u] = v\n",
    "    return visited"
   ]
  },
  {
   "cell_type": "code",
   "execution_count": 7,
   "metadata": {},
   "outputs": [],
   "source": [
    "# 強連結成分分解に使うための関数\n",
    "def dfs_go(G):\n",
    "    visited = dict([])\n",
    "    # vs:帰りがけ順\n",
    "    vs = deque([])\n",
    "    for s in G.node():\n",
    "        if s not in visited:\n",
    "            visited[s] = None\n",
    "            Stack = deque([s])\n",
    "            vs_tmp = deque([s])\n",
    "            while Stack:\n",
    "                v = Stack.pop()\n",
    "                #if v not in vs_tmp:\n",
    "                vs_tmp.appendleft(v)\n",
    "                out_node = G[v]\n",
    "                for u in out_node:\n",
    "                    if u not in visited:\n",
    "                        visited[u] = s\n",
    "                        Stack.append(u)\n",
    "            #vs = vs_tmp + vs\n",
    "            vs.extendleft(vs_tmp)\n",
    "    return visited, vs\n",
    "\n",
    "# 強連結成分分解に使うための関数\n",
    "def dfs_back(G, vs):\n",
    "    group = dict([])\n",
    "    group_num = 0\n",
    "    DAG = nx.DiGraph()\n",
    "    for s in vs:\n",
    "        if s not in group:\n",
    "            w = 1\n",
    "            Stack = deque([s])\n",
    "            members = []\n",
    "            while Stack:\n",
    "                v = Stack.pop()\n",
    "                members.append(v)\n",
    "                group[v] = group_num\n",
    "                in_node = G.predecessors(v)\n",
    "                for u in in_node:\n",
    "                    if u not in group:\n",
    "                        group[u] = group_num\n",
    "                        w += 1\n",
    "                        Stack.append(u)\n",
    "                    else:\n",
    "                        if group_num !=  group[u]:\n",
    "                            DAG.add_edge(group[u], group_num)\n",
    "            DAG.add_node(group_num, weight=w, members=members)\n",
    "            group_num += 1\n",
    "    return group, DAG\n",
    "\n",
    "def scc_DAG(G):\n",
    "    visited ,vs = dfs_go(G)\n",
    "    group, DAG = dfs_back(G, vs)\n",
    "    return group, DAG"
   ]
  },
  {
   "cell_type": "code",
   "execution_count": 8,
   "metadata": {},
   "outputs": [
    {
     "name": "stdout",
     "output_type": "stream",
     "text": [
      "CPU times: user 444 ms, sys: 8.12 ms, total: 452 ms\n",
      "Wall time: 452 ms\n"
     ]
    }
   ],
   "source": [
    "%time simulation = live_edge_graph_edges(network_np, len(network_np))"
   ]
  },
  {
   "cell_type": "code",
   "execution_count": 9,
   "metadata": {
    "scrolled": true
   },
   "outputs": [
    {
     "data": {
      "text/plain": [
       "51994"
      ]
     },
     "execution_count": 9,
     "metadata": {},
     "output_type": "execute_result"
    }
   ],
   "source": [
    "len(simulation)"
   ]
  },
  {
   "cell_type": "code",
   "execution_count": 10,
   "metadata": {},
   "outputs": [],
   "source": [
    "# i回目のシュミレーションでv_Vが到達できる頂点数\n",
    "def GAIN(i, v_V, comp, G, A, S, h, D):\n",
    "    # v:i回目のシュミレーションで作成されたグラフのv_Vを含む強連結成分\n",
    "    v = comp[i][v_V]\n",
    "    \n",
    "    # V[i]にvがない場合0(後に消されていくため)\n",
    "    if v not in G[i].nodes():\n",
    "        delta[i][v] = 0\n",
    "        return 0\n",
    "    \n",
    "    # ? delta\n",
    "    if latest[i][v]:\n",
    "        return delta[i][v]\n",
    "        \n",
    "    latest[i][v] = True\n",
    "    \n",
    "    # len(S)==0の理由は初回のみ行えば良いため(h(ハブ)以降の到達頂点数は一回行えば十分であるため)\n",
    "    # vがhのacestorだった場合、hの到達頂点数を計算して、他のacestorの時にも使い回す\n",
    "    if (v in A[i]) and (len(S) == 0):\n",
    "        # GAINの引数は後で変える\n",
    "        # hのGAINをはじめから足しておく\n",
    "        h_Vs = G[i].nodes[h[i]][\"members\"]\n",
    "        for h_V in h_Vs:\n",
    "            delta[i][v] = GAIN(i, h_V, comp, G, A, S, h, D)\n",
    "    else:\n",
    "        delta[i][v] = 0\n",
    "    \n",
    "    # bfs\n",
    "    Q = deque([v])\n",
    "    # Xは探索済みの強連結成分\n",
    "    X = set([v])\n",
    "    while Q:\n",
    "        u = Q.popleft()\n",
    "        \n",
    "        # 意味不明\n",
    "        #if (v in A[i]) and (u in D[i]) and (len(S) == 0):\n",
    "            #continue\n",
    "        delta[i][v] += G[i].nodes[u][\"weight\"]\n",
    "        \n",
    "        \n",
    "        Edges = G[i].out_edges(u)\n",
    "        for u_, w in Edges:\n",
    "            # uから出ている任意の枝について探索する\n",
    "            if u_ == u:\n",
    "                # 探索済みの強連結成分は探索しなくていいので、w not in X\n",
    "                # w in V[i]はのちのupdateでV[i]が変化するため\n",
    "                if (w not in X) and (w in G[i].nodes()):\n",
    "                    Q.append(w)\n",
    "                    X.add(w)\n",
    "        \n",
    "    return delta[i][v]"
   ]
  },
  {
   "cell_type": "code",
   "execution_count": 11,
   "metadata": {},
   "outputs": [],
   "source": [
    "def UPDATEDAG(i, t_V, comp, G):\n",
    "    # t:DAG上でのノードid\n",
    "    t = comp[i][t_V]\n",
    "    \n",
    "    if t in G[i]:\n",
    "        # t -> u\n",
    "        u = list(bfs(G[i], [t]))\n",
    "        # v -> u:上で求めたuにだどりつくvを求める\n",
    "        v = list(bfs_reverse(G[i], u))\n",
    "\n",
    "        # 上の２条件を満たす集合がv\n",
    "        v = set(u) & set(v)\n",
    "\n",
    "        # v かつ Viに存在する頂点\n",
    "        v_ = list(v & set(G[i].nodes()))\n",
    "        latest[i].update(zip(v_, [False]*len(v_)))\n",
    "\n",
    "        G[i].remove_nodes_from(u)\n",
    "        return G[i]\n",
    "    else:\n",
    "        return G[i]"
   ]
  },
  {
   "cell_type": "code",
   "execution_count": 37,
   "metadata": {},
   "outputs": [],
   "source": [
    "def PMC_greedy(network_np, k, R):\n",
    "    E_ = dict([])\n",
    "    G_ = dict([])\n",
    "    G = dict([])\n",
    "    comp = dict([])\n",
    "    h = dict([])\n",
    "    D = dict([])\n",
    "    A = dict([])\n",
    "    V = dict([])\n",
    "    global latest\n",
    "    latest = dict([])\n",
    "    global delta\n",
    "    delta = {i:dict([]) for i in range(R)}\n",
    "    \n",
    "    # 全体のグラフ\n",
    "    G_all = nx.DiGraph()\n",
    "    G_all.add_weighted_edges_from(network_np)\n",
    "    \n",
    "    # 元グラフの頂点集合\n",
    "    G_V = [int(node) for node in G_all.node()]\n",
    "    \n",
    "    # copy用に作っておく\n",
    "    G_copy = nx.DiGraph()\n",
    "    G_copy.add_nodes_from(G_V)\n",
    "    \n",
    "    for i in tqdm(range(R)):\n",
    "        \n",
    "        start = time.time()\n",
    "        # 各辺 e を確率 pe で残すことで得られる辺集合\n",
    "        E_[i] = live_edge_graph_edges(network_np, len(network_np))\n",
    "        print(len(E_[i]))\n",
    "        print(\"E\", time.time() - start)\n",
    "        \n",
    "        start = time.time()\n",
    "        G_[i] = G_copy.copy()\n",
    "        G_[i].add_edges_from(E_[i])\n",
    "        print(\"copy\", time.time() - start)\n",
    "        \n",
    "        start = time.time()\n",
    "        # G_i_ = (V, E_i_) の強連結成分を計算\n",
    "        # G_i_より構築された頂点重み付き DAG\n",
    "        # comp[元ノード]→DAGノード\n",
    "        # G[i]:DAG\n",
    "        # V[i]:{DAGノード:weight}\n",
    "        # E[i]:DAG枝(作成段階で重複があるためsetをしている)\n",
    "        comp[i], G[i] = scc_DAG(G_[i])\n",
    "        \n",
    "        # h_i ← V_i において最大の次数をもつ頂点\n",
    "        G_i_deg = dict(G[i].degree())\n",
    "        h[i] = max(G_i_deg, key=G_i_deg.get)\n",
    "        \n",
    "        # h_iから到達可能な頂点集合\n",
    "        # ? 型は未定\n",
    "        # D:Descendant\n",
    "        D[i] = set(bfs(G[i], [h[i]]))\n",
    "        \n",
    "        # h_iに到達可能な頂点集合\n",
    "        # ? 型は未定\n",
    "        # A:Ancestor\n",
    "        A[i] = set(bfs_reverse(G[i], [h[i]])) - set([h[i]])\n",
    "        \n",
    "        V[i] = G[i].node()\n",
    "        latest[i] = {v:False for v in V[i]}\n",
    "        print(\"compute\",time.time() - start)\n",
    "    print(\"comp init\")\n",
    "    \n",
    "    S = []\n",
    "    for j in range(k):\n",
    "        v_gain = {v:sum([GAIN(i, v, comp, G, A, S, h, D) for i in range(R)])/R for v in tqdm(G_V)}\n",
    "        t = max(v_gain, key=v_gain.get)\n",
    "        \n",
    "        S.append(t)\n",
    "        \n",
    "        for i in range(R):\n",
    "            G[i] = UPDATEDAG(i, t, comp, G)\n",
    "        \n",
    "    return S"
   ]
  },
  {
   "cell_type": "code",
   "execution_count": 38,
   "metadata": {
    "scrolled": true
   },
   "outputs": [
    {
     "data": {
      "application/vnd.jupyter.widget-view+json": {
       "model_id": "d823b5cae9c84c6387bd2e007275dfc0",
       "version_major": 2,
       "version_minor": 0
      },
      "text/plain": [
       "HBox(children=(IntProgress(value=0), HTML(value='')))"
      ]
     },
     "metadata": {},
     "output_type": "display_data"
    },
    {
     "name": "stdout",
     "output_type": "stream",
     "text": [
      "51935\n",
      "E 0.4452662467956543\n",
      "copy 0.8304839134216309\n",
      "compute 1.4530620574951172\n",
      "51919\n",
      "E 0.8542361259460449\n",
      "copy 0.5452332496643066\n",
      "compute 1.224494218826294\n",
      "52053\n",
      "E 0.43698716163635254\n",
      "copy 1.1125898361206055\n",
      "compute 1.3619530200958252\n",
      "51999\n",
      "E 0.43878889083862305\n",
      "copy 0.5555472373962402\n",
      "compute 1.4610848426818848\n",
      "51932\n",
      "E 0.43778300285339355\n",
      "copy 0.5413219928741455\n",
      "compute 1.5752370357513428\n",
      "51985\n",
      "E 0.436939001083374\n",
      "copy 0.5378322601318359\n",
      "compute 1.7314388751983643\n",
      "51888\n",
      "E 0.441180944442749\n",
      "copy 0.5496251583099365\n",
      "compute 0.7437660694122314\n",
      "52062\n",
      "E 0.43335795402526855\n",
      "copy 0.5457091331481934\n",
      "compute 1.9303438663482666\n",
      "52105\n",
      "E 0.4533259868621826\n",
      "copy 0.570098876953125\n",
      "compute 0.758552074432373\n",
      "51832\n",
      "E 0.4484260082244873\n",
      "copy 1.9671170711517334\n",
      "compute 0.7701778411865234\n",
      "51937\n",
      "E 0.447613000869751\n",
      "copy 0.570796012878418\n",
      "compute 0.7615280151367188\n",
      "51887\n",
      "E 0.44193196296691895\n",
      "copy 0.5746302604675293\n",
      "compute 2.4250810146331787\n",
      "52081\n",
      "E 0.4524271488189697\n",
      "copy 0.6382451057434082\n",
      "compute 0.8580889701843262\n",
      "51785\n",
      "E 0.45266199111938477\n",
      "copy 0.6073660850524902\n",
      "compute 0.7811980247497559\n",
      "52167\n",
      "E 2.5903091430664062\n",
      "copy 0.5525448322296143\n",
      "compute 0.749610185623169\n",
      "51721\n",
      "E 0.45249295234680176\n",
      "copy 0.5752689838409424\n",
      "compute 0.7937750816345215\n",
      "51888\n",
      "E 0.44235801696777344\n",
      "copy 0.577491044998169\n",
      "compute 0.799597978591919\n",
      "51837\n",
      "E 0.460399866104126\n",
      "copy 0.5821988582611084\n",
      "compute 3.138169050216675\n",
      "51905\n",
      "E 0.4411048889160156\n",
      "copy 0.5870308876037598\n",
      "compute 0.8094651699066162\n",
      "51897\n",
      "E 0.45317983627319336\n",
      "copy 0.7453329563140869\n",
      "compute 0.9143762588500977\n",
      "52023\n",
      "E 0.7941930294036865\n",
      "copy 2.6697590351104736\n",
      "compute 1.2311549186706543\n",
      "52031\n",
      "E 0.5625553131103516\n",
      "copy 4.499786853790283\n",
      "compute 0.8269407749176025\n",
      "51752\n",
      "E 0.5578010082244873\n",
      "copy 0.6283159255981445\n",
      "compute 0.8124072551727295\n",
      "51889\n",
      "E 0.46855616569519043\n",
      "copy 1.0222969055175781\n",
      "compute 0.8513190746307373\n",
      "51690\n",
      "E 0.4702107906341553\n",
      "copy 0.6069657802581787\n",
      "compute 0.828779935836792\n",
      "51959\n",
      "E 0.5356340408325195\n",
      "copy 0.5577683448791504\n",
      "compute 0.8456480503082275\n",
      "51966\n",
      "E 5.602982997894287\n",
      "copy 0.7196719646453857\n",
      "compute 0.9138660430908203\n",
      "51995\n",
      "E 0.5174436569213867\n",
      "copy 0.8497021198272705\n",
      "compute 0.8758981227874756\n",
      "51891\n",
      "E 0.5033490657806396\n",
      "copy 0.7491772174835205\n",
      "compute 1.0970118045806885\n",
      "51987\n",
      "E 0.5914289951324463\n",
      "copy 0.7064337730407715\n",
      "compute 0.8754210472106934\n",
      "51917\n",
      "E 0.46321797370910645\n",
      "copy 0.6265158653259277\n",
      "compute 0.8392550945281982\n",
      "51887\n",
      "E 0.4940500259399414\n",
      "copy 0.641350269317627\n",
      "compute 9.82377004623413\n",
      "51963\n",
      "E 0.5071778297424316\n",
      "copy 0.8671801090240479\n",
      "compute 1.0921952724456787\n",
      "51898\n",
      "E 0.4743790626525879\n",
      "copy 0.6392309665679932\n",
      "compute 0.8461618423461914\n",
      "51963\n",
      "E 0.4554591178894043\n",
      "copy 0.6559629440307617\n",
      "compute 0.8527610301971436\n",
      "52124\n",
      "E 0.48572492599487305\n",
      "copy 0.6184310913085938\n",
      "compute 0.8252768516540527\n",
      "51635\n",
      "E 0.45391201972961426\n",
      "copy 0.6133008003234863\n",
      "compute 0.8394951820373535\n",
      "52115\n",
      "E 0.45649075508117676\n",
      "copy 0.5937352180480957\n",
      "compute 0.8212971687316895\n",
      "51863\n",
      "E 0.45635008811950684\n",
      "copy 0.6732208728790283\n",
      "compute 32.76400685310364\n",
      "51914\n",
      "E 0.8515720367431641\n",
      "copy 1.1246709823608398\n",
      "compute 1.0942819118499756\n",
      "51860\n",
      "E 0.5441567897796631\n",
      "copy 0.8061051368713379\n",
      "compute 0.9217982292175293\n",
      "51926\n",
      "E 0.605280876159668\n",
      "copy 0.8262217044830322\n",
      "compute 0.9219210147857666\n",
      "52087\n",
      "E 0.6605010032653809\n",
      "copy 0.6476778984069824\n",
      "compute 0.8671350479125977\n",
      "52214\n",
      "E 0.48733997344970703\n",
      "copy 0.8308889865875244\n",
      "compute 0.9965219497680664\n",
      "52040\n",
      "E 0.5480420589447021\n",
      "copy 0.7284159660339355\n",
      "compute 0.856673002243042\n",
      "51825\n",
      "E 0.4534590244293213\n",
      "copy 0.6897740364074707\n",
      "compute 0.8800828456878662\n",
      "51833\n",
      "E 0.5466699600219727\n",
      "copy 0.6315610408782959\n",
      "compute 0.8173022270202637\n",
      "51975\n",
      "E 0.44582128524780273\n",
      "copy 52.07357215881348\n",
      "compute 1.1497559547424316\n",
      "51971\n",
      "E 0.6663868427276611\n",
      "copy 0.6851887702941895\n",
      "compute 1.0193607807159424\n",
      "51977\n",
      "E 0.5560357570648193\n",
      "copy 0.7686078548431396\n",
      "compute 1.140084981918335\n",
      "51995\n",
      "E 0.46713995933532715\n",
      "copy 0.7808740139007568\n",
      "compute 1.012131690979004\n",
      "51749\n",
      "E 0.5360019207000732\n",
      "copy 0.8064460754394531\n",
      "compute 1.0507900714874268\n",
      "51981\n",
      "E 0.5353598594665527\n",
      "copy 0.6690077781677246\n",
      "compute 0.9484779834747314\n",
      "51723\n",
      "E 0.46221017837524414\n",
      "copy 0.6481180191040039\n",
      "compute 0.8095948696136475\n",
      "51787\n",
      "E 0.45740294456481934\n",
      "copy 0.7000401020050049\n",
      "compute 0.9062058925628662\n",
      "51887\n",
      "E 0.4702327251434326\n",
      "copy 0.6551129817962646\n",
      "compute 0.9163839817047119\n",
      "52056\n",
      "E 0.6664760112762451\n",
      "copy 0.7623100280761719\n",
      "compute 0.9350388050079346\n",
      "52052\n",
      "E 0.4939577579498291\n",
      "copy 0.6640868186950684\n",
      "compute 65.65620875358582\n",
      "51943\n",
      "E 0.6502277851104736\n",
      "copy 0.8381218910217285\n",
      "compute 1.0778918266296387\n",
      "51881\n",
      "E 0.480025053024292\n",
      "copy 0.6523079872131348\n",
      "compute 0.8455309867858887\n",
      "52036\n",
      "E 0.4628281593322754\n",
      "copy 0.6071927547454834\n",
      "compute 0.9197139739990234\n",
      "52027\n",
      "E 0.52783203125\n",
      "copy 0.7770581245422363\n",
      "compute 1.0188591480255127\n",
      "52070\n",
      "E 0.4513888359069824\n",
      "copy 0.6480691432952881\n",
      "compute 0.9130129814147949\n",
      "51922\n",
      "E 0.4673330783843994\n",
      "copy 0.6477727890014648\n",
      "compute 0.8259329795837402\n",
      "51799\n",
      "E 0.4503638744354248\n",
      "copy 0.6050088405609131\n",
      "compute 0.839850902557373\n",
      "52049\n",
      "E 0.4500081539154053\n",
      "copy 0.6356968879699707\n",
      "compute 0.867156982421875\n",
      "51984\n",
      "E 0.45159196853637695\n",
      "copy 0.6240160465240479\n",
      "compute 0.82802414894104\n",
      "52008\n",
      "E 0.5104811191558838\n",
      "copy 0.7787981033325195\n",
      "compute 0.9560818672180176\n",
      "52032\n",
      "E 0.45934605598449707\n",
      "copy 0.6815299987792969\n",
      "compute 0.8935377597808838\n",
      "51992\n",
      "E 0.46539807319641113\n",
      "copy 0.6239259243011475\n",
      "compute 83.14836621284485\n",
      "51939\n",
      "E 0.6440818309783936\n",
      "copy 0.8785531520843506\n",
      "compute 0.9141702651977539\n",
      "52140\n",
      "E 0.5156490802764893\n",
      "copy 0.694058895111084\n",
      "compute 0.8541102409362793\n",
      "51916\n",
      "E 0.47119712829589844\n",
      "copy 0.6750071048736572\n",
      "compute 0.8496551513671875\n",
      "51915\n",
      "E 0.4678492546081543\n",
      "copy 0.6436347961425781\n",
      "compute 1.1699581146240234\n",
      "51674\n",
      "E 0.46753692626953125\n",
      "copy 0.7313249111175537\n",
      "compute 0.9187881946563721\n",
      "51920\n",
      "E 0.5030672550201416\n",
      "copy 0.6480309963226318\n",
      "compute 0.8412542343139648\n",
      "51850\n",
      "E 0.4518122673034668\n",
      "copy 0.6221301555633545\n",
      "compute 0.8334989547729492\n",
      "51770\n",
      "E 0.45418691635131836\n",
      "copy 0.613670825958252\n",
      "compute 0.8418688774108887\n",
      "51913\n",
      "E 0.4542109966278076\n",
      "copy 0.6164376735687256\n",
      "compute 0.8392729759216309\n",
      "52124\n",
      "E 0.46821117401123047\n",
      "copy 0.6506869792938232\n",
      "compute 0.8436908721923828\n",
      "52057\n",
      "E 0.47600626945495605\n",
      "copy 0.6169748306274414\n",
      "compute 0.8329942226409912\n",
      "52125\n",
      "E 0.45609283447265625\n",
      "copy 0.6273448467254639\n",
      "compute 0.8233537673950195\n",
      "51860\n",
      "E 0.47146081924438477\n",
      "copy 0.6470558643341064\n",
      "compute 0.8194019794464111\n",
      "51889\n",
      "E 0.46137213706970215\n",
      "copy 0.5862362384796143\n",
      "compute 0.851309061050415\n",
      "51804\n",
      "E 0.446882963180542\n",
      "copy 0.6386148929595947\n",
      "compute 0.8511068820953369\n",
      "52145\n",
      "E 112.07744789123535\n",
      "copy 1.1984410285949707\n",
      "compute 1.010551929473877\n",
      "51977\n",
      "E 0.5269899368286133\n",
      "copy 0.6812880039215088\n",
      "compute 1.0928866863250732\n",
      "51685\n",
      "E 0.46356821060180664\n",
      "copy 0.6584062576293945\n",
      "compute 0.9032204151153564\n",
      "52007\n",
      "E 0.45862507820129395\n",
      "copy 0.6482210159301758\n",
      "compute 0.8856697082519531\n",
      "51872\n",
      "E 0.4659459590911865\n",
      "copy 0.6818177700042725\n",
      "compute 0.8625879287719727\n",
      "51904\n",
      "E 0.46541380882263184\n",
      "copy 0.7281038761138916\n",
      "compute 0.8621902465820312\n",
      "51821\n",
      "E 0.5081210136413574\n",
      "copy 0.6545727252960205\n",
      "compute 0.8621737957000732\n",
      "51872\n",
      "E 0.47776293754577637\n",
      "copy 0.6352620124816895\n",
      "compute 0.8967580795288086\n",
      "51855\n",
      "E 0.4604501724243164\n",
      "copy 0.660912036895752\n",
      "compute 0.864145040512085\n",
      "51875\n",
      "E 0.46045708656311035\n",
      "copy 0.6901369094848633\n",
      "compute 0.8414039611816406\n",
      "52056\n",
      "E 0.4682307243347168\n",
      "copy 0.6469402313232422\n",
      "compute 0.8606839179992676\n",
      "52048\n",
      "E 0.48317813873291016\n",
      "copy 0.654102087020874\n",
      "compute 0.8496010303497314\n",
      "51982\n",
      "E 0.49751782417297363\n",
      "copy 0.6844151020050049\n",
      "compute 0.8805317878723145\n",
      "52031\n",
      "E 0.47115397453308105\n",
      "copy 0.7595870494842529\n",
      "compute 0.9341800212860107\n",
      "51813\n",
      "E 0.4865849018096924\n",
      "copy 0.638369083404541\n",
      "compute 0.8494539260864258\n",
      "comp init\n"
     ]
    },
    {
     "data": {
      "application/vnd.jupyter.widget-view+json": {
       "model_id": "b0bf2235de154aa09374f3ebe7a1b9e5",
       "version_major": 2,
       "version_minor": 0
      },
      "text/plain": [
       "HBox(children=(IntProgress(value=0, max=75879), HTML(value='')))"
      ]
     },
     "metadata": {},
     "output_type": "display_data"
    },
    {
     "data": {
      "application/vnd.jupyter.widget-view+json": {
       "model_id": "3357cd736142421ea26189e01d52ea97",
       "version_major": 2,
       "version_minor": 0
      },
      "text/plain": [
       "HBox(children=(IntProgress(value=0, max=75879), HTML(value='')))"
      ]
     },
     "metadata": {},
     "output_type": "display_data"
    },
    {
     "data": {
      "application/vnd.jupyter.widget-view+json": {
       "model_id": "8788ab228c3349c086cb46764c316456",
       "version_major": 2,
       "version_minor": 0
      },
      "text/plain": [
       "HBox(children=(IntProgress(value=0, max=75879), HTML(value='')))"
      ]
     },
     "metadata": {},
     "output_type": "display_data"
    },
    {
     "data": {
      "application/vnd.jupyter.widget-view+json": {
       "model_id": "79f66ee62ee9436fa34be3996b98b7ae",
       "version_major": 2,
       "version_minor": 0
      },
      "text/plain": [
       "HBox(children=(IntProgress(value=0, max=75879), HTML(value='')))"
      ]
     },
     "metadata": {},
     "output_type": "display_data"
    },
    {
     "data": {
      "application/vnd.jupyter.widget-view+json": {
       "model_id": "52b1fc42457e4705824f6fe56f46995f",
       "version_major": 2,
       "version_minor": 0
      },
      "text/plain": [
       "HBox(children=(IntProgress(value=0, max=75879), HTML(value='')))"
      ]
     },
     "metadata": {},
     "output_type": "display_data"
    },
    {
     "data": {
      "application/vnd.jupyter.widget-view+json": {
       "model_id": "2ff76707f0774d038e9ebaa638efd986",
       "version_major": 2,
       "version_minor": 0
      },
      "text/plain": [
       "HBox(children=(IntProgress(value=0, max=75879), HTML(value='')))"
      ]
     },
     "metadata": {},
     "output_type": "display_data"
    },
    {
     "data": {
      "application/vnd.jupyter.widget-view+json": {
       "model_id": "cae30f50cb914599af5abf39d8592670",
       "version_major": 2,
       "version_minor": 0
      },
      "text/plain": [
       "HBox(children=(IntProgress(value=0, max=75879), HTML(value='')))"
      ]
     },
     "metadata": {},
     "output_type": "display_data"
    },
    {
     "data": {
      "application/vnd.jupyter.widget-view+json": {
       "model_id": "3148c1ff54a64718887bc463eb7baaa5",
       "version_major": 2,
       "version_minor": 0
      },
      "text/plain": [
       "HBox(children=(IntProgress(value=0, max=75879), HTML(value='')))"
      ]
     },
     "metadata": {},
     "output_type": "display_data"
    },
    {
     "data": {
      "application/vnd.jupyter.widget-view+json": {
       "model_id": "76b04a8953b348b5908bc132138485ef",
       "version_major": 2,
       "version_minor": 0
      },
      "text/plain": [
       "HBox(children=(IntProgress(value=0, max=75879), HTML(value='')))"
      ]
     },
     "metadata": {},
     "output_type": "display_data"
    },
    {
     "data": {
      "application/vnd.jupyter.widget-view+json": {
       "model_id": "194857bfc8c6480b9b2ef4f867d5bf81",
       "version_major": 2,
       "version_minor": 0
      },
      "text/plain": [
       "HBox(children=(IntProgress(value=0, max=75879), HTML(value='')))"
      ]
     },
     "metadata": {},
     "output_type": "display_data"
    },
    {
     "data": {
      "application/vnd.jupyter.widget-view+json": {
       "model_id": "c259027fa8904f728c99d50484ced232",
       "version_major": 2,
       "version_minor": 0
      },
      "text/plain": [
       "HBox(children=(IntProgress(value=0, max=75879), HTML(value='')))"
      ]
     },
     "metadata": {},
     "output_type": "display_data"
    },
    {
     "data": {
      "application/vnd.jupyter.widget-view+json": {
       "model_id": "f5bf214fce494b79a331797de03b190e",
       "version_major": 2,
       "version_minor": 0
      },
      "text/plain": [
       "HBox(children=(IntProgress(value=0, max=75879), HTML(value='')))"
      ]
     },
     "metadata": {},
     "output_type": "display_data"
    },
    {
     "data": {
      "application/vnd.jupyter.widget-view+json": {
       "model_id": "67a19476e9de4761b08cf644e7ee38ae",
       "version_major": 2,
       "version_minor": 0
      },
      "text/plain": [
       "HBox(children=(IntProgress(value=0, max=75879), HTML(value='')))"
      ]
     },
     "metadata": {},
     "output_type": "display_data"
    },
    {
     "data": {
      "application/vnd.jupyter.widget-view+json": {
       "model_id": "266a656cf11241198e09ff93a8611a9d",
       "version_major": 2,
       "version_minor": 0
      },
      "text/plain": [
       "HBox(children=(IntProgress(value=0, max=75879), HTML(value='')))"
      ]
     },
     "metadata": {},
     "output_type": "display_data"
    },
    {
     "data": {
      "application/vnd.jupyter.widget-view+json": {
       "model_id": "da25920f734c4b889e60f46cf44de0f5",
       "version_major": 2,
       "version_minor": 0
      },
      "text/plain": [
       "HBox(children=(IntProgress(value=0, max=75879), HTML(value='')))"
      ]
     },
     "metadata": {},
     "output_type": "display_data"
    },
    {
     "data": {
      "application/vnd.jupyter.widget-view+json": {
       "model_id": "6102b6b99af9491dbc774a5f2fcc92d1",
       "version_major": 2,
       "version_minor": 0
      },
      "text/plain": [
       "HBox(children=(IntProgress(value=0, max=75879), HTML(value='')))"
      ]
     },
     "metadata": {},
     "output_type": "display_data"
    },
    {
     "data": {
      "application/vnd.jupyter.widget-view+json": {
       "model_id": "0bcf4d542a2e422681ae386bd55eb7fc",
       "version_major": 2,
       "version_minor": 0
      },
      "text/plain": [
       "HBox(children=(IntProgress(value=0, max=75879), HTML(value='')))"
      ]
     },
     "metadata": {},
     "output_type": "display_data"
    },
    {
     "data": {
      "application/vnd.jupyter.widget-view+json": {
       "model_id": "80d9c08551ed448183ee6f51b2539c7b",
       "version_major": 2,
       "version_minor": 0
      },
      "text/plain": [
       "HBox(children=(IntProgress(value=0, max=75879), HTML(value='')))"
      ]
     },
     "metadata": {},
     "output_type": "display_data"
    },
    {
     "data": {
      "application/vnd.jupyter.widget-view+json": {
       "model_id": "588677039fd24cb585d934b29c826066",
       "version_major": 2,
       "version_minor": 0
      },
      "text/plain": [
       "HBox(children=(IntProgress(value=0, max=75879), HTML(value='')))"
      ]
     },
     "metadata": {},
     "output_type": "display_data"
    },
    {
     "data": {
      "application/vnd.jupyter.widget-view+json": {
       "model_id": "49d43b1e2cce4497809b2f3076bd34be",
       "version_major": 2,
       "version_minor": 0
      },
      "text/plain": [
       "HBox(children=(IntProgress(value=0, max=75879), HTML(value='')))"
      ]
     },
     "metadata": {},
     "output_type": "display_data"
    },
    {
     "data": {
      "application/vnd.jupyter.widget-view+json": {
       "model_id": "7fbe8ae02b00438d8093ac1f589882b9",
       "version_major": 2,
       "version_minor": 0
      },
      "text/plain": [
       "HBox(children=(IntProgress(value=0, max=75879), HTML(value='')))"
      ]
     },
     "metadata": {},
     "output_type": "display_data"
    },
    {
     "data": {
      "application/vnd.jupyter.widget-view+json": {
       "model_id": "b6e42ed82d3745389b30d7df41e75d1d",
       "version_major": 2,
       "version_minor": 0
      },
      "text/plain": [
       "HBox(children=(IntProgress(value=0, max=75879), HTML(value='')))"
      ]
     },
     "metadata": {},
     "output_type": "display_data"
    },
    {
     "data": {
      "application/vnd.jupyter.widget-view+json": {
       "model_id": "15863268bef542f4956cc2605512c556",
       "version_major": 2,
       "version_minor": 0
      },
      "text/plain": [
       "HBox(children=(IntProgress(value=0, max=75879), HTML(value='')))"
      ]
     },
     "metadata": {},
     "output_type": "display_data"
    },
    {
     "data": {
      "application/vnd.jupyter.widget-view+json": {
       "model_id": "57f07dca52be4ffaa31ed45114c63c60",
       "version_major": 2,
       "version_minor": 0
      },
      "text/plain": [
       "HBox(children=(IntProgress(value=0, max=75879), HTML(value='')))"
      ]
     },
     "metadata": {},
     "output_type": "display_data"
    },
    {
     "data": {
      "application/vnd.jupyter.widget-view+json": {
       "model_id": "a6da558660b6448997cd21fd5c358f2f",
       "version_major": 2,
       "version_minor": 0
      },
      "text/plain": [
       "HBox(children=(IntProgress(value=0, max=75879), HTML(value='')))"
      ]
     },
     "metadata": {},
     "output_type": "display_data"
    },
    {
     "data": {
      "application/vnd.jupyter.widget-view+json": {
       "model_id": "7e04bd7a9af9454cb896d4705fb59a00",
       "version_major": 2,
       "version_minor": 0
      },
      "text/plain": [
       "HBox(children=(IntProgress(value=0, max=75879), HTML(value='')))"
      ]
     },
     "metadata": {},
     "output_type": "display_data"
    },
    {
     "data": {
      "application/vnd.jupyter.widget-view+json": {
       "model_id": "5b4f6963f0914180981dbbebab0796dd",
       "version_major": 2,
       "version_minor": 0
      },
      "text/plain": [
       "HBox(children=(IntProgress(value=0, max=75879), HTML(value='')))"
      ]
     },
     "metadata": {},
     "output_type": "display_data"
    },
    {
     "data": {
      "application/vnd.jupyter.widget-view+json": {
       "model_id": "c52d868b07dd4d1db520aaaaabc2fb63",
       "version_major": 2,
       "version_minor": 0
      },
      "text/plain": [
       "HBox(children=(IntProgress(value=0, max=75879), HTML(value='')))"
      ]
     },
     "metadata": {},
     "output_type": "display_data"
    },
    {
     "data": {
      "application/vnd.jupyter.widget-view+json": {
       "model_id": "497ab60f900245f3aa0f9f304dc3ebf6",
       "version_major": 2,
       "version_minor": 0
      },
      "text/plain": [
       "HBox(children=(IntProgress(value=0, max=75879), HTML(value='')))"
      ]
     },
     "metadata": {},
     "output_type": "display_data"
    },
    {
     "data": {
      "application/vnd.jupyter.widget-view+json": {
       "model_id": "774a49b27c254952a9f9dbbc10b3a397",
       "version_major": 2,
       "version_minor": 0
      },
      "text/plain": [
       "HBox(children=(IntProgress(value=0, max=75879), HTML(value='')))"
      ]
     },
     "metadata": {},
     "output_type": "display_data"
    },
    {
     "data": {
      "application/vnd.jupyter.widget-view+json": {
       "model_id": "1915a773045e46b898f65f61eff86817",
       "version_major": 2,
       "version_minor": 0
      },
      "text/plain": [
       "HBox(children=(IntProgress(value=0, max=75879), HTML(value='')))"
      ]
     },
     "metadata": {},
     "output_type": "display_data"
    },
    {
     "data": {
      "application/vnd.jupyter.widget-view+json": {
       "model_id": "6e9d25b64c20466a9bfb42d49406bcfb",
       "version_major": 2,
       "version_minor": 0
      },
      "text/plain": [
       "HBox(children=(IntProgress(value=0, max=75879), HTML(value='')))"
      ]
     },
     "metadata": {},
     "output_type": "display_data"
    },
    {
     "data": {
      "application/vnd.jupyter.widget-view+json": {
       "model_id": "963928bda5a34a419e24407255637289",
       "version_major": 2,
       "version_minor": 0
      },
      "text/plain": [
       "HBox(children=(IntProgress(value=0, max=75879), HTML(value='')))"
      ]
     },
     "metadata": {},
     "output_type": "display_data"
    },
    {
     "data": {
      "application/vnd.jupyter.widget-view+json": {
       "model_id": "15cb32d327194e7282a9042a2471d04d",
       "version_major": 2,
       "version_minor": 0
      },
      "text/plain": [
       "HBox(children=(IntProgress(value=0, max=75879), HTML(value='')))"
      ]
     },
     "metadata": {},
     "output_type": "display_data"
    },
    {
     "data": {
      "application/vnd.jupyter.widget-view+json": {
       "model_id": "f219d0cb4a4b4b21b93eb79776fab602",
       "version_major": 2,
       "version_minor": 0
      },
      "text/plain": [
       "HBox(children=(IntProgress(value=0, max=75879), HTML(value='')))"
      ]
     },
     "metadata": {},
     "output_type": "display_data"
    },
    {
     "data": {
      "application/vnd.jupyter.widget-view+json": {
       "model_id": "5f2146c3dbef471cb643b7613fae86e9",
       "version_major": 2,
       "version_minor": 0
      },
      "text/plain": [
       "HBox(children=(IntProgress(value=0, max=75879), HTML(value='')))"
      ]
     },
     "metadata": {},
     "output_type": "display_data"
    },
    {
     "data": {
      "application/vnd.jupyter.widget-view+json": {
       "model_id": "670e372ed24b4d79accb30b824a9b906",
       "version_major": 2,
       "version_minor": 0
      },
      "text/plain": [
       "HBox(children=(IntProgress(value=0, max=75879), HTML(value='')))"
      ]
     },
     "metadata": {},
     "output_type": "display_data"
    },
    {
     "data": {
      "application/vnd.jupyter.widget-view+json": {
       "model_id": "7e9955fc3de141f3a953fd14476c4c9c",
       "version_major": 2,
       "version_minor": 0
      },
      "text/plain": [
       "HBox(children=(IntProgress(value=0, max=75879), HTML(value='')))"
      ]
     },
     "metadata": {},
     "output_type": "display_data"
    },
    {
     "data": {
      "application/vnd.jupyter.widget-view+json": {
       "model_id": "658b4cc0fcbb4b3fba282892a3027185",
       "version_major": 2,
       "version_minor": 0
      },
      "text/plain": [
       "HBox(children=(IntProgress(value=0, max=75879), HTML(value='')))"
      ]
     },
     "metadata": {},
     "output_type": "display_data"
    },
    {
     "data": {
      "application/vnd.jupyter.widget-view+json": {
       "model_id": "449050a2862f4815b78166cdda9cf026",
       "version_major": 2,
       "version_minor": 0
      },
      "text/plain": [
       "HBox(children=(IntProgress(value=0, max=75879), HTML(value='')))"
      ]
     },
     "metadata": {},
     "output_type": "display_data"
    },
    {
     "data": {
      "application/vnd.jupyter.widget-view+json": {
       "model_id": "943bc062a93b4ca887fc8c709980924c",
       "version_major": 2,
       "version_minor": 0
      },
      "text/plain": [
       "HBox(children=(IntProgress(value=0, max=75879), HTML(value='')))"
      ]
     },
     "metadata": {},
     "output_type": "display_data"
    },
    {
     "data": {
      "application/vnd.jupyter.widget-view+json": {
       "model_id": "8a38ceebe2c74f4cb098ebbed4d3d507",
       "version_major": 2,
       "version_minor": 0
      },
      "text/plain": [
       "HBox(children=(IntProgress(value=0, max=75879), HTML(value='')))"
      ]
     },
     "metadata": {},
     "output_type": "display_data"
    },
    {
     "data": {
      "application/vnd.jupyter.widget-view+json": {
       "model_id": "0943380501ad488789008e6feba56f4c",
       "version_major": 2,
       "version_minor": 0
      },
      "text/plain": [
       "HBox(children=(IntProgress(value=0, max=75879), HTML(value='')))"
      ]
     },
     "metadata": {},
     "output_type": "display_data"
    },
    {
     "data": {
      "application/vnd.jupyter.widget-view+json": {
       "model_id": "11e2785a48a24dd1a9ede6b07a940eee",
       "version_major": 2,
       "version_minor": 0
      },
      "text/plain": [
       "HBox(children=(IntProgress(value=0, max=75879), HTML(value='')))"
      ]
     },
     "metadata": {},
     "output_type": "display_data"
    },
    {
     "data": {
      "application/vnd.jupyter.widget-view+json": {
       "model_id": "f444ed5d3ba64991b6d31d2cf2fbdbea",
       "version_major": 2,
       "version_minor": 0
      },
      "text/plain": [
       "HBox(children=(IntProgress(value=0, max=75879), HTML(value='')))"
      ]
     },
     "metadata": {},
     "output_type": "display_data"
    },
    {
     "data": {
      "application/vnd.jupyter.widget-view+json": {
       "model_id": "d20020a1875947f785a85a92c26e22c1",
       "version_major": 2,
       "version_minor": 0
      },
      "text/plain": [
       "HBox(children=(IntProgress(value=0, max=75879), HTML(value='')))"
      ]
     },
     "metadata": {},
     "output_type": "display_data"
    },
    {
     "data": {
      "application/vnd.jupyter.widget-view+json": {
       "model_id": "ee796af7a0ee41239aeee43b96dda51a",
       "version_major": 2,
       "version_minor": 0
      },
      "text/plain": [
       "HBox(children=(IntProgress(value=0, max=75879), HTML(value='')))"
      ]
     },
     "metadata": {},
     "output_type": "display_data"
    },
    {
     "data": {
      "application/vnd.jupyter.widget-view+json": {
       "model_id": "2192dd5ab5324c9299e79880723ed038",
       "version_major": 2,
       "version_minor": 0
      },
      "text/plain": [
       "HBox(children=(IntProgress(value=0, max=75879), HTML(value='')))"
      ]
     },
     "metadata": {},
     "output_type": "display_data"
    },
    {
     "data": {
      "application/vnd.jupyter.widget-view+json": {
       "model_id": "3a9b6f5d0f094ff78b66a270d02b17a5",
       "version_major": 2,
       "version_minor": 0
      },
      "text/plain": [
       "HBox(children=(IntProgress(value=0, max=75879), HTML(value='')))"
      ]
     },
     "metadata": {},
     "output_type": "display_data"
    },
    {
     "data": {
      "application/vnd.jupyter.widget-view+json": {
       "model_id": "012be54407bc4dc9bf785cdfc5059536",
       "version_major": 2,
       "version_minor": 0
      },
      "text/plain": [
       "HBox(children=(IntProgress(value=0, max=75879), HTML(value='')))"
      ]
     },
     "metadata": {},
     "output_type": "display_data"
    },
    {
     "data": {
      "text/plain": [
       "[763,\n",
       " 645,\n",
       " 634,\n",
       " 3924,\n",
       " 5232,\n",
       " 71399,\n",
       " 145,\n",
       " 637,\n",
       " 1059,\n",
       " 1225,\n",
       " 2969,\n",
       " 1835,\n",
       " 546,\n",
       " 1596,\n",
       " 44,\n",
       " 71388,\n",
       " 2066,\n",
       " 1539,\n",
       " 5227,\n",
       " 9412,\n",
       " 3850,\n",
       " 1409,\n",
       " 4931,\n",
       " 824,\n",
       " 2704,\n",
       " 1669,\n",
       " 1172,\n",
       " 5905,\n",
       " 629,\n",
       " 5144,\n",
       " 2118,\n",
       " 1720,\n",
       " 646,\n",
       " 770,\n",
       " 661,\n",
       " 590,\n",
       " 1847,\n",
       " 5224,\n",
       " 751,\n",
       " 1501,\n",
       " 853,\n",
       " 119,\n",
       " 31,\n",
       " 4017,\n",
       " 342,\n",
       " 6003,\n",
       " 650,\n",
       " 4920,\n",
       " 7427,\n",
       " 4617]"
      ]
     },
     "execution_count": 38,
     "metadata": {},
     "output_type": "execute_result"
    }
   ],
   "source": [
    "k = 50\n",
    "R = 100\n",
    "PMC_greedy(network_np, k, R)"
   ]
  },
  {
   "cell_type": "code",
   "execution_count": null,
   "metadata": {},
   "outputs": [],
   "source": []
  },
  {
   "cell_type": "code",
   "execution_count": null,
   "metadata": {},
   "outputs": [],
   "source": []
  },
  {
   "cell_type": "code",
   "execution_count": null,
   "metadata": {},
   "outputs": [],
   "source": []
  },
  {
   "cell_type": "code",
   "execution_count": null,
   "metadata": {},
   "outputs": [],
   "source": []
  },
  {
   "cell_type": "code",
   "execution_count": null,
   "metadata": {},
   "outputs": [],
   "source": []
  },
  {
   "cell_type": "code",
   "execution_count": null,
   "metadata": {},
   "outputs": [],
   "source": []
  },
  {
   "cell_type": "code",
   "execution_count": null,
   "metadata": {},
   "outputs": [],
   "source": []
  },
  {
   "cell_type": "code",
   "execution_count": null,
   "metadata": {},
   "outputs": [],
   "source": []
  },
  {
   "cell_type": "code",
   "execution_count": null,
   "metadata": {},
   "outputs": [],
   "source": []
  },
  {
   "cell_type": "code",
   "execution_count": null,
   "metadata": {},
   "outputs": [],
   "source": []
  },
  {
   "cell_type": "code",
   "execution_count": null,
   "metadata": {},
   "outputs": [],
   "source": []
  },
  {
   "cell_type": "code",
   "execution_count": null,
   "metadata": {},
   "outputs": [],
   "source": [
    "# 自作関数(強連結成分分解)との比較"
   ]
  },
  {
   "cell_type": "code",
   "execution_count": 49,
   "metadata": {
    "scrolled": true
   },
   "outputs": [
    {
     "name": "stdout",
     "output_type": "stream",
     "text": [
      "1 0.5074639320373535\n",
      "2 0.24335122108459473\n",
      "3 0.9596779346466064\n",
      "4 0.02229785919189453\n",
      "5 0.07672572135925293\n",
      "6 0.037210941314697266\n",
      "7 0.003609180450439453\n",
      "8 1.5020370483398438e-05\n",
      "9 0.003695964813232422\n",
      "CPU times: user 2.06 s, sys: 51.4 ms, total: 2.11 s\n",
      "Wall time: 1.94 s\n"
     ]
    }
   ],
   "source": [
    "%%time\n",
    "\n",
    "network_np = network.values\n",
    "k = 3\n",
    "R = 1\n",
    "\n",
    "\n",
    "E_ = dict([])\n",
    "G_ = dict([])\n",
    "G = dict([])\n",
    "V = dict([])\n",
    "E = dict([])\n",
    "comp = dict([])\n",
    "weight = dict([])\n",
    "h = dict([])\n",
    "D = dict([])\n",
    "A = dict([])\n",
    "latest =dict([])\n",
    "\n",
    "for i in range(R):\n",
    "    # 各辺 e を確率 pe で残すことで得られる辺集合\n",
    "    start = time.time()\n",
    "    E_[i] = live_edge_graph_edges(network_np, len(network_np))\n",
    "    print(\"1\",time.time() - start)\n",
    "\n",
    "    start = time.time()\n",
    "    G_[i] = nx.DiGraph()\n",
    "    G_[i].add_edges_from(E_[i])\n",
    "    print(\"2\",time.time() - start)\n",
    "    \n",
    "    # G_i_ = (V, E_i_) の強連結成分を計算\n",
    "    # G_i_より構築された頂点重み付き DAG\n",
    "    start = time.time()\n",
    "    G[i] = nx.condensation(G_[i])\n",
    "    print(\"3\",time.time() - start)\n",
    "    \n",
    "    start = time.time()\n",
    "    comp[i] = dict(G[i].node)\n",
    "    V[i] = G[i].node()\n",
    "    E[i] = G[i].edges()\n",
    "    print(\"4\",time.time() - start)\n",
    "\n",
    "    # 縮約後の各強連結成分のノード数\n",
    "    start = time.time()\n",
    "    G_i_item = dict(G[i].nodes).items()\n",
    "    weight[i] = {node:len(list(w.values())[0]) for node, w in G_i_item}\n",
    "    print(\"5\",time.time() - start)\n",
    "\n",
    "    # h_i ← V_i において最大の次数をもつ頂点\n",
    "    start = time.time()\n",
    "    G_i_deg = dict(G[i].degree())\n",
    "    h[i] = max(G_i_deg, key=G_i_deg.get)\n",
    "    print(\"6\",time.time() - start)\n",
    "\n",
    "    # h_iから到達可能な頂点集合\n",
    "    # ? 型は未定\n",
    "    # D:Descendant\n",
    "    start = time.time()\n",
    "    D[i] = set(bfs(G[i], [h[i]]))\n",
    "    print(\"7\",time.time() - start)\n",
    "\n",
    "    # h_iに到達可能な頂点集合\n",
    "    # ? 型は未定\n",
    "    # A:Ancestor\n",
    "    start = time.time()\n",
    "    A[i] = set(bfs_reverse(G[i], [h[i]]))\n",
    "    print(\"8\",time.time() - start)\n",
    "\n",
    "    start = time.time()\n",
    "    latest[i] = [False for v in V[i]]\n",
    "    print(\"9\",time.time() - start)"
   ]
  },
  {
   "cell_type": "code",
   "execution_count": 20,
   "metadata": {},
   "outputs": [
    {
     "name": "stdout",
     "output_type": "stream",
     "text": [
      "1 0.5972480773925781\n",
      "2 0.3634610176086426\n",
      "3 0.6327078342437744\n",
      "6 0.0563511848449707\n",
      "7 5.8650970458984375e-05\n",
      "8 0.0016491413116455078\n",
      "9 0.003326892852783203\n",
      "CPU times: user 1.79 s, sys: 49.9 ms, total: 1.84 s\n",
      "Wall time: 1.75 s\n"
     ]
    }
   ],
   "source": [
    "%%time\n",
    "\n",
    "network_np = network.values\n",
    "k = 3\n",
    "R = 1\n",
    "\n",
    "\n",
    "E_ = dict([])\n",
    "G_ = dict([])\n",
    "G = dict([])\n",
    "V = dict([])\n",
    "E = dict([])\n",
    "comp = dict([])\n",
    "weight = dict([])\n",
    "h = dict([])\n",
    "D = dict([])\n",
    "A = dict([])\n",
    "latest =dict([])\n",
    "\n",
    "for i in range(R):\n",
    "    # 各辺 e を確率 pe で残すことで得られる辺集合\n",
    "    start = time.time()\n",
    "    E_[i] = live_edge_graph_edges(network_np, len(network_np))\n",
    "    print(\"1\",time.time() - start)\n",
    "\n",
    "    start = time.time()\n",
    "    G_[i] = nx.DiGraph()\n",
    "    G_[i].add_edges_from(E_[i])\n",
    "    print(\"2\",time.time() - start)\n",
    "    \n",
    "    start = time.time()\n",
    "    comp[i], G[i], V[i], E[i] = scc_DAG(G_[i])\n",
    "    E[i] = list(set(E[i]))\n",
    "    print(\"3\",time.time() - start)\n",
    "    \n",
    "    \"\"\"\n",
    "    # G_i_ = (V, E_i_) の強連結成分を計算\n",
    "    # G_i_より構築された頂点重み付き DAG\n",
    "    start = time.time()\n",
    "    G[i] = nx.condensation(G_[i])\n",
    "    print(\"3\",time.time() - start)\n",
    "    \n",
    "    start = time.time()\n",
    "    comp[i] = dict(G[i].node)\n",
    "    V[i] = G[i].node()\n",
    "    E[i] = G[i].edges()\n",
    "    print(\"4\",time.time() - start)\n",
    "\n",
    "    # 縮約後の各強連結成分のノード数\n",
    "    start = time.time()\n",
    "    G_i_item = dict(G[i].nodes).items()\n",
    "    weight[i] = {node:len(list(w.values())[0]) for node, w in G_i_item}\n",
    "    print(\"5\",time.time() - start)\n",
    "\n",
    "    \"\"\"\n",
    "\n",
    "    # h_i ← V_i において最大の次数をもつ頂点\n",
    "    start = time.time()\n",
    "    G_i_deg = dict(G[i].degree())\n",
    "    h[i] = max(G_i_deg, key=G_i_deg.get)\n",
    "    print(\"6\",time.time() - start)\n",
    "    \n",
    "    # h_iから到達可能な頂点集合\n",
    "    # ? 型は未定\n",
    "    # D:Descendant\n",
    "    start = time.time()\n",
    "    D[i] = set(bfs(G[i], [h[i]]))\n",
    "    print(\"7\",time.time() - start)\n",
    "\n",
    "    # h_iに到達可能な頂点集合\n",
    "    # ? 型は未定\n",
    "    # A:Ancestor\n",
    "    start = time.time()\n",
    "    A[i] = set(bfs_reverse(G[i], [h[i]]))\n",
    "    print(\"8\",time.time() - start)\n",
    "\n",
    "    start = time.time()\n",
    "    latest[i] = [False for v in V[i]]\n",
    "    print(\"9\",time.time() - start)"
   ]
  },
  {
   "cell_type": "code",
   "execution_count": 100,
   "metadata": {},
   "outputs": [
    {
     "name": "stdout",
     "output_type": "stream",
     "text": [
      "CPU times: user 2.86 s, sys: 47.8 ms, total: 2.91 s\n",
      "Wall time: 2.94 s\n"
     ]
    }
   ],
   "source": [
    "%%time\n",
    "G_all = nx.DiGraph()\n",
    "G_all.add_weighted_edges_from(network_np)"
   ]
  },
  {
   "cell_type": "code",
   "execution_count": 101,
   "metadata": {},
   "outputs": [
    {
     "name": "stdout",
     "output_type": "stream",
     "text": [
      "CPU times: user 1.76 s, sys: 107 ms, total: 1.86 s\n",
      "Wall time: 1.94 s\n"
     ]
    }
   ],
   "source": [
    "%%time\n",
    "H = G_all.copy()"
   ]
  },
  {
   "cell_type": "code",
   "execution_count": null,
   "metadata": {},
   "outputs": [],
   "source": []
  }
 ],
 "metadata": {
  "kernelspec": {
   "display_name": "Python 3",
   "language": "python",
   "name": "python3"
  },
  "language_info": {
   "codemirror_mode": {
    "name": "ipython",
    "version": 3
   },
   "file_extension": ".py",
   "mimetype": "text/x-python",
   "name": "python",
   "nbconvert_exporter": "python",
   "pygments_lexer": "ipython3",
   "version": "3.7.3"
  }
 },
 "nbformat": 4,
 "nbformat_minor": 2
}
