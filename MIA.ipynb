{
 "cells": [
  {
   "cell_type": "code",
   "execution_count": 4,
   "metadata": {},
   "outputs": [],
   "source": [
    "import itertools\n",
    "import random\n",
    "import networkx as nx\n",
    "import matplotlib.pyplot as plt\n",
    "import numpy as np\n",
    "from scipy.sparse import csr_matrix\n",
    "from scipy.sparse import coo_matrix\n",
    "from scipy.sparse.csgraph import dijkstra #フィボナッチヒープを使用している\n",
    "import math\n",
    "from tqdm import tqdm_notebook as tqdm\n",
    "import pandas as pd\n",
    "import time\n",
    "import sys\n",
    "sys.setrecursionlimit(20000)\n",
    "\n",
    "%matplotlib inline"
   ]
  },
  {
   "cell_type": "code",
   "execution_count": 5,
   "metadata": {},
   "outputs": [],
   "source": [
    "def make_random_graph_list(V_size, E_size):\n",
    "    network_list = np.array([np.random.choice(range(V_size),2,replace=False) for i in range(E_size)])\n",
    "    network_list = np.unique(network_list, axis=0)\n",
    "    weighted = np.random.uniform(0,1,len(network_list))\n",
    "    \n",
    "    # from to と　weightedを連結\n",
    "    return np.vstack([network_list.T, weighted]).T"
   ]
  },
  {
   "cell_type": "code",
   "execution_count": 6,
   "metadata": {},
   "outputs": [],
   "source": [
    "# 確率を-log(p)変換する\n",
    "def neg_log(network_np):\n",
    "    return np.vstack([network_np.T[:2], -np.log(network_np.T[2])]).T"
   ]
  },
  {
   "cell_type": "code",
   "execution_count": 7,
   "metadata": {},
   "outputs": [],
   "source": [
    "# plt.figure(figsize=(15,5))\n",
    "# nx.draw_networkx(G)"
   ]
  },
  {
   "cell_type": "code",
   "execution_count": 8,
   "metadata": {},
   "outputs": [],
   "source": [
    "def compute_MIP_G(G, theta):\n",
    "    return dict(nx.all_pairs_dijkstra(G, cutoff=-np.log(theta)))"
   ]
  },
  {
   "cell_type": "code",
   "execution_count": 9,
   "metadata": {},
   "outputs": [],
   "source": [
    "def compute_MIOA(v, G_table):\n",
    "    MIOA = nx.DiGraph()\n",
    "    for u_path in G_table[v][1].values():\n",
    "        nx.add_path(MIOA, u_path)\n",
    "    return MIOA\n",
    "\n",
    "# theta = 0.00001\n",
    "# G_table = compute_MIP_G(G, theta)\n",
    "\n",
    "# MIOA = compute_MIOA(0, G_table)\n",
    "# # nx.draw_networkx(MIOA)"
   ]
  },
  {
   "cell_type": "code",
   "execution_count": 10,
   "metadata": {},
   "outputs": [],
   "source": [
    "def compute_MIIA(v, G_table, G):\n",
    "    MIIA = nx.DiGraph()\n",
    "    for node in G:\n",
    "        if v in G_table[node][1]:\n",
    "            nx.add_path(MIIA, G_table[node][1][v])\n",
    "    return MIIA\n",
    "\n",
    "def compute_MIIA_get(v, G_table, G):\n",
    "    MIIA = nx.DiGraph()\n",
    "    for node in G:\n",
    "        if not node in MIIA:\n",
    "            path = G_table[node][1].get(v)\n",
    "            if path:\n",
    "                nx.add_path(MIIA, path)\n",
    "    return MIIA\n",
    "\n",
    "def compute_MIIA_kai(v, G_path):\n",
    "    MIIA = nx.DiGraph()\n",
    "    for n, (dist, path) in tqdm(G_path):\n",
    "        path_v = path.get(v)\n",
    "        if path_v:\n",
    "            nx.add_path(MIIA, path_v)\n",
    "    return MIIA\n",
    "\n",
    "# theta = 0.00001\n",
    "# G_table = compute_MIP_G(G, theta)\n",
    "\n",
    "# MIIA = compute_MIIA(2, G_table)\n",
    "# # nx.draw_networkx(MIIA)"
   ]
  },
  {
   "cell_type": "code",
   "execution_count": 13,
   "metadata": {
    "scrolled": true
   },
   "outputs": [],
   "source": [
    "# G_path = nx.all_pairs_dijkstra(G)\n",
    "# %timeit MIIA = compute_MIIA_kai(2, G_path)\n",
    "# plt.figure(figsize=(15,10))\n",
    "# nx.draw_networkx(MIIA)"
   ]
  },
  {
   "cell_type": "code",
   "execution_count": 15,
   "metadata": {},
   "outputs": [],
   "source": [
    "def compute_ap(ap, S, MIIA_v, v, G_table):\n",
    "    # MIIAtreeの末端から計算すれば、効率的になるため、ソート\n",
    "    from_u_to_v_path_len = dict(nx.single_target_shortest_path_length(MIIA_v, v))\n",
    "    sorted_path_len = sorted(from_u_to_v_path_len.items(), key=lambda x:x[1], reverse=True)\n",
    "    \n",
    "    for u, _ in sorted_path_len:\n",
    "        if u in S:\n",
    "            ap[(u, MIIA_v)] = 1\n",
    "        else:\n",
    "            N_in = MIIA_v.in_edges([u])\n",
    "            if not N_in:\n",
    "                ap[(u, MIIA_v)] = 0\n",
    "            else:\n",
    "                prod = 1\n",
    "                for w, _ in N_in:\n",
    "                    prod *= 1 - ap[(w, MIIA_v)] * np.exp(-G_table[w][0][u])\n",
    "                ap[(u, MIIA_v)] = 1 - prod\n",
    "                \n",
    "# theta = 0.0001\n",
    "# v = 2\n",
    "# S = [3]\n",
    "# G_table = compute_MIP_G(G, theta)\n",
    "# MIIA_v = compute_MIIA(v, G_table)\n",
    "# # nx.draw_networkx(MIIA_v)\n",
    "# ap = dict()\n",
    "# compute_ap(ap, S, MIIA_v, v, G_table)\n",
    "# ap"
   ]
  },
  {
   "cell_type": "code",
   "execution_count": 16,
   "metadata": {},
   "outputs": [],
   "source": [
    "def compute_alpha(alpha, v, MIIA_v, S, G_table, ap):\n",
    "    # 木のルートからはじめると効率的に計算できる\n",
    "    print(v, MIIA_v.node())\n",
    "    from_u_to_v_path_len = dict(nx.single_target_shortest_path_length(MIIA_v, v))\n",
    "    sorted_path_len = sorted(from_u_to_v_path_len.items(), key=lambda x:x[1])\n",
    "\n",
    "    for u, _ in sorted_path_len:\n",
    "        if u == v:\n",
    "            alpha[(MIIA_v, u)] = 1\n",
    "        else:\n",
    "            w = list(MIIA_v.out_edges([u]))[0][1]\n",
    "            if w in S:\n",
    "                alpha[(MIIA_v, u)] = 0\n",
    "            else:\n",
    "                N_in = MIIA_v.in_edges([w])\n",
    "                prod = 1\n",
    "                for u_, _ in N_in:\n",
    "                    if u_ != u:\n",
    "                        prod *= 1 - ap[(u_, MIIA_v)] * np.exp(-G_table[u_][0][w])\n",
    "                alpha[(MIIA_v, u)] = alpha[(MIIA_v, w)] * np.exp(-G_table[u][0][w]) * prod\n",
    "\n",
    "# theta = 0.0001\n",
    "# v = 2\n",
    "# S = [3]\n",
    "# G_table = compute_MIP_G(G, theta)\n",
    "# MIIA_v = compute_MIIA(v, G_table)\n",
    "# nx.draw_networkx(MIIA_v)\n",
    "# ap = dict()\n",
    "# compute_ap(ap, S, MIIA_v, v, G_table)\n",
    "\n",
    "# alpha = dict()\n",
    "# compute_alpha(alpha, v, MIIA_v, S, G_table, ap)\n",
    "# alpha"
   ]
  },
  {
   "cell_type": "code",
   "execution_count": 17,
   "metadata": {},
   "outputs": [],
   "source": [
    "def compute_MIA(G, k, theta):\n",
    "    # initialization\n",
    "    # 2\n",
    "    S = []\n",
    "    \n",
    "    # 3\n",
    "    IncInf = dict(zip(G.nodes(), [0]*len(G)))\n",
    "    \n",
    "    MIIA = dict()\n",
    "    MIOA = dict()\n",
    "    ap = dict()\n",
    "    alpha = dict()\n",
    "    \n",
    "    # ダイクストラの計算を一括で行う\n",
    "    G_table = compute_MIP_G(G, theta)\n",
    "    \n",
    "    \n",
    "    # 4\n",
    "    for v in tqdm(G):\n",
    "        # 5\n",
    "        MIIA[v] = compute_MIIA(v, G_table, G)\n",
    "        MIOA[v] = compute_MIOA(v, G_table)\n",
    "        \n",
    "        # 6\n",
    "        for u in MIIA[v]:\n",
    "            ap[(u, MIIA[v])] = 0\n",
    "        \n",
    "        # 7\n",
    "        compute_alpha(alpha, v, MIIA[v], S, G_table, ap)\n",
    "        \n",
    "        # 8\n",
    "        for u in MIIA[v]:\n",
    "            IncInf[u] += alpha[(MIIA[v], u)] * (1 - ap[(u, MIIA[v])])\n",
    "    print(\"complete initilization\")\n",
    "    \n",
    "    # main loop\n",
    "    # 13\n",
    "    for i in range(k):\n",
    "        # 14\n",
    "        u = sorted(IncInf.items(), key=lambda x:x[1], reverse=True)[0][0]\n",
    "        print(\"u\",u)\n",
    "        \n",
    "        # 16\n",
    "        for v in MIOA[u]:\n",
    "            if not v in S:\n",
    "                for w in MIIA[v]:\n",
    "                    if not w in S:\n",
    "                        IncInf[w] -= alpha[(MIIA[v], w)] * (1 - ap[(w, MIIA[v])])\n",
    "        # 22\n",
    "        S += [u]\n",
    "        \n",
    "        if len(S) == k:\n",
    "            return S\n",
    "        \n",
    "        # 23\n",
    "        for v in MIOA[u]:\n",
    "            if not v in S:\n",
    "                # 24\n",
    "                compute_ap(ap, S, MIIA[v], v, G_table)\n",
    "                \n",
    "                # 25\n",
    "                compute_alpha(alpha, v, MIIA[v], S, G_table, ap)\n",
    "                \n",
    "                # 27\n",
    "                for w in MIIA[v]:\n",
    "                    if not w in S:\n",
    "                        # 28\n",
    "                        IncInf[w] += alpha[(MIIA[v], w)] * (1 - ap[(w, MIIA[v])])"
   ]
  },
  {
   "cell_type": "markdown",
   "metadata": {},
   "source": [
    "# csrで行う場合"
   ]
  },
  {
   "cell_type": "code",
   "execution_count": 18,
   "metadata": {},
   "outputs": [],
   "source": [
    "network_np = make_random_graph_list(8, 10)"
   ]
  },
  {
   "cell_type": "code",
   "execution_count": 19,
   "metadata": {},
   "outputs": [],
   "source": [
    "def compute_MIIOA(g, theta):\n",
    "    from_node = [int(i) for i in g.T[0]]\n",
    "    to_node = [int(i) for i in g.T[1]]\n",
    "    N = max(max(from_node), max(to_node)) + 1\n",
    "    prob_data = -np.log(g.T[2])\n",
    "    coo = coo_matrix((prob_data, (from_node, to_node)), (N, N)).tocsr()\n",
    "    return dijkstra(coo, return_predecessors=True, limit=-np.log(theta))\n",
    "\n",
    "# from_node = [int(i) for i in network_np.T[0]]\n",
    "# to_node = [int(i) for i in network_np.T[1]]\n",
    "# N = max(max(from_node),max(to_node))+1\n",
    "# prob_data = -np.log(network_np.T[2])\n",
    "# coo = coo_matrix((prob_data, (from_node, to_node)), (N, N)).tocsr()\n",
    "# theta = 0.00001\n",
    "# result = dijkstra(coo, return_predecessors=True, limit=-np.log(theta))"
   ]
  },
  {
   "cell_type": "code",
   "execution_count": 20,
   "metadata": {},
   "outputs": [],
   "source": [
    "def get_pass(start, end, pass_info):\n",
    "    shortest_pass = []\n",
    "    t = int(end)\n",
    "    while t != -9999:\n",
    "        shortest_pass.append(t)\n",
    "        t = pass_info[t]\n",
    "        if t == start:\n",
    "            shortest_pass.append(start)\n",
    "            shortest_pass.reverse()\n",
    "            return shortest_pass\n",
    "    return []"
   ]
  },
  {
   "cell_type": "code",
   "execution_count": 21,
   "metadata": {},
   "outputs": [],
   "source": [
    "def compute_MIIA_csr(v, G, G_table):\n",
    "    MIIA = nx.DiGraph()\n",
    "    for u in G:\n",
    "        path = get_pass(u, v, G_table[1][int(u)])\n",
    "        nx.add_path(MIIA, path)\n",
    "    return MIIA\n",
    "# nx.draw_networkx(compute_MIIA_csr(0, result))"
   ]
  },
  {
   "cell_type": "code",
   "execution_count": 22,
   "metadata": {
    "scrolled": true
   },
   "outputs": [],
   "source": [
    "def compute_MIOA_csr(v, G, G_table):\n",
    "    MIOA = nx.DiGraph()\n",
    "    for u in G:\n",
    "        path = get_pass(v, u, G_table[1][int(u)])\n",
    "        nx.add_path(MIOA, path)\n",
    "    return MIOA\n",
    "# nx.draw_networkx(compute_MIIA_csr(0, result))"
   ]
  },
  {
   "cell_type": "code",
   "execution_count": 23,
   "metadata": {},
   "outputs": [],
   "source": [
    "def pp_csr(u, v, G_table):\n",
    "    return np.exp(1)**(-G_table[0][int(u)][int(v)])"
   ]
  },
  {
   "cell_type": "code",
   "execution_count": 24,
   "metadata": {},
   "outputs": [],
   "source": [
    "def compute_ap_csr(ap, S, MIIA_v, v, G_table):\n",
    "    # MIIAtreeの末端から計算すれば、効率的になるため、ソート\n",
    "    from_u_to_v_path_len = dict(nx.single_target_shortest_path_length(MIIA_v, v))\n",
    "    sorted_path_len = sorted(from_u_to_v_path_len.items(), key=lambda x:x[1], reverse=True)\n",
    "    \n",
    "    for u, _ in sorted_path_len:\n",
    "        if u in S:\n",
    "            ap[(u, MIIA_v)] = 1\n",
    "        else:\n",
    "            N_in = MIIA_v.in_edges([u])\n",
    "            if not N_in:\n",
    "                ap[(u, MIIA_v)] = 0\n",
    "            else:\n",
    "                prod = 1\n",
    "                for w, _ in N_in:\n",
    "                    prod *= 1 - ap[(w, MIIA_v)] * np.exp(-pp_csr(w, u, G_table))\n",
    "                ap[(u, MIIA_v)] = 1 - prod"
   ]
  },
  {
   "cell_type": "code",
   "execution_count": 25,
   "metadata": {},
   "outputs": [],
   "source": [
    "def compute_alpha_csr(alpha, v, MIIA_v, S, G_table, ap):\n",
    "    # 木のルートからはじめると効率的に計算できる\n",
    "    print(v, MIIA_v.node())\n",
    "    from_u_to_v_path_len = dict(nx.single_target_shortest_path_length(MIIA_v, v))\n",
    "    sorted_path_len = sorted(from_u_to_v_path_len.items(), key=lambda x:x[1])\n",
    "\n",
    "    for u, _ in sorted_path_len:\n",
    "        if u == v:\n",
    "            alpha[(MIIA_v, u)] = 1\n",
    "        else:\n",
    "            w = list(MIIA_v.out_edges([u]))[0][1]\n",
    "            if w in S:\n",
    "                alpha[(MIIA_v, u)] = 0\n",
    "            else:\n",
    "                N_in = MIIA_v.in_edges([w])\n",
    "                prod = 1\n",
    "                for u_, _ in N_in:\n",
    "                    if u_ != u:\n",
    "                        prod *= 1 - ap[(u_, MIIA_v)] * np.exp(-pp_csr(u_, w, G_table))\n",
    "                alpha[(MIIA_v, u)] = alpha[(MIIA_v, w)] * np.exp(-pp_csr(u, w, G_table)) * prod"
   ]
  },
  {
   "cell_type": "code",
   "execution_count": 26,
   "metadata": {},
   "outputs": [],
   "source": [
    "def compute_MIA_csr(g, k, theta):\n",
    "    MIIA = dict()\n",
    "    MIOA = dict()\n",
    "    ap = dict()\n",
    "    alpha = dict()\n",
    "    \n",
    "    # グラフの準備\n",
    "    g_log = neg_log(g)\n",
    "    G_table = compute_MIIOA(g_log, theta)\n",
    "    \n",
    "    # グラフ作成\n",
    "    G = nx.DiGraph()\n",
    "    G.add_weighted_edges_from(g_log)\n",
    "    \n",
    "    # initialization\n",
    "    # 2\n",
    "    S = []\n",
    "    \n",
    "    # 3\n",
    "    IncInf = dict(zip(G.nodes(), [0]*len(G)))\n",
    "    \n",
    "    MIIA_time = []\n",
    "    MIOA_time = []\n",
    "    ap_time = []\n",
    "    alpha_time = []\n",
    "    IncInf_time = []\n",
    "    \n",
    "    # 4\n",
    "    for v in tqdm(G):\n",
    "        # 5\n",
    "        start = time.time()\n",
    "        MIIA[v] = compute_MIIA_csr(v, G, G_table)\n",
    "        MIIA_time.append(time.time()-start)\n",
    "        \n",
    "        start = time.time()\n",
    "        MIOA[v] = compute_MIOA_csr(v, G, G_table)\n",
    "        MIOA_time.append(time.time()-start)\n",
    "        \n",
    "        # 6\n",
    "        start = time.time()\n",
    "        for u in MIIA[v]:\n",
    "            ap[(u, MIIA[v])] = 0\n",
    "        ap_time.append(time.time()-start)\n",
    "        \n",
    "        # 7\n",
    "        start = time.time()\n",
    "        compute_alpha_csr(alpha, v, MIIA[v], S, G_table, ap)\n",
    "        alpha_time.append(time.time()-start)\n",
    "        \n",
    "        # 8\n",
    "        start = time.time()\n",
    "        for u in MIIA[v]:\n",
    "            IncInf[u] += alpha[(MIIA[v], u)] * (1 - ap[(u, MIIA[v])])\n",
    "        IncInf_time.append(time.time()-start)\n",
    "    return [MIIA_time, MIOA_time, ap_time, alpha_time, IncInf_time]\n",
    "    print(\"complete initilization\")\n",
    "    \n",
    "    # main loop\n",
    "    # 13\n",
    "    for i in range(k):\n",
    "        # 14\n",
    "        u = sorted(IncInf.items(), key=lambda x:x[1], reverse=True)[0][0]\n",
    "        print(\"u\",u)\n",
    "        \n",
    "        # 16\n",
    "        for v in MIOA[u]:\n",
    "            if not v in S:\n",
    "                for w in MIIA[v]:\n",
    "                    if not w in S:\n",
    "                        IncInf[w] -= alpha[(MIIA[v], w)] * (1 - ap[(w, MIIA[v])])\n",
    "        # 22\n",
    "        S += [u]\n",
    "        \n",
    "        if len(S) == k:\n",
    "            return S\n",
    "        \n",
    "        # 23\n",
    "        for v in MIOA[u]:\n",
    "            if not v in S:\n",
    "                # 24\n",
    "                compute_ap_csr(ap, S, MIIA[v], v, G_table)\n",
    "                \n",
    "                # 25\n",
    "                compute_alpha_csr(alpha, v, MIIA[v], S, G_table, ap)\n",
    "                \n",
    "                # 27\n",
    "                for w in MIIA[v]:\n",
    "                    if not w in S:\n",
    "                        # 28\n",
    "                        IncInf[w] += alpha[(MIIA[v], w)] * (1 - ap[(w, MIIA[v])])"
   ]
  },
  {
   "cell_type": "code",
   "execution_count": 722,
   "metadata": {},
   "outputs": [
    {
     "name": "stderr",
     "output_type": "stream",
     "text": [
      "/Users/fuekimasao/anaconda3/envs/use/lib/python3.7/site-packages/ipykernel_launcher.py:7: UserWarning: Graph has negative weights: dijkstra will give inaccurate results if the graph contains negative cycles. Consider johnson or bellman_ford.\n",
      "  import sys\n"
     ]
    },
    {
     "data": {
      "application/vnd.jupyter.widget-view+json": {
       "model_id": "a69a993fe9b645589bcd685474782af6",
       "version_major": 2,
       "version_minor": 0
      },
      "text/plain": [
       "HBox(children=(IntProgress(value=0, max=8), HTML(value='')))"
      ]
     },
     "metadata": {},
     "output_type": "display_data"
    },
    {
     "name": "stdout",
     "output_type": "stream",
     "text": [
      "0.0 [0.0, 7.0, 2.0, 6.0, 3.0, 4.0, 1.0, 5.0]\n"
     ]
    },
    {
     "ename": "KeyError",
     "evalue": "(<networkx.classes.digraph.DiGraph object at 0xa6f190dd0>, 7.0)",
     "output_type": "error",
     "traceback": [
      "\u001b[0;31m---------------------------------------------------------------------------\u001b[0m",
      "\u001b[0;31mKeyError\u001b[0m                                  Traceback (most recent call last)",
      "\u001b[0;32m<timed exec>\u001b[0m in \u001b[0;36m<module>\u001b[0;34m\u001b[0m\n",
      "\u001b[0;32m<ipython-input-721-7dea2ad5e5be>\u001b[0m in \u001b[0;36mcompute_MIA_csr\u001b[0;34m(g, k, theta)\u001b[0m\n\u001b[1;32m     51\u001b[0m         \u001b[0mstart\u001b[0m \u001b[0;34m=\u001b[0m \u001b[0mtime\u001b[0m\u001b[0;34m.\u001b[0m\u001b[0mtime\u001b[0m\u001b[0;34m(\u001b[0m\u001b[0;34m)\u001b[0m\u001b[0;34m\u001b[0m\u001b[0;34m\u001b[0m\u001b[0m\n\u001b[1;32m     52\u001b[0m         \u001b[0;32mfor\u001b[0m \u001b[0mu\u001b[0m \u001b[0;32min\u001b[0m \u001b[0mMIIA\u001b[0m\u001b[0;34m[\u001b[0m\u001b[0mv\u001b[0m\u001b[0;34m]\u001b[0m\u001b[0;34m:\u001b[0m\u001b[0;34m\u001b[0m\u001b[0;34m\u001b[0m\u001b[0m\n\u001b[0;32m---> 53\u001b[0;31m             \u001b[0mIncInf\u001b[0m\u001b[0;34m[\u001b[0m\u001b[0mu\u001b[0m\u001b[0;34m]\u001b[0m \u001b[0;34m+=\u001b[0m \u001b[0malpha\u001b[0m\u001b[0;34m[\u001b[0m\u001b[0;34m(\u001b[0m\u001b[0mMIIA\u001b[0m\u001b[0;34m[\u001b[0m\u001b[0mv\u001b[0m\u001b[0;34m]\u001b[0m\u001b[0;34m,\u001b[0m \u001b[0mu\u001b[0m\u001b[0;34m)\u001b[0m\u001b[0;34m]\u001b[0m \u001b[0;34m*\u001b[0m \u001b[0;34m(\u001b[0m\u001b[0;36m1\u001b[0m \u001b[0;34m-\u001b[0m \u001b[0map\u001b[0m\u001b[0;34m[\u001b[0m\u001b[0;34m(\u001b[0m\u001b[0mu\u001b[0m\u001b[0;34m,\u001b[0m \u001b[0mMIIA\u001b[0m\u001b[0;34m[\u001b[0m\u001b[0mv\u001b[0m\u001b[0;34m]\u001b[0m\u001b[0;34m)\u001b[0m\u001b[0;34m]\u001b[0m\u001b[0;34m)\u001b[0m\u001b[0;34m\u001b[0m\u001b[0;34m\u001b[0m\u001b[0m\n\u001b[0m\u001b[1;32m     54\u001b[0m         \u001b[0mIncInf_time\u001b[0m\u001b[0;34m.\u001b[0m\u001b[0mappend\u001b[0m\u001b[0;34m(\u001b[0m\u001b[0mtime\u001b[0m\u001b[0;34m.\u001b[0m\u001b[0mtime\u001b[0m\u001b[0;34m(\u001b[0m\u001b[0;34m)\u001b[0m\u001b[0;34m-\u001b[0m\u001b[0mstart\u001b[0m\u001b[0;34m)\u001b[0m\u001b[0;34m\u001b[0m\u001b[0;34m\u001b[0m\u001b[0m\n\u001b[1;32m     55\u001b[0m     \u001b[0;32mreturn\u001b[0m \u001b[0;34m[\u001b[0m\u001b[0mMIIA_time\u001b[0m\u001b[0;34m,\u001b[0m \u001b[0mMIOA_time\u001b[0m\u001b[0;34m,\u001b[0m \u001b[0map_time\u001b[0m\u001b[0;34m,\u001b[0m \u001b[0malpha_time\u001b[0m\u001b[0;34m,\u001b[0m \u001b[0mIncInf_time\u001b[0m\u001b[0;34m]\u001b[0m\u001b[0;34m\u001b[0m\u001b[0;34m\u001b[0m\u001b[0m\n",
      "\u001b[0;31mKeyError\u001b[0m: (<networkx.classes.digraph.DiGraph object at 0xa6f190dd0>, 7.0)"
     ]
    }
   ],
   "source": [
    "%time time = compute_MIA_csr(network_np, 3, 0.5)"
   ]
  },
  {
   "cell_type": "code",
   "execution_count": 426,
   "metadata": {},
   "outputs": [
    {
     "data": {
      "text/plain": [
       "<matplotlib.axes._subplots.AxesSubplot at 0xa6d22d310>"
      ]
     },
     "execution_count": 426,
     "metadata": {},
     "output_type": "execute_result"
    },
    {
     "data": {
      "image/png": "[encoded data removed]",
      "text/plain": [
       "<Figure size 432x288 with 1 Axes>"
      ]
     },
     "metadata": {
      "needs_background": "light"
     },
     "output_type": "display_data"
    }
   ],
   "source": [
    "time_df = pd.DataFrame({\"MIIA\":time[0], \"MIOA\":time[1], \"ap\":time[2], \"alpha\":time[3], \"IncInf\":time[4]})\n",
    "time_df.plot(logy=True)"
   ]
  },
  {
   "cell_type": "markdown",
   "metadata": {},
   "source": [
    "## MIA time"
   ]
  },
  {
   "cell_type": "code",
   "execution_count": 288,
   "metadata": {
    "scrolled": false
   },
   "outputs": [
    {
     "name": "stdout",
     "output_type": "stream",
     "text": [
      "CPU times: user 640 ms, sys: 21.6 ms, total: 662 ms\n",
      "Wall time: 660 ms\n"
     ]
    }
   ],
   "source": [
    "theta = 0.1\n",
    "%time G_table = compute_MIP_G(G, theta)"
   ]
  },
  {
   "cell_type": "code",
   "execution_count": 302,
   "metadata": {},
   "outputs": [
    {
     "data": {
      "application/vnd.jupyter.widget-view+json": {
       "model_id": "e762e1adb888460fb05262de234d1f60",
       "version_major": 2,
       "version_minor": 0
      },
      "text/plain": [
       "HBox(children=(IntProgress(value=0, max=7849), HTML(value='')))"
      ]
     },
     "metadata": {},
     "output_type": "display_data"
    },
    {
     "name": "stdout",
     "output_type": "stream",
     "text": [
      "\n",
      "CPU times: user 1min 29s, sys: 2.93 s, total: 1min 32s\n",
      "Wall time: 1min 37s\n"
     ]
    }
   ],
   "source": [
    "%%time\n",
    "MIIA = dict()\n",
    "\n",
    "for v in tqdm(G):\n",
    "    MIIA[v] = compute_MIIA(v, G_table, G)"
   ]
  },
  {
   "cell_type": "code",
   "execution_count": 303,
   "metadata": {},
   "outputs": [
    {
     "data": {
      "application/vnd.jupyter.widget-view+json": {
       "model_id": "fe4c48932e50421ba63802574b23b3de",
       "version_major": 2,
       "version_minor": 0
      },
      "text/plain": [
       "HBox(children=(IntProgress(value=0, max=7849), HTML(value='')))"
      ]
     },
     "metadata": {},
     "output_type": "display_data"
    },
    {
     "name": "stdout",
     "output_type": "stream",
     "text": [
      "\n",
      "CPU times: user 31.6 s, sys: 1.55 s, total: 33.2 s\n",
      "Wall time: 34.4 s\n"
     ]
    }
   ],
   "source": [
    "%%time \n",
    "MIOA = dict()\n",
    "for v in tqdm(G):\n",
    "    MIOA[v] = compute_MIOA(v, G_table)"
   ]
  },
  {
   "cell_type": "code",
   "execution_count": null,
   "metadata": {},
   "outputs": [],
   "source": []
  },
  {
   "cell_type": "markdown",
   "metadata": {},
   "source": [
    "# データを読み込んで行う場合"
   ]
  },
  {
   "cell_type": "code",
   "execution_count": 396,
   "metadata": {
    "scrolled": true
   },
   "outputs": [
    {
     "data": {
      "text/html": [
       "<div>\n",
       "<style scoped>\n",
       "    .dataframe tbody tr th:only-of-type {\n",
       "        vertical-align: middle;\n",
       "    }\n",
       "\n",
       "    .dataframe tbody tr th {\n",
       "        vertical-align: top;\n",
       "    }\n",
       "\n",
       "    .dataframe thead th {\n",
       "        text-align: right;\n",
       "    }\n",
       "</style>\n",
       "<table border=\"1\" class=\"dataframe\">\n",
       "  <thead>\n",
       "    <tr style=\"text-align: right;\">\n",
       "      <th></th>\n",
       "      <th># FromNodeId</th>\n",
       "      <th>ToNodeId</th>\n",
       "      <th>p</th>\n",
       "    </tr>\n",
       "  </thead>\n",
       "  <tbody>\n",
       "    <tr>\n",
       "      <td>0</td>\n",
       "      <td>0</td>\n",
       "      <td>4</td>\n",
       "      <td>0.008000</td>\n",
       "    </tr>\n",
       "    <tr>\n",
       "      <td>1</td>\n",
       "      <td>0</td>\n",
       "      <td>5</td>\n",
       "      <td>0.005682</td>\n",
       "    </tr>\n",
       "    <tr>\n",
       "      <td>2</td>\n",
       "      <td>0</td>\n",
       "      <td>7</td>\n",
       "      <td>0.033333</td>\n",
       "    </tr>\n",
       "    <tr>\n",
       "      <td>3</td>\n",
       "      <td>0</td>\n",
       "      <td>8</td>\n",
       "      <td>0.009615</td>\n",
       "    </tr>\n",
       "    <tr>\n",
       "      <td>4</td>\n",
       "      <td>0</td>\n",
       "      <td>9</td>\n",
       "      <td>0.066667</td>\n",
       "    </tr>\n",
       "  </tbody>\n",
       "</table>\n",
       "</div>"
      ],
      "text/plain": [
       "   # FromNodeId  ToNodeId         p\n",
       "0             0         4  0.008000\n",
       "1             0         5  0.005682\n",
       "2             0         7  0.033333\n",
       "3             0         8  0.009615\n",
       "4             0         9  0.066667"
      ]
     },
     "execution_count": 396,
     "metadata": {},
     "output_type": "execute_result"
    }
   ],
   "source": [
    "# データの読み込み\n",
    "# 枝確率を計算済みのネットワークを読み込む\n",
    "network = pd.read_csv(\"data.csv\")\n",
    "network.head()"
   ]
  },
  {
   "cell_type": "code",
   "execution_count": 397,
   "metadata": {},
   "outputs": [],
   "source": [
    "# numpy型に変換\n",
    "network_np = network.values"
   ]
  },
  {
   "cell_type": "code",
   "execution_count": 398,
   "metadata": {},
   "outputs": [],
   "source": [
    "network_np_log = neg_log(network_np)"
   ]
  },
  {
   "cell_type": "code",
   "execution_count": 399,
   "metadata": {},
   "outputs": [],
   "source": [
    "# 空の有向グラフを作成\n",
    "G = nx.DiGraph()"
   ]
  },
  {
   "cell_type": "code",
   "execution_count": 400,
   "metadata": {},
   "outputs": [],
   "source": [
    "# 重み付きの枝を加える\n",
    "G.add_weighted_edges_from(network_np_log)"
   ]
  },
  {
   "cell_type": "code",
   "execution_count": 714,
   "metadata": {},
   "outputs": [
    {
     "data": {
      "application/vnd.jupyter.widget-view+json": {
       "model_id": "da91fce23b2d428787ac48129516cac6",
       "version_major": 2,
       "version_minor": 0
      },
      "text/plain": [
       "HBox(children=(IntProgress(value=0, max=8), HTML(value='')))"
      ]
     },
     "metadata": {},
     "output_type": "display_data"
    },
    {
     "name": "stdout",
     "output_type": "stream",
     "text": [
      "0.0 [0.0, 6.0]\n",
      "7.0 [0.0, 7.0, 6.0]\n",
      "2.0 [2.0, 4.0]\n",
      "6.0 [6.0]\n",
      "3.0 [3.0]\n",
      "4.0 [4.0]\n",
      "1.0 [4.0, 1.0]\n",
      "5.0 [5.0]\n",
      "\n",
      "complete initilization\n",
      "u 6.0\n",
      "0.0 [0.0, 6.0]\n",
      "7.0 [0.0, 7.0, 6.0]\n",
      "u 4.0\n",
      "1.0 [4.0, 1.0]\n",
      "2.0 [2.0, 4.0]\n",
      "u 3.0\n",
      "CPU times: user 54.7 ms, sys: 7.9 ms, total: 62.6 ms\n",
      "Wall time: 69.4 ms\n"
     ]
    },
    {
     "data": {
      "text/plain": [
       "[6.0, 4.0, 3.0]"
      ]
     },
     "execution_count": 714,
     "metadata": {},
     "output_type": "execute_result"
    }
   ],
   "source": [
    "%time compute_MIA(G, 3, 0.5)"
   ]
  },
  {
   "cell_type": "code",
   "execution_count": 710,
   "metadata": {
    "scrolled": false
   },
   "outputs": [
    {
     "name": "stderr",
     "output_type": "stream",
     "text": [
      "/Users/fuekimasao/anaconda3/envs/use/lib/python3.7/site-packages/networkx/drawing/nx_pylab.py:579: MatplotlibDeprecationWarning: \n",
      "The iterable function was deprecated in Matplotlib 3.1 and will be removed in 3.3. Use np.iterable instead.\n",
      "  if not cb.iterable(width):\n",
      "/Users/fuekimasao/anaconda3/envs/use/lib/python3.7/site-packages/networkx/drawing/nx_pylab.py:676: MatplotlibDeprecationWarning: \n",
      "The iterable function was deprecated in Matplotlib 3.1 and will be removed in 3.3. Use np.iterable instead.\n",
      "  if cb.iterable(node_size):  # many node sizes\n"
     ]
    },
    {
     "data": {
      "image/png": "[encoded data removed]",
      "text/plain": [
       "<Figure size 432x288 with 1 Axes>"
      ]
     },
     "metadata": {},
     "output_type": "display_data"
    }
   ],
   "source": [
    "nx.draw_networkx(G)"
   ]
  },
  {
   "cell_type": "code",
   "execution_count": null,
   "metadata": {},
   "outputs": [],
   "source": []
  },
  {
   "cell_type": "code",
   "execution_count": null,
   "metadata": {},
   "outputs": [],
   "source": []
  },
  {
   "cell_type": "code",
   "execution_count": 27,
   "metadata": {},
   "outputs": [],
   "source": [
    "# 速度比較\n",
    "G = nx.DiGraph()\n",
    "network = pd.read_csv(\"data.csv\")\n",
    "network_np = network.values\n",
    "\n",
    "g_log = neg_log(network_np)\n",
    "# 重み付きの枝を加える\n",
    "G.add_weighted_edges_from(g_log)\n",
    "\n",
    "theta = 0.01\n",
    "v = 5"
   ]
  },
  {
   "cell_type": "code",
   "execution_count": 742,
   "metadata": {},
   "outputs": [],
   "source": [
    "G_table1 = compute_MIP_G(G, theta)"
   ]
  },
  {
   "cell_type": "code",
   "execution_count": 743,
   "metadata": {},
   "outputs": [],
   "source": [
    "res1 = compute_MIIA(v, G_table1, G)"
   ]
  },
  {
   "cell_type": "code",
   "execution_count": 745,
   "metadata": {},
   "outputs": [
    {
     "data": {
      "image/png": "[encoded data removed]",
      "text/plain": [
       "<Figure size 1080x720 with 1 Axes>"
      ]
     },
     "metadata": {},
     "output_type": "display_data"
    }
   ],
   "source": [
    "plt.figure(figsize=(15,10))\n",
    "nx.draw_networkx(res1)"
   ]
  },
  {
   "cell_type": "code",
   "execution_count": null,
   "metadata": {
    "scrolled": true
   },
   "outputs": [
    {
     "name": "stderr",
     "output_type": "stream",
     "text": [
      "/Users/fuekimasao/anaconda3/envs/use/lib/python3.7/site-packages/ipykernel_launcher.py:5: RuntimeWarning: divide by zero encountered in log\n",
      "  \"\"\"\n",
      "/Users/fuekimasao/anaconda3/envs/use/lib/python3.7/site-packages/ipykernel_launcher.py:7: UserWarning: Graph has negative weights: dijkstra will give inaccurate results if the graph contains negative cycles. Consider johnson or bellman_ford.\n",
      "  import sys\n"
     ]
    }
   ],
   "source": [
    "G_table2 = compute_MIIOA(g_log, theta)"
   ]
  },
  {
   "cell_type": "code",
   "execution_count": null,
   "metadata": {
    "scrolled": true
   },
   "outputs": [],
   "source": [
    "res2 = compute_MIIA_csr(v, G, G_table2)"
   ]
  },
  {
   "cell_type": "code",
   "execution_count": null,
   "metadata": {},
   "outputs": [],
   "source": [
    "plt.figure(figsize=(15,10))\n",
    "nx.draw_networkx(res2)"
   ]
  },
  {
   "cell_type": "code",
   "execution_count": null,
   "metadata": {},
   "outputs": [],
   "source": []
  },
  {
   "cell_type": "code",
   "execution_count": null,
   "metadata": {},
   "outputs": [],
   "source": []
  },
  {
   "cell_type": "code",
   "execution_count": 28,
   "metadata": {},
   "outputs": [
    {
     "data": {
      "text/plain": [
       "array([[ 0.00000000e+00,  4.00000000e+00,  4.82831374e+00],\n",
       "       [ 0.00000000e+00,  5.00000000e+00,  5.17048400e+00],\n",
       "       [ 0.00000000e+00,  7.00000000e+00,  3.40119738e+00],\n",
       "       ...,\n",
       "       [ 7.58850000e+04,  1.60860000e+04,  1.38629436e+00],\n",
       "       [ 7.58860000e+04,  5.14140000e+04,  1.60943791e+00],\n",
       "       [ 7.58870000e+04,  5.20980000e+04, -0.00000000e+00]])"
      ]
     },
     "execution_count": 28,
     "metadata": {},
     "output_type": "execute_result"
    }
   ],
   "source": [
    "g_log"
   ]
  },
  {
   "cell_type": "code",
   "execution_count": null,
   "metadata": {},
   "outputs": [
    {
     "name": "stdout",
     "output_type": "stream",
     "text": [
      "*\n"
     ]
    },
    {
     "name": "stderr",
     "output_type": "stream",
     "text": [
      "/Users/fuekimasao/anaconda3/envs/use/lib/python3.7/site-packages/ipykernel_launcher.py:7: RuntimeWarning: divide by zero encountered in log\n",
      "  import sys\n",
      "/Users/fuekimasao/anaconda3/envs/use/lib/python3.7/site-packages/ipykernel_launcher.py:9: UserWarning: Graph has negative weights: dijkstra will give inaccurate results if the graph contains negative cycles. Consider johnson or bellman_ford.\n",
      "  if __name__ == '__main__':\n"
     ]
    }
   ],
   "source": [
    "theta = 0.01\n",
    "\n",
    "from_node = [int(i) for i in g_log.T[0]]\n",
    "to_node = [int(i) for i in g_log.T[1]]\n",
    "print(\"*\")\n",
    "N = max(max(from_node), max(to_node)) + 1\n",
    "prob_data = -np.log(g_log.T[2])\n",
    "coo = coo_matrix((prob_data, (from_node, to_node)), (N, N)).tocsr()\n",
    "dijkstra(coo, return_predecessors=True, limit=-np.log(theta))"
   ]
  },
  {
   "cell_type": "code",
   "execution_count": null,
   "metadata": {},
   "outputs": [],
   "source": []
  }
 ],
 "metadata": {
  "kernelspec": {
   "display_name": "Python 3",
   "language": "python",
   "name": "python3"
  },
  "language_info": {
   "codemirror_mode": {
    "name": "ipython",
    "version": 3
   },
   "file_extension": ".py",
   "mimetype": "text/x-python",
   "name": "python",
   "nbconvert_exporter": "python",
   "pygments_lexer": "ipython3",
   "version": "3.7.4"
  }
 },
 "nbformat": 4,
 "nbformat_minor": 2
}
