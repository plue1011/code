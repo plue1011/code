{
 "cells": [
  {
   "cell_type": "code",
   "execution_count": 269,
   "metadata": {},
   "outputs": [],
   "source": [
    "import networkx as nx\n",
    "import pandas as pd\n",
    "import numpy as np\n",
    "import matplotlib.pyplot as plt\n",
    "from tqdm import tqdm_notebook as tqdm\n",
    "import random\n",
    "import time\n",
    "%matplotlib inline"
   ]
  },
  {
   "cell_type": "markdown",
   "metadata": {},
   "source": [
    "# 実データを扱う場合"
   ]
  },
  {
   "cell_type": "code",
   "execution_count": 233,
   "metadata": {},
   "outputs": [],
   "source": [
    "# 元データに対しては、以下の処理を行う\n",
    "# # text形式の元データを読み込む\n",
    "# network = pd.read_table(\"soc-Epinions1.txt\",header=3)\n",
    "# # ノードidをユニークする\n",
    "# node_id = network[\"ToNodeId\"].unique()\n",
    "# # 入次数を計算する\n",
    "# in_deg = []\n",
    "# for i in tqdm(node_id):\n",
    "#     in_deg.append(sum(network[\"ToNodeId\"]==i))\n",
    "# # ノード毎の入次数を表にまとめた\n",
    "# in_deg_df = pd.DataFrame({\"ToNodeId\":node_id, \"in_degree\":in_deg})\n",
    "# in_deg_df = in_deg_df.sort_values(\"ToNodeId\").reset_index(drop=True)\n",
    "# # 入次数から枝確率を計算する\n",
    "# in_deg_df[\"p\"] = 1/in_deg_df[\"in_degree\"]\n",
    "# network_p = pd.merge(network, in_deg_df, on=\"ToNodeId\", how=\"left\").drop(columns=\"in_degree\")"
   ]
  },
  {
   "cell_type": "code",
   "execution_count": 234,
   "metadata": {},
   "outputs": [
    {
     "data": {
      "text/html": [
       "<div>\n",
       "<style scoped>\n",
       "    .dataframe tbody tr th:only-of-type {\n",
       "        vertical-align: middle;\n",
       "    }\n",
       "\n",
       "    .dataframe tbody tr th {\n",
       "        vertical-align: top;\n",
       "    }\n",
       "\n",
       "    .dataframe thead th {\n",
       "        text-align: right;\n",
       "    }\n",
       "</style>\n",
       "<table border=\"1\" class=\"dataframe\">\n",
       "  <thead>\n",
       "    <tr style=\"text-align: right;\">\n",
       "      <th></th>\n",
       "      <th># FromNodeId</th>\n",
       "      <th>ToNodeId</th>\n",
       "      <th>p</th>\n",
       "    </tr>\n",
       "  </thead>\n",
       "  <tbody>\n",
       "    <tr>\n",
       "      <td>0</td>\n",
       "      <td>0</td>\n",
       "      <td>4</td>\n",
       "      <td>0.008000</td>\n",
       "    </tr>\n",
       "    <tr>\n",
       "      <td>1</td>\n",
       "      <td>0</td>\n",
       "      <td>5</td>\n",
       "      <td>0.005682</td>\n",
       "    </tr>\n",
       "    <tr>\n",
       "      <td>2</td>\n",
       "      <td>0</td>\n",
       "      <td>7</td>\n",
       "      <td>0.033333</td>\n",
       "    </tr>\n",
       "    <tr>\n",
       "      <td>3</td>\n",
       "      <td>0</td>\n",
       "      <td>8</td>\n",
       "      <td>0.009615</td>\n",
       "    </tr>\n",
       "    <tr>\n",
       "      <td>4</td>\n",
       "      <td>0</td>\n",
       "      <td>9</td>\n",
       "      <td>0.066667</td>\n",
       "    </tr>\n",
       "  </tbody>\n",
       "</table>\n",
       "</div>"
      ],
      "text/plain": [
       "   # FromNodeId  ToNodeId         p\n",
       "0             0         4  0.008000\n",
       "1             0         5  0.005682\n",
       "2             0         7  0.033333\n",
       "3             0         8  0.009615\n",
       "4             0         9  0.066667"
      ]
     },
     "execution_count": 234,
     "metadata": {},
     "output_type": "execute_result"
    }
   ],
   "source": [
    "# データの読み込み\n",
    "# 枝確率を計算済みのネットワークを読み込む\n",
    "network = pd.read_csv(\"data.csv\")\n",
    "network[:5]"
   ]
  },
  {
   "cell_type": "code",
   "execution_count": 235,
   "metadata": {},
   "outputs": [],
   "source": [
    "# numpy型に変換\n",
    "network_np = network.values"
   ]
  },
  {
   "cell_type": "code",
   "execution_count": 236,
   "metadata": {},
   "outputs": [],
   "source": [
    "# 空の有向グラフを作成\n",
    "G = nx.DiGraph()"
   ]
  },
  {
   "cell_type": "code",
   "execution_count": 237,
   "metadata": {},
   "outputs": [],
   "source": [
    "# 重み付きの枝を加える\n",
    "G.add_weighted_edges_from(network_np)"
   ]
  },
  {
   "cell_type": "markdown",
   "metadata": {},
   "source": [
    "# 練習"
   ]
  },
  {
   "cell_type": "code",
   "execution_count": 16,
   "metadata": {},
   "outputs": [],
   "source": [
    "G = nx.DiGraph()"
   ]
  },
  {
   "cell_type": "code",
   "execution_count": 38,
   "metadata": {},
   "outputs": [],
   "source": [
    "weighted_edges = [[0,1,0.1],\n",
    "                  [0,2,0.2],\n",
    "                  [1,3,0.3],\n",
    "                  [1,4,0.4],\n",
    "                  [2,4,0.5],\n",
    "                  [2,0,0.6],\n",
    "                  [3,0,0.7],\n",
    "                  [3,1,0.8],\n",
    "                  [4,3,0.9],\n",
    "                  [4,2,1.0]\n",
    "                 ]"
   ]
  },
  {
   "cell_type": "code",
   "execution_count": 39,
   "metadata": {},
   "outputs": [],
   "source": [
    "G.add_weighted_edges_from(weighted_edges)"
   ]
  },
  {
   "cell_type": "code",
   "execution_count": 162,
   "metadata": {},
   "outputs": [
    {
     "name": "stderr",
     "output_type": "stream",
     "text": [
      "/Users/fuekimasao/anaconda3/envs/use/lib/python3.7/site-packages/networkx/drawing/nx_pylab.py:579: MatplotlibDeprecationWarning: \n",
      "The iterable function was deprecated in Matplotlib 3.1 and will be removed in 3.3. Use np.iterable instead.\n",
      "  if not cb.iterable(width):\n",
      "/Users/fuekimasao/anaconda3/envs/use/lib/python3.7/site-packages/networkx/drawing/nx_pylab.py:676: MatplotlibDeprecationWarning: \n",
      "The iterable function was deprecated in Matplotlib 3.1 and will be removed in 3.3. Use np.iterable instead.\n",
      "  if cb.iterable(node_size):  # many node sizes\n"
     ]
    },
    {
     "data": {
      "image/png": "[encoded data removed]",
      "text/plain": [
       "<Figure size 432x288 with 1 Axes>"
      ]
     },
     "metadata": {},
     "output_type": "display_data"
    }
   ],
   "source": [
    "# ネットワークを描画できる\n",
    "nx.draw_networkx(G)\n",
    "plt.show()"
   ]
  },
  {
   "cell_type": "code",
   "execution_count": 46,
   "metadata": {},
   "outputs": [
    {
     "name": "stdout",
     "output_type": "stream",
     "text": [
      "[3, 0, 2, 1, 4]\n"
     ]
    }
   ],
   "source": [
    "# ノード\n",
    "print(nx.nodes(G))"
   ]
  },
  {
   "cell_type": "code",
   "execution_count": 47,
   "metadata": {},
   "outputs": [
    {
     "name": "stdout",
     "output_type": "stream",
     "text": [
      "5\n"
     ]
    }
   ],
   "source": [
    "# ノード数\n",
    "print(nx.number_of_nodes(G))"
   ]
  },
  {
   "cell_type": "code",
   "execution_count": 64,
   "metadata": {},
   "outputs": [
    {
     "name": "stdout",
     "output_type": "stream",
     "text": [
      "0.6\n"
     ]
    }
   ],
   "source": [
    "# グラフのdensity\n",
    "print(nx.density(G))"
   ]
  },
  {
   "cell_type": "code",
   "execution_count": 71,
   "metadata": {},
   "outputs": [
    {
     "name": "stdout",
     "output_type": "stream",
     "text": [
      "[(3, 2), (0, 3), (2, 3), (1, 2), (4, 2)]\n"
     ]
    }
   ],
   "source": [
    "# 各ノードの入次数(ノードid,入次数)\n",
    "print(G.in_degree())"
   ]
  },
  {
   "cell_type": "code",
   "execution_count": 99,
   "metadata": {
    "scrolled": false
   },
   "outputs": [
    {
     "name": "stdout",
     "output_type": "stream",
     "text": [
      "[(3, 3), (0, 3), (2, 2), (1, 2), (4, 2)]\n"
     ]
    }
   ],
   "source": [
    "# 各ノードの出次数(ノードid,出次数)\n",
    "print(G.out_degree())\n",
    "# [(3, 3), (0, 3), (2, 2), (1, 2), (4, 2)]\n",
    "\n",
    "# ノード1の出次数\n",
    "# out_deg = G.out_degree()\n",
    "# out_deg[1]\n",
    "# 2"
   ]
  },
  {
   "cell_type": "code",
   "execution_count": 90,
   "metadata": {},
   "outputs": [
    {
     "name": "stdout",
     "output_type": "stream",
     "text": [
      "[(3, 0), (3, 2), (3, 1)]\n",
      "[(3, 0), (3, 2), (3, 1)]\n",
      "[(3, 0), (3, 2), (3, 1), (2, 0), (2, 4)]\n"
     ]
    }
   ],
   "source": [
    "# 指定されたノードから出る枝を列挙\n",
    "print(G.out_edges(3))\n",
    "# [(3, 0), (3, 2), (3, 1)]\n",
    "\n",
    "print(G.out_edges([3]))\n",
    "# [(3, 0), (3, 2), (3, 1)]\n",
    "\n",
    "print(G.out_edges([3,2]))\n",
    "# [(3, 0), (3, 2), (3, 1), (2, 0), (2, 4)]"
   ]
  },
  {
   "cell_type": "code",
   "execution_count": 98,
   "metadata": {},
   "outputs": [
    {
     "name": "stdout",
     "output_type": "stream",
     "text": [
      "[(1, 3), (4, 3)]\n",
      "[(1, 3), (4, 3)]\n",
      "[(1, 3), (4, 3), (3, 2), (0, 2), (4, 2)]\n"
     ]
    }
   ],
   "source": [
    "# 指定されたノードに入る枝を列挙\n",
    "print(G.in_edges(3))\n",
    "# [(1, 3), (4, 3)]\n",
    "\n",
    "print(G.in_edges([3]))\n",
    "# [(1, 3), (4, 3)]\n",
    "\n",
    "print(G.in_edges([3,2]))\n",
    "# [(1, 3), (4, 3), (3, 2), (0, 2), (4, 2)]"
   ]
  },
  {
   "cell_type": "code",
   "execution_count": 104,
   "metadata": {},
   "outputs": [
    {
     "name": "stdout",
     "output_type": "stream",
     "text": [
      "{'weight': 0.1}\n"
     ]
    }
   ],
   "source": [
    "# (0,1)の重みを知りたい場合\n",
    "print(G[0][1])\n",
    "# {'weight': 0.1}"
   ]
  },
  {
   "cell_type": "code",
   "execution_count": 111,
   "metadata": {},
   "outputs": [
    {
     "name": "stdout",
     "output_type": "stream",
     "text": [
      "[0, 2, 1]\n"
     ]
    }
   ],
   "source": [
    "# ノード3のout-neighbor頂点\n",
    "print(list(G.successors(3)))\n",
    "# [0, 2, 1]"
   ]
  },
  {
   "cell_type": "code",
   "execution_count": 114,
   "metadata": {},
   "outputs": [
    {
     "name": "stdout",
     "output_type": "stream",
     "text": [
      "[1, 4]\n"
     ]
    }
   ],
   "source": [
    "# ノード3のin-neighbor頂点\n",
    "print(list(G.predecessors(3)))\n",
    "# [1, 4]"
   ]
  }
 ],
 "metadata": {
  "kernelspec": {
   "display_name": "Python 3",
   "language": "python",
   "name": "python3"
  },
  "language_info": {
   "codemirror_mode": {
    "name": "ipython",
    "version": 3
   },
   "file_extension": ".py",
   "mimetype": "text/x-python",
   "name": "python",
   "nbconvert_exporter": "python",
   "pygments_lexer": "ipython3",
   "version": "3.7.4"
  }
 },
 "nbformat": 4,
 "nbformat_minor": 2
}
