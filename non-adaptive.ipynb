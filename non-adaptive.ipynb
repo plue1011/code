{
 "cells": [
  {
   "cell_type": "code",
   "execution_count": 1,
   "metadata": {},
   "outputs": [],
   "source": [
    "import itertools\n",
    "import random\n",
    "import networkx as nx\n",
    "import matplotlib.pyplot as plt\n",
    "import numpy as np\n",
    "from scipy.sparse.csgraph import shortest_path\n",
    "import math\n",
    "from tqdm import tqdm_notebook as tqdm\n",
    "\n",
    "%matplotlib inline"
   ]
  },
  {
   "cell_type": "code",
   "execution_count": 2,
   "metadata": {},
   "outputs": [],
   "source": [
    "random.seed(0)\n",
    "# 広告集合\n",
    "A = [i for i in range(3)]\n",
    "\n",
    "# ユーザー集合\n",
    "U = [i for i in range(5)]\n",
    "\n",
    "# ユーザーの関係(枝)\n",
    "E = []\n",
    "for a in range(len(A)):\n",
    "    E_i = [[0.0 for i in range(len(U))] for j in range(len(U))]\n",
    "    for i in range(len(U)):\n",
    "        for j in range(i+1,len(U)):\n",
    "            if i != j:\n",
    "                if random.uniform(0,1) < 0.6:\n",
    "                    E_i[i][j] = 1\n",
    "                    E_i[j][i] = 1\n",
    "    E.append(E_i)\n",
    "\n",
    "# engagementにつき広告主が払う金額\n",
    "r = [random.randint(1,5) for i in range(len(A))]\n",
    "\n",
    "# ユーザーuに対する広告シーケンスの戦略空間\n",
    "Sigma_u = [list(itertools.permutations(A)) for i in range(len(U))]\n",
    "\n",
    "# ユーザーuに割り当てられる広告シーケンス sigma_u([ユーザー][割り当てた広告シーケンス])\n",
    "#sigma_u\n",
    "\n",
    "# ユーザーuが広告iを見た後に広告iを共有する確率 q[ユーザー][広告]\n",
    "q = [[random.randint(0,100) / 100 for j in range(len(A))] for i in range(len(U))]\n",
    "\n",
    "# ユーザーuが広告iを見た後に次の広告を見る確率 c[ユーザー][広告]\n",
    "c = [[random.randint(0,100) / 100 for j in range(len(A))] for i in range(len(U))]"
   ]
  },
  {
   "cell_type": "code",
   "execution_count": 3,
   "metadata": {},
   "outputs": [
    {
     "data": {
      "text/plain": [
       "[4, 4, 5]"
      ]
     },
     "execution_count": 3,
     "metadata": {},
     "output_type": "execute_result"
    }
   ],
   "source": [
    "r"
   ]
  },
  {
   "cell_type": "code",
   "execution_count": 4,
   "metadata": {},
   "outputs": [
    {
     "data": {
      "text/plain": [
       "[[(0, 1, 2), (0, 2, 1), (1, 0, 2), (1, 2, 0), (2, 0, 1), (2, 1, 0)],\n",
       " [(0, 1, 2), (0, 2, 1), (1, 0, 2), (1, 2, 0), (2, 0, 1), (2, 1, 0)],\n",
       " [(0, 1, 2), (0, 2, 1), (1, 0, 2), (1, 2, 0), (2, 0, 1), (2, 1, 0)],\n",
       " [(0, 1, 2), (0, 2, 1), (1, 0, 2), (1, 2, 0), (2, 0, 1), (2, 1, 0)],\n",
       " [(0, 1, 2), (0, 2, 1), (1, 0, 2), (1, 2, 0), (2, 0, 1), (2, 1, 0)]]"
      ]
     },
     "execution_count": 4,
     "metadata": {},
     "output_type": "execute_result"
    }
   ],
   "source": [
    "Sigma_u"
   ]
  },
  {
   "cell_type": "code",
   "execution_count": 5,
   "metadata": {},
   "outputs": [
    {
     "data": {
      "text/plain": [
       "[[[0.0, 0.0, 0.0, 1, 1],\n",
       "  [0.0, 0.0, 1, 1, 0.0],\n",
       "  [0.0, 1, 0.0, 1, 1],\n",
       "  [1, 1, 1, 0.0, 1],\n",
       "  [1, 0.0, 1, 1, 0.0]],\n",
       " [[0.0, 0.0, 1, 1, 0.0],\n",
       "  [0.0, 0.0, 0.0, 1, 0.0],\n",
       "  [1, 0.0, 0.0, 0.0, 0.0],\n",
       "  [1, 1, 0.0, 0.0, 0.0],\n",
       "  [0.0, 0.0, 0.0, 0.0, 0.0]],\n",
       " [[0.0, 1, 0.0, 0.0, 0.0],\n",
       "  [1, 0.0, 1, 1, 1],\n",
       "  [0.0, 1, 0.0, 0.0, 0.0],\n",
       "  [0.0, 1, 0.0, 0.0, 0.0],\n",
       "  [0.0, 1, 0.0, 0.0, 0.0]]]"
      ]
     },
     "execution_count": 5,
     "metadata": {},
     "output_type": "execute_result"
    }
   ],
   "source": [
    "E"
   ]
  },
  {
   "cell_type": "code",
   "execution_count": 6,
   "metadata": {},
   "outputs": [
    {
     "data": {
      "text/plain": [
       "[[0.33, 0.07, 0.7],\n",
       " [0.01, 0.11, 0.92],\n",
       " [0.51, 0.9, 1.0],\n",
       " [0.85, 0.8, 0.0],\n",
       " [0.78, 0.63, 0.42]]"
      ]
     },
     "execution_count": 6,
     "metadata": {},
     "output_type": "execute_result"
    }
   ],
   "source": [
    "q"
   ]
  },
  {
   "cell_type": "code",
   "execution_count": 7,
   "metadata": {},
   "outputs": [
    {
     "data": {
      "text/plain": [
       "[[0.31, 0.93, 0.41],\n",
       " [0.9, 0.08, 0.24],\n",
       " [0.72, 0.28, 0.3],\n",
       " [0.18, 0.69, 0.57],\n",
       " [0.11, 0.1, 0.4]]"
      ]
     },
     "execution_count": 7,
     "metadata": {},
     "output_type": "execute_result"
    }
   ],
   "source": [
    "c"
   ]
  },
  {
   "cell_type": "code",
   "execution_count": 8,
   "metadata": {},
   "outputs": [
    {
     "name": "stdout",
     "output_type": "stream",
     "text": [
      "ユーザー:2\n",
      "1個見る\n",
      "広告シーケンス(1, 0, 2)\n",
      "0.28\n"
     ]
    }
   ],
   "source": [
    "# ユーザーuがスロットk(スロット0~|A|-1)まで見る確率\n",
    "u = 2\n",
    "k = 1\n",
    "sigma_u = Sigma_u[u][2]\n",
    "print(\"ユーザー:{}\\n{}個見る\\n広告シーケンス{}\".format(u,k,sigma_u))\n",
    "def view_ad_probability_k(c, u, k, sigma_u):\n",
    "    pi_c = 1\n",
    "    for t in range(0,k):\n",
    "        pi_c *= c[u][sigma_u[t]]\n",
    "    return pi_c\n",
    "print(view_ad_probability_k(c, u, k, sigma_u))"
   ]
  },
  {
   "cell_type": "code",
   "execution_count": 9,
   "metadata": {},
   "outputs": [
    {
     "name": "stdout",
     "output_type": "stream",
     "text": [
      "ユーザー:2\n",
      "1個目を共有する\n",
      "広告シーケンス(1, 0, 2)\n",
      "0.51\n",
      "0.1428\n"
     ]
    }
   ],
   "source": [
    "# ユーザーuが広告sigma_u[k]までを見て、共有する確率\n",
    "u = 2\n",
    "k = 1\n",
    "sigma_u = Sigma_u[u][2]\n",
    "print(\"ユーザー:{}\\n{}個目を共有する\\n広告シーケンス{}\".format(u,k,sigma_u))\n",
    "def share_ad_probability_k(c, q, u, k, sigma_u):\n",
    "    print(q[u][sigma_u[k]])\n",
    "    return q[u][sigma_u[k]] * view_ad_probability_k(c, u, k, sigma_u)\n",
    "print(share_ad_probability_k(c, q, u, k, sigma_u))"
   ]
  },
  {
   "cell_type": "markdown",
   "metadata": {},
   "source": [
    "# Independ Cascade Model"
   ]
  },
  {
   "cell_type": "code",
   "execution_count": 10,
   "metadata": {},
   "outputs": [],
   "source": [
    "random.seed(0)\n",
    "# p:枝の確率集合\n",
    "# p(E)\n",
    "p = []\n",
    "for a in range(len(A)):\n",
    "    # p_i:広告iの枝確率\n",
    "    p_i = [[0.0 for i in range(len(U))] for j in range(len(U))]\n",
    "    for i in range(len(U)):\n",
    "        for j in range(i+1,len(U)):\n",
    "            if i != j:\n",
    "                p_i[i][j] = E[a][i][j] * random.randint(1,100) / 100\n",
    "                p_i[j][i] = E[a][j][i] * random.randint(1,100) / 100\n",
    "    p.append(p_i)"
   ]
  },
  {
   "cell_type": "code",
   "execution_count": 11,
   "metadata": {},
   "outputs": [
    {
     "data": {
      "text/plain": [
       "[[[0.0, 0.0, 0.0, 0.34, 0.63],\n",
       "  [0.0, 0.0, 0.39, 0.46, 0.0],\n",
       "  [0.0, 0.62, 0.0, 0.18, 0.18],\n",
       "  [0.66, 0.75, 0.37, 0.0, 0.13],\n",
       "  [0.52, 0.0, 0.97, 0.8, 0.0]],\n",
       " [[0.0, 0.0, 0.91, 0.19, 0.0],\n",
       "  [0.0, 0.0, 0.0, 0.43, 0.0],\n",
       "  [0.78, 0.0, 0.0, 0.0, 0.0],\n",
       "  [0.4, 0.61, 0.0, 0.0, 0.0],\n",
       "  [0.0, 0.0, 0.0, 0.0, 0.0]],\n",
       " [[0.0, 0.71, 0.0, 0.0, 0.0],\n",
       "  [0.62, 0.0, 0.12, 0.52, 0.86],\n",
       "  [0.0, 0.93, 0.0, 0.0, 0.0],\n",
       "  [0.0, 0.91, 0.0, 0.0, 0.0],\n",
       "  [0.0, 0.81, 0.0, 0.0, 0.0]]]"
      ]
     },
     "execution_count": 11,
     "metadata": {},
     "output_type": "execute_result"
    }
   ],
   "source": [
    "p"
   ]
  },
  {
   "cell_type": "code",
   "execution_count": 12,
   "metadata": {},
   "outputs": [
    {
     "data": {
      "text/plain": [
       "[[[0.0, 0.0, 0.0, 1, 1],\n",
       "  [0.0, 0.0, 1, 1, 0.0],\n",
       "  [0.0, 1, 0.0, 1, 1],\n",
       "  [1, 1, 1, 0.0, 1],\n",
       "  [1, 0.0, 1, 1, 0.0]],\n",
       " [[0.0, 0.0, 1, 1, 0.0],\n",
       "  [0.0, 0.0, 0.0, 1, 0.0],\n",
       "  [1, 0.0, 0.0, 0.0, 0.0],\n",
       "  [1, 1, 0.0, 0.0, 0.0],\n",
       "  [0.0, 0.0, 0.0, 0.0, 0.0]],\n",
       " [[0.0, 1, 0.0, 0.0, 0.0],\n",
       "  [1, 0.0, 1, 1, 1],\n",
       "  [0.0, 1, 0.0, 0.0, 0.0],\n",
       "  [0.0, 1, 0.0, 0.0, 0.0],\n",
       "  [0.0, 1, 0.0, 0.0, 0.0]]]"
      ]
     },
     "execution_count": 12,
     "metadata": {},
     "output_type": "execute_result"
    }
   ],
   "source": [
    "E"
   ]
  },
  {
   "cell_type": "code",
   "execution_count": 13,
   "metadata": {},
   "outputs": [],
   "source": [
    "# 1であるところだけ分岐して順列を全列挙\n",
    "def permutation_01(l):\n",
    "    l_result = []\n",
    "    # パターン数:n\n",
    "    n = int(sum(l))\n",
    "    zero = np.array([0 for i in range(2**n)])\n",
    "    l_01 = np.array(list(itertools.product([0,1], repeat=n)))\n",
    "    l_01_T = l_01.T\n",
    "    j = 0\n",
    "    for i in l:\n",
    "        if i == 0:\n",
    "            l_result += [zero]\n",
    "        else:\n",
    "            l_result += [l_01_T[j]]\n",
    "            j += 1\n",
    "    return np.array(l_result).T\n",
    "\n",
    "# permutation_01([0,1,0,1,1])\n",
    "# array([[0, 0, 0, 0, 0],\n",
    "#        [0, 0, 0, 0, 1],\n",
    "#        [0, 0, 0, 1, 0],\n",
    "#        [0, 0, 0, 1, 1],\n",
    "#        [0, 1, 0, 0, 0],\n",
    "#        [0, 1, 0, 0, 1],\n",
    "#        [0, 1, 0, 1, 0],\n",
    "#        [0, 1, 0, 1, 1]])"
   ]
  },
  {
   "cell_type": "code",
   "execution_count": 14,
   "metadata": {},
   "outputs": [],
   "source": [
    "# ネットワークの全パターンlive_edgeグラフの作成\n",
    "# live_edge_set(枝集合)\n",
    "def live_edge_set(E_i):\n",
    "    l_list = []\n",
    "    for l in E_i:\n",
    "        l_list.append(permutation_01(l))\n",
    "    return np.array(list(itertools.product(*l_list))) \n",
    "\n",
    "# live_edge_set(E[0])\n",
    "# array([[[0, 0, 0, 0, 0],\n",
    "#         [0, 0, 0, 0, 0],\n",
    "#         [0, 0, 0, 0, 0],\n",
    "#         [0, 0, 0, 0, 0],\n",
    "#         [0, 0, 0, 0, 0]],\n",
    "#\n",
    "#        [[0, 0, 0, 0, 0],\n",
    "#         [0, 0, 0, 0, 0],\n",
    "#         [0, 0, 0, 0, 0],\n",
    "#         [0, 0, 0, 0, 0],\n",
    "#         [0, 0, 0, 1, 0]],\n",
    "#\n",
    "#        ...,"
   ]
  },
  {
   "cell_type": "code",
   "execution_count": 15,
   "metadata": {},
   "outputs": [],
   "source": [
    "# そのグラフになる確率\n",
    "# live_edge_prob(元ネットワーク, live_edgeグラフ, 枝確率)\n",
    "def live_edge_prob(original, live_edge, p):\n",
    "    n = len(live_edge)\n",
    "    # 枝がある確率\n",
    "    prob_T = live_edge * p\n",
    "    prob_T = np.where(prob_T == 0, 1, prob_T)\n",
    "    # 総積を求める\n",
    "    prob_T = np.prod(prob_T)\n",
    "    \n",
    "    # 枝がない確率\n",
    "    prob_F = (original - live_edge) * (np.ones((n,n))-p)\n",
    "    prob_F = np.where(prob_F == 0, 1, prob_F)\n",
    "    # 総積を求める\n",
    "    prob_F = np.prod(prob_F)\n",
    "    \n",
    "    return prob_T * prob_F\n",
    "\n",
    "# live_edge_prob(E[0], live_edge_set(E[0])[10000], p[0])\n",
    "\n",
    "\n",
    "# 確率計算のため、数が小さくなっていくためlogで計算する必要があるかもしれない"
   ]
  },
  {
   "cell_type": "code",
   "execution_count": 16,
   "metadata": {},
   "outputs": [],
   "source": [
    "# live_edgeグラフ上でシードから到達可能な頂点数\n",
    "def reachable_num(live_edge, seed):\n",
    "    # live_edgeグラフの各頂点までの最短距離を求める\n",
    "    short_path = shortest_path(live_edge)\n",
    "    \n",
    "    # inf(到達できない)を0に変換している\n",
    "    short_path = np.where(np.float('inf') == short_path, 0, short_path)\n",
    "    \n",
    "    # seedの到達可能な頂点をor演算することで重複を消している\n",
    "    reachable_node_num = np.logical_or.reduce(short_path[seed])\n",
    "    \n",
    "    # seedの頂点をFalseにしている\n",
    "    reachable_node_num[seed] = False\n",
    "    \n",
    "    # seedの頂点数を足して出力\n",
    "    return len(set(seed)) + sum(reachable_node_num)\n",
    "\n",
    "# reachable_num(live_edge_set(E[0])[10002], [0,1])\n",
    "# 5"
   ]
  },
  {
   "cell_type": "code",
   "execution_count": 17,
   "metadata": {
    "scrolled": true
   },
   "outputs": [],
   "source": [
    "# 影響数の期待値\n",
    "# expected_influence_num(ネットワーク, 枝確率, シード)\n",
    "def expected_influence_num(E, p, seed):\n",
    "    # live_edgeグラフを全列挙\n",
    "    live_edge_sets = live_edge_set(E)\n",
    "    \n",
    "    expected_num = 0\n",
    "    for l_e_s in tqdm(live_edge_sets):\n",
    "        # そのlive_edgeグラフになる確率 * そのグラフ上でシードからの到達頂点数の総和\n",
    "        expected_num += live_edge_prob(E, l_e_s, p) * reachable_num(l_e_s, seed)\n",
    "    return expected_num\n",
    "\n",
    "# for i in range(5):\n",
    "#     print(expected_influence_num(E[0], p[0], [i]))\n",
    "# 3.710841757347267\n",
    "# 2.7803227401623367\n",
    "# 2.9310440468303938\n",
    "# 3.8615958011324687\n",
    "# 4.544981497080014"
   ]
  },
  {
   "cell_type": "code",
   "execution_count": 18,
   "metadata": {},
   "outputs": [],
   "source": [
    "# Independet Cascade Modelにおいて、考えられるlive_edgeグラフの枝集合を返す\n",
    "# sub_gragh_edge(枝確率集合)\n",
    "def live_edge_gragh_edges(p):\n",
    "    prop_edge = []\n",
    "    for e_prop_set in p:\n",
    "        prop_edge_temp = []\n",
    "        for e_prop in e_prop_set:\n",
    "            if e_prop > random.random():\n",
    "                prop_edge_temp.append(1)\n",
    "            else:\n",
    "                prop_edge_temp.append(0)\n",
    "        prop_edge.append(prop_edge_temp)\n",
    "    return prop_edge\n",
    "\n",
    "# live_edge_gragh_edges(p[0])\n",
    "# [[0, 0, 0, 1, 0],\n",
    "#  [0, 0, 0, 0, 0],\n",
    "#  [0, 0, 0, 0, 0],\n",
    "#  [1, 0, 1, 0, 0],\n",
    "#  [1, 0, 1, 0, 0]]"
   ]
  },
  {
   "cell_type": "markdown",
   "metadata": {},
   "source": [
    "$ T = \\frac{n^2}{\\epsilon^2}\\ln{\\frac{1}{\\delta}} $回繰り返すと、$\\sigma(A)$は少なとも$1-\\delta$の確率で$(1\\pm\\epsilon)$近似を達成する"
   ]
  },
  {
   "cell_type": "code",
   "execution_count": 19,
   "metadata": {},
   "outputs": [],
   "source": [
    "# 影響数の期待値(近似)\n",
    "# approxim_expected_influence_num(枝確率, シード, ε, δ)\n",
    "def approxim_expected_influence_num(p, seed, epsi, delta):\n",
    "    # 頂点数\n",
    "    n = len(p)\n",
    "    # 試行回数を算出する\n",
    "    T = int(((n**2) / (epsi**2)) * np.log(1/delta)) + 1\n",
    "    \n",
    "    # 各回のシュミレーションの結果の和が格納される\n",
    "    X = 0\n",
    "    # T回シュミレーションしていく\n",
    "    for i in tqdm(range(T)):\n",
    "        # live_edgeグラフを作る\n",
    "        live_edge_sets = np.array(live_edge_gragh_edges(p))\n",
    "        X += reachable_num(live_edge_sets, seed)\n",
    "    expected_num = X / T\n",
    "    return expected_num"
   ]
  },
  {
   "cell_type": "code",
   "execution_count": 20,
   "metadata": {},
   "outputs": [
    {
     "data": {
      "text/plain": [
       "575647"
      ]
     },
     "execution_count": 20,
     "metadata": {},
     "output_type": "execute_result"
    }
   ],
   "source": [
    "epsi = 0.01\n",
    "delta = 0.1\n",
    "int(((5**2) / (epsi**2)) * np.log(1/delta)) + 1"
   ]
  },
  {
   "cell_type": "markdown",
   "metadata": {},
   "source": [
    "近似値と厳密値を比べる"
   ]
  },
  {
   "cell_type": "code",
   "execution_count": 21,
   "metadata": {},
   "outputs": [
    {
     "data": {
      "application/vnd.jupyter.widget-view+json": {
       "model_id": "ed1b83bde577492bbe9e8fa6000cf5b8",
       "version_major": 2,
       "version_minor": 0
      },
      "text/plain": [
       "HBox(children=(IntProgress(value=0, max=575647), HTML(value='')))"
      ]
     },
     "metadata": {},
     "output_type": "display_data"
    },
    {
     "name": "stdout",
     "output_type": "stream",
     "text": [
      "\n",
      "3.7116826805316454\n"
     ]
    }
   ],
   "source": [
    "print(approxim_expected_influence_num(p[0], [0], 0.01, 0.1))"
   ]
  },
  {
   "cell_type": "code",
   "execution_count": 22,
   "metadata": {},
   "outputs": [
    {
     "data": {
      "application/vnd.jupyter.widget-view+json": {
       "model_id": "31a3f99aee5b452abb0f58dcb545c8b4",
       "version_major": 2,
       "version_minor": 0
      },
      "text/plain": [
       "HBox(children=(IntProgress(value=0, max=16384), HTML(value='')))"
      ]
     },
     "metadata": {},
     "output_type": "display_data"
    },
    {
     "name": "stdout",
     "output_type": "stream",
     "text": [
      "\n",
      "3.710841757347267\n"
     ]
    }
   ],
   "source": [
    "print(expected_influence_num(E[0], p[0], [0]))"
   ]
  },
  {
   "cell_type": "markdown",
   "metadata": {},
   "source": [
    "頂点数が少ないと、厳密に求めた方が高速であるが、近似の利点は頂点数が増えてもεとδはそのままであれば、実行回数が変わらない点である。"
   ]
  },
  {
   "cell_type": "code",
   "execution_count": 54,
   "metadata": {},
   "outputs": [],
   "source": [
    "# C_i(seed):広告i、シードseedのときのユーザーの影響数の期待値\n",
    "# I_i(seed):シードによって得られる広告iの期待収益\n",
    "# expected_revenue(エンゲージメントごとに払う金額, 枝集合, 確率枝集合, シード)\n",
    "def expected_revenue(r, E, p, seed):\n",
    "    return r * expected_influence_num(E, p, seed)\n",
    "\n",
    "# expected_revenue(r[0], E[0], p[0], [0,1])\n",
    "# 17.490684396302193"
   ]
  },
  {
   "cell_type": "markdown",
   "metadata": {},
   "source": [
    "# 問題設定"
   ]
  },
  {
   "cell_type": "code",
   "execution_count": 69,
   "metadata": {},
   "outputs": [],
   "source": [
    "# V:到着したユーザー集合\n",
    "# _S_:到着したユーザー集合に割り当てた広告シーケンス\n",
    "# p_i_u_sigma_u:_S_のもとでuがiを共有する確率\n",
    "\n",
    "# # 参考\n",
    "# u = 1\n",
    "# i = 1\n",
    "# sigma_u = Sigma_u[u][3]\n",
    "# p_i_u_sigma_u = share_ad_probability_k(c, q, u, i, sigma_u)\n",
    "# 0.92"
   ]
  },
  {
   "cell_type": "code",
   "execution_count": null,
   "metadata": {},
   "outputs": [],
   "source": []
  },
  {
   "cell_type": "code",
   "execution_count": null,
   "metadata": {},
   "outputs": [],
   "source": []
  }
 ],
 "metadata": {
  "kernelspec": {
   "display_name": "Python 3",
   "language": "python",
   "name": "python3"
  },
  "language_info": {
   "codemirror_mode": {
    "name": "ipython",
    "version": 3
   },
   "file_extension": ".py",
   "mimetype": "text/x-python",
   "name": "python",
   "nbconvert_exporter": "python",
   "pygments_lexer": "ipython3",
   "version": "3.7.4"
  }
 },
 "nbformat": 4,
 "nbformat_minor": 2
}
