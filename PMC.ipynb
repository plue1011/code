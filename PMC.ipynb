{
 "cells": [
  {
   "cell_type": "markdown",
   "metadata": {},
   "source": [
    "# Pruned Monte-Carlo"
   ]
  },
  {
   "cell_type": "markdown",
   "metadata": {},
   "source": [
    "* Cでシュミレーションだけやってしまう"
   ]
  },
  {
   "cell_type": "code",
   "execution_count": 1,
   "metadata": {},
   "outputs": [],
   "source": [
    "import networkx as nx\n",
    "import pandas as pd\n",
    "import numpy as np\n",
    "import matplotlib.pyplot as plt\n",
    "from tqdm import tqdm_notebook as tqdm\n",
    "import random\n",
    "import time\n",
    "from collections import deque\n",
    "from InfMaxProblem import Monte_Carlo as mc\n",
    "\n",
    "%matplotlib inline"
   ]
  },
  {
   "cell_type": "code",
   "execution_count": 2,
   "metadata": {},
   "outputs": [],
   "source": [
    "# 入力は隣接リスト(numpy)[[from_node, to_node, edge_prob],...]\n",
    "def live_edge_graph_edges(p, p_len):\n",
    "    rand = np.random.uniform(0, 1, p_len)\n",
    "    prob = p.T[2]\n",
    "    l = np.where(rand < prob)[0]\n",
    "    return np.array([[p[i][0], p[i][1]] for i in l])\n",
    "# %time live_edge_graph_edges(network_np, len(network_np))\n",
    "# Wall time: 86.1 ms"
   ]
  },
  {
   "cell_type": "code",
   "execution_count": 3,
   "metadata": {},
   "outputs": [],
   "source": [
    "# 幅優先探索によって、Sから到達可能なノードを返す\n",
    "def bfs(G, S):\n",
    "    visited = {s:None for s in S}\n",
    "    queue = deque(S)\n",
    "    while queue:\n",
    "        v = queue.popleft()\n",
    "        out_node = G.successors(v)\n",
    "        for u in out_node:\n",
    "            if not (u in visited):\n",
    "                queue.append(u)\n",
    "                visited[u] = v\n",
    "    return visited"
   ]
  },
  {
   "cell_type": "code",
   "execution_count": 4,
   "metadata": {},
   "outputs": [],
   "source": [
    "# 幅優先探索によって、Sから到達可能なノードを返す\n",
    "def bfs_reverse(G, S):\n",
    "    visited = {s:None for s in S}\n",
    "    queue = deque(S)\n",
    "    while queue:\n",
    "        v = queue.popleft()\n",
    "        in_node = G.predecessors(v)\n",
    "        for u in in_node:\n",
    "            if not (u in visited):\n",
    "                queue.append(u)\n",
    "                visited[u] = v\n",
    "    return visited"
   ]
  },
  {
   "cell_type": "code",
   "execution_count": 5,
   "metadata": {},
   "outputs": [],
   "source": [
    "# 強連結成分分解に使うための関数\n",
    "def dfs_go(G):\n",
    "    visited = dict([])\n",
    "    # vs:帰りがけ順\n",
    "    vs = deque([])\n",
    "    for s in G.nodes():\n",
    "        if s not in visited:\n",
    "            visited[s] = None\n",
    "            Stack = deque([s])\n",
    "            vs_tmp = deque([s])\n",
    "            while Stack:\n",
    "                v = Stack.pop()\n",
    "                #if v not in vs_tmp:\n",
    "                vs_tmp.appendleft(v)\n",
    "                out_node = G[v]\n",
    "                for u in out_node:\n",
    "                    if u not in visited:\n",
    "                        visited[u] = s\n",
    "                        Stack.append(u)\n",
    "            #vs = vs_tmp + vs\n",
    "            vs.extendleft(vs_tmp)\n",
    "    return visited, vs\n",
    "\n",
    "# 強連結成分分解に使うための関数\n",
    "def dfs_back(G, vs):\n",
    "    group = dict([])\n",
    "    group_num = 0\n",
    "    DAG = nx.DiGraph()\n",
    "    for s in vs:\n",
    "        if s not in group:\n",
    "            w = 1\n",
    "            Stack = deque([s])\n",
    "            members = []\n",
    "            while Stack:\n",
    "                v = Stack.pop()\n",
    "                members.append(v)\n",
    "                group[v] = group_num\n",
    "                in_node = G.predecessors(v)\n",
    "                for u in in_node:\n",
    "                    if u not in group:\n",
    "                        group[u] = group_num\n",
    "                        w += 1\n",
    "                        Stack.append(u)\n",
    "                    else:\n",
    "                        if group_num !=  group[u]:\n",
    "                            DAG.add_edge(group[u], group_num)\n",
    "            DAG.add_node(group_num, weight=w, members=members)\n",
    "            group_num += 1\n",
    "    return group, DAG\n",
    "\n",
    "def scc_DAG(G):\n",
    "    visited ,vs = dfs_go(G)\n",
    "    group, DAG = dfs_back(G, vs)\n",
    "    return group, DAG"
   ]
  },
  {
   "cell_type": "code",
   "execution_count": 6,
   "metadata": {},
   "outputs": [],
   "source": [
    "# i回目のシュミレーションでv_Vが到達できる頂点数\n",
    "def GAIN(i, v_V, comp, G, A, S, h, D, V):\n",
    "    # v:i回目のシュミレーションで作成されたグラフのv_Vを含む強連結成分\n",
    "    v = comp[i][v_V]\n",
    "    \n",
    "    # V[i]にvがない場合0(後に消されていくため)\n",
    "    if v not in V:\n",
    "        delta[i][v] = 0\n",
    "        return 0\n",
    "    \n",
    "    # delta\n",
    "    if latest[i][v]:\n",
    "        return delta[i][v]\n",
    "        \n",
    "    latest[i][v] = True\n",
    "    \n",
    "    # len(S)==0の理由は初回のみ行えば良いため(h(ハブ)以降の到達頂点数は一回行えば十分であるため)\n",
    "    # vがhのacestorだった場合、hの到達頂点数を計算して、他のacestorの時にも使い回す\n",
    "    if (v in A[i]) and (len(S) == 0):\n",
    "        # GAINの引数は後で変える\n",
    "        # hのGAINをはじめから足しておく\n",
    "        h_Vs = G[i].nodes[h[i]][\"members\"]\n",
    "        delta[i][v] = GAIN(i, h_Vs[0], comp, G, A, S, h, D, V)\n",
    "    else:\n",
    "        delta[i][v] = 0\n",
    "    \n",
    "    # bfs\n",
    "    Q = deque([v])\n",
    "    # Xは探索済みの強連結成分\n",
    "    X = set([v])\n",
    "    while Q:\n",
    "        u = Q.popleft()\n",
    "        \n",
    "        if (v in A[i]) and (u in D[i]) and (len(S) == 0):\n",
    "            continue\n",
    "            \n",
    "        delta[i][v] += G[i].nodes[u][\"weight\"]\n",
    "        \n",
    "        \n",
    "        Edges = G[i].out_edges(u)\n",
    "        for u_, w in Edges:\n",
    "            # 探索済みの強連結成分は探索しなくていいので、w not in X\n",
    "            # w in V[i]はのちのupdateでV[i]が変化するため\n",
    "            if (w not in X) and (w in V):\n",
    "                Q.append(w)\n",
    "                X.add(w)\n",
    "        \n",
    "    return delta[i][v]"
   ]
  },
  {
   "cell_type": "code",
   "execution_count": 111,
   "metadata": {},
   "outputs": [],
   "source": [
    "# i回目のシュミレーションでv_Vが到達できる頂点数\n",
    "def GAIN(i, v_V, comp, G, A, S, h, D, V):\n",
    "    if v_V not in comp[i]:\n",
    "        return 0        \n",
    "        \n",
    "    # v:i回目のシュミレーションで作成されたグラフのv_Vを含む強連結成分\n",
    "    v = comp[i][v_V]\n",
    "    \n",
    "    # V[i]にvがない場合0(後に消されていくため)\n",
    "    if v not in V:\n",
    "        delta[i][v] = 0\n",
    "        return 0\n",
    "    \n",
    "    # delta\n",
    "    if latest[i][v]:\n",
    "        return delta[i][v]\n",
    "        \n",
    "    latest[i][v] = True\n",
    "    \n",
    "    # len(S)==0の理由は初回のみ行えば良いため(h(ハブ)以降の到達頂点数は一回行えば十分であるため)\n",
    "    # vがhのacestorだった場合、hの到達頂点数を計算して、他のacestorの時にも使い回す\n",
    "    if (v in A[i]) and (len(S) == 0):\n",
    "        # GAINの引数は後で変える\n",
    "        # hのGAINをはじめから足しておく\n",
    "        h_Vs = G[i].nodes[h[i]][\"members\"]\n",
    "        delta[i][v] = GAIN(i, h_Vs[0], comp, G, A, S, h, D, V)\n",
    "    else:\n",
    "        delta[i][v] = 0\n",
    "    \n",
    "    # bfs\n",
    "    Q = deque([v])\n",
    "    # Xは探索済みの強連結成分\n",
    "    X = set([v])\n",
    "    while Q:\n",
    "        u = Q.popleft()\n",
    "        \n",
    "        if (v in A[i]) and (u in D[i]) and (len(S) == 0):\n",
    "            continue\n",
    "            \n",
    "        delta[i][v] += G[i].nodes[u][\"weight\"]\n",
    "        \n",
    "        \n",
    "        Edges = G[i].out_edges(u)\n",
    "        for u_, w in Edges:\n",
    "            # 探索済みの強連結成分は探索しなくていいので、w not in X\n",
    "            # w in V[i]はのちのupdateでV[i]が変化するため\n",
    "            if (w not in X) and (w in V):\n",
    "                Q.append(w)\n",
    "                X.add(w)\n",
    "        \n",
    "    return delta[i][v]"
   ]
  },
  {
   "cell_type": "code",
   "execution_count": 145,
   "metadata": {},
   "outputs": [],
   "source": [
    "def UPDATEDAG(i, t_V, comp, G):\n",
    "    if t_V not in comp[i]:\n",
    "        return G[i]\n",
    "    \n",
    "    # t:DAG上でのノードid\n",
    "    t = comp[i][t_V]\n",
    "    \n",
    "    if t in G[i]:\n",
    "        # t -> u\n",
    "        u = list(bfs(G[i], [t]))\n",
    "        # u = list(dict(nx.bfs_edges(G[i], t)))\n",
    "        # v -> u:上で求めたuにだどりつくvを求める\n",
    "        v = set(bfs_reverse(G[i], u))\n",
    "\n",
    "        # v かつ Viに存在する頂点\n",
    "        v_ = list(v & set(G[i].nodes()))\n",
    "        latest[i].update(zip(v_, [False]*len(v_)))\n",
    "\n",
    "        G[i].remove_nodes_from(u)\n",
    "        return G[i]\n",
    "    else:\n",
    "        return G[i]"
   ]
  },
  {
   "cell_type": "code",
   "execution_count": 113,
   "metadata": {},
   "outputs": [],
   "source": [
    "def PMC_greedy(network_np, k, R):\n",
    "    time_list = []\n",
    "    # E_ = dict([])\n",
    "    # G_ = dict([])\n",
    "    G = dict([])\n",
    "    comp = dict([])\n",
    "    h = dict([])\n",
    "    D = dict([])\n",
    "    A = dict([])\n",
    "    V = dict([])\n",
    "    global latest\n",
    "    latest = dict([])\n",
    "    global delta\n",
    "    delta = {i:dict([]) for i in range(R)}\n",
    "    \n",
    "    # 全体のグラフ\n",
    "    Node = np.unique(network_np.T[[0,1]])\n",
    "    \n",
    "    # 元グラフの頂点集合\n",
    "    G_V = [int(node) for node in Node]\n",
    "    \n",
    "    # copy用に作っておく\n",
    "    G_copy = nx.DiGraph()\n",
    "    G_copy.add_nodes_from(G_V)\n",
    "    \n",
    "    for i in tqdm(range(R)):\n",
    "        \n",
    "        E_ = live_edge_graph_edges(network_np, len(network_np))\n",
    "        \n",
    "        G_ = G_copy.copy()\n",
    "        G_.add_edges_from(E_)\n",
    "        \n",
    "        comp[i], G[i] = scc_DAG(G_)\n",
    "        \n",
    "        #nx.draw_networkx(G[i])\n",
    "        #plt.show()\n",
    "        \n",
    "        G_i_deg = dict(G[i].degree())\n",
    "        h[i] = max(G_i_deg, key=G_i_deg.get)\n",
    "        \n",
    "        D[i] = set(bfs(G[i], [h[i]]))\n",
    "        \n",
    "        A[i] = set(bfs_reverse(G[i], [h[i]])) - set([h[i]])\n",
    "        \n",
    "        V[i] = G[i].nodes()\n",
    "        latest[i] = {v:False for v in V[i]}\n",
    "        \n",
    "    print(\"comp init\")\n",
    "    \n",
    "    S = []\n",
    "    for j in range(k):\n",
    "        start = time.time()\n",
    "        v_gain = {v:sum([GAIN(i, v, comp, G, A, S, h, D, G[i].nodes()) for i in range(R)])/R for v in tqdm(G_V)}\n",
    "        t = max(v_gain, key=v_gain.get)\n",
    "        \n",
    "        S.append(t)\n",
    "        \n",
    "        for i in range(R):\n",
    "            G[i] = UPDATEDAG(i, t, comp, G)\n",
    "        time_list.append(time.time())\n",
    "        \n",
    "    return S"
   ]
  },
  {
   "cell_type": "code",
   "execution_count": 114,
   "metadata": {},
   "outputs": [],
   "source": [
    "# k = 5\n",
    "# R = 200\n",
    "# %time PMC_greedy(network_np, k, R)\n",
    "\n",
    "# CPU times: user 16min, sys: 9min 10s, total: 25min 10s\n",
    "# Wall time: 32min 56s\n",
    "# [763, 645, 634, 71399, 3924]"
   ]
  },
  {
   "cell_type": "code",
   "execution_count": 115,
   "metadata": {},
   "outputs": [],
   "source": [
    "# G = nx.DiGraph()\n",
    "# G.add_weighted_edges_from(network_np)"
   ]
  },
  {
   "cell_type": "code",
   "execution_count": 116,
   "metadata": {
    "scrolled": true
   },
   "outputs": [],
   "source": [
    "# %time mc.approx_inf_size_IC_T(G, [0, 1, 29, 27, 26], 10000)"
   ]
  },
  {
   "cell_type": "code",
   "execution_count": 117,
   "metadata": {},
   "outputs": [],
   "source": [
    "# 枝確率を計算済みのネットワークを読み込む\n",
    "network = pd.read_csv(\"data/Epinions/WC_small.csv\")\n",
    "network.head()\n",
    "\n",
    "# numpy型に変換\n",
    "network_np = network.values"
   ]
  },
  {
   "cell_type": "code",
   "execution_count": 118,
   "metadata": {},
   "outputs": [],
   "source": [
    "G_small = nx.DiGraph()"
   ]
  },
  {
   "cell_type": "code",
   "execution_count": 119,
   "metadata": {},
   "outputs": [],
   "source": [
    "G_small.add_weighted_edges_from(network_np)"
   ]
  },
  {
   "cell_type": "code",
   "execution_count": 120,
   "metadata": {
    "scrolled": false
   },
   "outputs": [
    {
     "data": {
      "image/png": "[encoded data removed]",
      "text/plain": [
       "<Figure size 1080x720 with 1 Axes>"
      ]
     },
     "metadata": {},
     "output_type": "display_data"
    }
   ],
   "source": [
    "plt.figure(figsize=(15,10))\n",
    "nx.draw_networkx(G_small)"
   ]
  },
  {
   "cell_type": "code",
   "execution_count": 121,
   "metadata": {
    "scrolled": true
   },
   "outputs": [
    {
     "name": "stderr",
     "output_type": "stream",
     "text": [
      "/home/fueki/anaconda3/envs/all/lib/python3.7/site-packages/ipykernel_launcher.py:26: TqdmDeprecationWarning: This function will be removed in tqdm==5.0.0\n",
      "Please use `tqdm.notebook.tqdm` instead of `tqdm.tqdm_notebook`\n"
     ]
    },
    {
     "data": {
      "application/vnd.jupyter.widget-view+json": {
       "model_id": "27e608d1b70a4e868bc949529654b86c",
       "version_major": 2,
       "version_minor": 0
      },
      "text/plain": [
       "HBox(children=(FloatProgress(value=0.0, max=2.0), HTML(value='')))"
      ]
     },
     "metadata": {},
     "output_type": "display_data"
    },
    {
     "name": "stdout",
     "output_type": "stream",
     "text": [
      "\n",
      "comp init\n"
     ]
    },
    {
     "name": "stderr",
     "output_type": "stream",
     "text": [
      "/home/fueki/anaconda3/envs/all/lib/python3.7/site-packages/ipykernel_launcher.py:53: TqdmDeprecationWarning: This function will be removed in tqdm==5.0.0\n",
      "Please use `tqdm.notebook.tqdm` instead of `tqdm.tqdm_notebook`\n"
     ]
    },
    {
     "data": {
      "application/vnd.jupyter.widget-view+json": {
       "model_id": "f893cbe1274442f597c72f6a0d6a373c",
       "version_major": 2,
       "version_minor": 0
      },
      "text/plain": [
       "HBox(children=(FloatProgress(value=0.0, max=30.0), HTML(value='')))"
      ]
     },
     "metadata": {},
     "output_type": "display_data"
    },
    {
     "name": "stdout",
     "output_type": "stream",
     "text": [
      "\n"
     ]
    },
    {
     "data": {
      "application/vnd.jupyter.widget-view+json": {
       "model_id": "94f212eab9b24c77bf2debaee650d725",
       "version_major": 2,
       "version_minor": 0
      },
      "text/plain": [
       "HBox(children=(FloatProgress(value=0.0, max=30.0), HTML(value='')))"
      ]
     },
     "metadata": {},
     "output_type": "display_data"
    },
    {
     "name": "stdout",
     "output_type": "stream",
     "text": [
      "\n"
     ]
    },
    {
     "data": {
      "application/vnd.jupyter.widget-view+json": {
       "model_id": "4114cd5c32884357abfacf5bc575ec69",
       "version_major": 2,
       "version_minor": 0
      },
      "text/plain": [
       "HBox(children=(FloatProgress(value=0.0, max=30.0), HTML(value='')))"
      ]
     },
     "metadata": {},
     "output_type": "display_data"
    },
    {
     "name": "stdout",
     "output_type": "stream",
     "text": [
      "\n"
     ]
    },
    {
     "data": {
      "application/vnd.jupyter.widget-view+json": {
       "model_id": "31b0001343b44fe9b25da00c49d703c8",
       "version_major": 2,
       "version_minor": 0
      },
      "text/plain": [
       "HBox(children=(FloatProgress(value=0.0, max=30.0), HTML(value='')))"
      ]
     },
     "metadata": {},
     "output_type": "display_data"
    },
    {
     "name": "stdout",
     "output_type": "stream",
     "text": [
      "\n"
     ]
    },
    {
     "data": {
      "application/vnd.jupyter.widget-view+json": {
       "model_id": "1e1387d6db724662984f18775a1093a3",
       "version_major": 2,
       "version_minor": 0
      },
      "text/plain": [
       "HBox(children=(FloatProgress(value=0.0, max=30.0), HTML(value='')))"
      ]
     },
     "metadata": {},
     "output_type": "display_data"
    },
    {
     "name": "stdout",
     "output_type": "stream",
     "text": [
      "\n"
     ]
    },
    {
     "data": {
      "application/vnd.jupyter.widget-view+json": {
       "model_id": "86ad097e43654787ba5f158491a85a14",
       "version_major": 2,
       "version_minor": 0
      },
      "text/plain": [
       "HBox(children=(FloatProgress(value=0.0, max=30.0), HTML(value='')))"
      ]
     },
     "metadata": {},
     "output_type": "display_data"
    },
    {
     "name": "stdout",
     "output_type": "stream",
     "text": [
      "\n"
     ]
    },
    {
     "data": {
      "application/vnd.jupyter.widget-view+json": {
       "model_id": "f6b930135c4f4026989ab89744f07745",
       "version_major": 2,
       "version_minor": 0
      },
      "text/plain": [
       "HBox(children=(FloatProgress(value=0.0, max=30.0), HTML(value='')))"
      ]
     },
     "metadata": {},
     "output_type": "display_data"
    },
    {
     "name": "stdout",
     "output_type": "stream",
     "text": [
      "\n"
     ]
    },
    {
     "data": {
      "application/vnd.jupyter.widget-view+json": {
       "model_id": "82f31931c41146b2aeb5adcf13b191d1",
       "version_major": 2,
       "version_minor": 0
      },
      "text/plain": [
       "HBox(children=(FloatProgress(value=0.0, max=30.0), HTML(value='')))"
      ]
     },
     "metadata": {},
     "output_type": "display_data"
    },
    {
     "name": "stdout",
     "output_type": "stream",
     "text": [
      "\n"
     ]
    },
    {
     "data": {
      "application/vnd.jupyter.widget-view+json": {
       "model_id": "70fd48758649403aa81837e04ec37c12",
       "version_major": 2,
       "version_minor": 0
      },
      "text/plain": [
       "HBox(children=(FloatProgress(value=0.0, max=30.0), HTML(value='')))"
      ]
     },
     "metadata": {},
     "output_type": "display_data"
    },
    {
     "name": "stdout",
     "output_type": "stream",
     "text": [
      "\n"
     ]
    },
    {
     "data": {
      "application/vnd.jupyter.widget-view+json": {
       "model_id": "314333626c7d4da8a4af4f43613bc3d5",
       "version_major": 2,
       "version_minor": 0
      },
      "text/plain": [
       "HBox(children=(FloatProgress(value=0.0, max=30.0), HTML(value='')))"
      ]
     },
     "metadata": {},
     "output_type": "display_data"
    },
    {
     "name": "stdout",
     "output_type": "stream",
     "text": [
      "\n"
     ]
    },
    {
     "data": {
      "application/vnd.jupyter.widget-view+json": {
       "model_id": "8a351c20cf9a4e1196039251e3140daf",
       "version_major": 2,
       "version_minor": 0
      },
      "text/plain": [
       "HBox(children=(FloatProgress(value=0.0, max=30.0), HTML(value='')))"
      ]
     },
     "metadata": {},
     "output_type": "display_data"
    },
    {
     "name": "stdout",
     "output_type": "stream",
     "text": [
      "\n"
     ]
    },
    {
     "data": {
      "application/vnd.jupyter.widget-view+json": {
       "model_id": "41a99a3190d947a68cb950042fdaf735",
       "version_major": 2,
       "version_minor": 0
      },
      "text/plain": [
       "HBox(children=(FloatProgress(value=0.0, max=30.0), HTML(value='')))"
      ]
     },
     "metadata": {},
     "output_type": "display_data"
    },
    {
     "name": "stdout",
     "output_type": "stream",
     "text": [
      "\n"
     ]
    },
    {
     "data": {
      "application/vnd.jupyter.widget-view+json": {
       "model_id": "8d33d6508caf46a3a02b137a7fcdbf56",
       "version_major": 2,
       "version_minor": 0
      },
      "text/plain": [
       "HBox(children=(FloatProgress(value=0.0, max=30.0), HTML(value='')))"
      ]
     },
     "metadata": {},
     "output_type": "display_data"
    },
    {
     "name": "stdout",
     "output_type": "stream",
     "text": [
      "\n"
     ]
    },
    {
     "data": {
      "application/vnd.jupyter.widget-view+json": {
       "model_id": "6455eb55f0624cb1a464f84035bc9ea4",
       "version_major": 2,
       "version_minor": 0
      },
      "text/plain": [
       "HBox(children=(FloatProgress(value=0.0, max=30.0), HTML(value='')))"
      ]
     },
     "metadata": {},
     "output_type": "display_data"
    },
    {
     "name": "stdout",
     "output_type": "stream",
     "text": [
      "\n"
     ]
    },
    {
     "data": {
      "application/vnd.jupyter.widget-view+json": {
       "model_id": "8acd17c7b0104b7caac07bd5a7dc2b54",
       "version_major": 2,
       "version_minor": 0
      },
      "text/plain": [
       "HBox(children=(FloatProgress(value=0.0, max=30.0), HTML(value='')))"
      ]
     },
     "metadata": {},
     "output_type": "display_data"
    },
    {
     "name": "stdout",
     "output_type": "stream",
     "text": [
      "\n"
     ]
    },
    {
     "data": {
      "application/vnd.jupyter.widget-view+json": {
       "model_id": "97a1ecbb935a4124a873b04ebbfa743b",
       "version_major": 2,
       "version_minor": 0
      },
      "text/plain": [
       "HBox(children=(FloatProgress(value=0.0, max=30.0), HTML(value='')))"
      ]
     },
     "metadata": {},
     "output_type": "display_data"
    },
    {
     "name": "stdout",
     "output_type": "stream",
     "text": [
      "\n"
     ]
    },
    {
     "data": {
      "application/vnd.jupyter.widget-view+json": {
       "model_id": "08fdea298cba476bb006a2f39b3f58c2",
       "version_major": 2,
       "version_minor": 0
      },
      "text/plain": [
       "HBox(children=(FloatProgress(value=0.0, max=30.0), HTML(value='')))"
      ]
     },
     "metadata": {},
     "output_type": "display_data"
    },
    {
     "name": "stdout",
     "output_type": "stream",
     "text": [
      "\n"
     ]
    },
    {
     "data": {
      "application/vnd.jupyter.widget-view+json": {
       "model_id": "85a5dd5438e44a0f8ae5982d6bbf8553",
       "version_major": 2,
       "version_minor": 0
      },
      "text/plain": [
       "HBox(children=(FloatProgress(value=0.0, max=30.0), HTML(value='')))"
      ]
     },
     "metadata": {},
     "output_type": "display_data"
    },
    {
     "name": "stdout",
     "output_type": "stream",
     "text": [
      "\n"
     ]
    },
    {
     "data": {
      "application/vnd.jupyter.widget-view+json": {
       "model_id": "44da73f3255e4870902aa2d3822031e8",
       "version_major": 2,
       "version_minor": 0
      },
      "text/plain": [
       "HBox(children=(FloatProgress(value=0.0, max=30.0), HTML(value='')))"
      ]
     },
     "metadata": {},
     "output_type": "display_data"
    },
    {
     "name": "stdout",
     "output_type": "stream",
     "text": [
      "\n"
     ]
    },
    {
     "data": {
      "application/vnd.jupyter.widget-view+json": {
       "model_id": "a4c4ed12d85547ab81f06efba04e6eff",
       "version_major": 2,
       "version_minor": 0
      },
      "text/plain": [
       "HBox(children=(FloatProgress(value=0.0, max=30.0), HTML(value='')))"
      ]
     },
     "metadata": {},
     "output_type": "display_data"
    },
    {
     "name": "stdout",
     "output_type": "stream",
     "text": [
      "\n"
     ]
    },
    {
     "data": {
      "text/plain": [
       "[0, 16, 24, 20, 2, 11, 14, 18, 19, 21, 26, 28, 0, 0, 0, 0, 0, 0, 0, 0]"
      ]
     },
     "execution_count": 121,
     "metadata": {},
     "output_type": "execute_result"
    }
   ],
   "source": [
    "PMC_greedy(network_np, 20, 2)"
   ]
  },
  {
   "cell_type": "markdown",
   "metadata": {},
   "source": [
    "# 計算実験"
   ]
  },
  {
   "cell_type": "code",
   "execution_count": 122,
   "metadata": {},
   "outputs": [],
   "source": [
    "def PMC_greedy_time(network_np, k, R):\n",
    "    time_list = []\n",
    "    # E_ = dict([])\n",
    "    # G_ = dict([])\n",
    "    G = dict([])\n",
    "    comp = dict([])\n",
    "    h = dict([])\n",
    "    D = dict([])\n",
    "    A = dict([])\n",
    "    V = dict([])\n",
    "    global latest\n",
    "    latest = dict([])\n",
    "    global delta\n",
    "    delta = {i:dict([]) for i in range(R)}\n",
    "    \n",
    "    # 全体のグラフ\n",
    "    Node = np.unique(network_np.T[[0,1]])\n",
    "    \n",
    "    # 元グラフの頂点集合\n",
    "    G_V = [int(node) for node in Node]\n",
    "    \n",
    "    # copy用に作っておく\n",
    "    G_copy = nx.DiGraph()\n",
    "    G_copy.add_nodes_from(G_V)\n",
    "    \n",
    "    for i in tqdm(range(R)):\n",
    "        \n",
    "        E_ = live_edge_graph_edges(network_np, len(network_np))\n",
    "        \n",
    "        G_ = G_copy.copy()\n",
    "        G_.add_edges_from(E_)\n",
    "        \n",
    "        comp[i], G[i] = scc_DAG(G_)\n",
    "        \n",
    "        G_i_deg = dict(G[i].degree())\n",
    "        h[i] = max(G_i_deg, key=G_i_deg.get)\n",
    "        \n",
    "        D[i] = set(bfs(G[i], [h[i]]))\n",
    "        \n",
    "        A[i] = set(bfs_reverse(G[i], [h[i]])) - set([h[i]])\n",
    "        \n",
    "        V[i] = G[i].nodes()\n",
    "        latest[i] = {v:False for v in V[i]}\n",
    "    print(\"comp init\")\n",
    "    \n",
    "    S = []\n",
    "    for j in range(k):\n",
    "        start = time.time()\n",
    "        v_gain = {v:sum([GAIN(i, v, comp, G, A, S, h, D, G[i].nodes()) for i in range(R)])/R for v in tqdm(G_V)}\n",
    "        \n",
    "        \"\"\"\n",
    "        v_gain = dict([])\n",
    "        for v in tqdm(G_V):\n",
    "            wa = 0\n",
    "            start = time.time()\n",
    "            for i in range(R):\n",
    "                \n",
    "                wa += GAIN(i, v, comp, G, A, S, h, D, G[i].nodes())\n",
    "                \n",
    "            v_gain[v] = wa / R\n",
    "            end = time.time()\n",
    "            if end - start > 1:\n",
    "                print(i, v, v in A[i])\n",
    "        \n",
    "        \n",
    "        \"\"\"\n",
    "        t = max(v_gain, key=v_gain.get)\n",
    "        \n",
    "        S.append(t)\n",
    "        \n",
    "        for i in range(R):\n",
    "            G[i] = UPDATEDAG(i, t, comp, G)\n",
    "        time_list.append(time.time())\n",
    "        \n",
    "    return S, time_list"
   ]
  },
  {
   "cell_type": "code",
   "execution_count": 137,
   "metadata": {},
   "outputs": [],
   "source": [
    "def PMC_greedy_time(network_np, k, R):\n",
    "    time_list = []\n",
    "    # E_ = dict([])\n",
    "    # G_ = dict([])\n",
    "    G = dict([])\n",
    "    comp = dict([])\n",
    "    h = dict([])\n",
    "    D = dict([])\n",
    "    A = dict([])\n",
    "    V = dict([])\n",
    "    global latest\n",
    "    latest = dict([])\n",
    "    global delta\n",
    "    delta = {i:dict([]) for i in range(R)}\n",
    "    G_V = set([])\n",
    "    \n",
    "    for i in tqdm(range(R)):\n",
    "        \n",
    "        E_ = live_edge_graph_edges(network_np, len(network_np))\n",
    "        \n",
    "        # 枝が伸びている頂点集合\n",
    "        G_V |= set(np.unique(E_.T[[0,1]]))\n",
    "        \n",
    "        G_ = nx.DiGraph()\n",
    "        G_.add_edges_from(E_)\n",
    "        \n",
    "        comp[i], G[i] = scc_DAG(G_)\n",
    "        \n",
    "        G_i_deg = dict(G[i].degree())\n",
    "        h[i] = max(G_i_deg, key=G_i_deg.get)\n",
    "        \n",
    "        D[i] = set(bfs(G[i], [h[i]]))\n",
    "        \n",
    "        A[i] = set(bfs_reverse(G[i], [h[i]])) - set([h[i]])\n",
    "        \n",
    "        V[i] = G[i].nodes()\n",
    "        latest[i] = {v:False for v in V[i]}\n",
    "    print(\"comp init\")\n",
    "    \n",
    "    S = []\n",
    "    for j in range(k):\n",
    "        start = time.time()\n",
    "        #v_gain = {v:sum([GAIN(i, v, comp, G, A, S, h, D, G[i].nodes()) for i in range(R)])/R for v in tqdm(G_V)}\n",
    "        \n",
    "        \n",
    "        v_gain = dict([])\n",
    "        for v in tqdm(G_V):\n",
    "            wa = 0\n",
    "            start = time.time()\n",
    "            for i in range(R):\n",
    "                \n",
    "                wa += GAIN(i, v, comp, G, A, S, h, D, G[i].nodes())\n",
    "                \n",
    "            v_gain[v] = wa / R\n",
    "            end = time.time()\n",
    "            if end - start > 1:\n",
    "                print(i, v, v in A[i])\n",
    "        \n",
    "        \n",
    "        \n",
    "        t = max(v_gain, key=v_gain.get)\n",
    "        \n",
    "        S.append(t)\n",
    "        \n",
    "        for i in range(R):\n",
    "            G[i] = UPDATEDAG(i, t, comp, G)\n",
    "        time_list.append(time.time())\n",
    "        \n",
    "    return S, time_list"
   ]
  },
  {
   "cell_type": "markdown",
   "metadata": {},
   "source": [
    "## Epinions"
   ]
  },
  {
   "cell_type": "code",
   "execution_count": 138,
   "metadata": {},
   "outputs": [],
   "source": [
    "run_time = dict([])\n",
    "S = dict([])"
   ]
  },
  {
   "cell_type": "markdown",
   "metadata": {},
   "source": [
    "### WC"
   ]
  },
  {
   "cell_type": "code",
   "execution_count": 139,
   "metadata": {
    "scrolled": false
   },
   "outputs": [
    {
     "data": {
      "text/html": [
       "<div>\n",
       "<style scoped>\n",
       "    .dataframe tbody tr th:only-of-type {\n",
       "        vertical-align: middle;\n",
       "    }\n",
       "\n",
       "    .dataframe tbody tr th {\n",
       "        vertical-align: top;\n",
       "    }\n",
       "\n",
       "    .dataframe thead th {\n",
       "        text-align: right;\n",
       "    }\n",
       "</style>\n",
       "<table border=\"1\" class=\"dataframe\">\n",
       "  <thead>\n",
       "    <tr style=\"text-align: right;\">\n",
       "      <th></th>\n",
       "      <th># FromNodeId</th>\n",
       "      <th>ToNodeId</th>\n",
       "      <th>WC</th>\n",
       "    </tr>\n",
       "  </thead>\n",
       "  <tbody>\n",
       "    <tr>\n",
       "      <th>0</th>\n",
       "      <td>0</td>\n",
       "      <td>4</td>\n",
       "      <td>0.008000</td>\n",
       "    </tr>\n",
       "    <tr>\n",
       "      <th>1</th>\n",
       "      <td>0</td>\n",
       "      <td>5</td>\n",
       "      <td>0.005682</td>\n",
       "    </tr>\n",
       "    <tr>\n",
       "      <th>2</th>\n",
       "      <td>0</td>\n",
       "      <td>7</td>\n",
       "      <td>0.033333</td>\n",
       "    </tr>\n",
       "    <tr>\n",
       "      <th>3</th>\n",
       "      <td>0</td>\n",
       "      <td>8</td>\n",
       "      <td>0.009615</td>\n",
       "    </tr>\n",
       "    <tr>\n",
       "      <th>4</th>\n",
       "      <td>0</td>\n",
       "      <td>9</td>\n",
       "      <td>0.066667</td>\n",
       "    </tr>\n",
       "  </tbody>\n",
       "</table>\n",
       "</div>"
      ],
      "text/plain": [
       "   # FromNodeId  ToNodeId        WC\n",
       "0             0         4  0.008000\n",
       "1             0         5  0.005682\n",
       "2             0         7  0.033333\n",
       "3             0         8  0.009615\n",
       "4             0         9  0.066667"
      ]
     },
     "execution_count": 139,
     "metadata": {},
     "output_type": "execute_result"
    }
   ],
   "source": [
    "# 枝確率を計算済みのネットワークを読み込む\n",
    "network = pd.read_csv(\"data/Epinions/WC.csv\")\n",
    "network.head()"
   ]
  },
  {
   "cell_type": "code",
   "execution_count": 140,
   "metadata": {},
   "outputs": [],
   "source": [
    "# numpy型に変換\n",
    "network_np = network.values"
   ]
  },
  {
   "cell_type": "code",
   "execution_count": 142,
   "metadata": {
    "scrolled": true
   },
   "outputs": [
    {
     "name": "stderr",
     "output_type": "stream",
     "text": [
      "/home/fueki/anaconda3/envs/all/lib/python3.7/site-packages/ipykernel_launcher.py:17: TqdmDeprecationWarning: This function will be removed in tqdm==5.0.0\n",
      "Please use `tqdm.notebook.tqdm` instead of `tqdm.tqdm_notebook`\n"
     ]
    },
    {
     "data": {
      "application/vnd.jupyter.widget-view+json": {
       "model_id": "f79498f7463c4374b3b4de631a472977",
       "version_major": 2,
       "version_minor": 0
      },
      "text/plain": [
       "HBox(children=(FloatProgress(value=0.0), HTML(value='')))"
      ]
     },
     "metadata": {},
     "output_type": "display_data"
    },
    {
     "name": "stdout",
     "output_type": "stream",
     "text": [
      "\n",
      "comp init\n"
     ]
    },
    {
     "name": "stderr",
     "output_type": "stream",
     "text": [
      "/home/fueki/anaconda3/envs/all/lib/python3.7/site-packages/ipykernel_launcher.py:47: TqdmDeprecationWarning: This function will be removed in tqdm==5.0.0\n",
      "Please use `tqdm.notebook.tqdm` instead of `tqdm.tqdm_notebook`\n"
     ]
    },
    {
     "data": {
      "application/vnd.jupyter.widget-view+json": {
       "model_id": "685a669456f84bf5982fb6318e6c7a7c",
       "version_major": 2,
       "version_minor": 0
      },
      "text/plain": [
       "HBox(children=(FloatProgress(value=0.0, max=71700.0), HTML(value='')))"
      ]
     },
     "metadata": {},
     "output_type": "display_data"
    },
    {
     "name": "stdout",
     "output_type": "stream",
     "text": [
      "\n"
     ]
    },
    {
     "ename": "KeyboardInterrupt",
     "evalue": "",
     "output_type": "error",
     "traceback": [
      "\u001b[0;31m---------------------------------------------------------------------------\u001b[0m",
      "\u001b[0;31mKeyboardInterrupt\u001b[0m                         Traceback (most recent call last)",
      "\u001b[0;32m<ipython-input-142-9b480841f244>\u001b[0m in \u001b[0;36m<module>\u001b[0;34m\u001b[0m\n\u001b[1;32m      1\u001b[0m \u001b[0mstart\u001b[0m \u001b[0;34m=\u001b[0m \u001b[0mtime\u001b[0m\u001b[0;34m.\u001b[0m\u001b[0mtime\u001b[0m\u001b[0;34m(\u001b[0m\u001b[0;34m)\u001b[0m\u001b[0;34m\u001b[0m\u001b[0;34m\u001b[0m\u001b[0m\n\u001b[0;32m----> 2\u001b[0;31m \u001b[0mS\u001b[0m\u001b[0;34m[\u001b[0m\u001b[0;34m\"WC\"\u001b[0m\u001b[0;34m]\u001b[0m\u001b[0;34m,\u001b[0m \u001b[0mtime_list\u001b[0m \u001b[0;34m=\u001b[0m \u001b[0mPMC_greedy_time\u001b[0m\u001b[0;34m(\u001b[0m\u001b[0mnetwork_np\u001b[0m\u001b[0;34m,\u001b[0m \u001b[0;36m50\u001b[0m\u001b[0;34m,\u001b[0m \u001b[0;36m100\u001b[0m\u001b[0;34m)\u001b[0m\u001b[0;34m\u001b[0m\u001b[0;34m\u001b[0m\u001b[0m\n\u001b[0m\u001b[1;32m      3\u001b[0m \u001b[0mrun_time\u001b[0m\u001b[0;34m[\u001b[0m\u001b[0;34m\"WC\"\u001b[0m\u001b[0;34m]\u001b[0m \u001b[0;34m=\u001b[0m \u001b[0mtime\u001b[0m\u001b[0;34m.\u001b[0m\u001b[0mtime\u001b[0m\u001b[0;34m(\u001b[0m\u001b[0;34m)\u001b[0m \u001b[0;34m-\u001b[0m \u001b[0mstart\u001b[0m\u001b[0;34m\u001b[0m\u001b[0;34m\u001b[0m\u001b[0m\n",
      "\u001b[0;32m<ipython-input-137-c1f284373e81>\u001b[0m in \u001b[0;36mPMC_greedy_time\u001b[0;34m(network_np, k, R)\u001b[0m\n\u001b[1;32m     50\u001b[0m             \u001b[0;32mfor\u001b[0m \u001b[0mi\u001b[0m \u001b[0;32min\u001b[0m \u001b[0mrange\u001b[0m\u001b[0;34m(\u001b[0m\u001b[0mR\u001b[0m\u001b[0;34m)\u001b[0m\u001b[0;34m:\u001b[0m\u001b[0;34m\u001b[0m\u001b[0;34m\u001b[0m\u001b[0m\n\u001b[1;32m     51\u001b[0m \u001b[0;34m\u001b[0m\u001b[0m\n\u001b[0;32m---> 52\u001b[0;31m                 \u001b[0mwa\u001b[0m \u001b[0;34m+=\u001b[0m \u001b[0mGAIN\u001b[0m\u001b[0;34m(\u001b[0m\u001b[0mi\u001b[0m\u001b[0;34m,\u001b[0m \u001b[0mv\u001b[0m\u001b[0;34m,\u001b[0m \u001b[0mcomp\u001b[0m\u001b[0;34m,\u001b[0m \u001b[0mG\u001b[0m\u001b[0;34m,\u001b[0m \u001b[0mA\u001b[0m\u001b[0;34m,\u001b[0m \u001b[0mS\u001b[0m\u001b[0;34m,\u001b[0m \u001b[0mh\u001b[0m\u001b[0;34m,\u001b[0m \u001b[0mD\u001b[0m\u001b[0;34m,\u001b[0m \u001b[0mG\u001b[0m\u001b[0;34m[\u001b[0m\u001b[0mi\u001b[0m\u001b[0;34m]\u001b[0m\u001b[0;34m.\u001b[0m\u001b[0mnodes\u001b[0m\u001b[0;34m(\u001b[0m\u001b[0;34m)\u001b[0m\u001b[0;34m)\u001b[0m\u001b[0;34m\u001b[0m\u001b[0;34m\u001b[0m\u001b[0m\n\u001b[0m\u001b[1;32m     53\u001b[0m \u001b[0;34m\u001b[0m\u001b[0m\n\u001b[1;32m     54\u001b[0m             \u001b[0mv_gain\u001b[0m\u001b[0;34m[\u001b[0m\u001b[0mv\u001b[0m\u001b[0;34m]\u001b[0m \u001b[0;34m=\u001b[0m \u001b[0mwa\u001b[0m \u001b[0;34m/\u001b[0m \u001b[0mR\u001b[0m\u001b[0;34m\u001b[0m\u001b[0;34m\u001b[0m\u001b[0m\n",
      "\u001b[0;32m<ipython-input-111-d27a96ce6755>\u001b[0m in \u001b[0;36mGAIN\u001b[0;34m(i, v_V, comp, G, A, S, h, D, V)\u001b[0m\n\u001b[1;32m     41\u001b[0m \u001b[0;34m\u001b[0m\u001b[0m\n\u001b[1;32m     42\u001b[0m \u001b[0;34m\u001b[0m\u001b[0m\n\u001b[0;32m---> 43\u001b[0;31m         \u001b[0mEdges\u001b[0m \u001b[0;34m=\u001b[0m \u001b[0mG\u001b[0m\u001b[0;34m[\u001b[0m\u001b[0mi\u001b[0m\u001b[0;34m]\u001b[0m\u001b[0;34m.\u001b[0m\u001b[0mout_edges\u001b[0m\u001b[0;34m(\u001b[0m\u001b[0mu\u001b[0m\u001b[0;34m)\u001b[0m\u001b[0;34m\u001b[0m\u001b[0;34m\u001b[0m\u001b[0m\n\u001b[0m\u001b[1;32m     44\u001b[0m         \u001b[0;32mfor\u001b[0m \u001b[0mu_\u001b[0m\u001b[0;34m,\u001b[0m \u001b[0mw\u001b[0m \u001b[0;32min\u001b[0m \u001b[0mEdges\u001b[0m\u001b[0;34m:\u001b[0m\u001b[0;34m\u001b[0m\u001b[0;34m\u001b[0m\u001b[0m\n\u001b[1;32m     45\u001b[0m             \u001b[0;31m# 探索済みの強連結成分は探索しなくていいので、w not in X\u001b[0m\u001b[0;34m\u001b[0m\u001b[0;34m\u001b[0m\u001b[0;34m\u001b[0m\u001b[0m\n",
      "\u001b[0;32m~/anaconda3/envs/all/lib/python3.7/site-packages/networkx/classes/digraph.py\u001b[0m in \u001b[0;36medges\u001b[0;34m(self)\u001b[0m\n\u001b[1;32m    900\u001b[0m \u001b[0;34m\u001b[0m\u001b[0m\n\u001b[1;32m    901\u001b[0m         \"\"\"\n\u001b[0;32m--> 902\u001b[0;31m         \u001b[0;32mreturn\u001b[0m \u001b[0mOutEdgeView\u001b[0m\u001b[0;34m(\u001b[0m\u001b[0mself\u001b[0m\u001b[0;34m)\u001b[0m\u001b[0;34m\u001b[0m\u001b[0;34m\u001b[0m\u001b[0m\n\u001b[0m\u001b[1;32m    903\u001b[0m \u001b[0;34m\u001b[0m\u001b[0m\n\u001b[1;32m    904\u001b[0m     \u001b[0;31m# alias out_edges to edges\u001b[0m\u001b[0;34m\u001b[0m\u001b[0;34m\u001b[0m\u001b[0;34m\u001b[0m\u001b[0m\n",
      "\u001b[0;32m~/anaconda3/envs/all/lib/python3.7/site-packages/networkx/classes/reportviews.py\u001b[0m in \u001b[0;36m__init__\u001b[0;34m(self, G)\u001b[0m\n\u001b[1;32m    906\u001b[0m     \u001b[0;32mdef\u001b[0m \u001b[0m__init__\u001b[0m\u001b[0;34m(\u001b[0m\u001b[0mself\u001b[0m\u001b[0;34m,\u001b[0m \u001b[0mG\u001b[0m\u001b[0;34m)\u001b[0m\u001b[0;34m:\u001b[0m\u001b[0;34m\u001b[0m\u001b[0;34m\u001b[0m\u001b[0m\n\u001b[1;32m    907\u001b[0m         \u001b[0mself\u001b[0m\u001b[0;34m.\u001b[0m\u001b[0m_graph\u001b[0m \u001b[0;34m=\u001b[0m \u001b[0mG\u001b[0m\u001b[0;34m\u001b[0m\u001b[0;34m\u001b[0m\u001b[0m\n\u001b[0;32m--> 908\u001b[0;31m         \u001b[0mself\u001b[0m\u001b[0;34m.\u001b[0m\u001b[0m_adjdict\u001b[0m \u001b[0;34m=\u001b[0m \u001b[0mG\u001b[0m\u001b[0;34m.\u001b[0m\u001b[0m_succ\u001b[0m \u001b[0;32mif\u001b[0m \u001b[0mhasattr\u001b[0m\u001b[0;34m(\u001b[0m\u001b[0mG\u001b[0m\u001b[0;34m,\u001b[0m \u001b[0;34m\"succ\"\u001b[0m\u001b[0;34m)\u001b[0m \u001b[0;32melse\u001b[0m \u001b[0mG\u001b[0m\u001b[0;34m.\u001b[0m\u001b[0m_adj\u001b[0m\u001b[0;34m\u001b[0m\u001b[0;34m\u001b[0m\u001b[0m\n\u001b[0m\u001b[1;32m    909\u001b[0m         \u001b[0mself\u001b[0m\u001b[0;34m.\u001b[0m\u001b[0m_nodes_nbrs\u001b[0m \u001b[0;34m=\u001b[0m \u001b[0mself\u001b[0m\u001b[0;34m.\u001b[0m\u001b[0m_adjdict\u001b[0m\u001b[0;34m.\u001b[0m\u001b[0mitems\u001b[0m\u001b[0;34m\u001b[0m\u001b[0;34m\u001b[0m\u001b[0m\n\u001b[1;32m    910\u001b[0m \u001b[0;34m\u001b[0m\u001b[0m\n",
      "\u001b[0;32m~/anaconda3/envs/all/lib/python3.7/site-packages/networkx/classes/digraph.py\u001b[0m in \u001b[0;36msucc\u001b[0;34m(self)\u001b[0m\n\u001b[1;32m    361\u001b[0m         \u001b[0mFor\u001b[0m \u001b[0mdirected\u001b[0m \u001b[0mgraphs\u001b[0m\u001b[0;34m,\u001b[0m\u001b[0;31m \u001b[0m\u001b[0;31m`\u001b[0m\u001b[0mG\u001b[0m\u001b[0;34m.\u001b[0m\u001b[0madj\u001b[0m\u001b[0;31m`\u001b[0m \u001b[0;32mis\u001b[0m \u001b[0midentical\u001b[0m \u001b[0mto\u001b[0m\u001b[0;31m \u001b[0m\u001b[0;31m`\u001b[0m\u001b[0mG\u001b[0m\u001b[0;34m.\u001b[0m\u001b[0msucc\u001b[0m\u001b[0;31m`\u001b[0m\u001b[0;34m.\u001b[0m\u001b[0;34m\u001b[0m\u001b[0;34m\u001b[0m\u001b[0m\n\u001b[1;32m    362\u001b[0m         \"\"\"\n\u001b[0;32m--> 363\u001b[0;31m         \u001b[0;32mreturn\u001b[0m \u001b[0mAdjacencyView\u001b[0m\u001b[0;34m(\u001b[0m\u001b[0mself\u001b[0m\u001b[0;34m.\u001b[0m\u001b[0m_succ\u001b[0m\u001b[0;34m)\u001b[0m\u001b[0;34m\u001b[0m\u001b[0;34m\u001b[0m\u001b[0m\n\u001b[0m\u001b[1;32m    364\u001b[0m \u001b[0;34m\u001b[0m\u001b[0m\n\u001b[1;32m    365\u001b[0m     \u001b[0;34m@\u001b[0m\u001b[0mproperty\u001b[0m\u001b[0;34m\u001b[0m\u001b[0;34m\u001b[0m\u001b[0m\n",
      "\u001b[0;31mKeyboardInterrupt\u001b[0m: "
     ]
    }
   ],
   "source": [
    "start = time.time()\n",
    "S[\"WC\"], time_list = PMC_greedy_time(network_np, 50, 100)\n",
    "run_time[\"WC\"] = time.time() - start"
   ]
  },
  {
   "cell_type": "code",
   "execution_count": 128,
   "metadata": {},
   "outputs": [],
   "source": [
    "WC_df_seed_time = pd.DataFrame({\"Size of Seed Set\":range(1,51), \n",
    "                                \"Running Time[s]\":time_list}).set_index(\"Size of Seed Set\")\n",
    "WC_df_seed_time.to_csv(\"WC_df_seed_time.csv\")"
   ]
  },
  {
   "cell_type": "code",
   "execution_count": 129,
   "metadata": {},
   "outputs": [
    {
     "data": {
      "text/plain": [
       "<matplotlib.axes._subplots.AxesSubplot at 0x7f0c7b181410>"
      ]
     },
     "execution_count": 129,
     "metadata": {},
     "output_type": "execute_result"
    },
    {
     "data": {
      "image/png": "[encoded data removed]",
      "text/plain": [
       "<Figure size 432x288 with 1 Axes>"
      ]
     },
     "metadata": {
      "needs_background": "light"
     },
     "output_type": "display_data"
    }
   ],
   "source": [
    "WC_df_seed_time.plot()"
   ]
  },
  {
   "cell_type": "code",
   "execution_count": 130,
   "metadata": {},
   "outputs": [
    {
     "data": {
      "text/plain": [
       "157.5304253101349"
      ]
     },
     "execution_count": 130,
     "metadata": {},
     "output_type": "execute_result"
    }
   ],
   "source": [
    "run_time[\"WC\"]\n",
    "# 2870.9144158363342"
   ]
  },
  {
   "cell_type": "code",
   "execution_count": 131,
   "metadata": {},
   "outputs": [
    {
     "data": {
      "text/plain": [
       "[763.0,\n",
       " 71399.0,\n",
       " 645.0,\n",
       " 5232.0,\n",
       " 634.0,\n",
       " 3924.0,\n",
       " 2969.0,\n",
       " 145.0,\n",
       " 1835.0,\n",
       " 637.0,\n",
       " 1720.0,\n",
       " 5227.0,\n",
       " 4920.0,\n",
       " 5224.0,\n",
       " 7047.0,\n",
       " 1059.0,\n",
       " 1533.0,\n",
       " 770.0,\n",
       " 71388.0,\n",
       " 3510.0,\n",
       " 2704.0,\n",
       " 1172.0,\n",
       " 2205.0,\n",
       " 661.0,\n",
       " 1626.0,\n",
       " 2066.0,\n",
       " 6003.0,\n",
       " 824.0,\n",
       " 546.0,\n",
       " 44.0,\n",
       " 3952.0,\n",
       " 6774.0,\n",
       " 9412.0,\n",
       " 7066.0,\n",
       " 1596.0,\n",
       " 5144.0,\n",
       " 1409.0,\n",
       " 492.0,\n",
       " 5382.0,\n",
       " 3850.0,\n",
       " 1501.0,\n",
       " 7427.0,\n",
       " 942.0,\n",
       " 2118.0,\n",
       " 1669.0,\n",
       " 1411.0,\n",
       " 16248.0,\n",
       " 3527.0,\n",
       " 1539.0,\n",
       " 1189.0]"
      ]
     },
     "execution_count": 131,
     "metadata": {},
     "output_type": "execute_result"
    }
   ],
   "source": [
    "S[\"WC\"]\n",
    "\n",
    "# [763,\n",
    "#  634,\n",
    "#  645,\n",
    "#  71399,\n",
    "#  5232,\n",
    "#  3924,\n",
    "#  637,\n",
    "#  2969,\n",
    "#  1835,\n",
    "#  145,\n",
    "#  44,\n",
    "#  1059,\n",
    "#  2066,\n",
    "#  1669,\n",
    "#  824,\n",
    "#  1172,\n",
    "#  5227,\n",
    "#  1539,\n",
    "#  2118,\n",
    "#  5144,\n",
    "#  1596,\n",
    "#  2704,\n",
    "#  1225,\n",
    "#  4931,\n",
    "#  1501,\n",
    "#  546,\n",
    "#  629,\n",
    "#  9412,\n",
    "#  1720,\n",
    "#  1409,\n",
    "#  661,\n",
    "#  1533,\n",
    "#  1638,\n",
    "#  5224,\n",
    "#  3850,\n",
    "#  6003,\n",
    "#  3952,\n",
    "#  5905,\n",
    "#  1849,\n",
    "#  751,\n",
    "#  71388,\n",
    "#  1626,\n",
    "#  1189,\n",
    "#  7427,\n",
    "#  6489,\n",
    "#  426,\n",
    "#  7047,\n",
    "#  3065,\n",
    "#  3234,\n",
    "#  770]"
   ]
  },
  {
   "cell_type": "markdown",
   "metadata": {},
   "source": [
    "### TR"
   ]
  },
  {
   "cell_type": "code",
   "execution_count": 133,
   "metadata": {
    "scrolled": false
   },
   "outputs": [
    {
     "data": {
      "text/html": [
       "<div>\n",
       "<style scoped>\n",
       "    .dataframe tbody tr th:only-of-type {\n",
       "        vertical-align: middle;\n",
       "    }\n",
       "\n",
       "    .dataframe tbody tr th {\n",
       "        vertical-align: top;\n",
       "    }\n",
       "\n",
       "    .dataframe thead th {\n",
       "        text-align: right;\n",
       "    }\n",
       "</style>\n",
       "<table border=\"1\" class=\"dataframe\">\n",
       "  <thead>\n",
       "    <tr style=\"text-align: right;\">\n",
       "      <th></th>\n",
       "      <th># FromNodeId</th>\n",
       "      <th>ToNodeId</th>\n",
       "      <th>TR</th>\n",
       "    </tr>\n",
       "  </thead>\n",
       "  <tbody>\n",
       "    <tr>\n",
       "      <th>0</th>\n",
       "      <td>0</td>\n",
       "      <td>4</td>\n",
       "      <td>0.10</td>\n",
       "    </tr>\n",
       "    <tr>\n",
       "      <th>1</th>\n",
       "      <td>0</td>\n",
       "      <td>5</td>\n",
       "      <td>0.01</td>\n",
       "    </tr>\n",
       "    <tr>\n",
       "      <th>2</th>\n",
       "      <td>0</td>\n",
       "      <td>7</td>\n",
       "      <td>0.10</td>\n",
       "    </tr>\n",
       "    <tr>\n",
       "      <th>3</th>\n",
       "      <td>0</td>\n",
       "      <td>8</td>\n",
       "      <td>0.01</td>\n",
       "    </tr>\n",
       "    <tr>\n",
       "      <th>4</th>\n",
       "      <td>0</td>\n",
       "      <td>9</td>\n",
       "      <td>0.10</td>\n",
       "    </tr>\n",
       "  </tbody>\n",
       "</table>\n",
       "</div>"
      ],
      "text/plain": [
       "   # FromNodeId  ToNodeId    TR\n",
       "0             0         4  0.10\n",
       "1             0         5  0.01\n",
       "2             0         7  0.10\n",
       "3             0         8  0.01\n",
       "4             0         9  0.10"
      ]
     },
     "execution_count": 133,
     "metadata": {},
     "output_type": "execute_result"
    }
   ],
   "source": [
    "# 枝確率を計算済みのネットワークを読み込む\n",
    "network = pd.read_csv(\"data/Epinions/TR.csv\")\n",
    "network.head()"
   ]
  },
  {
   "cell_type": "code",
   "execution_count": 134,
   "metadata": {},
   "outputs": [],
   "source": [
    "# numpy型に変換\n",
    "network_np = network.values"
   ]
  },
  {
   "cell_type": "code",
   "execution_count": 136,
   "metadata": {
    "scrolled": true
   },
   "outputs": [
    {
     "name": "stderr",
     "output_type": "stream",
     "text": [
      "/home/fueki/anaconda3/envs/all/lib/python3.7/site-packages/ipykernel_launcher.py:17: TqdmDeprecationWarning: This function will be removed in tqdm==5.0.0\n",
      "Please use `tqdm.notebook.tqdm` instead of `tqdm.tqdm_notebook`\n"
     ]
    },
    {
     "data": {
      "application/vnd.jupyter.widget-view+json": {
       "model_id": "1f90d599d43b442aa0847d560adcaa51",
       "version_major": 2,
       "version_minor": 0
      },
      "text/plain": [
       "HBox(children=(FloatProgress(value=0.0, max=1.0), HTML(value='')))"
      ]
     },
     "metadata": {},
     "output_type": "display_data"
    },
    {
     "name": "stdout",
     "output_type": "stream",
     "text": [
      "\n",
      "comp init\n"
     ]
    },
    {
     "name": "stderr",
     "output_type": "stream",
     "text": [
      "/home/fueki/anaconda3/envs/all/lib/python3.7/site-packages/ipykernel_launcher.py:47: TqdmDeprecationWarning: This function will be removed in tqdm==5.0.0\n",
      "Please use `tqdm.notebook.tqdm` instead of `tqdm.tqdm_notebook`\n"
     ]
    },
    {
     "data": {
      "application/vnd.jupyter.widget-view+json": {
       "model_id": "636d4f5b16924d52bcafa3cc30bab004",
       "version_major": 2,
       "version_minor": 0
      },
      "text/plain": [
       "HBox(children=(FloatProgress(value=0.0, max=75879.0), HTML(value='')))"
      ]
     },
     "metadata": {},
     "output_type": "display_data"
    },
    {
     "name": "stdout",
     "output_type": "stream",
     "text": [
      "\n"
     ]
    },
    {
     "data": {
      "application/vnd.jupyter.widget-view+json": {
       "model_id": "5d23569caa204559b537ca9bc6b7cbf3",
       "version_major": 2,
       "version_minor": 0
      },
      "text/plain": [
       "HBox(children=(FloatProgress(value=0.0, max=75879.0), HTML(value='')))"
      ]
     },
     "metadata": {},
     "output_type": "display_data"
    },
    {
     "name": "stdout",
     "output_type": "stream",
     "text": [
      "\n"
     ]
    },
    {
     "data": {
      "application/vnd.jupyter.widget-view+json": {
       "model_id": "a956898aa54147a9ab9b60e0813576a3",
       "version_major": 2,
       "version_minor": 0
      },
      "text/plain": [
       "HBox(children=(FloatProgress(value=0.0, max=75879.0), HTML(value='')))"
      ]
     },
     "metadata": {},
     "output_type": "display_data"
    },
    {
     "name": "stdout",
     "output_type": "stream",
     "text": [
      "\n"
     ]
    },
    {
     "data": {
      "application/vnd.jupyter.widget-view+json": {
       "model_id": "4d4c24fcd98e4c4f99295fa10fbb3bc4",
       "version_major": 2,
       "version_minor": 0
      },
      "text/plain": [
       "HBox(children=(FloatProgress(value=0.0, max=75879.0), HTML(value='')))"
      ]
     },
     "metadata": {},
     "output_type": "display_data"
    },
    {
     "name": "stdout",
     "output_type": "stream",
     "text": [
      "\n"
     ]
    },
    {
     "data": {
      "application/vnd.jupyter.widget-view+json": {
       "model_id": "7f847ace747d45919e910dc29f17695d",
       "version_major": 2,
       "version_minor": 0
      },
      "text/plain": [
       "HBox(children=(FloatProgress(value=0.0, max=75879.0), HTML(value='')))"
      ]
     },
     "metadata": {},
     "output_type": "display_data"
    },
    {
     "name": "stdout",
     "output_type": "stream",
     "text": [
      "\n"
     ]
    },
    {
     "data": {
      "application/vnd.jupyter.widget-view+json": {
       "model_id": "0c59d99edb4844f186efaf8b92343d88",
       "version_major": 2,
       "version_minor": 0
      },
      "text/plain": [
       "HBox(children=(FloatProgress(value=0.0, max=75879.0), HTML(value='')))"
      ]
     },
     "metadata": {},
     "output_type": "display_data"
    },
    {
     "name": "stdout",
     "output_type": "stream",
     "text": [
      "\n"
     ]
    },
    {
     "data": {
      "application/vnd.jupyter.widget-view+json": {
       "model_id": "d880a98914d440bca334816371c21b28",
       "version_major": 2,
       "version_minor": 0
      },
      "text/plain": [
       "HBox(children=(FloatProgress(value=0.0, max=75879.0), HTML(value='')))"
      ]
     },
     "metadata": {},
     "output_type": "display_data"
    },
    {
     "name": "stdout",
     "output_type": "stream",
     "text": [
      "\n"
     ]
    },
    {
     "data": {
      "application/vnd.jupyter.widget-view+json": {
       "model_id": "04e72ce29b4d4a7883bea5eb27986955",
       "version_major": 2,
       "version_minor": 0
      },
      "text/plain": [
       "HBox(children=(FloatProgress(value=0.0, max=75879.0), HTML(value='')))"
      ]
     },
     "metadata": {},
     "output_type": "display_data"
    },
    {
     "name": "stdout",
     "output_type": "stream",
     "text": [
      "\n"
     ]
    },
    {
     "data": {
      "application/vnd.jupyter.widget-view+json": {
       "model_id": "2f5b566f18c34505a60a9ec1952277a7",
       "version_major": 2,
       "version_minor": 0
      },
      "text/plain": [
       "HBox(children=(FloatProgress(value=0.0, max=75879.0), HTML(value='')))"
      ]
     },
     "metadata": {},
     "output_type": "display_data"
    },
    {
     "name": "stdout",
     "output_type": "stream",
     "text": [
      "\n"
     ]
    },
    {
     "data": {
      "application/vnd.jupyter.widget-view+json": {
       "model_id": "94f00a23441b4a24b256fd66d5f27d86",
       "version_major": 2,
       "version_minor": 0
      },
      "text/plain": [
       "HBox(children=(FloatProgress(value=0.0, max=75879.0), HTML(value='')))"
      ]
     },
     "metadata": {},
     "output_type": "display_data"
    },
    {
     "name": "stdout",
     "output_type": "stream",
     "text": [
      "\n"
     ]
    },
    {
     "data": {
      "application/vnd.jupyter.widget-view+json": {
       "model_id": "bfd7d918bfc34ddf80392a1955a9c787",
       "version_major": 2,
       "version_minor": 0
      },
      "text/plain": [
       "HBox(children=(FloatProgress(value=0.0, max=75879.0), HTML(value='')))"
      ]
     },
     "metadata": {},
     "output_type": "display_data"
    },
    {
     "name": "stdout",
     "output_type": "stream",
     "text": [
      "\n"
     ]
    },
    {
     "data": {
      "application/vnd.jupyter.widget-view+json": {
       "model_id": "889fbd5964a94a3484b574ef43c6b582",
       "version_major": 2,
       "version_minor": 0
      },
      "text/plain": [
       "HBox(children=(FloatProgress(value=0.0, max=75879.0), HTML(value='')))"
      ]
     },
     "metadata": {},
     "output_type": "display_data"
    },
    {
     "name": "stdout",
     "output_type": "stream",
     "text": [
      "\n"
     ]
    },
    {
     "data": {
      "application/vnd.jupyter.widget-view+json": {
       "model_id": "76bbb0d2a74048a39b9102485562ffb2",
       "version_major": 2,
       "version_minor": 0
      },
      "text/plain": [
       "HBox(children=(FloatProgress(value=0.0, max=75879.0), HTML(value='')))"
      ]
     },
     "metadata": {},
     "output_type": "display_data"
    },
    {
     "name": "stdout",
     "output_type": "stream",
     "text": [
      "\n"
     ]
    },
    {
     "data": {
      "application/vnd.jupyter.widget-view+json": {
       "model_id": "3bf3a3b8dfbd463a99d180418924760b",
       "version_major": 2,
       "version_minor": 0
      },
      "text/plain": [
       "HBox(children=(FloatProgress(value=0.0, max=75879.0), HTML(value='')))"
      ]
     },
     "metadata": {},
     "output_type": "display_data"
    },
    {
     "name": "stdout",
     "output_type": "stream",
     "text": [
      "\n"
     ]
    },
    {
     "data": {
      "application/vnd.jupyter.widget-view+json": {
       "model_id": "b3aa9361684242e2a3a6fad2881f8d53",
       "version_major": 2,
       "version_minor": 0
      },
      "text/plain": [
       "HBox(children=(FloatProgress(value=0.0, max=75879.0), HTML(value='')))"
      ]
     },
     "metadata": {},
     "output_type": "display_data"
    },
    {
     "name": "stdout",
     "output_type": "stream",
     "text": [
      "\n"
     ]
    },
    {
     "data": {
      "application/vnd.jupyter.widget-view+json": {
       "model_id": "1df4b4d3c3d2493a829462aca2e9387b",
       "version_major": 2,
       "version_minor": 0
      },
      "text/plain": [
       "HBox(children=(FloatProgress(value=0.0, max=75879.0), HTML(value='')))"
      ]
     },
     "metadata": {},
     "output_type": "display_data"
    },
    {
     "name": "stdout",
     "output_type": "stream",
     "text": [
      "\n"
     ]
    },
    {
     "data": {
      "application/vnd.jupyter.widget-view+json": {
       "model_id": "e5f1e49bce6548fb88fc1a6ec565a389",
       "version_major": 2,
       "version_minor": 0
      },
      "text/plain": [
       "HBox(children=(FloatProgress(value=0.0, max=75879.0), HTML(value='')))"
      ]
     },
     "metadata": {},
     "output_type": "display_data"
    },
    {
     "name": "stdout",
     "output_type": "stream",
     "text": [
      "\n"
     ]
    },
    {
     "data": {
      "application/vnd.jupyter.widget-view+json": {
       "model_id": "6e3da384a32447a0b4a297bf0a85eeac",
       "version_major": 2,
       "version_minor": 0
      },
      "text/plain": [
       "HBox(children=(FloatProgress(value=0.0, max=75879.0), HTML(value='')))"
      ]
     },
     "metadata": {},
     "output_type": "display_data"
    },
    {
     "name": "stdout",
     "output_type": "stream",
     "text": [
      "\n"
     ]
    },
    {
     "data": {
      "application/vnd.jupyter.widget-view+json": {
       "model_id": "7dabf05f7c56431594ffbe41de1b64d1",
       "version_major": 2,
       "version_minor": 0
      },
      "text/plain": [
       "HBox(children=(FloatProgress(value=0.0, max=75879.0), HTML(value='')))"
      ]
     },
     "metadata": {},
     "output_type": "display_data"
    },
    {
     "name": "stdout",
     "output_type": "stream",
     "text": [
      "\n"
     ]
    },
    {
     "data": {
      "application/vnd.jupyter.widget-view+json": {
       "model_id": "1bb6cca48b314862ad39b285f106f56c",
       "version_major": 2,
       "version_minor": 0
      },
      "text/plain": [
       "HBox(children=(FloatProgress(value=0.0, max=75879.0), HTML(value='')))"
      ]
     },
     "metadata": {},
     "output_type": "display_data"
    },
    {
     "name": "stdout",
     "output_type": "stream",
     "text": [
      "\n"
     ]
    },
    {
     "data": {
      "application/vnd.jupyter.widget-view+json": {
       "model_id": "7127200bd1f046c78f43d4c529989431",
       "version_major": 2,
       "version_minor": 0
      },
      "text/plain": [
       "HBox(children=(FloatProgress(value=0.0, max=75879.0), HTML(value='')))"
      ]
     },
     "metadata": {},
     "output_type": "display_data"
    },
    {
     "name": "stdout",
     "output_type": "stream",
     "text": [
      "\n"
     ]
    },
    {
     "data": {
      "application/vnd.jupyter.widget-view+json": {
       "model_id": "ac6e4012bb264dd4846d07124f902230",
       "version_major": 2,
       "version_minor": 0
      },
      "text/plain": [
       "HBox(children=(FloatProgress(value=0.0, max=75879.0), HTML(value='')))"
      ]
     },
     "metadata": {},
     "output_type": "display_data"
    },
    {
     "name": "stdout",
     "output_type": "stream",
     "text": [
      "\n"
     ]
    },
    {
     "data": {
      "application/vnd.jupyter.widget-view+json": {
       "model_id": "c895d79f3c01458a8f85965de33dfd27",
       "version_major": 2,
       "version_minor": 0
      },
      "text/plain": [
       "HBox(children=(FloatProgress(value=0.0, max=75879.0), HTML(value='')))"
      ]
     },
     "metadata": {},
     "output_type": "display_data"
    },
    {
     "name": "stdout",
     "output_type": "stream",
     "text": [
      "\n"
     ]
    },
    {
     "data": {
      "application/vnd.jupyter.widget-view+json": {
       "model_id": "cb1eb6e2340c4657910ff1e16f8cb6cd",
       "version_major": 2,
       "version_minor": 0
      },
      "text/plain": [
       "HBox(children=(FloatProgress(value=0.0, max=75879.0), HTML(value='')))"
      ]
     },
     "metadata": {},
     "output_type": "display_data"
    },
    {
     "name": "stdout",
     "output_type": "stream",
     "text": [
      "\n"
     ]
    },
    {
     "data": {
      "application/vnd.jupyter.widget-view+json": {
       "model_id": "dd5c274029f14718be99067e8ddfc8f8",
       "version_major": 2,
       "version_minor": 0
      },
      "text/plain": [
       "HBox(children=(FloatProgress(value=0.0, max=75879.0), HTML(value='')))"
      ]
     },
     "metadata": {},
     "output_type": "display_data"
    },
    {
     "name": "stdout",
     "output_type": "stream",
     "text": [
      "\n"
     ]
    },
    {
     "data": {
      "application/vnd.jupyter.widget-view+json": {
       "model_id": "c4ee458a3bf74e169e9e46ca2e7042ca",
       "version_major": 2,
       "version_minor": 0
      },
      "text/plain": [
       "HBox(children=(FloatProgress(value=0.0, max=75879.0), HTML(value='')))"
      ]
     },
     "metadata": {},
     "output_type": "display_data"
    },
    {
     "name": "stdout",
     "output_type": "stream",
     "text": [
      "\n"
     ]
    },
    {
     "data": {
      "application/vnd.jupyter.widget-view+json": {
       "model_id": "13f2c99ecaa94f6f89ef2166a43d5272",
       "version_major": 2,
       "version_minor": 0
      },
      "text/plain": [
       "HBox(children=(FloatProgress(value=0.0, max=75879.0), HTML(value='')))"
      ]
     },
     "metadata": {},
     "output_type": "display_data"
    },
    {
     "name": "stdout",
     "output_type": "stream",
     "text": [
      "\n"
     ]
    },
    {
     "data": {
      "application/vnd.jupyter.widget-view+json": {
       "model_id": "c32b333b714d4c96b52428df5887b27d",
       "version_major": 2,
       "version_minor": 0
      },
      "text/plain": [
       "HBox(children=(FloatProgress(value=0.0, max=75879.0), HTML(value='')))"
      ]
     },
     "metadata": {},
     "output_type": "display_data"
    },
    {
     "name": "stdout",
     "output_type": "stream",
     "text": [
      "\n"
     ]
    },
    {
     "data": {
      "application/vnd.jupyter.widget-view+json": {
       "model_id": "f0b12e5bc79b43c68eee15903d442428",
       "version_major": 2,
       "version_minor": 0
      },
      "text/plain": [
       "HBox(children=(FloatProgress(value=0.0, max=75879.0), HTML(value='')))"
      ]
     },
     "metadata": {},
     "output_type": "display_data"
    },
    {
     "name": "stdout",
     "output_type": "stream",
     "text": [
      "\n"
     ]
    },
    {
     "data": {
      "application/vnd.jupyter.widget-view+json": {
       "model_id": "b88d11bd2b66407f94644cfb8430cf1c",
       "version_major": 2,
       "version_minor": 0
      },
      "text/plain": [
       "HBox(children=(FloatProgress(value=0.0, max=75879.0), HTML(value='')))"
      ]
     },
     "metadata": {},
     "output_type": "display_data"
    },
    {
     "name": "stdout",
     "output_type": "stream",
     "text": [
      "\n"
     ]
    },
    {
     "data": {
      "application/vnd.jupyter.widget-view+json": {
       "model_id": "11ff5e7725f94f7f92b0498ab0aa12d3",
       "version_major": 2,
       "version_minor": 0
      },
      "text/plain": [
       "HBox(children=(FloatProgress(value=0.0, max=75879.0), HTML(value='')))"
      ]
     },
     "metadata": {},
     "output_type": "display_data"
    },
    {
     "name": "stdout",
     "output_type": "stream",
     "text": [
      "\n"
     ]
    },
    {
     "data": {
      "application/vnd.jupyter.widget-view+json": {
       "model_id": "608737bf2d4e46fdbc7ae54a47ea1b13",
       "version_major": 2,
       "version_minor": 0
      },
      "text/plain": [
       "HBox(children=(FloatProgress(value=0.0, max=75879.0), HTML(value='')))"
      ]
     },
     "metadata": {},
     "output_type": "display_data"
    },
    {
     "name": "stdout",
     "output_type": "stream",
     "text": [
      "\n"
     ]
    },
    {
     "data": {
      "application/vnd.jupyter.widget-view+json": {
       "model_id": "f799b4ff788c4ebea5d20ec8067396c3",
       "version_major": 2,
       "version_minor": 0
      },
      "text/plain": [
       "HBox(children=(FloatProgress(value=0.0, max=75879.0), HTML(value='')))"
      ]
     },
     "metadata": {},
     "output_type": "display_data"
    },
    {
     "name": "stdout",
     "output_type": "stream",
     "text": [
      "\n"
     ]
    },
    {
     "data": {
      "application/vnd.jupyter.widget-view+json": {
       "model_id": "842c43d4784d420bbb2d9e6e46db7e41",
       "version_major": 2,
       "version_minor": 0
      },
      "text/plain": [
       "HBox(children=(FloatProgress(value=0.0, max=75879.0), HTML(value='')))"
      ]
     },
     "metadata": {},
     "output_type": "display_data"
    },
    {
     "name": "stdout",
     "output_type": "stream",
     "text": [
      "\n"
     ]
    },
    {
     "data": {
      "application/vnd.jupyter.widget-view+json": {
       "model_id": "161ddd4d39dc447f94537b726d508ab9",
       "version_major": 2,
       "version_minor": 0
      },
      "text/plain": [
       "HBox(children=(FloatProgress(value=0.0, max=75879.0), HTML(value='')))"
      ]
     },
     "metadata": {},
     "output_type": "display_data"
    },
    {
     "name": "stdout",
     "output_type": "stream",
     "text": [
      "\n"
     ]
    },
    {
     "data": {
      "application/vnd.jupyter.widget-view+json": {
       "model_id": "de486f696462493fa76c6ac5f49b04ac",
       "version_major": 2,
       "version_minor": 0
      },
      "text/plain": [
       "HBox(children=(FloatProgress(value=0.0, max=75879.0), HTML(value='')))"
      ]
     },
     "metadata": {},
     "output_type": "display_data"
    },
    {
     "name": "stdout",
     "output_type": "stream",
     "text": [
      "\n"
     ]
    },
    {
     "data": {
      "application/vnd.jupyter.widget-view+json": {
       "model_id": "84df86b480a64ff3922c9e9150e94daa",
       "version_major": 2,
       "version_minor": 0
      },
      "text/plain": [
       "HBox(children=(FloatProgress(value=0.0, max=75879.0), HTML(value='')))"
      ]
     },
     "metadata": {},
     "output_type": "display_data"
    },
    {
     "name": "stdout",
     "output_type": "stream",
     "text": [
      "\n"
     ]
    },
    {
     "data": {
      "application/vnd.jupyter.widget-view+json": {
       "model_id": "3b89f4799dfb4c20b52700610389ad84",
       "version_major": 2,
       "version_minor": 0
      },
      "text/plain": [
       "HBox(children=(FloatProgress(value=0.0, max=75879.0), HTML(value='')))"
      ]
     },
     "metadata": {},
     "output_type": "display_data"
    },
    {
     "name": "stdout",
     "output_type": "stream",
     "text": [
      "\n"
     ]
    },
    {
     "data": {
      "application/vnd.jupyter.widget-view+json": {
       "model_id": "cdf2da35c95d47a48450e061ea4c5c36",
       "version_major": 2,
       "version_minor": 0
      },
      "text/plain": [
       "HBox(children=(FloatProgress(value=0.0, max=75879.0), HTML(value='')))"
      ]
     },
     "metadata": {},
     "output_type": "display_data"
    },
    {
     "name": "stdout",
     "output_type": "stream",
     "text": [
      "\n"
     ]
    },
    {
     "data": {
      "application/vnd.jupyter.widget-view+json": {
       "model_id": "0e3bfd5fefca460eb570b32d9c2d4a0f",
       "version_major": 2,
       "version_minor": 0
      },
      "text/plain": [
       "HBox(children=(FloatProgress(value=0.0, max=75879.0), HTML(value='')))"
      ]
     },
     "metadata": {},
     "output_type": "display_data"
    },
    {
     "name": "stdout",
     "output_type": "stream",
     "text": [
      "\n"
     ]
    },
    {
     "data": {
      "application/vnd.jupyter.widget-view+json": {
       "model_id": "c9d470139dde4cdc87369d4ea6f1eb09",
       "version_major": 2,
       "version_minor": 0
      },
      "text/plain": [
       "HBox(children=(FloatProgress(value=0.0, max=75879.0), HTML(value='')))"
      ]
     },
     "metadata": {},
     "output_type": "display_data"
    },
    {
     "name": "stdout",
     "output_type": "stream",
     "text": [
      "\n"
     ]
    },
    {
     "data": {
      "application/vnd.jupyter.widget-view+json": {
       "model_id": "94d49e9144fd456a84408f9d3986abde",
       "version_major": 2,
       "version_minor": 0
      },
      "text/plain": [
       "HBox(children=(FloatProgress(value=0.0, max=75879.0), HTML(value='')))"
      ]
     },
     "metadata": {},
     "output_type": "display_data"
    },
    {
     "name": "stdout",
     "output_type": "stream",
     "text": [
      "\n"
     ]
    },
    {
     "data": {
      "application/vnd.jupyter.widget-view+json": {
       "model_id": "087f20b6d0c84f07b815425e3b238302",
       "version_major": 2,
       "version_minor": 0
      },
      "text/plain": [
       "HBox(children=(FloatProgress(value=0.0, max=75879.0), HTML(value='')))"
      ]
     },
     "metadata": {},
     "output_type": "display_data"
    },
    {
     "name": "stdout",
     "output_type": "stream",
     "text": [
      "\n"
     ]
    },
    {
     "data": {
      "application/vnd.jupyter.widget-view+json": {
       "model_id": "ce31ac2d8b92454a994c1e2d293a7774",
       "version_major": 2,
       "version_minor": 0
      },
      "text/plain": [
       "HBox(children=(FloatProgress(value=0.0, max=75879.0), HTML(value='')))"
      ]
     },
     "metadata": {},
     "output_type": "display_data"
    },
    {
     "name": "stdout",
     "output_type": "stream",
     "text": [
      "\n"
     ]
    },
    {
     "data": {
      "application/vnd.jupyter.widget-view+json": {
       "model_id": "ba0ff57ef0624d14b2a81585ac7618c5",
       "version_major": 2,
       "version_minor": 0
      },
      "text/plain": [
       "HBox(children=(FloatProgress(value=0.0, max=75879.0), HTML(value='')))"
      ]
     },
     "metadata": {},
     "output_type": "display_data"
    },
    {
     "name": "stdout",
     "output_type": "stream",
     "text": [
      "\n"
     ]
    },
    {
     "data": {
      "application/vnd.jupyter.widget-view+json": {
       "model_id": "0144089c91e9425e9b41ee71d4d5bc1d",
       "version_major": 2,
       "version_minor": 0
      },
      "text/plain": [
       "HBox(children=(FloatProgress(value=0.0, max=75879.0), HTML(value='')))"
      ]
     },
     "metadata": {},
     "output_type": "display_data"
    },
    {
     "name": "stdout",
     "output_type": "stream",
     "text": [
      "\n"
     ]
    },
    {
     "data": {
      "application/vnd.jupyter.widget-view+json": {
       "model_id": "c239daa255e5495e967e5bedc6733782",
       "version_major": 2,
       "version_minor": 0
      },
      "text/plain": [
       "HBox(children=(FloatProgress(value=0.0, max=75879.0), HTML(value='')))"
      ]
     },
     "metadata": {},
     "output_type": "display_data"
    },
    {
     "name": "stdout",
     "output_type": "stream",
     "text": [
      "\n"
     ]
    },
    {
     "data": {
      "application/vnd.jupyter.widget-view+json": {
       "model_id": "2d245b7ee83f4cce91b0f6caf7bb780e",
       "version_major": 2,
       "version_minor": 0
      },
      "text/plain": [
       "HBox(children=(FloatProgress(value=0.0, max=75879.0), HTML(value='')))"
      ]
     },
     "metadata": {},
     "output_type": "display_data"
    },
    {
     "name": "stdout",
     "output_type": "stream",
     "text": [
      "\n"
     ]
    },
    {
     "data": {
      "application/vnd.jupyter.widget-view+json": {
       "model_id": "fd345953b2414338a687658052b66da0",
       "version_major": 2,
       "version_minor": 0
      },
      "text/plain": [
       "HBox(children=(FloatProgress(value=0.0, max=75879.0), HTML(value='')))"
      ]
     },
     "metadata": {},
     "output_type": "display_data"
    },
    {
     "name": "stdout",
     "output_type": "stream",
     "text": [
      "\n"
     ]
    },
    {
     "data": {
      "application/vnd.jupyter.widget-view+json": {
       "model_id": "7b5cfc54bd8240518af08e47e8897fbe",
       "version_major": 2,
       "version_minor": 0
      },
      "text/plain": [
       "HBox(children=(FloatProgress(value=0.0, max=75879.0), HTML(value='')))"
      ]
     },
     "metadata": {},
     "output_type": "display_data"
    },
    {
     "name": "stdout",
     "output_type": "stream",
     "text": [
      "\n"
     ]
    }
   ],
   "source": [
    "start = time.time()\n",
    "S[\"TR\"], time_list = PMC_greedy_time(network_np, 50, 1)\n",
    "run_time[\"TR\"] = time.time() - start"
   ]
  },
  {
   "cell_type": "code",
   "execution_count": null,
   "metadata": {},
   "outputs": [],
   "source": [
    "TR_df_seed_time = pd.DataFrame({\"Size of Seed Set\":range(1,51), \n",
    "                                \"Running Time[s]\":time_list}).set_index(\"Size of Seed Set\")\n",
    "TR_df_seed_time.to_csv(\"TR_df_seed_time.csv\")"
   ]
  },
  {
   "cell_type": "code",
   "execution_count": null,
   "metadata": {},
   "outputs": [],
   "source": [
    "TR_df_seed_time.plot()"
   ]
  },
  {
   "cell_type": "code",
   "execution_count": null,
   "metadata": {},
   "outputs": [],
   "source": [
    "run_time[\"TR\"]\n",
    "# 14991.995094537735"
   ]
  },
  {
   "cell_type": "code",
   "execution_count": null,
   "metadata": {
    "scrolled": true
   },
   "outputs": [],
   "source": [
    "S[\"TR\"]\n",
    "# [5175,\n",
    "#  3805,\n",
    "#  1209,\n",
    "#  4077,\n",
    "#  5432,\n",
    "#  962,\n",
    "#  12948,\n",
    "#  622,\n",
    "#  4154,\n",
    "#  5803,\n",
    "#  1805,\n",
    "#  6529,\n",
    "#  762,\n",
    "#  9419,\n",
    "#  3023,\n",
    "#  4092,\n",
    "#  1643,\n",
    "#  183,\n",
    "#  3987,\n",
    "#  4716,\n",
    "#  10070,\n",
    "#  2200,\n",
    "#  7642,\n",
    "#  8975,\n",
    "#  188,\n",
    "#  6701,\n",
    "#  7544,\n",
    "#  19561,\n",
    "#  5752,\n",
    "#  178,\n",
    "#  260,\n",
    "#  459,\n",
    "#  2274,\n",
    "#  2199,\n",
    "#  10997,\n",
    "#  591,\n",
    "#  1931,\n",
    "#  3778,\n",
    "#  4832,\n",
    "#  950,\n",
    "#  572,\n",
    "#  19583,\n",
    "#  3515,\n",
    "#  246,\n",
    "#  3519,\n",
    "#  5832,\n",
    "#  71401,\n",
    "#  821,\n",
    "#  5359,\n",
    "#  2736]"
   ]
  },
  {
   "cell_type": "markdown",
   "metadata": {},
   "source": [
    "### P=0.1"
   ]
  },
  {
   "cell_type": "code",
   "execution_count": null,
   "metadata": {
    "scrolled": false
   },
   "outputs": [],
   "source": [
    "# 枝確率を計算済みのネットワークを読み込む\n",
    "network = pd.read_csv(\"data/Epinions/P=0_1.csv\")\n",
    "network.head()"
   ]
  },
  {
   "cell_type": "code",
   "execution_count": null,
   "metadata": {},
   "outputs": [],
   "source": [
    "# numpy型に変換\n",
    "network_np = network.values"
   ]
  },
  {
   "cell_type": "code",
   "execution_count": null,
   "metadata": {
    "scrolled": true
   },
   "outputs": [],
   "source": [
    "start = time.time()\n",
    "S[\"P=0_1\"], time_list = PMC_greedy_time(network_np, 50, 200)\n",
    "run_time[\"P=0_1\"] = time.time() - start"
   ]
  },
  {
   "cell_type": "code",
   "execution_count": null,
   "metadata": {},
   "outputs": [],
   "source": [
    "P01_df_seed_time = pd.DataFrame({\"Size of Seed Set\":range(1,51), \n",
    "                                \"Running Time[s]\":time_list}).set_index(\"Size of Seed Set\")\n",
    "P01_df_seed_time.to_csv(\"P01_df_seed_time.csv\")"
   ]
  },
  {
   "cell_type": "code",
   "execution_count": null,
   "metadata": {},
   "outputs": [],
   "source": [
    "P01_df_seed_time.plot()"
   ]
  },
  {
   "cell_type": "code",
   "execution_count": null,
   "metadata": {},
   "outputs": [],
   "source": [
    "run_time[\"P=0_1\"]"
   ]
  },
  {
   "cell_type": "code",
   "execution_count": null,
   "metadata": {},
   "outputs": [],
   "source": [
    "S[\"P=0_1\"]"
   ]
  },
  {
   "cell_type": "markdown",
   "metadata": {},
   "source": [
    "### P=0.01"
   ]
  },
  {
   "cell_type": "code",
   "execution_count": null,
   "metadata": {
    "scrolled": false
   },
   "outputs": [],
   "source": [
    "# 枝確率を計算済みのネットワークを読み込む\n",
    "network = pd.read_csv(\"data/Epinions/P=0_01.csv\")\n",
    "network.head()"
   ]
  },
  {
   "cell_type": "code",
   "execution_count": null,
   "metadata": {},
   "outputs": [],
   "source": [
    "# numpy型に変換\n",
    "network_np = network.values"
   ]
  },
  {
   "cell_type": "code",
   "execution_count": null,
   "metadata": {
    "scrolled": true
   },
   "outputs": [],
   "source": [
    "start = time.time()\n",
    "S[\"P=0_01\"], time_list = PMC_greedy_time(network_np, 50, 200)\n",
    "run_time[\"P=0_01\"] = time.time() - start"
   ]
  },
  {
   "cell_type": "code",
   "execution_count": null,
   "metadata": {},
   "outputs": [],
   "source": [
    "P001_df_seed_time = pd.DataFrame({\"Size of Seed Set\":range(1,51), \n",
    "                                \"Running Time[s]\":time_list}).set_index(\"Size of Seed Set\")\n",
    "P001_df_seed_time.to_csv(\"P001_df_seed_time.csv\")"
   ]
  },
  {
   "cell_type": "code",
   "execution_count": null,
   "metadata": {},
   "outputs": [],
   "source": [
    "P001_df_seed_time.plot()"
   ]
  },
  {
   "cell_type": "code",
   "execution_count": null,
   "metadata": {},
   "outputs": [],
   "source": [
    "run_time[\"P=0_01\"]"
   ]
  },
  {
   "cell_type": "code",
   "execution_count": null,
   "metadata": {
    "scrolled": true
   },
   "outputs": [],
   "source": [
    "S[\"P=0_01\"]"
   ]
  },
  {
   "cell_type": "markdown",
   "metadata": {},
   "source": [
    "### P=0.001"
   ]
  },
  {
   "cell_type": "code",
   "execution_count": null,
   "metadata": {
    "scrolled": false
   },
   "outputs": [],
   "source": [
    "# 枝確率を計算済みのネットワークを読み込む\n",
    "network = pd.read_csv(\"data/Epinions/P=0_001.csv\")\n",
    "network.head()"
   ]
  },
  {
   "cell_type": "code",
   "execution_count": null,
   "metadata": {},
   "outputs": [],
   "source": [
    "# numpy型に変換\n",
    "network_np = network.values"
   ]
  },
  {
   "cell_type": "code",
   "execution_count": null,
   "metadata": {
    "scrolled": true
   },
   "outputs": [],
   "source": [
    "start = time.time()\n",
    "S[\"P=0_001\"], time_list = PMC_greedy_time(network_np, 50, 200)\n",
    "run_time[\"P=0_001\"] = time.time() - start"
   ]
  },
  {
   "cell_type": "code",
   "execution_count": null,
   "metadata": {},
   "outputs": [],
   "source": [
    "P0001_df_seed_time = pd.DataFrame({\"Size of Seed Set\":range(1,51), \n",
    "                                \"Running Time[s]\":time_list}).set_index(\"Size of Seed Set\")\n",
    "P0001_df_seed_time.to_csv(\"P0001_df_seed_time.csv\")"
   ]
  },
  {
   "cell_type": "code",
   "execution_count": null,
   "metadata": {},
   "outputs": [],
   "source": [
    "P0001_df_seed_time.plot()"
   ]
  },
  {
   "cell_type": "code",
   "execution_count": null,
   "metadata": {},
   "outputs": [],
   "source": [
    "run_time[\"P=0_001\"]"
   ]
  },
  {
   "cell_type": "code",
   "execution_count": null,
   "metadata": {},
   "outputs": [],
   "source": [
    "S[\"P=0_001\"]"
   ]
  },
  {
   "cell_type": "code",
   "execution_count": null,
   "metadata": {},
   "outputs": [],
   "source": []
  },
  {
   "cell_type": "markdown",
   "metadata": {},
   "source": [
    "# 結果"
   ]
  },
  {
   "cell_type": "code",
   "execution_count": null,
   "metadata": {},
   "outputs": [],
   "source": [
    "pd.DataFrame(S)"
   ]
  },
  {
   "cell_type": "code",
   "execution_count": null,
   "metadata": {},
   "outputs": [],
   "source": [
    "pd.DataFrame(run_time)"
   ]
  },
  {
   "cell_type": "code",
   "execution_count": null,
   "metadata": {},
   "outputs": [],
   "source": []
  }
 ],
 "metadata": {
  "kernelspec": {
   "display_name": "Python 3",
   "language": "python",
   "name": "python3"
  },
  "language_info": {
   "codemirror_mode": {
    "name": "ipython",
    "version": 3
   },
   "file_extension": ".py",
   "mimetype": "text/x-python",
   "name": "python",
   "nbconvert_exporter": "python",
   "pygments_lexer": "ipython3",
   "version": "3.7.5"
  }
 },
 "nbformat": 4,
 "nbformat_minor": 2
}
