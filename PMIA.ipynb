{
 "cells": [
  {
   "cell_type": "code",
   "execution_count": 46,
   "metadata": {},
   "outputs": [],
   "source": [
    "# ソートする必要はあるのか"
   ]
  },
  {
   "cell_type": "code",
   "execution_count": 1,
   "metadata": {},
   "outputs": [],
   "source": [
    "import itertools\n",
    "import random\n",
    "import networkx as nx\n",
    "import matplotlib.pyplot as plt\n",
    "import numpy as np\n",
    "from tqdm import tqdm_notebook as tqdm\n",
    "import pandas as pd\n",
    "import time\n",
    "import sys\n",
    "sys.setrecursionlimit(20000)\n",
    "\n",
    "%matplotlib inline"
   ]
  },
  {
   "cell_type": "code",
   "execution_count": 3,
   "metadata": {},
   "outputs": [],
   "source": [
    "def make_random_graph_list(V_size, E_size):\n",
    "    network_list = np.array([np.random.choice(range(V_size),2,replace=False) for i in range(E_size)])\n",
    "    network_list = np.unique(network_list, axis=0)\n",
    "    weighted = np.random.uniform(0,1,len(network_list))\n",
    "    \n",
    "    # from to と　weightedを連結\n",
    "    return np.vstack([network_list.T, weighted]).T"
   ]
  },
  {
   "cell_type": "code",
   "execution_count": 4,
   "metadata": {},
   "outputs": [],
   "source": [
    "def compute_ap(ap, S, MIIA_v, MIIA_MIP_v, G):\n",
    "    # MIIAtreeの末端から計算すれば、効率的になるため、ソート\n",
    "    sorted_path_len = sorted(MIIA_MIP_v.items(), key=lambda x:len(x[1]), reverse=True)\n",
    "    \n",
    "    for u, _ in sorted_path_len:\n",
    "        if u in S:\n",
    "            ap[(u, MIIA_v)] = 1\n",
    "        else:\n",
    "            N_in = MIIA_v.in_edges([u])\n",
    "            if not N_in:\n",
    "                ap[(u, MIIA_v)] = 0\n",
    "            else:\n",
    "                prod = 1\n",
    "                for w, _ in N_in:\n",
    "                    prod *= 1 - ap[(w, MIIA_v)] * G[w][u][\"weight\"]\n",
    "                ap[(u, MIIA_v)] = 1 - prod"
   ]
  },
  {
   "cell_type": "code",
   "execution_count": 5,
   "metadata": {},
   "outputs": [],
   "source": [
    "def compute_alpha(alpha, v, MIIA_v, MIIA_MIP_v, S, G, ap):\n",
    "    # 木のルートからはじめると効率的に計算できる\n",
    "    sorted_path_len = sorted(MIIA_MIP_v.items(), key=lambda x:len(x[1]))\n",
    "\n",
    "    for u, _ in sorted_path_len:\n",
    "        if u == v:\n",
    "            alpha[(MIIA_v, u)] = 1\n",
    "        else:\n",
    "            w = list(MIIA_v.out_edges([u]))[0][1]\n",
    "            if w in S:\n",
    "                alpha[(MIIA_v, u)] = 0\n",
    "            else:\n",
    "                N_in = MIIA_v.in_edges([w])\n",
    "                prod = 1\n",
    "                for u_, _ in N_in:\n",
    "                    if u_ != u:\n",
    "                        prod *= 1 - ap[(u_, MIIA_v)] * G[u_][w][\"weight\"]\n",
    "                alpha[(MIIA_v, u)] = alpha[(MIIA_v, w)] * G[u][w][\"weight\"] * prod"
   ]
  },
  {
   "cell_type": "code",
   "execution_count": 38,
   "metadata": {},
   "outputs": [],
   "source": [
    "def compute_PMIOA(v, theta, S, G):\n",
    "\n",
    "    PMIOA = nx.DiGraph()\n",
    "    PMIOA.add_node(v)\n",
    "    PMIOA_MIP = {v: [v]}\n",
    "\n",
    "    crossing_edges = set([out_edge for out_edge in G.out_edges([v]) if out_edge[1] not in S + [v]])\n",
    "    edge_weights = dict()\n",
    "    dist = {v: 0}\n",
    "\n",
    "    # grow PMIOA\n",
    "    while crossing_edges:\n",
    "        # Dijkstra's greedy criteria\n",
    "        min_dist = float(\"Inf\")\n",
    "        #sorted_crossing_edges = sorted(crossing_edges) # to break ties consistently\n",
    "        sorted_crossing_edges = crossing_edges # to break ties consistently\n",
    "        for edge in sorted_crossing_edges:\n",
    "            if edge not in edge_weights:\n",
    "                edge_weights[edge] = -np.log(G[edge[0]][edge[1]][\"weight\"])\n",
    "            edge_weight = edge_weights[edge]\n",
    "            # 更新条件\n",
    "            if dist[edge[0]] + edge_weight < min_dist:\n",
    "                min_dist = dist[edge[0]] + edge_weight\n",
    "                min_edge = edge\n",
    "        # check stopping criteria\n",
    "        if min_dist < -np.log(theta):\n",
    "            dist[min_edge[1]] = min_dist\n",
    "            PMIOA.add_edge(min_edge[0], min_edge[1])\n",
    "            PMIOA_MIP[min_edge[1]] = PMIOA_MIP[min_edge[0]] + [min_edge[1]]\n",
    "            # update crossing edges\n",
    "            crossing_edges.difference_update(G.in_edges(min_edge[1]))\n",
    "            crossing_edges.update([out_edge for out_edge in G.out_edges(min_edge[1]) \n",
    "                                   if (out_edge[1] not in PMIOA) and (out_edge[1] not in S)])\n",
    "        else:\n",
    "            break\n",
    "    return PMIOA, PMIOA_MIP"
   ]
  },
  {
   "cell_type": "code",
   "execution_count": 39,
   "metadata": {},
   "outputs": [],
   "source": [
    "def compute_PMIIA(v, theta, S, IS_v, G):\n",
    "\n",
    "    PMIIA = nx.DiGraph()\n",
    "    PMIIA.add_node(v)\n",
    "    PMIIA_MIP = {v: [v]}\n",
    "\n",
    "    crossing_edges = set([in_edge for in_edge in G.in_edges([v]) if in_edge[0] not in IS_v + [v]])\n",
    "    #print(\"start\", crossing_edges)\n",
    "    edge_weights = dict()\n",
    "    dist = {v: 0} # shortest paths from the root u\n",
    "\n",
    "    # grow PMIIA\n",
    "    while crossing_edges:\n",
    "        # Dijkstra's greedy criteria\n",
    "        min_dist = float(\"Inf\")\n",
    "        #sorted_crossing_edges = sorted(crossing_edges) # to break ties consistently\n",
    "        sorted_crossing_edges = crossing_edges # to break ties consistently\n",
    "        for edge in sorted_crossing_edges:\n",
    "            if edge not in edge_weights:\n",
    "                edge_weights[edge] = -np.log(G[edge[0]][edge[1]][\"weight\"])\n",
    "            edge_weight = edge_weights[edge]\n",
    "            # 更新条件\n",
    "            if dist[edge[1]] + edge_weight < min_dist:\n",
    "                min_dist = dist[edge[1]] + edge_weight\n",
    "                min_edge = edge\n",
    "        # check stopping criteria\n",
    "        if min_dist < -np.log(theta):\n",
    "            dist[min_edge[0]] = min_dist\n",
    "            PMIIA.add_edge(min_edge[0], min_edge[1])\n",
    "            PMIIA_MIP[min_edge[0]] = PMIIA_MIP[min_edge[1]] + [min_edge[0]]\n",
    "            # update crossing edges\n",
    "            crossing_edges.difference_update(G.out_edges(min_edge[0]))\n",
    "            if min_edge[0] not in S:\n",
    "                crossing_edges.update([in_edge for in_edge in G.in_edges(min_edge[0]) \n",
    "                                       if (in_edge[0] not in PMIIA) and (in_edge[0] not in IS_v)])\n",
    "                #print(\"cros_edges update\", crossing_edges)\n",
    "        else:\n",
    "            break\n",
    "    return PMIIA, PMIIA_MIP"
   ]
  },
  {
   "cell_type": "code",
   "execution_count": 40,
   "metadata": {},
   "outputs": [],
   "source": [
    "# 入力uはシードに追加されるノード\n",
    "def update_IS(IS, S, u, PMIOA_MIP, PMIIA_MIP):\n",
    "    # uがシードに追加されるので、IncInfを更新する際は、このuからの影響を更新すれば良いため、PMIOA[u]を考える\n",
    "    # PMIOA_MIP[u]:root_uから出ていく木のパス\n",
    "    # v:uから到達できるノード(影響を及ぼされるノード)\n",
    "    for v in PMIOA_MIP[u]:\n",
    "        # si:ブロックされる(後続にシードがある)可能性のあるシード\n",
    "        for si in S:\n",
    "            # if seed node is effective and it's blocked by u\n",
    "            # then it becomes ineffective\n",
    "            \n",
    "            # PMIIA[v]:root_vに入ってくる木のパス\n",
    "            # そのパスの中にsiがある場合(PMIIA_MIP[v][si]:siからvまでのパス)\n",
    "            # siからvまでのパスのなかにuが含まれていると、siからuまでのパスが二通りになり、木であることに矛盾してしまう\n",
    "            if (si in PMIIA_MIP[v]) and (si not in IS[v]) and (u in PMIIA_MIP[v][si]):\n",
    "                IS[v].append(si)"
   ]
  },
  {
   "cell_type": "code",
   "execution_count": 41,
   "metadata": {
    "scrolled": false
   },
   "outputs": [],
   "source": [
    "def PMIA(G, k, theta):\n",
    "    start = time.time()\n",
    "    # initialization\n",
    "    S = []\n",
    "    IncInf = dict(zip(G.nodes(), [0]*len(G)))\n",
    "    PMIIA = dict() # node to tree\n",
    "    PMIOA = dict()\n",
    "    PMIIA_MIP = dict() # node to MIPs (dict)\n",
    "    PMIOA_MIP = dict()\n",
    "    ap = dict()\n",
    "    alpha = dict()\n",
    "    IS = dict()\n",
    "    \n",
    "    for v in tqdm(G):\n",
    "        IS[v] = []\n",
    "        PMIIA[v], PMIIA_MIP[v] = compute_PMIIA(v, theta, S, IS[v], G)\n",
    "        for u in PMIIA[v]:\n",
    "            ap[(u, PMIIA[v])] = 0 # ap of u node in PMIIA[v]\n",
    "        compute_alpha(alpha, v, PMIIA[v], PMIIA_MIP[v], S, G, ap)\n",
    "        for u in PMIIA[v]:\n",
    "            IncInf[u] += alpha[(PMIIA[v], u)]*(1 - ap[(u, PMIIA[v])])\n",
    "    \n",
    "    # main loop\n",
    "    for i in range(k):\n",
    "        u = sorted(IncInf.items(), key=lambda x:x[1], reverse=True)[0][0]\n",
    "        print(\"u\",u)\n",
    "        # print i+1, \"node:\", u, \"-->\", IncInf[u]\n",
    "        IncInf.pop(u) # exclude node u for next iterations\n",
    "        PMIOA[u], PMIOA_MIP[u] = compute_PMIOA(u, theta, S, G)\n",
    "        for v in PMIOA[u]:\n",
    "            for w in PMIIA[v]:\n",
    "                if w not in S + [u]:\n",
    "                    IncInf[w] -= alpha[(PMIIA[v],w)]*(1 - ap[(w, PMIIA[v])])\n",
    "\n",
    "        update_IS(IS, S, u, PMIOA_MIP, PMIIA_MIP)\n",
    "        S.append(u)\n",
    "\n",
    "        for v in PMIOA[u]:\n",
    "            if v != u:\n",
    "                PMIIA[v], PMIIA_MIP[v] = compute_PMIIA(v, theta, S, IS[v], G)\n",
    "                compute_ap(ap, S, PMIIA[v], PMIIA_MIP[v], G)\n",
    "                compute_alpha(alpha, v, PMIIA[v], PMIIA_MIP[v], S, G, ap)\n",
    "                # add new incremental influence\n",
    "                for w in PMIIA[v]:\n",
    "                    if w not in S:\n",
    "                        IncInf[w] += alpha[(PMIIA[v], w)]*(1 - ap[(w, PMIIA[v])])\n",
    "\n",
    "    return S"
   ]
  },
  {
   "cell_type": "code",
   "execution_count": 42,
   "metadata": {},
   "outputs": [],
   "source": [
    "# ランダムグラフで行う場合"
   ]
  },
  {
   "cell_type": "code",
   "execution_count": 24,
   "metadata": {},
   "outputs": [],
   "source": [
    "nt = make_random_graph_list(1000,2000)"
   ]
  },
  {
   "cell_type": "code",
   "execution_count": 26,
   "metadata": {},
   "outputs": [],
   "source": [
    "k = 3\n",
    "theta = 0.2\n",
    "# 空の有向グラフを作成\n",
    "G = nx.DiGraph()\n",
    "# 重み付きの枝を加える\n",
    "G.add_weighted_edges_from(nt)"
   ]
  },
  {
   "cell_type": "code",
   "execution_count": 30,
   "metadata": {
    "scrolled": true
   },
   "outputs": [
    {
     "data": {
      "application/vnd.jupyter.widget-view+json": {
       "model_id": "d2e8952c895446ce95176a0010ad5d00",
       "version_major": 2,
       "version_minor": 0
      },
      "text/plain": [
       "HBox(children=(IntProgress(value=0, max=981), HTML(value='')))"
      ]
     },
     "metadata": {},
     "output_type": "display_data"
    },
    {
     "name": "stdout",
     "output_type": "stream",
     "text": [
      "\n",
      "u 526.0\n",
      "u 261.0\n",
      "u 11.0\n",
      "u 38.0\n",
      "u 966.0\n",
      "CPU times: user 4min 51s, sys: 3.92 s, total: 4min 55s\n",
      "Wall time: 5min 2s\n"
     ]
    },
    {
     "data": {
      "text/plain": [
       "[526.0, 261.0, 11.0, 38.0, 966.0]"
      ]
     },
     "execution_count": 30,
     "metadata": {},
     "output_type": "execute_result"
    }
   ],
   "source": [
    "%time PMIA(G, 5, 1/320)"
   ]
  },
  {
   "cell_type": "code",
   "execution_count": 23,
   "metadata": {
    "scrolled": false
   },
   "outputs": [],
   "source": [
    "# # IS挙動の確認用\n",
    "# def PMIA(G, k, theta):\n",
    "#     start = time.time()\n",
    "#     # initialization\n",
    "#     S = []\n",
    "#     IncInf = dict(zip(G.nodes(), [0]*len(G)))\n",
    "#     PMIIA = dict() # node to tree\n",
    "#     PMIOA = dict()\n",
    "#     PMIIA_MIP = dict() # node to MIPs (dict)\n",
    "#     PMIOA_MIP = dict()\n",
    "#     ap = dict()\n",
    "#     alpha = dict()\n",
    "#     IS = dict()\n",
    "    \n",
    "#     for v in G:\n",
    "#         IS[v] = []\n",
    "#         PMIIA[v], PMIIA_MIP[v] = compute_PMIIA(v, theta, S, IS[v], G)\n",
    "#         for u in PMIIA[v]:\n",
    "#             ap[(u, PMIIA[v])] = 0 # ap of u node in PMIIA[v]\n",
    "#         compute_alpha(alpha, v, PMIIA[v], PMIIA_MIP[v], S, G, ap)\n",
    "#         for u in PMIIA[v]:\n",
    "#             IncInf[u] += alpha[(PMIIA[v], u)]*(1 - ap[(u, PMIIA[v])])\n",
    "    \n",
    "#     # main loop\n",
    "#     for i in range(k):\n",
    "#         u = sorted(IncInf.items(), key=lambda x:x[1], reverse=True)[0][0]\n",
    "#         print(\"u\",u)\n",
    "#         # print i+1, \"node:\", u, \"-->\", IncInf[u]\n",
    "#         IncInf.pop(u) # exclude node u for next iterations\n",
    "#         PMIOA[u], PMIOA_MIP[u] = compute_PMIOA(u, theta, S, G)\n",
    "#         for v in PMIOA[u]:\n",
    "#             for w in PMIIA[v]:\n",
    "#                 if w not in S + [u]:\n",
    "#                     IncInf[w] -= alpha[(PMIIA[v],w)]*(1 - ap[(w, PMIIA[v])])\n",
    "                   \n",
    "#         for i in PMIOA[u]:\n",
    "#             for s in S:\n",
    "#                 if (s in PMIIA_MIP[i]) and (u in PMIIA_MIP[i][s]):\n",
    "#                     print(\"Seedからrootにたどり着く間にuを通るか\",S,i,u)\n",
    "#                     nx.draw_networkx(PMIIA[i])\n",
    "#                     plt.show()\n",
    "#                     print(\"****************uを通った*****************\")\n",
    "        \n",
    "#         # ISの更新が怪しい特にS\n",
    "#         update_IS(IS, S, u, PMIOA_MIP, PMIIA_MIP)\n",
    "#         print(\"IS\",IS)\n",
    "#         S.append(u)\n",
    "\n",
    "#         for v in PMIOA[u]:\n",
    "#             if v != u:\n",
    "#                 PMIIA[v], PMIIA_MIP[v] = compute_PMIIA(v, theta, S, IS[v], G)\n",
    "#                 compute_ap(ap, S, PMIIA[v], PMIIA_MIP[v], G)\n",
    "#                 compute_alpha(alpha, v, PMIIA[v], PMIIA_MIP[v], S, G, ap)\n",
    "#                 # add new incremental influence\n",
    "#                 for w in PMIIA[v]:\n",
    "#                     if w not in S:\n",
    "#                         IncInf[w] += alpha[(PMIIA[v], w)]*(1 - ap[(w, PMIIA[v])])\n",
    "\n",
    "#     return S\n",
    "\n",
    "# PMIA(G, 5, 0.001)"
   ]
  },
  {
   "cell_type": "markdown",
   "metadata": {},
   "source": [
    "# データを読み込んで行う場合"
   ]
  },
  {
   "cell_type": "code",
   "execution_count": 43,
   "metadata": {},
   "outputs": [],
   "source": [
    "# データの読み込み\n",
    "# 枝確率を計算済みのネットワークを読み込む\n",
    "network = pd.read_csv(\"data.csv\")\n",
    "network.head()\n",
    "\n",
    "# numpy型に変換\n",
    "network_np = network.values\n",
    "\n",
    "# 空の有向グラフを作成\n",
    "G = nx.DiGraph()\n",
    "\n",
    "# 重み付きの枝を加える\n",
    "G.add_weighted_edges_from(network_np)"
   ]
  },
  {
   "cell_type": "code",
   "execution_count": 45,
   "metadata": {},
   "outputs": [
    {
     "data": {
      "application/vnd.jupyter.widget-view+json": {
       "model_id": "b4fc7f845aac48a0b1736e6ba998b086",
       "version_major": 2,
       "version_minor": 0
      },
      "text/plain": [
       "HBox(children=(IntProgress(value=0, max=75879), HTML(value='')))"
      ]
     },
     "metadata": {},
     "output_type": "display_data"
    },
    {
     "ename": "KeyboardInterrupt",
     "evalue": "",
     "output_type": "error",
     "traceback": [
      "\u001b[0;31m---------------------------------------------------------------------------\u001b[0m",
      "\u001b[0;31mKeyboardInterrupt\u001b[0m                         Traceback (most recent call last)",
      "\u001b[0;32m<timed eval>\u001b[0m in \u001b[0;36m<module>\u001b[0;34m\u001b[0m\n",
      "\u001b[0;32m<ipython-input-41-091f40d9a7ae>\u001b[0m in \u001b[0;36mPMIA\u001b[0;34m(G, k, theta)\u001b[0m\n\u001b[1;32m     14\u001b[0m     \u001b[0;32mfor\u001b[0m \u001b[0mv\u001b[0m \u001b[0;32min\u001b[0m \u001b[0mtqdm\u001b[0m\u001b[0;34m(\u001b[0m\u001b[0mG\u001b[0m\u001b[0;34m)\u001b[0m\u001b[0;34m:\u001b[0m\u001b[0;34m\u001b[0m\u001b[0;34m\u001b[0m\u001b[0m\n\u001b[1;32m     15\u001b[0m         \u001b[0mIS\u001b[0m\u001b[0;34m[\u001b[0m\u001b[0mv\u001b[0m\u001b[0;34m]\u001b[0m \u001b[0;34m=\u001b[0m \u001b[0;34m[\u001b[0m\u001b[0;34m]\u001b[0m\u001b[0;34m\u001b[0m\u001b[0;34m\u001b[0m\u001b[0m\n\u001b[0;32m---> 16\u001b[0;31m         \u001b[0mPMIIA\u001b[0m\u001b[0;34m[\u001b[0m\u001b[0mv\u001b[0m\u001b[0;34m]\u001b[0m\u001b[0;34m,\u001b[0m \u001b[0mPMIIA_MIP\u001b[0m\u001b[0;34m[\u001b[0m\u001b[0mv\u001b[0m\u001b[0;34m]\u001b[0m \u001b[0;34m=\u001b[0m \u001b[0mcompute_PMIIA\u001b[0m\u001b[0;34m(\u001b[0m\u001b[0mv\u001b[0m\u001b[0;34m,\u001b[0m \u001b[0mtheta\u001b[0m\u001b[0;34m,\u001b[0m \u001b[0mS\u001b[0m\u001b[0;34m,\u001b[0m \u001b[0mIS\u001b[0m\u001b[0;34m[\u001b[0m\u001b[0mv\u001b[0m\u001b[0;34m]\u001b[0m\u001b[0;34m,\u001b[0m \u001b[0mG\u001b[0m\u001b[0;34m)\u001b[0m\u001b[0;34m\u001b[0m\u001b[0;34m\u001b[0m\u001b[0m\n\u001b[0m\u001b[1;32m     17\u001b[0m         \u001b[0;32mfor\u001b[0m \u001b[0mu\u001b[0m \u001b[0;32min\u001b[0m \u001b[0mPMIIA\u001b[0m\u001b[0;34m[\u001b[0m\u001b[0mv\u001b[0m\u001b[0;34m]\u001b[0m\u001b[0;34m:\u001b[0m\u001b[0;34m\u001b[0m\u001b[0;34m\u001b[0m\u001b[0m\n\u001b[1;32m     18\u001b[0m             \u001b[0map\u001b[0m\u001b[0;34m[\u001b[0m\u001b[0;34m(\u001b[0m\u001b[0mu\u001b[0m\u001b[0;34m,\u001b[0m \u001b[0mPMIIA\u001b[0m\u001b[0;34m[\u001b[0m\u001b[0mv\u001b[0m\u001b[0;34m]\u001b[0m\u001b[0;34m)\u001b[0m\u001b[0;34m]\u001b[0m \u001b[0;34m=\u001b[0m \u001b[0;36m0\u001b[0m \u001b[0;31m# ap of u node in PMIIA[v]\u001b[0m\u001b[0;34m\u001b[0m\u001b[0;34m\u001b[0m\u001b[0m\n",
      "\u001b[0;32m<ipython-input-39-ad029aa383b6>\u001b[0m in \u001b[0;36mcompute_PMIIA\u001b[0;34m(v, theta, S, IS_v, G)\u001b[0m\n\u001b[1;32m     17\u001b[0m         \u001b[0msorted_crossing_edges\u001b[0m \u001b[0;34m=\u001b[0m \u001b[0mcrossing_edges\u001b[0m \u001b[0;31m# to break ties consistently\u001b[0m\u001b[0;34m\u001b[0m\u001b[0;34m\u001b[0m\u001b[0m\n\u001b[1;32m     18\u001b[0m         \u001b[0;32mfor\u001b[0m \u001b[0medge\u001b[0m \u001b[0;32min\u001b[0m \u001b[0msorted_crossing_edges\u001b[0m\u001b[0;34m:\u001b[0m\u001b[0;34m\u001b[0m\u001b[0;34m\u001b[0m\u001b[0m\n\u001b[0;32m---> 19\u001b[0;31m             \u001b[0;32mif\u001b[0m \u001b[0medge\u001b[0m \u001b[0;32mnot\u001b[0m \u001b[0;32min\u001b[0m \u001b[0medge_weights\u001b[0m\u001b[0;34m:\u001b[0m\u001b[0;34m\u001b[0m\u001b[0;34m\u001b[0m\u001b[0m\n\u001b[0m\u001b[1;32m     20\u001b[0m                 \u001b[0medge_weights\u001b[0m\u001b[0;34m[\u001b[0m\u001b[0medge\u001b[0m\u001b[0;34m]\u001b[0m \u001b[0;34m=\u001b[0m \u001b[0;34m-\u001b[0m\u001b[0mnp\u001b[0m\u001b[0;34m.\u001b[0m\u001b[0mlog\u001b[0m\u001b[0;34m(\u001b[0m\u001b[0mG\u001b[0m\u001b[0;34m[\u001b[0m\u001b[0medge\u001b[0m\u001b[0;34m[\u001b[0m\u001b[0;36m0\u001b[0m\u001b[0;34m]\u001b[0m\u001b[0;34m]\u001b[0m\u001b[0;34m[\u001b[0m\u001b[0medge\u001b[0m\u001b[0;34m[\u001b[0m\u001b[0;36m1\u001b[0m\u001b[0;34m]\u001b[0m\u001b[0;34m]\u001b[0m\u001b[0;34m[\u001b[0m\u001b[0;34m\"weight\"\u001b[0m\u001b[0;34m]\u001b[0m\u001b[0;34m)\u001b[0m\u001b[0;34m\u001b[0m\u001b[0;34m\u001b[0m\u001b[0m\n\u001b[1;32m     21\u001b[0m             \u001b[0medge_weight\u001b[0m \u001b[0;34m=\u001b[0m \u001b[0medge_weights\u001b[0m\u001b[0;34m[\u001b[0m\u001b[0medge\u001b[0m\u001b[0;34m]\u001b[0m\u001b[0;34m\u001b[0m\u001b[0;34m\u001b[0m\u001b[0m\n",
      "\u001b[0;31mKeyboardInterrupt\u001b[0m: "
     ]
    }
   ],
   "source": [
    "%time PMIA(G, 5, 1/320)"
   ]
  },
  {
   "cell_type": "code",
   "execution_count": null,
   "metadata": {},
   "outputs": [],
   "source": [
    "[763.0, 5232.0, 634.0, 5227.0, 4920.0]"
   ]
  }
 ],
 "metadata": {
  "kernelspec": {
   "display_name": "Python 3",
   "language": "python",
   "name": "python3"
  },
  "language_info": {
   "codemirror_mode": {
    "name": "ipython",
    "version": 3
   },
   "file_extension": ".py",
   "mimetype": "text/x-python",
   "name": "python",
   "nbconvert_exporter": "python",
   "pygments_lexer": "ipython3",
   "version": "3.7.4"
  }
 },
 "nbformat": 4,
 "nbformat_minor": 2
}
