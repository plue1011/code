{
 "cells": [
  {
   "cell_type": "code",
   "execution_count": 1,
   "metadata": {},
   "outputs": [],
   "source": [
    "import itertools\n",
    "import random\n",
    "import networkx as nx\n",
    "import matplotlib.pyplot as plt\n",
    "import numpy as np\n",
    "from tqdm import tqdm_notebook as tqdm\n",
    "import pandas as pd\n",
    "import time\n",
    "\n",
    "%matplotlib inline"
   ]
  },
  {
   "cell_type": "code",
   "execution_count": 2,
   "metadata": {},
   "outputs": [],
   "source": [
    "def make_random_graph_list(V_size, E_size):\n",
    "    network_list = np.array([np.random.choice(range(V_size),2,replace=False) for i in range(E_size)])\n",
    "    network_list = np.unique(network_list, axis=0)\n",
    "    weighted = np.random.uniform(0,1,len(network_list))\n",
    "    \n",
    "    # from to と　weightedを連結\n",
    "    return np.vstack([network_list.T, weighted]).T"
   ]
  },
  {
   "cell_type": "code",
   "execution_count": 3,
   "metadata": {},
   "outputs": [],
   "source": [
    "def compute_ap(ap, S, MIIA_v, MIIA_MIP_v, G):\n",
    "    # MIIAtreeの末端から計算すれば、効率的になるため、ソート\n",
    "    sorted_path_len = sorted(MIIA_MIP_v.items(), key=lambda x:len(x[1]), reverse=True)\n",
    "    \n",
    "    for u, _ in sorted_path_len:\n",
    "        if u in S:\n",
    "            ap[(u, MIIA_v)] = 1\n",
    "        else:\n",
    "            N_in = MIIA_v.in_edges([u])\n",
    "            if not N_in:\n",
    "                ap[(u, MIIA_v)] = 0\n",
    "            else:\n",
    "                prod = 1\n",
    "                for w, _ in N_in:\n",
    "                    prod *= 1 - ap[(w, MIIA_v)] * G[w][u][\"weight\"]\n",
    "                ap[(u, MIIA_v)] = 1 - prod"
   ]
  },
  {
   "cell_type": "code",
   "execution_count": 4,
   "metadata": {},
   "outputs": [],
   "source": [
    "def compute_alpha(alpha, v, MIIA_v, MIIA_MIP_v, S, G, ap):\n",
    "    # 木のルートからはじめると効率的に計算できる\n",
    "    sorted_path_len = sorted(MIIA_MIP_v.items(), key=lambda x:len(x[1]))\n",
    "\n",
    "    for u, _ in sorted_path_len:\n",
    "        if u == v:\n",
    "            alpha[(MIIA_v, u)] = 1\n",
    "        else:\n",
    "            w = list(MIIA_v.out_edges([u]))[0][1]\n",
    "            if w in S:\n",
    "                alpha[(MIIA_v, u)] = 0\n",
    "            else:\n",
    "                N_in = MIIA_v.in_edges([w])\n",
    "                prod = 1\n",
    "                for u_, _ in N_in:\n",
    "                    if u_ != u:\n",
    "                        prod *= 1 - ap[(u_, MIIA_v)] * G[u_][w][\"weight\"]\n",
    "                alpha[(MIIA_v, u)] = alpha[(MIIA_v, w)] * G[u][w][\"weight\"] * prod"
   ]
  },
  {
   "cell_type": "code",
   "execution_count": 5,
   "metadata": {},
   "outputs": [],
   "source": [
    "def compute_PMIOA(v, theta, S, G):\n",
    "\n",
    "    PMIOA = nx.DiGraph()\n",
    "    PMIOA.add_node(v)\n",
    "    PMIOA_MIP = {v: [v]}\n",
    "\n",
    "    crossing_edges = set([out_edge for out_edge in G.out_edges([v]) if out_edge[1] not in S + [v]])\n",
    "    edge_weights = dict()\n",
    "    dist = {v: 0}\n",
    "\n",
    "    # grow PMIOA\n",
    "    while crossing_edges:\n",
    "        # Dijkstra's greedy criteria\n",
    "        min_dist = float(\"Inf\")\n",
    "        #sorted_crossing_edges = sorted(crossing_edges) # to break ties consistently\n",
    "        sorted_crossing_edges = crossing_edges # to break ties consistently\n",
    "        for edge in sorted_crossing_edges:\n",
    "            if edge not in edge_weights:\n",
    "                edge_weights[edge] = -np.log(G[edge[0]][edge[1]][\"weight\"])\n",
    "            edge_weight = edge_weights[edge]\n",
    "            # 更新条件\n",
    "            if dist[edge[0]] + edge_weight < min_dist:\n",
    "                min_dist = dist[edge[0]] + edge_weight\n",
    "                min_edge = edge\n",
    "        # check stopping criteria\n",
    "        if min_dist < -np.log(theta):\n",
    "            dist[min_edge[1]] = min_dist\n",
    "            PMIOA.add_edge(min_edge[0], min_edge[1])\n",
    "            PMIOA_MIP[min_edge[1]] = PMIOA_MIP[min_edge[0]] + [min_edge[1]]\n",
    "            # update crossing edges\n",
    "            crossing_edges.difference_update(G.in_edges(min_edge[1]))\n",
    "            crossing_edges.update([out_edge for out_edge in G.out_edges(min_edge[1]) \n",
    "                                   if (out_edge[1] not in PMIOA) and (out_edge[1] not in S)])\n",
    "        else:\n",
    "            break\n",
    "    return PMIOA, PMIOA_MIP"
   ]
  },
  {
   "cell_type": "code",
   "execution_count": 6,
   "metadata": {},
   "outputs": [],
   "source": [
    "def compute_PMIIA(v, theta, S, IS_v, G):\n",
    "\n",
    "    PMIIA = nx.DiGraph()\n",
    "    PMIIA.add_node(v)\n",
    "    PMIIA_MIP = {v: [v]}\n",
    "\n",
    "    crossing_edges = set([in_edge for in_edge in G.in_edges([v]) if in_edge[0] not in IS_v + [v]])\n",
    "    #print(\"start\", crossing_edges)\n",
    "    edge_weights = dict()\n",
    "    dist = {v: 0} # shortest paths from the root u\n",
    "\n",
    "    # grow PMIIA\n",
    "    while crossing_edges:\n",
    "        # Dijkstra's greedy criteria\n",
    "        min_dist = float(\"Inf\")\n",
    "        #sorted_crossing_edges = sorted(crossing_edges) # to break ties consistently\n",
    "        sorted_crossing_edges = crossing_edges # to break ties consistently\n",
    "        for edge in sorted_crossing_edges:\n",
    "            if edge not in edge_weights:\n",
    "                edge_weights[edge] = -np.log(G[edge[0]][edge[1]][\"weight\"])\n",
    "            edge_weight = edge_weights[edge]\n",
    "            # 更新条件\n",
    "            if dist[edge[1]] + edge_weight < min_dist:\n",
    "                min_dist = dist[edge[1]] + edge_weight\n",
    "                min_edge = edge\n",
    "        # check stopping criteria\n",
    "        if min_dist < -np.log(theta):\n",
    "            dist[min_edge[0]] = min_dist\n",
    "            PMIIA.add_edge(min_edge[0], min_edge[1])\n",
    "            PMIIA_MIP[min_edge[0]] = PMIIA_MIP[min_edge[1]] + [min_edge[0]]\n",
    "            # update crossing edges\n",
    "            crossing_edges.difference_update(G.out_edges(min_edge[0]))\n",
    "            if min_edge[0] not in S:\n",
    "                crossing_edges.update([in_edge for in_edge in G.in_edges(min_edge[0]) \n",
    "                                       if (in_edge[0] not in PMIIA) and (in_edge[0] not in IS_v)])\n",
    "                #print(\"cros_edges update\", crossing_edges)\n",
    "        else:\n",
    "            break\n",
    "    return PMIIA, PMIIA_MIP"
   ]
  },
  {
   "cell_type": "code",
   "execution_count": 7,
   "metadata": {},
   "outputs": [],
   "source": [
    "# 入力uはシードに追加されるノード\n",
    "def update_IS(IS, S, u, PMIOA_MIP, PMIIA_MIP):\n",
    "    # uがシードに追加されるので、IncInfを更新する際は、このuからの影響を更新すれば良いため、PMIOA[u]を考える\n",
    "    # PMIOA_MIP[u]:root_uから出ていく木のパス\n",
    "    # v:uから到達できるノード(影響を及ぼされるノード)\n",
    "    for v in PMIOA_MIP[u]:\n",
    "        # si:ブロックされる(後続にシードがある)可能性のあるシード\n",
    "        for si in S:\n",
    "            # if seed node is effective and it's blocked by u\n",
    "            # then it becomes ineffective\n",
    "            \n",
    "            # PMIIA[v]:root_vに入ってくる木のパス\n",
    "            # そのパスの中にsiがある場合(PMIIA_MIP[v][si]:siからvまでのパス)\n",
    "            # siからvまでのパスのなかにuが含まれていると、siからuまでのパスが二通りになり、木であることに矛盾してしまう\n",
    "            if (si in PMIIA_MIP[v]) and (si not in IS[v]) and (u in PMIIA_MIP[v][si]):\n",
    "                IS[v].append(si)"
   ]
  },
  {
   "cell_type": "code",
   "execution_count": 8,
   "metadata": {
    "scrolled": false
   },
   "outputs": [],
   "source": [
    "def PMIA(G, k, theta):\n",
    "    start = time.time()\n",
    "    # initialization\n",
    "    S = []\n",
    "    IncInf = dict(zip(G.nodes(), [0]*len(G)))\n",
    "    PMIIA = dict() # node to tree\n",
    "    PMIOA = dict()\n",
    "    PMIIA_MIP = dict() # node to MIPs (dict)\n",
    "    PMIOA_MIP = dict()\n",
    "    ap = dict()\n",
    "    alpha = dict()\n",
    "    IS = dict()\n",
    "    \n",
    "    for v in tqdm(G):\n",
    "        IS[v] = []\n",
    "        PMIIA[v], PMIIA_MIP[v] = compute_PMIIA(v, theta, S, IS[v], G)\n",
    "        for u in PMIIA[v]:\n",
    "            ap[(u, PMIIA[v])] = 0 # ap of u node in PMIIA[v]\n",
    "        compute_alpha(alpha, v, PMIIA[v], PMIIA_MIP[v], S, G, ap)\n",
    "        for u in PMIIA[v]:\n",
    "            IncInf[u] += alpha[(PMIIA[v], u)]*(1 - ap[(u, PMIIA[v])])\n",
    "    \n",
    "    # main loop\n",
    "    for i in range(k):\n",
    "        u = sorted(IncInf.items(), key=lambda x:x[1], reverse=True)[0][0]\n",
    "        print(\"u\",u)\n",
    "        # print i+1, \"node:\", u, \"-->\", IncInf[u]\n",
    "        IncInf.pop(u) # exclude node u for next iterations\n",
    "        PMIOA[u], PMIOA_MIP[u] = compute_PMIOA(u, theta, S, G)\n",
    "        for v in PMIOA[u]:\n",
    "            for w in PMIIA[v]:\n",
    "                if w not in S + [u]:\n",
    "                    IncInf[w] -= alpha[(PMIIA[v],w)]*(1 - ap[(w, PMIIA[v])])\n",
    "\n",
    "        update_IS(IS, S, u, PMIOA_MIP, PMIIA_MIP)\n",
    "        S.append(u)\n",
    "\n",
    "        for v in PMIOA[u]:\n",
    "            if v != u:\n",
    "                PMIIA[v], PMIIA_MIP[v] = compute_PMIIA(v, theta, S, IS[v], G)\n",
    "                compute_ap(ap, S, PMIIA[v], PMIIA_MIP[v], G)\n",
    "                compute_alpha(alpha, v, PMIIA[v], PMIIA_MIP[v], S, G, ap)\n",
    "                # add new incremental influence\n",
    "                for w in PMIIA[v]:\n",
    "                    if w not in S:\n",
    "                        IncInf[w] += alpha[(PMIIA[v], w)]*(1 - ap[(w, PMIIA[v])])\n",
    "\n",
    "    return S"
   ]
  },
  {
   "cell_type": "code",
   "execution_count": 9,
   "metadata": {},
   "outputs": [],
   "source": [
    "# ランダムグラフで行う場合"
   ]
  },
  {
   "cell_type": "code",
   "execution_count": 12,
   "metadata": {},
   "outputs": [],
   "source": [
    "nt = make_random_graph_list(1000,2000)"
   ]
  },
  {
   "cell_type": "code",
   "execution_count": 13,
   "metadata": {},
   "outputs": [],
   "source": [
    "k = 3\n",
    "theta = 0.2\n",
    "# 空の有向グラフを作成\n",
    "G = nx.DiGraph()\n",
    "# 重み付きの枝を加える\n",
    "G.add_weighted_edges_from(nt)"
   ]
  },
  {
   "cell_type": "code",
   "execution_count": 14,
   "metadata": {
    "scrolled": true
   },
   "outputs": [
    {
     "data": {
      "application/vnd.jupyter.widget-view+json": {
       "model_id": "b2906e65dec949449dc7aeb9d17a3169",
       "version_major": 2,
       "version_minor": 0
      },
      "text/plain": [
       "HBox(children=(IntProgress(value=0, max=977), HTML(value='')))"
      ]
     },
     "metadata": {},
     "output_type": "display_data"
    },
    {
     "name": "stdout",
     "output_type": "stream",
     "text": [
      "\n",
      "u 388.0\n",
      "u 797.0\n",
      "u 787.0\n",
      "u 203.0\n",
      "u 362.0\n",
      "CPU times: user 7min 52s, sys: 55.9 s, total: 8min 48s\n",
      "Wall time: 13min 15s\n"
     ]
    },
    {
     "data": {
      "text/plain": [
       "[388.0, 797.0, 787.0, 203.0, 362.0]"
      ]
     },
     "execution_count": 14,
     "metadata": {},
     "output_type": "execute_result"
    }
   ],
   "source": [
    "%time PMIA(G, 5, 1/320)"
   ]
  },
  {
   "cell_type": "code",
   "execution_count": 15,
   "metadata": {
    "scrolled": false
   },
   "outputs": [],
   "source": [
    "# # IS挙動の確認用\n",
    "# def PMIA(G, k, theta):\n",
    "#     start = time.time()\n",
    "#     # initialization\n",
    "#     S = []\n",
    "#     IncInf = dict(zip(G.nodes(), [0]*len(G)))\n",
    "#     PMIIA = dict() # node to tree\n",
    "#     PMIOA = dict()\n",
    "#     PMIIA_MIP = dict() # node to MIPs (dict)\n",
    "#     PMIOA_MIP = dict()\n",
    "#     ap = dict()\n",
    "#     alpha = dict()\n",
    "#     IS = dict()\n",
    "    \n",
    "#     for v in G:\n",
    "#         IS[v] = []\n",
    "#         PMIIA[v], PMIIA_MIP[v] = compute_PMIIA(v, theta, S, IS[v], G)\n",
    "#         for u in PMIIA[v]:\n",
    "#             ap[(u, PMIIA[v])] = 0 # ap of u node in PMIIA[v]\n",
    "#         compute_alpha(alpha, v, PMIIA[v], PMIIA_MIP[v], S, G, ap)\n",
    "#         for u in PMIIA[v]:\n",
    "#             IncInf[u] += alpha[(PMIIA[v], u)]*(1 - ap[(u, PMIIA[v])])\n",
    "    \n",
    "#     # main loop\n",
    "#     for i in range(k):\n",
    "#         u = sorted(IncInf.items(), key=lambda x:x[1], reverse=True)[0][0]\n",
    "#         print(\"u\",u)\n",
    "#         # print i+1, \"node:\", u, \"-->\", IncInf[u]\n",
    "#         IncInf.pop(u) # exclude node u for next iterations\n",
    "#         PMIOA[u], PMIOA_MIP[u] = compute_PMIOA(u, theta, S, G)\n",
    "#         for v in PMIOA[u]:\n",
    "#             for w in PMIIA[v]:\n",
    "#                 if w not in S + [u]:\n",
    "#                     IncInf[w] -= alpha[(PMIIA[v],w)]*(1 - ap[(w, PMIIA[v])])\n",
    "                   \n",
    "#         for i in PMIOA[u]:\n",
    "#             for s in S:\n",
    "#                 if (s in PMIIA_MIP[i]) and (u in PMIIA_MIP[i][s]):\n",
    "#                     print(\"Seedからrootにたどり着く間にuを通るか\",S,i,u)\n",
    "#                     nx.draw_networkx(PMIIA[i])\n",
    "#                     plt.show()\n",
    "#                     print(\"****************uを通った*****************\")\n",
    "        \n",
    "#         # ISの更新が怪しい特にS\n",
    "#         update_IS(IS, S, u, PMIOA_MIP, PMIIA_MIP)\n",
    "#         print(\"IS\",IS)\n",
    "#         S.append(u)\n",
    "\n",
    "#         for v in PMIOA[u]:\n",
    "#             if v != u:\n",
    "#                 PMIIA[v], PMIIA_MIP[v] = compute_PMIIA(v, theta, S, IS[v], G)\n",
    "#                 compute_ap(ap, S, PMIIA[v], PMIIA_MIP[v], G)\n",
    "#                 compute_alpha(alpha, v, PMIIA[v], PMIIA_MIP[v], S, G, ap)\n",
    "#                 # add new incremental influence\n",
    "#                 for w in PMIIA[v]:\n",
    "#                     if w not in S:\n",
    "#                         IncInf[w] += alpha[(PMIIA[v], w)]*(1 - ap[(w, PMIIA[v])])\n",
    "\n",
    "#     return S\n",
    "\n",
    "# PMIA(G, 5, 0.001)"
   ]
  },
  {
   "cell_type": "markdown",
   "metadata": {},
   "source": [
    "# データを読み込んで行う場合"
   ]
  },
  {
   "cell_type": "code",
   "execution_count": 16,
   "metadata": {},
   "outputs": [],
   "source": [
    "# データの読み込み\n",
    "# 枝確率を計算済みのネットワークを読み込む\n",
    "network = pd.read_csv(\"data.csv\")\n",
    "network.head()\n",
    "\n",
    "# numpy型に変換\n",
    "network_np = network.values\n",
    "\n",
    "# 空の有向グラフを作成\n",
    "G = nx.DiGraph()\n",
    "\n",
    "# 重み付きの枝を加える\n",
    "G.add_weighted_edges_from(network_np)"
   ]
  },
  {
   "cell_type": "code",
   "execution_count": 18,
   "metadata": {},
   "outputs": [
    {
     "data": {
      "text/plain": [
       "(array([172.,  16.,  20.,   0.,   6.,   0.,   0.,   0.,   0.,   2.]),\n",
       " array([0.0625 , 0.15625, 0.25   , 0.34375, 0.4375 , 0.53125, 0.625  ,\n",
       "        0.71875, 0.8125 , 0.90625, 1.     ]),\n",
       " <a list of 10 Patch objects>)"
      ]
     },
     "execution_count": 18,
     "metadata": {},
     "output_type": "execute_result"
    },
    {
     "data": {
      "image/png": "[encoded data removed]",
      "text/plain": [
       "<Figure size 432x288 with 1 Axes>"
      ]
     },
     "metadata": {
      "needs_background": "light"
     },
     "output_type": "display_data"
    }
   ],
   "source": [
    "plt.hist(network[\"WC\"])"
   ]
  },
  {
   "cell_type": "code",
   "execution_count": 19,
   "metadata": {},
   "outputs": [],
   "source": [
    "def PMIA_init_time(G, k, theta):\n",
    "    # initialization\n",
    "    S = []\n",
    "    IncInf = dict(zip(G.nodes(), [0]*len(G)))\n",
    "    PMIIA = dict() # node to tree\n",
    "    PMIOA = dict()\n",
    "    PMIIA_MIP = dict() # node to MIPs (dict)\n",
    "    PMIOA_MIP = dict()\n",
    "    ap = dict()\n",
    "    alpha = dict()\n",
    "    IS = dict()\n",
    "    \n",
    "    time_list = np.array([])\n",
    "    \n",
    "    for v in tqdm(G):\n",
    "        IS[v] = []\n",
    "        \n",
    "        start = time.time()\n",
    "        PMIIA[v], PMIIA_MIP[v] = compute_PMIIA(v, theta, S, IS[v], G)\n",
    "        time_list = np.append(time_list, time.time() - start)\n",
    "        \n",
    "        start = time.time()\n",
    "        for u in PMIIA[v]:\n",
    "            ap[(u, PMIIA[v])] = 0 # ap of u node in PMIIA[v]\n",
    "        time_list = np.append(time_list, time.time() - start)\n",
    "            \n",
    "        start = time.time()\n",
    "        compute_alpha(alpha, v, PMIIA[v], PMIIA_MIP[v], S, G, ap)\n",
    "        time_list = np.append(time_list, time.time() - start)\n",
    "        \n",
    "        start = time.time()\n",
    "        for u in PMIIA[v]:\n",
    "            IncInf[u] += alpha[(PMIIA[v], u)]*(1 - ap[(u, PMIIA[v])])\n",
    "        time_list = np.append(time_list, time.time() - start)\n",
    "        \n",
    "    return time_list"
   ]
  },
  {
   "cell_type": "markdown",
   "metadata": {},
   "source": [
    "# どこの処理に時間がかかっているのかを計測する"
   ]
  },
  {
   "cell_type": "code",
   "execution_count": 20,
   "metadata": {
    "scrolled": false
   },
   "outputs": [
    {
     "data": {
      "application/vnd.jupyter.widget-view+json": {
       "model_id": "ea995ea7764546079fdb2973f3ccf34b",
       "version_major": 2,
       "version_minor": 0
      },
      "text/plain": [
       "HBox(children=(IntProgress(value=0, max=30), HTML(value='')))"
      ]
     },
     "metadata": {},
     "output_type": "display_data"
    },
    {
     "name": "stdout",
     "output_type": "stream",
     "text": [
      "\n",
      "CPU times: user 77.8 ms, sys: 33.6 ms, total: 111 ms\n",
      "Wall time: 443 ms\n"
     ]
    }
   ],
   "source": [
    "%time time_list = PMIA_init_time(G, 5, 0.9)"
   ]
  },
  {
   "cell_type": "code",
   "execution_count": 21,
   "metadata": {},
   "outputs": [
    {
     "data": {
      "text/html": [
       "<div>\n",
       "<style scoped>\n",
       "    .dataframe tbody tr th:only-of-type {\n",
       "        vertical-align: middle;\n",
       "    }\n",
       "\n",
       "    .dataframe tbody tr th {\n",
       "        vertical-align: top;\n",
       "    }\n",
       "\n",
       "    .dataframe thead th {\n",
       "        text-align: right;\n",
       "    }\n",
       "</style>\n",
       "<table border=\"1\" class=\"dataframe\">\n",
       "  <thead>\n",
       "    <tr style=\"text-align: right;\">\n",
       "      <th></th>\n",
       "      <th>PMIIA</th>\n",
       "      <th>ap</th>\n",
       "      <th>alpha</th>\n",
       "      <th>IncInf</th>\n",
       "    </tr>\n",
       "  </thead>\n",
       "  <tbody>\n",
       "    <tr>\n",
       "      <td>0</td>\n",
       "      <td>0.001052</td>\n",
       "      <td>0.000007</td>\n",
       "      <td>0.000017</td>\n",
       "      <td>0.000005</td>\n",
       "    </tr>\n",
       "    <tr>\n",
       "      <td>1</td>\n",
       "      <td>0.019576</td>\n",
       "      <td>0.000007</td>\n",
       "      <td>0.000014</td>\n",
       "      <td>0.000006</td>\n",
       "    </tr>\n",
       "    <tr>\n",
       "      <td>2</td>\n",
       "      <td>0.000309</td>\n",
       "      <td>0.000004</td>\n",
       "      <td>0.000012</td>\n",
       "      <td>0.000006</td>\n",
       "    </tr>\n",
       "    <tr>\n",
       "      <td>3</td>\n",
       "      <td>0.000124</td>\n",
       "      <td>0.000004</td>\n",
       "      <td>0.000009</td>\n",
       "      <td>0.000004</td>\n",
       "    </tr>\n",
       "    <tr>\n",
       "      <td>4</td>\n",
       "      <td>0.000143</td>\n",
       "      <td>0.000004</td>\n",
       "      <td>0.000008</td>\n",
       "      <td>0.000005</td>\n",
       "    </tr>\n",
       "    <tr>\n",
       "      <td>5</td>\n",
       "      <td>0.000101</td>\n",
       "      <td>0.000004</td>\n",
       "      <td>0.000008</td>\n",
       "      <td>0.000005</td>\n",
       "    </tr>\n",
       "    <tr>\n",
       "      <td>6</td>\n",
       "      <td>0.000206</td>\n",
       "      <td>0.000004</td>\n",
       "      <td>0.000008</td>\n",
       "      <td>0.000004</td>\n",
       "    </tr>\n",
       "    <tr>\n",
       "      <td>7</td>\n",
       "      <td>0.000173</td>\n",
       "      <td>0.000003</td>\n",
       "      <td>0.000008</td>\n",
       "      <td>0.000005</td>\n",
       "    </tr>\n",
       "    <tr>\n",
       "      <td>8</td>\n",
       "      <td>0.018330</td>\n",
       "      <td>0.000012</td>\n",
       "      <td>0.000021</td>\n",
       "      <td>0.000015</td>\n",
       "    </tr>\n",
       "    <tr>\n",
       "      <td>9</td>\n",
       "      <td>0.000616</td>\n",
       "      <td>0.000010</td>\n",
       "      <td>0.000120</td>\n",
       "      <td>0.000016</td>\n",
       "    </tr>\n",
       "    <tr>\n",
       "      <td>10</td>\n",
       "      <td>0.000137</td>\n",
       "      <td>0.000006</td>\n",
       "      <td>0.000015</td>\n",
       "      <td>0.000008</td>\n",
       "    </tr>\n",
       "    <tr>\n",
       "      <td>11</td>\n",
       "      <td>0.016414</td>\n",
       "      <td>0.000006</td>\n",
       "      <td>0.000014</td>\n",
       "      <td>0.000006</td>\n",
       "    </tr>\n",
       "    <tr>\n",
       "      <td>12</td>\n",
       "      <td>0.000177</td>\n",
       "      <td>0.000004</td>\n",
       "      <td>0.000008</td>\n",
       "      <td>0.000004</td>\n",
       "    </tr>\n",
       "    <tr>\n",
       "      <td>13</td>\n",
       "      <td>0.000083</td>\n",
       "      <td>0.000004</td>\n",
       "      <td>0.000007</td>\n",
       "      <td>0.000004</td>\n",
       "    </tr>\n",
       "    <tr>\n",
       "      <td>14</td>\n",
       "      <td>0.000278</td>\n",
       "      <td>0.000003</td>\n",
       "      <td>0.000007</td>\n",
       "      <td>0.000004</td>\n",
       "    </tr>\n",
       "    <tr>\n",
       "      <td>15</td>\n",
       "      <td>0.000145</td>\n",
       "      <td>0.000003</td>\n",
       "      <td>0.000007</td>\n",
       "      <td>0.000004</td>\n",
       "    </tr>\n",
       "    <tr>\n",
       "      <td>16</td>\n",
       "      <td>0.018499</td>\n",
       "      <td>0.000004</td>\n",
       "      <td>0.000012</td>\n",
       "      <td>0.000006</td>\n",
       "    </tr>\n",
       "    <tr>\n",
       "      <td>17</td>\n",
       "      <td>0.000192</td>\n",
       "      <td>0.000003</td>\n",
       "      <td>0.000008</td>\n",
       "      <td>0.000005</td>\n",
       "    </tr>\n",
       "    <tr>\n",
       "      <td>18</td>\n",
       "      <td>0.000130</td>\n",
       "      <td>0.000004</td>\n",
       "      <td>0.000008</td>\n",
       "      <td>0.000005</td>\n",
       "    </tr>\n",
       "    <tr>\n",
       "      <td>19</td>\n",
       "      <td>0.002491</td>\n",
       "      <td>0.000011</td>\n",
       "      <td>0.000110</td>\n",
       "      <td>0.000010</td>\n",
       "    </tr>\n",
       "    <tr>\n",
       "      <td>20</td>\n",
       "      <td>0.004956</td>\n",
       "      <td>0.000010</td>\n",
       "      <td>0.000020</td>\n",
       "      <td>0.000009</td>\n",
       "    </tr>\n",
       "    <tr>\n",
       "      <td>21</td>\n",
       "      <td>0.005121</td>\n",
       "      <td>0.000011</td>\n",
       "      <td>0.000019</td>\n",
       "      <td>0.000009</td>\n",
       "    </tr>\n",
       "    <tr>\n",
       "      <td>22</td>\n",
       "      <td>0.006798</td>\n",
       "      <td>0.000010</td>\n",
       "      <td>0.000017</td>\n",
       "      <td>0.000008</td>\n",
       "    </tr>\n",
       "    <tr>\n",
       "      <td>23</td>\n",
       "      <td>0.000343</td>\n",
       "      <td>0.000004</td>\n",
       "      <td>0.000012</td>\n",
       "      <td>0.000007</td>\n",
       "    </tr>\n",
       "    <tr>\n",
       "      <td>24</td>\n",
       "      <td>0.000291</td>\n",
       "      <td>0.000004</td>\n",
       "      <td>0.000092</td>\n",
       "      <td>0.000007</td>\n",
       "    </tr>\n",
       "    <tr>\n",
       "      <td>25</td>\n",
       "      <td>0.000458</td>\n",
       "      <td>0.000005</td>\n",
       "      <td>0.000013</td>\n",
       "      <td>0.000005</td>\n",
       "    </tr>\n",
       "    <tr>\n",
       "      <td>26</td>\n",
       "      <td>0.000266</td>\n",
       "      <td>0.000008</td>\n",
       "      <td>0.000015</td>\n",
       "      <td>0.000006</td>\n",
       "    </tr>\n",
       "    <tr>\n",
       "      <td>27</td>\n",
       "      <td>0.001652</td>\n",
       "      <td>0.000006</td>\n",
       "      <td>0.000012</td>\n",
       "      <td>0.000006</td>\n",
       "    </tr>\n",
       "    <tr>\n",
       "      <td>28</td>\n",
       "      <td>0.000133</td>\n",
       "      <td>0.000004</td>\n",
       "      <td>0.000013</td>\n",
       "      <td>0.000006</td>\n",
       "    </tr>\n",
       "    <tr>\n",
       "      <td>29</td>\n",
       "      <td>0.000117</td>\n",
       "      <td>0.000004</td>\n",
       "      <td>0.000009</td>\n",
       "      <td>0.000005</td>\n",
       "    </tr>\n",
       "  </tbody>\n",
       "</table>\n",
       "</div>"
      ],
      "text/plain": [
       "       PMIIA        ap     alpha    IncInf\n",
       "0   0.001052  0.000007  0.000017  0.000005\n",
       "1   0.019576  0.000007  0.000014  0.000006\n",
       "2   0.000309  0.000004  0.000012  0.000006\n",
       "3   0.000124  0.000004  0.000009  0.000004\n",
       "4   0.000143  0.000004  0.000008  0.000005\n",
       "5   0.000101  0.000004  0.000008  0.000005\n",
       "6   0.000206  0.000004  0.000008  0.000004\n",
       "7   0.000173  0.000003  0.000008  0.000005\n",
       "8   0.018330  0.000012  0.000021  0.000015\n",
       "9   0.000616  0.000010  0.000120  0.000016\n",
       "10  0.000137  0.000006  0.000015  0.000008\n",
       "11  0.016414  0.000006  0.000014  0.000006\n",
       "12  0.000177  0.000004  0.000008  0.000004\n",
       "13  0.000083  0.000004  0.000007  0.000004\n",
       "14  0.000278  0.000003  0.000007  0.000004\n",
       "15  0.000145  0.000003  0.000007  0.000004\n",
       "16  0.018499  0.000004  0.000012  0.000006\n",
       "17  0.000192  0.000003  0.000008  0.000005\n",
       "18  0.000130  0.000004  0.000008  0.000005\n",
       "19  0.002491  0.000011  0.000110  0.000010\n",
       "20  0.004956  0.000010  0.000020  0.000009\n",
       "21  0.005121  0.000011  0.000019  0.000009\n",
       "22  0.006798  0.000010  0.000017  0.000008\n",
       "23  0.000343  0.000004  0.000012  0.000007\n",
       "24  0.000291  0.000004  0.000092  0.000007\n",
       "25  0.000458  0.000005  0.000013  0.000005\n",
       "26  0.000266  0.000008  0.000015  0.000006\n",
       "27  0.001652  0.000006  0.000012  0.000006\n",
       "28  0.000133  0.000004  0.000013  0.000006\n",
       "29  0.000117  0.000004  0.000009  0.000005"
      ]
     },
     "execution_count": 21,
     "metadata": {},
     "output_type": "execute_result"
    }
   ],
   "source": [
    "time_df = pd.DataFrame(time_list.reshape(-1,4), columns=[\"PMIIA\", \"ap\", \"alpha\", \"IncInf\"])\n",
    "time_df"
   ]
  },
  {
   "cell_type": "code",
   "execution_count": 22,
   "metadata": {},
   "outputs": [
    {
     "data": {
      "text/plain": [
       "<matplotlib.axes._subplots.AxesSubplot at 0xa18520810>"
      ]
     },
     "execution_count": 22,
     "metadata": {},
     "output_type": "execute_result"
    },
    {
     "data": {
      "image/png": "[encoded data removed]",
      "text/plain": [
       "<Figure size 432x288 with 1 Axes>"
      ]
     },
     "metadata": {
      "needs_background": "light"
     },
     "output_type": "display_data"
    }
   ],
   "source": [
    "time_df.plot()"
   ]
  },
  {
   "cell_type": "code",
   "execution_count": 23,
   "metadata": {},
   "outputs": [
    {
     "data": {
      "text/plain": [
       "<matplotlib.axes._subplots.AxesSubplot at 0xa64fdd450>"
      ]
     },
     "execution_count": 23,
     "metadata": {},
     "output_type": "execute_result"
    },
    {
     "data": {
      "image/png": "[encoded data removed]",
      "text/plain": [
       "<Figure size 432x288 with 1 Axes>"
      ]
     },
     "metadata": {
      "needs_background": "light"
     },
     "output_type": "display_data"
    }
   ],
   "source": [
    "time_df.plot(logy=True)"
   ]
  },
  {
   "cell_type": "markdown",
   "metadata": {},
   "source": [
    "# グラフの規模を変えた時に計算時間がどのように変化するのかを計測する"
   ]
  },
  {
   "cell_type": "code",
   "execution_count": 24,
   "metadata": {},
   "outputs": [],
   "source": [
    "def PMIA_ordertime(G, k, theta):\n",
    "    start = time.time()\n",
    "    # initialization\n",
    "    S = []\n",
    "    IncInf = dict(zip(G.nodes(), [0]*len(G)))\n",
    "    PMIIA = dict() # node to tree\n",
    "    PMIOA = dict()\n",
    "    PMIIA_MIP = dict() # node to MIPs (dict)\n",
    "    PMIOA_MIP = dict()\n",
    "    ap = dict()\n",
    "    alpha = dict()\n",
    "    IS = dict()\n",
    "    \n",
    "    time_list = np.array([])\n",
    "    \n",
    "    for v in G:\n",
    "        IS[v] = []\n",
    "        \n",
    "        PMIIA[v], PMIIA_MIP[v] = compute_PMIIA(v, theta, S, IS[v], G)\n",
    "        \n",
    "        for u in PMIIA[v]:\n",
    "            ap[(u, PMIIA[v])] = 0 # ap of u node in PMIIA[v]\n",
    "            \n",
    "        compute_alpha(alpha, v, PMIIA[v], PMIIA_MIP[v], S, G, ap)\n",
    "        \n",
    "        for u in PMIIA[v]:\n",
    "            IncInf[u] += alpha[(PMIIA[v], u)]*(1 - ap[(u, PMIIA[v])])\n",
    "            \n",
    "    init_time = time.time() - start\n",
    "            \n",
    "    # main loop\n",
    "    k_time = []\n",
    "    for i in tqdm(range(k)):\n",
    "        start = time.time()\n",
    "        \n",
    "        u = sorted(IncInf.items(), key=lambda x:x[1], reverse=True)[0][0]\n",
    "\n",
    "        # print i+1, \"node:\", u, \"-->\", IncInf[u]\n",
    "        IncInf.pop(u) # exclude node u for next iterations\n",
    "        PMIOA[u], PMIOA_MIP[u] = compute_PMIOA(u, theta, S, G)\n",
    "        for v in PMIOA[u]:\n",
    "            for w in PMIIA[v]:\n",
    "                if w not in S + [u]:\n",
    "                    IncInf[w] -= alpha[(PMIIA[v],w)]*(1 - ap[(w, PMIIA[v])])\n",
    "\n",
    "        update_IS(IS, S, u, PMIOA_MIP, PMIIA_MIP)\n",
    "        S.append(u)\n",
    "\n",
    "        for v in PMIOA[u]:\n",
    "            if v != u:\n",
    "                PMIIA[v], PMIIA_MIP[v] = compute_PMIIA(v, theta, S, IS[v], G)\n",
    "                compute_ap(ap, S, PMIIA[v], PMIIA_MIP[v], G)\n",
    "                compute_alpha(alpha, v, PMIIA[v], PMIIA_MIP[v], S, G, ap)\n",
    "                # add new incremental influence\n",
    "                for w in PMIIA[v]:\n",
    "                    if w not in S:\n",
    "                        IncInf[w] += alpha[(PMIIA[v], w)]*(1 - ap[(w, PMIIA[v])])\n",
    "        k_time.append(time.time() - start)\n",
    "    return init_time, k_time"
   ]
  },
  {
   "cell_type": "code",
   "execution_count": null,
   "metadata": {},
   "outputs": [
    {
     "data": {
      "application/vnd.jupyter.widget-view+json": {
       "model_id": "18ae804b659747aca34c222a8d6aa47c",
       "version_major": 2,
       "version_minor": 0
      },
      "text/plain": [
       "HBox(children=(IntProgress(value=0, max=9), HTML(value='')))"
      ]
     },
     "metadata": {},
     "output_type": "display_data"
    }
   ],
   "source": [
    "# ランダムネットワークを作成\n",
    "\n",
    "init_times = []\n",
    "\n",
    "k = 50\n",
    "k_times = []\n",
    "k_times.append(list(range(1,k+1)))\n",
    "for i in tqdm(range(1000,5001,500)):\n",
    "    nt = make_random_graph_list(i, i*2)\n",
    "\n",
    "    # インスタンスの作成\n",
    "    \n",
    "    theta = 1/320\n",
    "    G = nx.DiGraph()\n",
    "    # 重み付きの枝を加える\n",
    "    G.add_weighted_edges_from(nt)\n",
    "\n",
    "    # 時間を計測\n",
    "    init_time, k_time = PMIA_ordertime(G, k, theta)\n",
    "    \n",
    "    init_times.append(i)\n",
    "    init_times.append(init_time)\n",
    "    \n",
    "    k_times.append(k_time)"
   ]
  },
  {
   "cell_type": "code",
   "execution_count": null,
   "metadata": {},
   "outputs": [],
   "source": [
    "init_times = np.array(init_times).reshape(-1,2)"
   ]
  },
  {
   "cell_type": "code",
   "execution_count": null,
   "metadata": {},
   "outputs": [],
   "source": [
    "init_times_df = pd.DataFrame(init_times,columns=[\"V_size\",\"init_time\"]).set_index(\"V_size\")\n",
    "init_times_df.head()"
   ]
  },
  {
   "cell_type": "code",
   "execution_count": null,
   "metadata": {
    "scrolled": true
   },
   "outputs": [],
   "source": [
    "k_times = np.array(k_times).reshape(len(init_times_df)+1, -1).T\n",
    "k_times"
   ]
  },
  {
   "cell_type": "code",
   "execution_count": null,
   "metadata": {
    "scrolled": true
   },
   "outputs": [],
   "source": [
    "k_times_df = pd.DataFrame(k_times).set_index(0)\n",
    "k_times_df"
   ]
  },
  {
   "cell_type": "code",
   "execution_count": null,
   "metadata": {},
   "outputs": [],
   "source": [
    "init_times_df.plot()"
   ]
  },
  {
   "cell_type": "code",
   "execution_count": null,
   "metadata": {},
   "outputs": [],
   "source": [
    "k_times_df.plot()"
   ]
  },
  {
   "cell_type": "markdown",
   "metadata": {},
   "source": [
    "# 計算実験"
   ]
  },
  {
   "cell_type": "code",
   "execution_count": 10,
   "metadata": {},
   "outputs": [],
   "source": [
    "def PMIA_time(G, k, theta):\n",
    "    start = time.time()\n",
    "    # initialization\n",
    "    S = []\n",
    "    IncInf = dict(zip(G.nodes(), [0]*len(G)))\n",
    "    PMIIA = dict() # node to tree\n",
    "    PMIOA = dict()\n",
    "    PMIIA_MIP = dict() # node to MIPs (dict)\n",
    "    PMIOA_MIP = dict()\n",
    "    ap = dict()\n",
    "    alpha = dict()\n",
    "    IS = dict()\n",
    "    \n",
    "    time_list = []\n",
    "    \n",
    "    for v in tqdm(G):\n",
    "        IS[v] = []\n",
    "        PMIIA[v], PMIIA_MIP[v] = compute_PMIIA(v, theta, S, IS[v], G)\n",
    "        for u in PMIIA[v]:\n",
    "            ap[(u, PMIIA[v])] = 0 # ap of u node in PMIIA[v]\n",
    "        compute_alpha(alpha, v, PMIIA[v], PMIIA_MIP[v], S, G, ap)\n",
    "        for u in PMIIA[v]:\n",
    "            IncInf[u] += alpha[(PMIIA[v], u)]*(1 - ap[(u, PMIIA[v])])\n",
    "    print(\"comp init\")\n",
    "    \n",
    "    # main loop\n",
    "    for i in range(k):\n",
    "        start = time.time()\n",
    "        u = sorted(IncInf.items(), key=lambda x:x[1], reverse=True)[0][0]\n",
    "        print(\"u\",u)\n",
    "        # print i+1, \"node:\", u, \"-->\", IncInf[u]\n",
    "        IncInf.pop(u) # exclude node u for next iterations\n",
    "        PMIOA[u], PMIOA_MIP[u] = compute_PMIOA(u, theta, S, G)\n",
    "        for v in PMIOA[u]:\n",
    "            for w in PMIIA[v]:\n",
    "                if w not in S + [u]:\n",
    "                    IncInf[w] -= alpha[(PMIIA[v],w)]*(1 - ap[(w, PMIIA[v])])\n",
    "\n",
    "        update_IS(IS, S, u, PMIOA_MIP, PMIIA_MIP)\n",
    "        S.append(u)\n",
    "\n",
    "        for v in PMIOA[u]:\n",
    "            \n",
    "            if v != u:\n",
    "                PMIIA[v], PMIIA_MIP[v] = compute_PMIIA(v, theta, S, IS[v], G)\n",
    "                compute_ap(ap, S, PMIIA[v], PMIIA_MIP[v], G)\n",
    "                compute_alpha(alpha, v, PMIIA[v], PMIIA_MIP[v], S, G, ap)\n",
    "                # add new incremental influence\n",
    "                for w in PMIIA[v]:\n",
    "                    if w not in S:\n",
    "                        IncInf[w] += alpha[(PMIIA[v], w)]*(1 - ap[(w, PMIIA[v])])\n",
    "        time_list.append(time.time() - start)\n",
    "\n",
    "    return S, time_list"
   ]
  },
  {
   "cell_type": "markdown",
   "metadata": {},
   "source": [
    "## Epinions"
   ]
  },
  {
   "cell_type": "code",
   "execution_count": 11,
   "metadata": {},
   "outputs": [],
   "source": [
    "run_time = dict([])\n",
    "S = dict([])"
   ]
  },
  {
   "cell_type": "markdown",
   "metadata": {},
   "source": [
    "### WC"
   ]
  },
  {
   "cell_type": "code",
   "execution_count": 12,
   "metadata": {
    "scrolled": false
   },
   "outputs": [
    {
     "data": {
      "text/html": [
       "<div>\n",
       "<style scoped>\n",
       "    .dataframe tbody tr th:only-of-type {\n",
       "        vertical-align: middle;\n",
       "    }\n",
       "\n",
       "    .dataframe tbody tr th {\n",
       "        vertical-align: top;\n",
       "    }\n",
       "\n",
       "    .dataframe thead th {\n",
       "        text-align: right;\n",
       "    }\n",
       "</style>\n",
       "<table border=\"1\" class=\"dataframe\">\n",
       "  <thead>\n",
       "    <tr style=\"text-align: right;\">\n",
       "      <th></th>\n",
       "      <th># FromNodeId</th>\n",
       "      <th>ToNodeId</th>\n",
       "      <th>WC</th>\n",
       "    </tr>\n",
       "  </thead>\n",
       "  <tbody>\n",
       "    <tr>\n",
       "      <td>0</td>\n",
       "      <td>0</td>\n",
       "      <td>4</td>\n",
       "      <td>0.008000</td>\n",
       "    </tr>\n",
       "    <tr>\n",
       "      <td>1</td>\n",
       "      <td>0</td>\n",
       "      <td>5</td>\n",
       "      <td>0.005682</td>\n",
       "    </tr>\n",
       "    <tr>\n",
       "      <td>2</td>\n",
       "      <td>0</td>\n",
       "      <td>7</td>\n",
       "      <td>0.033333</td>\n",
       "    </tr>\n",
       "    <tr>\n",
       "      <td>3</td>\n",
       "      <td>0</td>\n",
       "      <td>8</td>\n",
       "      <td>0.009615</td>\n",
       "    </tr>\n",
       "    <tr>\n",
       "      <td>4</td>\n",
       "      <td>0</td>\n",
       "      <td>9</td>\n",
       "      <td>0.066667</td>\n",
       "    </tr>\n",
       "  </tbody>\n",
       "</table>\n",
       "</div>"
      ],
      "text/plain": [
       "   # FromNodeId  ToNodeId        WC\n",
       "0             0         4  0.008000\n",
       "1             0         5  0.005682\n",
       "2             0         7  0.033333\n",
       "3             0         8  0.009615\n",
       "4             0         9  0.066667"
      ]
     },
     "execution_count": 12,
     "metadata": {},
     "output_type": "execute_result"
    }
   ],
   "source": [
    "# 枝確率を計算済みのネットワークを読み込む\n",
    "network = pd.read_csv(\"data/Epinions/WC.csv\")\n",
    "network.head()"
   ]
  },
  {
   "cell_type": "code",
   "execution_count": 13,
   "metadata": {},
   "outputs": [],
   "source": [
    "# numpy型に変換\n",
    "network_np = network.values\n",
    "\n",
    "# 空の有向グラフを作成\n",
    "G = nx.DiGraph()\n",
    "\n",
    "# 重み付きの枝を加える\n",
    "G.add_weighted_edges_from(network_np)"
   ]
  },
  {
   "cell_type": "code",
   "execution_count": 15,
   "metadata": {},
   "outputs": [
    {
     "data": {
      "application/vnd.jupyter.widget-view+json": {
       "model_id": "db07e35768fc456cb511d8367a9eb4f3",
       "version_major": 2,
       "version_minor": 0
      },
      "text/plain": [
       "HBox(children=(IntProgress(value=0, max=75879), HTML(value='')))"
      ]
     },
     "metadata": {},
     "output_type": "display_data"
    },
    {
     "name": "stdout",
     "output_type": "stream",
     "text": [
      "\n",
      "comp init\n",
      "u 763.0\n"
     ]
    },
    {
     "ename": "KeyboardInterrupt",
     "evalue": "",
     "output_type": "error",
     "traceback": [
      "\u001b[0;31m---------------------------------------------------------------------------\u001b[0m",
      "\u001b[0;31mKeyboardInterrupt\u001b[0m                         Traceback (most recent call last)",
      "\u001b[0;32m<ipython-input-15-4cfb273b1023>\u001b[0m in \u001b[0;36m<module>\u001b[0;34m\u001b[0m\n\u001b[1;32m      1\u001b[0m \u001b[0mstart\u001b[0m \u001b[0;34m=\u001b[0m \u001b[0mtime\u001b[0m\u001b[0;34m.\u001b[0m\u001b[0mtime\u001b[0m\u001b[0;34m(\u001b[0m\u001b[0;34m)\u001b[0m\u001b[0;34m\u001b[0m\u001b[0;34m\u001b[0m\u001b[0m\n\u001b[0;32m----> 2\u001b[0;31m \u001b[0mS\u001b[0m\u001b[0;34m[\u001b[0m\u001b[0;34m\"WC\"\u001b[0m\u001b[0;34m]\u001b[0m\u001b[0;34m,\u001b[0m \u001b[0mtime_list\u001b[0m \u001b[0;34m=\u001b[0m \u001b[0mPMIA_time\u001b[0m\u001b[0;34m(\u001b[0m\u001b[0mG\u001b[0m\u001b[0;34m,\u001b[0m \u001b[0;36m50\u001b[0m\u001b[0;34m,\u001b[0m \u001b[0;36m1\u001b[0m\u001b[0;34m/\u001b[0m\u001b[0;36m320\u001b[0m\u001b[0;34m)\u001b[0m\u001b[0;34m\u001b[0m\u001b[0;34m\u001b[0m\u001b[0m\n\u001b[0m\u001b[1;32m      3\u001b[0m \u001b[0mrun_time\u001b[0m\u001b[0;34m[\u001b[0m\u001b[0;34m\"WC\"\u001b[0m\u001b[0;34m]\u001b[0m \u001b[0;34m=\u001b[0m \u001b[0mtime\u001b[0m\u001b[0;34m.\u001b[0m\u001b[0mtime\u001b[0m\u001b[0;34m(\u001b[0m\u001b[0;34m)\u001b[0m \u001b[0;34m-\u001b[0m \u001b[0mstart\u001b[0m\u001b[0;34m\u001b[0m\u001b[0;34m\u001b[0m\u001b[0m\n",
      "\u001b[0;32m<ipython-input-10-b17d3e272744>\u001b[0m in \u001b[0;36mPMIA_time\u001b[0;34m(G, k, theta)\u001b[0m\n\u001b[1;32m     43\u001b[0m \u001b[0;34m\u001b[0m\u001b[0m\n\u001b[1;32m     44\u001b[0m             \u001b[0;32mif\u001b[0m \u001b[0mv\u001b[0m \u001b[0;34m!=\u001b[0m \u001b[0mu\u001b[0m\u001b[0;34m:\u001b[0m\u001b[0;34m\u001b[0m\u001b[0;34m\u001b[0m\u001b[0m\n\u001b[0;32m---> 45\u001b[0;31m                 \u001b[0mPMIIA\u001b[0m\u001b[0;34m[\u001b[0m\u001b[0mv\u001b[0m\u001b[0;34m]\u001b[0m\u001b[0;34m,\u001b[0m \u001b[0mPMIIA_MIP\u001b[0m\u001b[0;34m[\u001b[0m\u001b[0mv\u001b[0m\u001b[0;34m]\u001b[0m \u001b[0;34m=\u001b[0m \u001b[0mcompute_PMIIA\u001b[0m\u001b[0;34m(\u001b[0m\u001b[0mv\u001b[0m\u001b[0;34m,\u001b[0m \u001b[0mtheta\u001b[0m\u001b[0;34m,\u001b[0m \u001b[0mS\u001b[0m\u001b[0;34m,\u001b[0m \u001b[0mIS\u001b[0m\u001b[0;34m[\u001b[0m\u001b[0mv\u001b[0m\u001b[0;34m]\u001b[0m\u001b[0;34m,\u001b[0m \u001b[0mG\u001b[0m\u001b[0;34m)\u001b[0m\u001b[0;34m\u001b[0m\u001b[0;34m\u001b[0m\u001b[0m\n\u001b[0m\u001b[1;32m     46\u001b[0m                 \u001b[0mcompute_ap\u001b[0m\u001b[0;34m(\u001b[0m\u001b[0map\u001b[0m\u001b[0;34m,\u001b[0m \u001b[0mS\u001b[0m\u001b[0;34m,\u001b[0m \u001b[0mPMIIA\u001b[0m\u001b[0;34m[\u001b[0m\u001b[0mv\u001b[0m\u001b[0;34m]\u001b[0m\u001b[0;34m,\u001b[0m \u001b[0mPMIIA_MIP\u001b[0m\u001b[0;34m[\u001b[0m\u001b[0mv\u001b[0m\u001b[0;34m]\u001b[0m\u001b[0;34m,\u001b[0m \u001b[0mG\u001b[0m\u001b[0;34m)\u001b[0m\u001b[0;34m\u001b[0m\u001b[0;34m\u001b[0m\u001b[0m\n\u001b[1;32m     47\u001b[0m                 \u001b[0mcompute_alpha\u001b[0m\u001b[0;34m(\u001b[0m\u001b[0malpha\u001b[0m\u001b[0;34m,\u001b[0m \u001b[0mv\u001b[0m\u001b[0;34m,\u001b[0m \u001b[0mPMIIA\u001b[0m\u001b[0;34m[\u001b[0m\u001b[0mv\u001b[0m\u001b[0;34m]\u001b[0m\u001b[0;34m,\u001b[0m \u001b[0mPMIIA_MIP\u001b[0m\u001b[0;34m[\u001b[0m\u001b[0mv\u001b[0m\u001b[0;34m]\u001b[0m\u001b[0;34m,\u001b[0m \u001b[0mS\u001b[0m\u001b[0;34m,\u001b[0m \u001b[0mG\u001b[0m\u001b[0;34m,\u001b[0m \u001b[0map\u001b[0m\u001b[0;34m)\u001b[0m\u001b[0;34m\u001b[0m\u001b[0;34m\u001b[0m\u001b[0m\n",
      "\u001b[0;32m<ipython-input-6-ad029aa383b6>\u001b[0m in \u001b[0;36mcompute_PMIIA\u001b[0;34m(v, theta, S, IS_v, G)\u001b[0m\n\u001b[1;32m     21\u001b[0m             \u001b[0medge_weight\u001b[0m \u001b[0;34m=\u001b[0m \u001b[0medge_weights\u001b[0m\u001b[0;34m[\u001b[0m\u001b[0medge\u001b[0m\u001b[0;34m]\u001b[0m\u001b[0;34m\u001b[0m\u001b[0;34m\u001b[0m\u001b[0m\n\u001b[1;32m     22\u001b[0m             \u001b[0;31m# 更新条件\u001b[0m\u001b[0;34m\u001b[0m\u001b[0;34m\u001b[0m\u001b[0;34m\u001b[0m\u001b[0m\n\u001b[0;32m---> 23\u001b[0;31m             \u001b[0;32mif\u001b[0m \u001b[0mdist\u001b[0m\u001b[0;34m[\u001b[0m\u001b[0medge\u001b[0m\u001b[0;34m[\u001b[0m\u001b[0;36m1\u001b[0m\u001b[0;34m]\u001b[0m\u001b[0;34m]\u001b[0m \u001b[0;34m+\u001b[0m \u001b[0medge_weight\u001b[0m \u001b[0;34m<\u001b[0m \u001b[0mmin_dist\u001b[0m\u001b[0;34m:\u001b[0m\u001b[0;34m\u001b[0m\u001b[0;34m\u001b[0m\u001b[0m\n\u001b[0m\u001b[1;32m     24\u001b[0m                 \u001b[0mmin_dist\u001b[0m \u001b[0;34m=\u001b[0m \u001b[0mdist\u001b[0m\u001b[0;34m[\u001b[0m\u001b[0medge\u001b[0m\u001b[0;34m[\u001b[0m\u001b[0;36m1\u001b[0m\u001b[0;34m]\u001b[0m\u001b[0;34m]\u001b[0m \u001b[0;34m+\u001b[0m \u001b[0medge_weight\u001b[0m\u001b[0;34m\u001b[0m\u001b[0;34m\u001b[0m\u001b[0m\n\u001b[1;32m     25\u001b[0m                 \u001b[0mmin_edge\u001b[0m \u001b[0;34m=\u001b[0m \u001b[0medge\u001b[0m\u001b[0;34m\u001b[0m\u001b[0;34m\u001b[0m\u001b[0m\n",
      "\u001b[0;31mKeyboardInterrupt\u001b[0m: "
     ]
    }
   ],
   "source": [
    "start = time.time()\n",
    "S[\"WC\"], time_list = PMIA_time(G, 50, 1/320)\n",
    "run_time[\"WC\"] = time.time() - start"
   ]
  },
  {
   "cell_type": "code",
   "execution_count": null,
   "metadata": {},
   "outputs": [],
   "source": [
    "WC_df_seed_time = pd.DataFrame({\"Size of Seed Set\":range(1,51), \n",
    "                                \"Running Time[s]\":time_list}).set_index(\"Size of Seed Set\")\n",
    "WC_df_seed_time"
   ]
  },
  {
   "cell_type": "code",
   "execution_count": null,
   "metadata": {},
   "outputs": [],
   "source": [
    "WC_df_seed_time.plot()"
   ]
  },
  {
   "cell_type": "code",
   "execution_count": null,
   "metadata": {},
   "outputs": [],
   "source": [
    "run_time[\"WC\"]"
   ]
  },
  {
   "cell_type": "code",
   "execution_count": null,
   "metadata": {},
   "outputs": [],
   "source": [
    "S[\"WC\"]"
   ]
  },
  {
   "cell_type": "markdown",
   "metadata": {},
   "source": [
    "### TR"
   ]
  },
  {
   "cell_type": "code",
   "execution_count": null,
   "metadata": {
    "scrolled": false
   },
   "outputs": [],
   "source": [
    "# 枝確率を計算済みのネットワークを読み込む\n",
    "network = pd.read_csv(\"data/Epinions/TR.csv\")\n",
    "network.head()"
   ]
  },
  {
   "cell_type": "code",
   "execution_count": null,
   "metadata": {},
   "outputs": [],
   "source": [
    "# numpy型に変換\n",
    "network_np = network.values\n",
    "\n",
    "# 空の有向グラフを作成\n",
    "G = nx.DiGraph()\n",
    "\n",
    "# 重み付きの枝を加える\n",
    "G.add_weighted_edges_from(network_np)"
   ]
  },
  {
   "cell_type": "code",
   "execution_count": null,
   "metadata": {},
   "outputs": [],
   "source": [
    "start = time.time()\n",
    "S[\"TR\"], time_list = PMIA_time(G, 50, 1/320)\n",
    "run_time[\"TR\"] = time.time() - start"
   ]
  },
  {
   "cell_type": "code",
   "execution_count": null,
   "metadata": {},
   "outputs": [],
   "source": [
    "TR_df_seed_time = pd.DataFrame({\"Size of Seed Set\":range(1,51), \n",
    "                                \"Running Time[s]\":time_list}).set_index(\"Size of Seed Set\")\n",
    "TR_df_seed_time"
   ]
  },
  {
   "cell_type": "code",
   "execution_count": null,
   "metadata": {},
   "outputs": [],
   "source": [
    "TR_df_seed_time.plot()"
   ]
  },
  {
   "cell_type": "code",
   "execution_count": null,
   "metadata": {},
   "outputs": [],
   "source": [
    "run_time[\"TR\"]"
   ]
  },
  {
   "cell_type": "code",
   "execution_count": null,
   "metadata": {},
   "outputs": [],
   "source": [
    "S[\"TR\"]"
   ]
  },
  {
   "cell_type": "markdown",
   "metadata": {},
   "source": [
    "### P=0.1"
   ]
  },
  {
   "cell_type": "code",
   "execution_count": null,
   "metadata": {
    "scrolled": false
   },
   "outputs": [],
   "source": [
    "# 枝確率を計算済みのネットワークを読み込む\n",
    "network = pd.read_csv(\"data/Epinions/P=0_1.csv\")\n",
    "network.head()"
   ]
  },
  {
   "cell_type": "code",
   "execution_count": null,
   "metadata": {},
   "outputs": [],
   "source": [
    "# numpy型に変換\n",
    "network_np = network.values\n",
    "\n",
    "# 空の有向グラフを作成\n",
    "G = nx.DiGraph()\n",
    "\n",
    "# 重み付きの枝を加える\n",
    "G.add_weighted_edges_from(network_np)"
   ]
  },
  {
   "cell_type": "code",
   "execution_count": null,
   "metadata": {},
   "outputs": [],
   "source": [
    "start = time.time()\n",
    "S[\"P=0_1\"], time_list = PMIA_time(G, 50, 1/320)\n",
    "run_time[\"P=0_1\"] = time.time() - start"
   ]
  },
  {
   "cell_type": "code",
   "execution_count": null,
   "metadata": {},
   "outputs": [],
   "source": [
    "P01_df_seed_time = pd.DataFrame({\"Size of Seed Set\":range(1,51), \n",
    "                                \"Running Time[s]\":time_list}).set_index(\"Size of Seed Set\")\n",
    "P01_df_seed_time"
   ]
  },
  {
   "cell_type": "code",
   "execution_count": null,
   "metadata": {},
   "outputs": [],
   "source": [
    "P01_df_seed_time.plot()"
   ]
  },
  {
   "cell_type": "code",
   "execution_count": null,
   "metadata": {},
   "outputs": [],
   "source": [
    "run_time[\"P=0_1\"]"
   ]
  },
  {
   "cell_type": "code",
   "execution_count": null,
   "metadata": {},
   "outputs": [],
   "source": [
    "S[\"P=0_1\"]"
   ]
  },
  {
   "cell_type": "code",
   "execution_count": null,
   "metadata": {},
   "outputs": [],
   "source": []
  },
  {
   "cell_type": "code",
   "execution_count": null,
   "metadata": {},
   "outputs": [],
   "source": []
  }
 ],
 "metadata": {
  "kernelspec": {
   "display_name": "Python 3",
   "language": "python",
   "name": "python3"
  },
  "language_info": {
   "codemirror_mode": {
    "name": "ipython",
    "version": 3
   },
   "file_extension": ".py",
   "mimetype": "text/x-python",
   "name": "python",
   "nbconvert_exporter": "python",
   "pygments_lexer": "ipython3",
   "version": "3.7.4"
  }
 },
 "nbformat": 4,
 "nbformat_minor": 2
}
