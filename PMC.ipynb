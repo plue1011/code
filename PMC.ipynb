{
 "cells": [
  {
   "cell_type": "markdown",
   "metadata": {},
   "source": [
    "# Pruned Monte-Carlo"
   ]
  },
  {
   "cell_type": "markdown",
   "metadata": {},
   "source": [
    "* 強連結成分分解の関数を作る\n",
    "* GAINの再帰部分をどうするか？\n",
    "* Cでシュミレーションだけやってしまう\n",
    "\n",
    "* deltaとlatestが上手く動作していないため、クラスで書くか、返り値等を変更する必要あり"
   ]
  },
  {
   "cell_type": "code",
   "execution_count": 41,
   "metadata": {},
   "outputs": [],
   "source": [
    "import networkx as nx\n",
    "import pandas as pd\n",
    "import numpy as np\n",
    "import matplotlib.pyplot as plt\n",
    "from tqdm import tqdm_notebook as tqdm\n",
    "import random\n",
    "import time\n",
    "from collections import deque\n",
    "\n",
    "%matplotlib inline"
   ]
  },
  {
   "cell_type": "code",
   "execution_count": 42,
   "metadata": {},
   "outputs": [
    {
     "data": {
      "text/html": [
       "<div>\n",
       "<style scoped>\n",
       "    .dataframe tbody tr th:only-of-type {\n",
       "        vertical-align: middle;\n",
       "    }\n",
       "\n",
       "    .dataframe tbody tr th {\n",
       "        vertical-align: top;\n",
       "    }\n",
       "\n",
       "    .dataframe thead th {\n",
       "        text-align: right;\n",
       "    }\n",
       "</style>\n",
       "<table border=\"1\" class=\"dataframe\">\n",
       "  <thead>\n",
       "    <tr style=\"text-align: right;\">\n",
       "      <th></th>\n",
       "      <th># FromNodeId</th>\n",
       "      <th>ToNodeId</th>\n",
       "      <th>p</th>\n",
       "    </tr>\n",
       "  </thead>\n",
       "  <tbody>\n",
       "    <tr>\n",
       "      <th>0</th>\n",
       "      <td>0</td>\n",
       "      <td>4</td>\n",
       "      <td>0.008000</td>\n",
       "    </tr>\n",
       "    <tr>\n",
       "      <th>1</th>\n",
       "      <td>0</td>\n",
       "      <td>5</td>\n",
       "      <td>0.005682</td>\n",
       "    </tr>\n",
       "    <tr>\n",
       "      <th>2</th>\n",
       "      <td>0</td>\n",
       "      <td>7</td>\n",
       "      <td>0.033333</td>\n",
       "    </tr>\n",
       "    <tr>\n",
       "      <th>3</th>\n",
       "      <td>0</td>\n",
       "      <td>8</td>\n",
       "      <td>0.009615</td>\n",
       "    </tr>\n",
       "    <tr>\n",
       "      <th>4</th>\n",
       "      <td>0</td>\n",
       "      <td>9</td>\n",
       "      <td>0.066667</td>\n",
       "    </tr>\n",
       "  </tbody>\n",
       "</table>\n",
       "</div>"
      ],
      "text/plain": [
       "   # FromNodeId  ToNodeId         p\n",
       "0             0         4  0.008000\n",
       "1             0         5  0.005682\n",
       "2             0         7  0.033333\n",
       "3             0         8  0.009615\n",
       "4             0         9  0.066667"
      ]
     },
     "execution_count": 42,
     "metadata": {},
     "output_type": "execute_result"
    }
   ],
   "source": [
    "# データの読み込み\n",
    "# 枝確率を計算済みのネットワークを読み込む\n",
    "network = pd.read_csv(\"data.csv\")\n",
    "network.head()"
   ]
  },
  {
   "cell_type": "code",
   "execution_count": 43,
   "metadata": {},
   "outputs": [],
   "source": [
    "# numpy型に変換\n",
    "network_np = network.values"
   ]
  },
  {
   "cell_type": "code",
   "execution_count": 44,
   "metadata": {},
   "outputs": [],
   "source": [
    "# 入力は隣接リスト(numpy)[[from_node, to_node, edge_prob],...]\n",
    "def live_edge_graph_edges(p, p_len):\n",
    "    rand = np.random.uniform(0, 1, p_len)\n",
    "    return np.array([[p[i][0], p[i][1]] for i in range(p_len) if rand[i] < p[i][2]])"
   ]
  },
  {
   "cell_type": "code",
   "execution_count": 231,
   "metadata": {},
   "outputs": [],
   "source": [
    "# 幅優先探索によって、Sから到達可能なノードを返す\n",
    "def bfs(G, S):\n",
    "    visited = {s:None for s in S}\n",
    "    queue = deque(S)\n",
    "    while queue:\n",
    "        v = queue.popleft()\n",
    "        out_node = G.successors(v)\n",
    "        for u in out_node:\n",
    "            if not (u in visited):\n",
    "                queue.append(u)\n",
    "                visited[u] = v\n",
    "    return visited"
   ]
  },
  {
   "cell_type": "code",
   "execution_count": 46,
   "metadata": {},
   "outputs": [],
   "source": [
    "# 幅優先探索によって、Sから到達可能なノードを返す\n",
    "def bfs_reverse(G, S):\n",
    "    visited = {s:None for s in S}\n",
    "    queue = deque(S)\n",
    "    while queue:\n",
    "        v = queue.popleft()\n",
    "        in_node = G.predecessors(v)\n",
    "        for u in in_node:\n",
    "            if not (u in visited):\n",
    "                queue.append(u)\n",
    "                visited[u] = v\n",
    "    return visited"
   ]
  },
  {
   "cell_type": "code",
   "execution_count": 53,
   "metadata": {},
   "outputs": [],
   "source": [
    "# 強連結成分分解に使うための関数\n",
    "def dfs_go(G):\n",
    "    visited = dict([])\n",
    "    # vs:帰りがけ順\n",
    "    vs = deque([])\n",
    "    for s in G.node():\n",
    "        if s not in visited:\n",
    "            visited[s] = None\n",
    "            Stack = deque([s])\n",
    "            vs_tmp = deque([s])\n",
    "            while Stack:\n",
    "                v = Stack.pop()\n",
    "                #if v not in vs_tmp:\n",
    "                vs_tmp.appendleft(v)\n",
    "                out_node = G[v]\n",
    "                for u in out_node:\n",
    "                    if u not in visited:\n",
    "                        visited[u] = s\n",
    "                        Stack.append(u)\n",
    "            #vs = vs_tmp + vs\n",
    "            vs.extendleft(vs_tmp)\n",
    "    return visited, vs\n",
    "\n",
    "# 強連結成分分解に使うための関数\n",
    "def dfs_back(G, vs):\n",
    "    group = dict([])\n",
    "    group_num = 0\n",
    "    DAG = nx.DiGraph()\n",
    "    for s in vs:\n",
    "        if s not in group:\n",
    "            w = 1\n",
    "            Stack = deque([s])\n",
    "            members = []\n",
    "            while Stack:\n",
    "                v = Stack.pop()\n",
    "                members.append(v)\n",
    "                group[v] = group_num\n",
    "                in_node = G.predecessors(v)\n",
    "                for u in in_node:\n",
    "                    if u not in group:\n",
    "                        group[u] = group_num\n",
    "                        w += 1\n",
    "                        Stack.append(u)\n",
    "                    else:\n",
    "                        if group_num !=  group[u]:\n",
    "                            DAG.add_edge(group_num, group[u])\n",
    "            DAG.add_node(group_num, weight=w, members=members)\n",
    "            group_num += 1\n",
    "    return group, DAG\n",
    "\n",
    "def scc_DAG(G):\n",
    "    visited ,vs = dfs_go(G)\n",
    "    group, DAG = dfs_back(G, vs)\n",
    "    return group, DAG"
   ]
  },
  {
   "cell_type": "code",
   "execution_count": 54,
   "metadata": {},
   "outputs": [
    {
     "name": "stdout",
     "output_type": "stream",
     "text": [
      "CPU times: user 447 ms, sys: 7.65 ms, total: 454 ms\n",
      "Wall time: 455 ms\n"
     ]
    }
   ],
   "source": [
    "%time simulation = live_edge_graph_edges(network_np, len(network_np))"
   ]
  },
  {
   "cell_type": "code",
   "execution_count": 55,
   "metadata": {
    "scrolled": true
   },
   "outputs": [
    {
     "data": {
      "text/plain": [
       "51989"
      ]
     },
     "execution_count": 55,
     "metadata": {},
     "output_type": "execute_result"
    }
   ],
   "source": [
    "len(simulation)"
   ]
  },
  {
   "cell_type": "code",
   "execution_count": 296,
   "metadata": {},
   "outputs": [],
   "source": [
    "# i回目のシュミレーションでv_Vが到達できる頂点数\n",
    "def GAIN(i, v_V, comp, G, A, S, h, D):\n",
    "    global latest\n",
    "    global delta\n",
    "    # v:i回目のシュミレーションで作成されたグラフのv_Vを含む強連結成分\n",
    "    v = comp[i][v_V]\n",
    "    \n",
    "    # V[i]にvがない場合0(後に消されていくため)\n",
    "    if v not in G[i].nodes():\n",
    "        delta[i][v] = 0\n",
    "        print(i,v,v_V)\n",
    "        return 0\n",
    "    \n",
    "    # ? delta\n",
    "    if latest[i][v]:\n",
    "        return delta[i][v]\n",
    "        \n",
    "    latest[i][v] = True\n",
    "    \n",
    "    # len(S)==0の理由は初回のみ行えば良いため(h(ハブ)以降の到達頂点数は一回行えば十分であるため)\n",
    "    # vがhのacestorだった場合、hの到達頂点数を計算して、他のacestorの時にも使い回す\n",
    "    if (v in A[i]) and (len(S) == 0):\n",
    "        # GAINの引数は後で変える\n",
    "        # hのGAINをはじめから足しておく\n",
    "        # print(v,h[i])\n",
    "        h_Vs = G[i].nodes[h[i]][\"members\"]\n",
    "        for h_V in h_Vs:\n",
    "            delta[i][v] = GAIN(i, h_V, comp, G, A, S, h, D)\n",
    "    else:\n",
    "        delta[i][v] = 0\n",
    "    \n",
    "    # bfs\n",
    "    Q = deque([v])\n",
    "    # Xは探索済みの強連結成分\n",
    "    X = set([v])\n",
    "    while Q:\n",
    "        u = Q.popleft()\n",
    "        \n",
    "        # 意味不明\n",
    "        #if (v in A[i]) and (u in D[i]) and (len(S) == 0):\n",
    "            #continue\n",
    "        delta[i][v] += G[i].nodes[u][\"weight\"]\n",
    "        \n",
    "        \n",
    "        Edges = G[i].out_edges(u)\n",
    "        for u_, w in Edges:\n",
    "            # uから出ている任意の枝について探索する\n",
    "            if u_ == u:\n",
    "                # 探索済みの強連結成分は探索しなくていいので、w not in X\n",
    "                # w in V[i]はのちのupdateでV[i]が変化するため\n",
    "                if (w not in X) and (w in G[i].nodes()):\n",
    "                    Q.append(w)\n",
    "                    X.add(w)\n",
    "        \n",
    "    return delta[i][v]"
   ]
  },
  {
   "cell_type": "code",
   "execution_count": 300,
   "metadata": {},
   "outputs": [],
   "source": [
    "def UPDATEDAG(i, t_V, comp, G):\n",
    "    global latest\n",
    "    t = comp[i][t_V]\n",
    "    print(\"update\",t)\n",
    "    # t -> u\n",
    "    u = list(bfs(G[i], [t]))\n",
    "    # v -> u:上で求めたuにだどりつくvを求める\n",
    "    v = list(bfs_reverse(G[i], u))\n",
    "    for v_ in v:\n",
    "        if v_ in G[i].nodes():\n",
    "            latest[i][v_] = False\n",
    "    \n",
    "    G[i].remove_nodes_from(u)\n",
    "    return G[i], latest"
   ]
  },
  {
   "cell_type": "code",
   "execution_count": 301,
   "metadata": {},
   "outputs": [],
   "source": [
    "def PMC_greedy(network_np, k, R):\n",
    "    E_ = dict([])\n",
    "    G_ = dict([])\n",
    "    G = dict([])\n",
    "    comp = dict([])\n",
    "    h = dict([])\n",
    "    D = dict([])\n",
    "    A = dict([])\n",
    "    V = dict([])\n",
    "    global latest\n",
    "    latest = dict([])\n",
    "    global delta\n",
    "    delta = dict([])\n",
    "    \n",
    "    # 全体のグラフ\n",
    "    G_all = nx.DiGraph()\n",
    "    G_all.add_weighted_edges_from(network_np)\n",
    "    \n",
    "    # 元グラフの頂点集合\n",
    "    G_V = [int(node) for node in G_all.node()]\n",
    "    \n",
    "    # copy用に作っておく\n",
    "    G_copy = nx.DiGraph()\n",
    "    G_copy.add_nodes_from(G_V)\n",
    "    \n",
    "    for i in range(R):\n",
    "        # 各辺 e を確率 pe で残すことで得られる辺集合\n",
    "        E_[i] = live_edge_graph_edges(network_np, len(network_np))\n",
    "        \n",
    "        G_[i] = G_copy.copy()\n",
    "        G_[i].add_edges_from(E_[i])\n",
    "        # G_i_ = (V, E_i_) の強連結成分を計算\n",
    "        # G_i_より構築された頂点重み付き DAG\n",
    "        # comp[元ノード]→DAGノード\n",
    "        # G[i]:DAG\n",
    "        # V[i]:{DAGノード:weight}\n",
    "        # E[i]:DAG枝(作成段階で重複があるためsetをしている)\n",
    "        comp[i], G[i] = scc_DAG(G_[i])\n",
    "        \n",
    "        \"\"\"\n",
    "        G[i] = nx.condensation(G_[i])\n",
    "        comp[i] = dict(G[i].node)\n",
    "        V[i] = G[i].node()\n",
    "        E[i] = G[i].edges()\n",
    "        \n",
    "        # 縮約後の各強連結成分のノード数\n",
    "        G_i_item = dict(G[i].nodes).items()\n",
    "        weight[i] = {node:len(list(w.values())[0]) for node, w in G_i_item}\n",
    "        \"\"\"\n",
    "        \n",
    "        # h_i ← V_i において最大の次数をもつ頂点\n",
    "        G_i_deg = dict(G[i].degree())\n",
    "        h[i] = max(G_i_deg, key=G_i_deg.get)\n",
    "        print(\"hi\",h[i])\n",
    "        \n",
    "        # h_iから到達可能な頂点集合\n",
    "        # ? 型は未定\n",
    "        # D:Descendant\n",
    "        D[i] = set(bfs(G[i], [h[i]]))\n",
    "        \n",
    "        # h_iに到達可能な頂点集合\n",
    "        # ? 型は未定\n",
    "        # A:Ancestor\n",
    "        A[i] = set(bfs_reverse(G[i], [h[i]])) - set([h[i]])\n",
    "        \n",
    "        V[i] = G[i].node()\n",
    "        latest[i] = [False] * len(V[i])\n",
    "        delta[i] = [False] * len(G_V)\n",
    "        \n",
    "    \n",
    "    S = []\n",
    "    for j in range(k):\n",
    "        t = np.argmax([sum([GAIN(i, v, comp, G, A, S, h, D) for i in range(R)]) / R for v in tqdm(G_V)])\n",
    "        print(t,[sum([GAIN(i, v, comp, G, A, S, h, D) for i in range(R)]) / R for v in G_V][t])\n",
    "        \n",
    "        S.append(t)\n",
    "        \n",
    "        for i in range(R):\n",
    "            G[i], latest = UPDATEDAG(i, t, comp, G)\n",
    "    return S"
   ]
  },
  {
   "cell_type": "code",
   "execution_count": 302,
   "metadata": {},
   "outputs": [
    {
     "name": "stdout",
     "output_type": "stream",
     "text": [
      "hi 61255\n",
      "hi 71435\n"
     ]
    },
    {
     "data": {
      "application/vnd.jupyter.widget-view+json": {
       "model_id": "4e814b8e15d64dec90c7b87e70c94aca",
       "version_major": 2,
       "version_minor": 0
      },
      "text/plain": [
       "HBox(children=(IntProgress(value=0, max=75879), HTML(value='')))"
      ]
     },
     "metadata": {},
     "output_type": "display_data"
    },
    {
     "name": "stdout",
     "output_type": "stream",
     "text": [
      "6068 98.0\n",
      "update 27116\n",
      "update 27085\n"
     ]
    },
    {
     "data": {
      "application/vnd.jupyter.widget-view+json": {
       "model_id": "53cade491b294648bba6663613c086df",
       "version_major": 2,
       "version_minor": 0
      },
      "text/plain": [
       "HBox(children=(IntProgress(value=0, max=75879), HTML(value='')))"
      ]
     },
     "metadata": {},
     "output_type": "display_data"
    },
    {
     "name": "stdout",
     "output_type": "stream",
     "text": [
      "0 27116 6068\n",
      "1 27085 6068\n",
      "0 27116 6068\n",
      "1 27085 6068\n",
      "6068 98.0\n",
      "update 27116\n"
     ]
    },
    {
     "ename": "NetworkXError",
     "evalue": "The node 27116 is not in the digraph.",
     "output_type": "error",
     "traceback": [
      "\u001b[0;31m---------------------------------------------------------------------------\u001b[0m",
      "\u001b[0;31mKeyError\u001b[0m                                  Traceback (most recent call last)",
      "\u001b[0;32m~/anaconda3/lib/python3.7/site-packages/networkx/classes/digraph.py\u001b[0m in \u001b[0;36msuccessors\u001b[0;34m(self, n)\u001b[0m\n\u001b[1;32m    808\u001b[0m         \u001b[0;32mtry\u001b[0m\u001b[0;34m:\u001b[0m\u001b[0;34m\u001b[0m\u001b[0;34m\u001b[0m\u001b[0m\n\u001b[0;32m--> 809\u001b[0;31m             \u001b[0;32mreturn\u001b[0m \u001b[0miter\u001b[0m\u001b[0;34m(\u001b[0m\u001b[0mself\u001b[0m\u001b[0;34m.\u001b[0m\u001b[0m_succ\u001b[0m\u001b[0;34m[\u001b[0m\u001b[0mn\u001b[0m\u001b[0;34m]\u001b[0m\u001b[0;34m)\u001b[0m\u001b[0;34m\u001b[0m\u001b[0;34m\u001b[0m\u001b[0m\n\u001b[0m\u001b[1;32m    810\u001b[0m         \u001b[0;32mexcept\u001b[0m \u001b[0mKeyError\u001b[0m\u001b[0;34m:\u001b[0m\u001b[0;34m\u001b[0m\u001b[0;34m\u001b[0m\u001b[0m\n",
      "\u001b[0;31mKeyError\u001b[0m: 27116",
      "\nDuring handling of the above exception, another exception occurred:\n",
      "\u001b[0;31mNetworkXError\u001b[0m                             Traceback (most recent call last)",
      "\u001b[0;32m<ipython-input-302-2184b32ad7d1>\u001b[0m in \u001b[0;36m<module>\u001b[0;34m\u001b[0m\n\u001b[1;32m      1\u001b[0m \u001b[0mk\u001b[0m \u001b[0;34m=\u001b[0m \u001b[0;36m3\u001b[0m\u001b[0;34m\u001b[0m\u001b[0;34m\u001b[0m\u001b[0m\n\u001b[1;32m      2\u001b[0m \u001b[0mR\u001b[0m \u001b[0;34m=\u001b[0m \u001b[0;36m2\u001b[0m\u001b[0;34m\u001b[0m\u001b[0;34m\u001b[0m\u001b[0m\n\u001b[0;32m----> 3\u001b[0;31m \u001b[0mPMC_greedy\u001b[0m\u001b[0;34m(\u001b[0m\u001b[0mnetwork_np\u001b[0m\u001b[0;34m,\u001b[0m \u001b[0mk\u001b[0m\u001b[0;34m,\u001b[0m \u001b[0mR\u001b[0m\u001b[0;34m)\u001b[0m\u001b[0;34m\u001b[0m\u001b[0;34m\u001b[0m\u001b[0m\n\u001b[0m",
      "\u001b[0;32m<ipython-input-301-d1de9c55c6aa>\u001b[0m in \u001b[0;36mPMC_greedy\u001b[0;34m(network_np, k, R)\u001b[0m\n\u001b[1;32m     77\u001b[0m \u001b[0;34m\u001b[0m\u001b[0m\n\u001b[1;32m     78\u001b[0m         \u001b[0;32mfor\u001b[0m \u001b[0mi\u001b[0m \u001b[0;32min\u001b[0m \u001b[0mrange\u001b[0m\u001b[0;34m(\u001b[0m\u001b[0mR\u001b[0m\u001b[0;34m)\u001b[0m\u001b[0;34m:\u001b[0m\u001b[0;34m\u001b[0m\u001b[0;34m\u001b[0m\u001b[0m\n\u001b[0;32m---> 79\u001b[0;31m             \u001b[0mG\u001b[0m\u001b[0;34m[\u001b[0m\u001b[0mi\u001b[0m\u001b[0;34m]\u001b[0m\u001b[0;34m,\u001b[0m \u001b[0mlatest\u001b[0m \u001b[0;34m=\u001b[0m \u001b[0mUPDATEDAG\u001b[0m\u001b[0;34m(\u001b[0m\u001b[0mi\u001b[0m\u001b[0;34m,\u001b[0m \u001b[0mt\u001b[0m\u001b[0;34m,\u001b[0m \u001b[0mcomp\u001b[0m\u001b[0;34m,\u001b[0m \u001b[0mG\u001b[0m\u001b[0;34m)\u001b[0m\u001b[0;34m\u001b[0m\u001b[0;34m\u001b[0m\u001b[0m\n\u001b[0m\u001b[1;32m     80\u001b[0m     \u001b[0;32mreturn\u001b[0m \u001b[0mS\u001b[0m\u001b[0;34m\u001b[0m\u001b[0;34m\u001b[0m\u001b[0m\n",
      "\u001b[0;32m<ipython-input-300-5cb7b4b246a0>\u001b[0m in \u001b[0;36mUPDATEDAG\u001b[0;34m(i, t_V, comp, G)\u001b[0m\n\u001b[1;32m      4\u001b[0m     \u001b[0mprint\u001b[0m\u001b[0;34m(\u001b[0m\u001b[0;34m\"update\"\u001b[0m\u001b[0;34m,\u001b[0m\u001b[0mt\u001b[0m\u001b[0;34m)\u001b[0m\u001b[0;34m\u001b[0m\u001b[0;34m\u001b[0m\u001b[0m\n\u001b[1;32m      5\u001b[0m     \u001b[0;31m# t -> u\u001b[0m\u001b[0;34m\u001b[0m\u001b[0;34m\u001b[0m\u001b[0;34m\u001b[0m\u001b[0m\n\u001b[0;32m----> 6\u001b[0;31m     \u001b[0mu\u001b[0m \u001b[0;34m=\u001b[0m \u001b[0mlist\u001b[0m\u001b[0;34m(\u001b[0m\u001b[0mbfs\u001b[0m\u001b[0;34m(\u001b[0m\u001b[0mG\u001b[0m\u001b[0;34m[\u001b[0m\u001b[0mi\u001b[0m\u001b[0;34m]\u001b[0m\u001b[0;34m,\u001b[0m \u001b[0;34m[\u001b[0m\u001b[0mt\u001b[0m\u001b[0;34m]\u001b[0m\u001b[0;34m)\u001b[0m\u001b[0;34m)\u001b[0m\u001b[0;34m\u001b[0m\u001b[0;34m\u001b[0m\u001b[0m\n\u001b[0m\u001b[1;32m      7\u001b[0m     \u001b[0;31m# v -> u:上で求めたuにだどりつくvを求める\u001b[0m\u001b[0;34m\u001b[0m\u001b[0;34m\u001b[0m\u001b[0;34m\u001b[0m\u001b[0m\n\u001b[1;32m      8\u001b[0m     \u001b[0mv\u001b[0m \u001b[0;34m=\u001b[0m \u001b[0mlist\u001b[0m\u001b[0;34m(\u001b[0m\u001b[0mbfs_reverse\u001b[0m\u001b[0;34m(\u001b[0m\u001b[0mG\u001b[0m\u001b[0;34m[\u001b[0m\u001b[0mi\u001b[0m\u001b[0;34m]\u001b[0m\u001b[0;34m,\u001b[0m \u001b[0mu\u001b[0m\u001b[0;34m)\u001b[0m\u001b[0;34m)\u001b[0m\u001b[0;34m\u001b[0m\u001b[0;34m\u001b[0m\u001b[0m\n",
      "\u001b[0;32m<ipython-input-231-7a6b38e0dd80>\u001b[0m in \u001b[0;36mbfs\u001b[0;34m(G, S)\u001b[0m\n\u001b[1;32m      5\u001b[0m     \u001b[0;32mwhile\u001b[0m \u001b[0mqueue\u001b[0m\u001b[0;34m:\u001b[0m\u001b[0;34m\u001b[0m\u001b[0;34m\u001b[0m\u001b[0m\n\u001b[1;32m      6\u001b[0m         \u001b[0mv\u001b[0m \u001b[0;34m=\u001b[0m \u001b[0mqueue\u001b[0m\u001b[0;34m.\u001b[0m\u001b[0mpopleft\u001b[0m\u001b[0;34m(\u001b[0m\u001b[0;34m)\u001b[0m\u001b[0;34m\u001b[0m\u001b[0;34m\u001b[0m\u001b[0m\n\u001b[0;32m----> 7\u001b[0;31m         \u001b[0mout_node\u001b[0m \u001b[0;34m=\u001b[0m \u001b[0mG\u001b[0m\u001b[0;34m.\u001b[0m\u001b[0msuccessors\u001b[0m\u001b[0;34m(\u001b[0m\u001b[0mv\u001b[0m\u001b[0;34m)\u001b[0m\u001b[0;34m\u001b[0m\u001b[0;34m\u001b[0m\u001b[0m\n\u001b[0m\u001b[1;32m      8\u001b[0m         \u001b[0;32mfor\u001b[0m \u001b[0mu\u001b[0m \u001b[0;32min\u001b[0m \u001b[0mout_node\u001b[0m\u001b[0;34m:\u001b[0m\u001b[0;34m\u001b[0m\u001b[0;34m\u001b[0m\u001b[0m\n\u001b[1;32m      9\u001b[0m             \u001b[0;32mif\u001b[0m \u001b[0;32mnot\u001b[0m \u001b[0;34m(\u001b[0m\u001b[0mu\u001b[0m \u001b[0;32min\u001b[0m \u001b[0mvisited\u001b[0m\u001b[0;34m)\u001b[0m\u001b[0;34m:\u001b[0m\u001b[0;34m\u001b[0m\u001b[0;34m\u001b[0m\u001b[0m\n",
      "\u001b[0;32m~/anaconda3/lib/python3.7/site-packages/networkx/classes/digraph.py\u001b[0m in \u001b[0;36msuccessors\u001b[0;34m(self, n)\u001b[0m\n\u001b[1;32m    809\u001b[0m             \u001b[0;32mreturn\u001b[0m \u001b[0miter\u001b[0m\u001b[0;34m(\u001b[0m\u001b[0mself\u001b[0m\u001b[0;34m.\u001b[0m\u001b[0m_succ\u001b[0m\u001b[0;34m[\u001b[0m\u001b[0mn\u001b[0m\u001b[0;34m]\u001b[0m\u001b[0;34m)\u001b[0m\u001b[0;34m\u001b[0m\u001b[0;34m\u001b[0m\u001b[0m\n\u001b[1;32m    810\u001b[0m         \u001b[0;32mexcept\u001b[0m \u001b[0mKeyError\u001b[0m\u001b[0;34m:\u001b[0m\u001b[0;34m\u001b[0m\u001b[0;34m\u001b[0m\u001b[0m\n\u001b[0;32m--> 811\u001b[0;31m             \u001b[0;32mraise\u001b[0m \u001b[0mNetworkXError\u001b[0m\u001b[0;34m(\u001b[0m\u001b[0;34m\"The node %s is not in the digraph.\"\u001b[0m \u001b[0;34m%\u001b[0m \u001b[0;34m(\u001b[0m\u001b[0mn\u001b[0m\u001b[0;34m,\u001b[0m\u001b[0;34m)\u001b[0m\u001b[0;34m)\u001b[0m\u001b[0;34m\u001b[0m\u001b[0;34m\u001b[0m\u001b[0m\n\u001b[0m\u001b[1;32m    812\u001b[0m \u001b[0;34m\u001b[0m\u001b[0m\n\u001b[1;32m    813\u001b[0m     \u001b[0;31m# digraph definitions\u001b[0m\u001b[0;34m\u001b[0m\u001b[0;34m\u001b[0m\u001b[0;34m\u001b[0m\u001b[0m\n",
      "\u001b[0;31mNetworkXError\u001b[0m: The node 27116 is not in the digraph."
     ]
    }
   ],
   "source": [
    "k = 3\n",
    "R = 2\n",
    "PMC_greedy(network_np, k, R)"
   ]
  },
  {
   "cell_type": "code",
   "execution_count": null,
   "metadata": {},
   "outputs": [],
   "source": []
  },
  {
   "cell_type": "code",
   "execution_count": null,
   "metadata": {},
   "outputs": [],
   "source": []
  },
  {
   "cell_type": "code",
   "execution_count": null,
   "metadata": {},
   "outputs": [],
   "source": []
  },
  {
   "cell_type": "code",
   "execution_count": null,
   "metadata": {},
   "outputs": [],
   "source": []
  },
  {
   "cell_type": "code",
   "execution_count": null,
   "metadata": {},
   "outputs": [],
   "source": []
  },
  {
   "cell_type": "code",
   "execution_count": null,
   "metadata": {},
   "outputs": [],
   "source": []
  },
  {
   "cell_type": "code",
   "execution_count": null,
   "metadata": {},
   "outputs": [],
   "source": []
  },
  {
   "cell_type": "code",
   "execution_count": null,
   "metadata": {},
   "outputs": [],
   "source": []
  },
  {
   "cell_type": "code",
   "execution_count": null,
   "metadata": {},
   "outputs": [],
   "source": []
  },
  {
   "cell_type": "code",
   "execution_count": null,
   "metadata": {},
   "outputs": [],
   "source": []
  },
  {
   "cell_type": "code",
   "execution_count": null,
   "metadata": {},
   "outputs": [],
   "source": []
  },
  {
   "cell_type": "code",
   "execution_count": null,
   "metadata": {},
   "outputs": [],
   "source": []
  },
  {
   "cell_type": "code",
   "execution_count": null,
   "metadata": {},
   "outputs": [],
   "source": []
  },
  {
   "cell_type": "code",
   "execution_count": null,
   "metadata": {},
   "outputs": [],
   "source": []
  },
  {
   "cell_type": "code",
   "execution_count": null,
   "metadata": {},
   "outputs": [],
   "source": [
    "# 自作関数(強連結成分分解)との比較"
   ]
  },
  {
   "cell_type": "code",
   "execution_count": 49,
   "metadata": {
    "scrolled": true
   },
   "outputs": [
    {
     "name": "stdout",
     "output_type": "stream",
     "text": [
      "1 0.5074639320373535\n",
      "2 0.24335122108459473\n",
      "3 0.9596779346466064\n",
      "4 0.02229785919189453\n",
      "5 0.07672572135925293\n",
      "6 0.037210941314697266\n",
      "7 0.003609180450439453\n",
      "8 1.5020370483398438e-05\n",
      "9 0.003695964813232422\n",
      "CPU times: user 2.06 s, sys: 51.4 ms, total: 2.11 s\n",
      "Wall time: 1.94 s\n"
     ]
    }
   ],
   "source": [
    "%%time\n",
    "\n",
    "network_np = network.values\n",
    "k = 3\n",
    "R = 1\n",
    "\n",
    "\n",
    "E_ = dict([])\n",
    "G_ = dict([])\n",
    "G = dict([])\n",
    "V = dict([])\n",
    "E = dict([])\n",
    "comp = dict([])\n",
    "weight = dict([])\n",
    "h = dict([])\n",
    "D = dict([])\n",
    "A = dict([])\n",
    "latest =dict([])\n",
    "\n",
    "for i in range(R):\n",
    "    # 各辺 e を確率 pe で残すことで得られる辺集合\n",
    "    start = time.time()\n",
    "    E_[i] = live_edge_graph_edges(network_np, len(network_np))\n",
    "    print(\"1\",time.time() - start)\n",
    "\n",
    "    start = time.time()\n",
    "    G_[i] = nx.DiGraph()\n",
    "    G_[i].add_edges_from(E_[i])\n",
    "    print(\"2\",time.time() - start)\n",
    "    \n",
    "    # G_i_ = (V, E_i_) の強連結成分を計算\n",
    "    # G_i_より構築された頂点重み付き DAG\n",
    "    start = time.time()\n",
    "    G[i] = nx.condensation(G_[i])\n",
    "    print(\"3\",time.time() - start)\n",
    "    \n",
    "    start = time.time()\n",
    "    comp[i] = dict(G[i].node)\n",
    "    V[i] = G[i].node()\n",
    "    E[i] = G[i].edges()\n",
    "    print(\"4\",time.time() - start)\n",
    "\n",
    "    # 縮約後の各強連結成分のノード数\n",
    "    start = time.time()\n",
    "    G_i_item = dict(G[i].nodes).items()\n",
    "    weight[i] = {node:len(list(w.values())[0]) for node, w in G_i_item}\n",
    "    print(\"5\",time.time() - start)\n",
    "\n",
    "    # h_i ← V_i において最大の次数をもつ頂点\n",
    "    start = time.time()\n",
    "    G_i_deg = dict(G[i].degree())\n",
    "    h[i] = max(G_i_deg, key=G_i_deg.get)\n",
    "    print(\"6\",time.time() - start)\n",
    "\n",
    "    # h_iから到達可能な頂点集合\n",
    "    # ? 型は未定\n",
    "    # D:Descendant\n",
    "    start = time.time()\n",
    "    D[i] = set(bfs(G[i], [h[i]]))\n",
    "    print(\"7\",time.time() - start)\n",
    "\n",
    "    # h_iに到達可能な頂点集合\n",
    "    # ? 型は未定\n",
    "    # A:Ancestor\n",
    "    start = time.time()\n",
    "    A[i] = set(bfs_reverse(G[i], [h[i]]))\n",
    "    print(\"8\",time.time() - start)\n",
    "\n",
    "    start = time.time()\n",
    "    latest[i] = [False for v in V[i]]\n",
    "    print(\"9\",time.time() - start)"
   ]
  },
  {
   "cell_type": "code",
   "execution_count": 20,
   "metadata": {},
   "outputs": [
    {
     "name": "stdout",
     "output_type": "stream",
     "text": [
      "1 0.5972480773925781\n",
      "2 0.3634610176086426\n",
      "3 0.6327078342437744\n",
      "6 0.0563511848449707\n",
      "7 5.8650970458984375e-05\n",
      "8 0.0016491413116455078\n",
      "9 0.003326892852783203\n",
      "CPU times: user 1.79 s, sys: 49.9 ms, total: 1.84 s\n",
      "Wall time: 1.75 s\n"
     ]
    }
   ],
   "source": [
    "%%time\n",
    "\n",
    "network_np = network.values\n",
    "k = 3\n",
    "R = 1\n",
    "\n",
    "\n",
    "E_ = dict([])\n",
    "G_ = dict([])\n",
    "G = dict([])\n",
    "V = dict([])\n",
    "E = dict([])\n",
    "comp = dict([])\n",
    "weight = dict([])\n",
    "h = dict([])\n",
    "D = dict([])\n",
    "A = dict([])\n",
    "latest =dict([])\n",
    "\n",
    "for i in range(R):\n",
    "    # 各辺 e を確率 pe で残すことで得られる辺集合\n",
    "    start = time.time()\n",
    "    E_[i] = live_edge_graph_edges(network_np, len(network_np))\n",
    "    print(\"1\",time.time() - start)\n",
    "\n",
    "    start = time.time()\n",
    "    G_[i] = nx.DiGraph()\n",
    "    G_[i].add_edges_from(E_[i])\n",
    "    print(\"2\",time.time() - start)\n",
    "    \n",
    "    start = time.time()\n",
    "    comp[i], G[i], V[i], E[i] = scc_DAG(G_[i])\n",
    "    E[i] = list(set(E[i]))\n",
    "    print(\"3\",time.time() - start)\n",
    "    \n",
    "    \"\"\"\n",
    "    # G_i_ = (V, E_i_) の強連結成分を計算\n",
    "    # G_i_より構築された頂点重み付き DAG\n",
    "    start = time.time()\n",
    "    G[i] = nx.condensation(G_[i])\n",
    "    print(\"3\",time.time() - start)\n",
    "    \n",
    "    start = time.time()\n",
    "    comp[i] = dict(G[i].node)\n",
    "    V[i] = G[i].node()\n",
    "    E[i] = G[i].edges()\n",
    "    print(\"4\",time.time() - start)\n",
    "\n",
    "    # 縮約後の各強連結成分のノード数\n",
    "    start = time.time()\n",
    "    G_i_item = dict(G[i].nodes).items()\n",
    "    weight[i] = {node:len(list(w.values())[0]) for node, w in G_i_item}\n",
    "    print(\"5\",time.time() - start)\n",
    "\n",
    "    \"\"\"\n",
    "\n",
    "    # h_i ← V_i において最大の次数をもつ頂点\n",
    "    start = time.time()\n",
    "    G_i_deg = dict(G[i].degree())\n",
    "    h[i] = max(G_i_deg, key=G_i_deg.get)\n",
    "    print(\"6\",time.time() - start)\n",
    "    \n",
    "    # h_iから到達可能な頂点集合\n",
    "    # ? 型は未定\n",
    "    # D:Descendant\n",
    "    start = time.time()\n",
    "    D[i] = set(bfs(G[i], [h[i]]))\n",
    "    print(\"7\",time.time() - start)\n",
    "\n",
    "    # h_iに到達可能な頂点集合\n",
    "    # ? 型は未定\n",
    "    # A:Ancestor\n",
    "    start = time.time()\n",
    "    A[i] = set(bfs_reverse(G[i], [h[i]]))\n",
    "    print(\"8\",time.time() - start)\n",
    "\n",
    "    start = time.time()\n",
    "    latest[i] = [False for v in V[i]]\n",
    "    print(\"9\",time.time() - start)"
   ]
  },
  {
   "cell_type": "code",
   "execution_count": 100,
   "metadata": {},
   "outputs": [
    {
     "name": "stdout",
     "output_type": "stream",
     "text": [
      "CPU times: user 2.86 s, sys: 47.8 ms, total: 2.91 s\n",
      "Wall time: 2.94 s\n"
     ]
    }
   ],
   "source": [
    "%%time\n",
    "G_all = nx.DiGraph()\n",
    "G_all.add_weighted_edges_from(network_np)"
   ]
  },
  {
   "cell_type": "code",
   "execution_count": 101,
   "metadata": {},
   "outputs": [
    {
     "name": "stdout",
     "output_type": "stream",
     "text": [
      "CPU times: user 1.76 s, sys: 107 ms, total: 1.86 s\n",
      "Wall time: 1.94 s\n"
     ]
    }
   ],
   "source": [
    "%%time\n",
    "H = G_all.copy()"
   ]
  },
  {
   "cell_type": "code",
   "execution_count": null,
   "metadata": {},
   "outputs": [],
   "source": []
  }
 ],
 "metadata": {
  "kernelspec": {
   "display_name": "Python 3",
   "language": "python",
   "name": "python3"
  },
  "language_info": {
   "codemirror_mode": {
    "name": "ipython",
    "version": 3
   },
   "file_extension": ".py",
   "mimetype": "text/x-python",
   "name": "python",
   "nbconvert_exporter": "python",
   "pygments_lexer": "ipython3",
   "version": "3.7.3"
  }
 },
 "nbformat": 4,
 "nbformat_minor": 2
}
