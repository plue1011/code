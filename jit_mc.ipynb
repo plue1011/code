{
  "nbformat": 4,
  "nbformat_minor": 0,
  "metadata": {
    "colab": {
      "name": "jit_mc.ipynb",
      "provenance": [],
      "machine_shape": "hm",
      "mount_file_id": "1inML0HbhLBhT5uTV5huOj2rcE1v3LFDV",
      "authorship_tag": "ABX9TyNFJZ5S2kqImH/q3U3jugwY",
      "include_colab_link": true
    },
    "kernelspec": {
      "name": "python3",
      "display_name": "Python 3"
    }
  },
  "cells": [
    {
      "cell_type": "markdown",
      "metadata": {
        "id": "view-in-github",
        "colab_type": "text"
      },
      "source": [
        "<a href=\"https://colab.research.google.com/github/plue1011/code/blob/master/jit_mc.ipynb\" target=\"_parent\"><img src=\"https://colab.research.google.com/assets/colab-badge.svg\" alt=\"Open In Colab\"/></a>"
      ]
    },
    {
      "cell_type": "code",
      "metadata": {
        "id": "-BSRmFj2mwf5",
        "colab_type": "code",
        "colab": {
          "base_uri": "https://localhost:8080/",
          "height": 83
        },
        "outputId": "61ad7dbd-d4aa-489c-e455-ae97265bac32"
      },
      "source": [
        "!pip install numba --upgrade"
      ],
      "execution_count": 1,
      "outputs": [
        {
          "output_type": "stream",
          "text": [
            "Requirement already up-to-date: numba in /usr/local/lib/python3.6/dist-packages (0.50.1)\n",
            "Requirement already satisfied, skipping upgrade: llvmlite<0.34,>=0.33.0.dev0 in /usr/local/lib/python3.6/dist-packages (from numba) (0.33.0)\n",
            "Requirement already satisfied, skipping upgrade: numpy>=1.15 in /usr/local/lib/python3.6/dist-packages (from numba) (1.18.5)\n",
            "Requirement already satisfied, skipping upgrade: setuptools in /usr/local/lib/python3.6/dist-packages (from numba) (49.2.0)\n"
          ],
          "name": "stdout"
        }
      ]
    },
    {
      "cell_type": "code",
      "metadata": {
        "id": "GhdXHfuMmwcw",
        "colab_type": "code",
        "colab": {
          "base_uri": "https://localhost:8080/",
          "height": 34
        },
        "outputId": "5ebad3f9-6b81-4dc9-a0e8-fe5b96e10f95"
      },
      "source": [
        "import numba\n",
        "numba.__version__"
      ],
      "execution_count": 1,
      "outputs": [
        {
          "output_type": "execute_result",
          "data": {
            "application/vnd.google.colaboratory.intrinsic+json": {
              "type": "string"
            },
            "text/plain": [
              "'0.50.1'"
            ]
          },
          "metadata": {
            "tags": []
          },
          "execution_count": 1
        }
      ]
    },
    {
      "cell_type": "code",
      "metadata": {
        "id": "vhIbauadYjI4",
        "colab_type": "code",
        "colab": {}
      },
      "source": [
        "import networkx as nx\n",
        "import numpy as np\n",
        "import pandas as pd\n",
        "\n",
        "from numba import njit\n",
        "from numba.typed import Dict\n",
        "from numba.typed import List\n",
        "from numba.core import types"
      ],
      "execution_count": 2,
      "outputs": []
    },
    {
      "cell_type": "markdown",
      "metadata": {
        "id": "iIJJEmn5y5tj",
        "colab_type": "text"
      },
      "source": [
        "# データの読み込み"
      ]
    },
    {
      "cell_type": "code",
      "metadata": {
        "id": "dM0hSDtzdm95",
        "colab_type": "code",
        "colab": {}
      },
      "source": [
        "network = pd.read_csv('/content/drive/My Drive/fueki/Influence/data/WC.csv').values\n",
        "g = network[:, :2].astype(np.int64)\n",
        "w = network[:, 2]"
      ],
      "execution_count": 3,
      "outputs": []
    },
    {
      "cell_type": "code",
      "metadata": {
        "id": "p7xEkkvcAN6B",
        "colab_type": "code",
        "colab": {}
      },
      "source": [
        "# g = np.random.randint(0, 200, (1000, 2)).astype(np.float64)\n",
        "# w = np.ones(1000).astype(np.float64) / 100\n",
        "# network = np.hstack([g, w.reshape(-1, 1)])"
      ],
      "execution_count": 4,
      "outputs": []
    },
    {
      "cell_type": "markdown",
      "metadata": {
        "id": "agBJUPwYy8zn",
        "colab_type": "text"
      },
      "source": [
        "# グラフの作成"
      ]
    },
    {
      "cell_type": "code",
      "metadata": {
        "id": "Bp8IFesXDtjl",
        "colab_type": "code",
        "colab": {}
      },
      "source": [
        "int_array = types.int64[:]\n",
        "int_tuple = numba.typeof((1e20,1e20))\n",
        "\n",
        "@njit\n",
        "def make_graph(network):\n",
        "    g = network[:, :2].astype(np.int64)\n",
        "    w = network[:, 2].astype(np.float64)\n",
        "\n",
        "    # グラフ作成(エッジ)\n",
        "    from_v = set(g[:, 0])\n",
        "    G = Dict.empty(\n",
        "        key_type=types.int64,\n",
        "        value_type=int_array,\n",
        "    )\n",
        "\n",
        "    tmp = List()\n",
        "    index_max = max(from_v)+1\n",
        "    for v_index in range(index_max):\n",
        "        tmp.append([v_index])\n",
        "\n",
        "    for vu in g:\n",
        "        tmp[vu[0]].append(vu[1])\n",
        "\n",
        "    for index in tmp:\n",
        "        G[index[0]] = np.array(index[1:], dtype=np.int64)\n",
        "\n",
        "    # グラフ作成(確率)\n",
        "    W = Dict.empty(\n",
        "        key_type=int_tuple,\n",
        "        value_type=types.float64,\n",
        "    )\n",
        "\n",
        "    for v, u, w in zip(network[:, 0], network[:, 1], network[:, 2]):\n",
        "        W[(v, u)] = w\n",
        "\n",
        "    return G, W"
      ],
      "execution_count": 5,
      "outputs": []
    },
    {
      "cell_type": "code",
      "metadata": {
        "id": "SoHe70QYfA12",
        "colab_type": "code",
        "colab": {
          "base_uri": "https://localhost:8080/",
          "height": 50
        },
        "outputId": "c543b4e3-a56a-417f-f689-08f45e79fcfe"
      },
      "source": [
        "%time G, W = make_graph(network)"
      ],
      "execution_count": 6,
      "outputs": [
        {
          "output_type": "stream",
          "text": [
            "CPU times: user 2.84 s, sys: 69.1 ms, total: 2.91 s\n",
            "Wall time: 2.91 s\n"
          ],
          "name": "stdout"
        }
      ]
    },
    {
      "cell_type": "code",
      "metadata": {
        "id": "Tfa6JLflxC3f",
        "colab_type": "code",
        "colab": {
          "base_uri": "https://localhost:8080/",
          "height": 100
        },
        "outputId": "be79f132-234c-4483-cc18-5f8424c8d4b9"
      },
      "source": [
        "G[2]"
      ],
      "execution_count": 7,
      "outputs": [
        {
          "output_type": "execute_result",
          "data": {
            "text/plain": [
              "array([  5,  12,  18,  26,  30,  31,  33,  35,  48,  51,  58,  65,  72,\n",
              "        77,  87,  89,  90,  93, 102, 103, 104, 105, 110, 123, 127, 155,\n",
              "       233, 237, 297, 319, 331, 333, 335, 402, 544, 545, 547, 548, 549,\n",
              "       550, 551, 552, 554, 555, 556, 557, 558, 559, 561, 562, 563, 564,\n",
              "       565, 715])"
            ]
          },
          "metadata": {
            "tags": []
          },
          "execution_count": 7
        }
      ]
    },
    {
      "cell_type": "markdown",
      "metadata": {
        "id": "xohoutFByihs",
        "colab_type": "text"
      },
      "source": [
        "# 幅優先探索"
      ]
    },
    {
      "cell_type": "code",
      "metadata": {
        "id": "9SWS5uPZzCc5",
        "colab_type": "code",
        "colab": {}
      },
      "source": [
        "@njit\n",
        "def IC_simulation(G, W, T):\n",
        "    V = G.keys()\n",
        "    maximum_inf = 0\n",
        "    for v_i in V:\n",
        "        expected_size = 0\n",
        "        for t in range(T):\n",
        "            visited = Dict.empty(\n",
        "                key_type=types.int64,\n",
        "                value_type=types.int64,\n",
        "            )\n",
        "            \n",
        "            # bfs\n",
        "            visited[v_i] = v_i\n",
        "            queue = List([v_i])\n",
        "            while queue:\n",
        "                v = queue.pop(0)\n",
        "                if v in G:\n",
        "                    u_list = G[v]\n",
        "                    for u in u_list:\n",
        "                        if (W[(v, u)] > np.random.uniform(0, 1)) and (u not in visited):\n",
        "                            queue.append(u)\n",
        "                            visited[u] = v\n",
        "\n",
        "            expected_size += len(visited)\n",
        "        if expected_size / T > maximum_inf:\n",
        "            maximum_node = v\n",
        "            maximum_inf = expected_size / T\n",
        "        \n",
        "    return maximum_node"
      ],
      "execution_count": 30,
      "outputs": []
    },
    {
      "cell_type": "code",
      "metadata": {
        "id": "Qjh2BKXZ1dff",
        "colab_type": "code",
        "colab": {
          "base_uri": "https://localhost:8080/",
          "height": 33
        },
        "outputId": "976f1a3f-dd2a-4430-8b37-552e22499c3e"
      },
      "source": [
        "%time IC_simulation(G, W, 10)"
      ],
      "execution_count": 38,
      "outputs": [
        {
          "output_type": "stream",
          "text": [
            "1 loop, best of 3: 42.8 s per loop\n"
          ],
          "name": "stdout"
        }
      ]
    },
    {
      "cell_type": "code",
      "metadata": {
        "id": "5hakjRLkYiDT",
        "colab_type": "code",
        "colab": {}
      },
      "source": [
        "int_array = types.int64[:]\n",
        "int_tuple = numba.typeof((1e20,1e20))\n",
        "\n",
        "@njit('float64(float64[:, :], int64)')\n",
        "def expected_inf(network, T):\n",
        "    g = network[:, :2].astype(np.int64)\n",
        "    w = network[:, 2].astype(np.float64)\n",
        "\n",
        "    # グラフ作成(エッジ)\n",
        "    from_v = set(g[:, 0])\n",
        "    G = Dict.empty(\n",
        "        key_type=types.int64,\n",
        "        value_type=int_array,\n",
        "    )\n",
        "\n",
        "    tmp = List()\n",
        "    index_max = max(from_v)+1\n",
        "    for v_index in range(index_max):\n",
        "        tmp.append([v_index])\n",
        "\n",
        "    for vu in g:\n",
        "        tmp[vu[0]].append(vu[1])\n",
        "\n",
        "    for index in tmp:\n",
        "        G[index[0]] = np.array(index[1:], dtype=np.int64)\n",
        "\n",
        "    # グラフ作成(確率)\n",
        "    W = Dict.empty(\n",
        "        key_type=int_tuple,\n",
        "        value_type=types.float64,\n",
        "    )\n",
        "\n",
        "    for v, u, w in zip(network[:, 0], network[:, 1], network[:, 2]):\n",
        "        W[(v, u)] = w\n",
        "\n",
        "    # 影響力推定\n",
        "    V = G.keys()\n",
        "    maximum_inf = 0\n",
        "    for v_i in V:\n",
        "        expected_size = 0\n",
        "        for t in range(T):\n",
        "            visited = Dict.empty(\n",
        "                key_type=types.int64,\n",
        "                value_type=types.int64,\n",
        "            )\n",
        "            \n",
        "            # bfs\n",
        "            visited[v_i] = v_i\n",
        "            queue = List([v_i])\n",
        "            while queue:\n",
        "                v = queue.pop(0)\n",
        "                if v in G:\n",
        "                    u_list = G[v]\n",
        "                    for u in u_list:\n",
        "                        if (W[(v, u)] > np.random.uniform(0, 1)) and (u not in visited):\n",
        "                            queue.append(u)\n",
        "                            visited[u] = v\n",
        "\n",
        "            expected_size += len(visited)\n",
        "        if expected_size / T > maximum_inf:\n",
        "            maximum_node = v\n",
        "            maximum_inf = expected_size / T\n",
        "        \n",
        "    return maximum_node"
      ],
      "execution_count": 33,
      "outputs": []
    },
    {
      "cell_type": "code",
      "metadata": {
        "id": "TQrdR5xpZ48y",
        "colab_type": "code",
        "colab": {
          "base_uri": "https://localhost:8080/",
          "height": 66
        },
        "outputId": "5b45c20d-e482-48ab-821a-8c9681b5b496"
      },
      "source": [
        "%time expected_inf(network, 50)"
      ],
      "execution_count": 37,
      "outputs": [
        {
          "output_type": "stream",
          "text": [
            "CPU times: user 43.8 s, sys: 57.1 ms, total: 43.8 s\n",
            "Wall time: 43.6 s\n"
          ],
          "name": "stdout"
        },
        {
          "output_type": "execute_result",
          "data": {
            "text/plain": [
              "35713.0"
            ]
          },
          "metadata": {
            "tags": []
          },
          "execution_count": 37
        }
      ]
    },
    {
      "cell_type": "code",
      "metadata": {
        "id": "kZ3T3DjvaHuD",
        "colab_type": "code",
        "colab": {}
      },
      "source": [
        ""
      ],
      "execution_count": null,
      "outputs": []
    }
  ]
}