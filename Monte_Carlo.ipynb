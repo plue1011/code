{
 "cells": [
  {
   "cell_type": "code",
   "execution_count": 1,
   "metadata": {},
   "outputs": [],
   "source": [
    "import networkx as nx\n",
    "import pandas as pd\n",
    "import numpy as np\n",
    "import matplotlib.pyplot as plt\n",
    "from tqdm import tqdm_notebook as tqdm\n",
    "import random\n",
    "import time\n",
    "%matplotlib inline"
   ]
  },
  {
   "cell_type": "code",
   "execution_count": 29,
   "metadata": {},
   "outputs": [
    {
     "data": {
      "text/html": [
       "<div>\n",
       "<style scoped>\n",
       "    .dataframe tbody tr th:only-of-type {\n",
       "        vertical-align: middle;\n",
       "    }\n",
       "\n",
       "    .dataframe tbody tr th {\n",
       "        vertical-align: top;\n",
       "    }\n",
       "\n",
       "    .dataframe thead th {\n",
       "        text-align: right;\n",
       "    }\n",
       "</style>\n",
       "<table border=\"1\" class=\"dataframe\">\n",
       "  <thead>\n",
       "    <tr style=\"text-align: right;\">\n",
       "      <th></th>\n",
       "      <th># FromNodeId</th>\n",
       "      <th>ToNodeId</th>\n",
       "      <th>p</th>\n",
       "    </tr>\n",
       "  </thead>\n",
       "  <tbody>\n",
       "    <tr>\n",
       "      <td>0</td>\n",
       "      <td>0</td>\n",
       "      <td>4</td>\n",
       "      <td>0.008000</td>\n",
       "    </tr>\n",
       "    <tr>\n",
       "      <td>1</td>\n",
       "      <td>0</td>\n",
       "      <td>5</td>\n",
       "      <td>0.005682</td>\n",
       "    </tr>\n",
       "    <tr>\n",
       "      <td>2</td>\n",
       "      <td>0</td>\n",
       "      <td>7</td>\n",
       "      <td>0.033333</td>\n",
       "    </tr>\n",
       "    <tr>\n",
       "      <td>3</td>\n",
       "      <td>0</td>\n",
       "      <td>8</td>\n",
       "      <td>0.009615</td>\n",
       "    </tr>\n",
       "    <tr>\n",
       "      <td>4</td>\n",
       "      <td>0</td>\n",
       "      <td>9</td>\n",
       "      <td>0.066667</td>\n",
       "    </tr>\n",
       "  </tbody>\n",
       "</table>\n",
       "</div>"
      ],
      "text/plain": [
       "   # FromNodeId  ToNodeId         p\n",
       "0             0         4  0.008000\n",
       "1             0         5  0.005682\n",
       "2             0         7  0.033333\n",
       "3             0         8  0.009615\n",
       "4             0         9  0.066667"
      ]
     },
     "execution_count": 29,
     "metadata": {},
     "output_type": "execute_result"
    }
   ],
   "source": [
    "# データの読み込み\n",
    "# 枝確率を計算済みのネットワークを読み込む\n",
    "network = pd.read_csv(\"data.csv\")\n",
    "network.head()"
   ]
  },
  {
   "cell_type": "code",
   "execution_count": 17,
   "metadata": {},
   "outputs": [],
   "source": [
    "# numpy型に変換\n",
    "network_np = network.values"
   ]
  },
  {
   "cell_type": "code",
   "execution_count": 18,
   "metadata": {},
   "outputs": [],
   "source": [
    "# 空の有向グラフを作成\n",
    "G = nx.DiGraph()"
   ]
  },
  {
   "cell_type": "code",
   "execution_count": 19,
   "metadata": {},
   "outputs": [],
   "source": [
    "# 重み付きの枝を加える\n",
    "G.add_weighted_edges_from(network_np)"
   ]
  },
  {
   "cell_type": "code",
   "execution_count": 20,
   "metadata": {},
   "outputs": [],
   "source": [
    "# 入力は隣接リスト(numpy)[[from_node, to_node, edge_prob],...]\n",
    "def live_edge_graph_edges(p, p_len):\n",
    "    rand = np.random.uniform(0, 1, p_len)\n",
    "    return np.array([[p[i][0], p[i][1]] for i in range(p_len) if rand[i] > p[i][2]])"
   ]
  },
  {
   "cell_type": "code",
   "execution_count": 21,
   "metadata": {},
   "outputs": [
    {
     "name": "stdout",
     "output_type": "stream",
     "text": [
      "CPU times: user 2.08 s, sys: 51.4 ms, total: 2.13 s\n",
      "Wall time: 2.13 s\n"
     ]
    }
   ],
   "source": [
    "%time simulation = live_edge_graph_edges(network_np, len(network_np))"
   ]
  },
  {
   "cell_type": "code",
   "execution_count": 22,
   "metadata": {},
   "outputs": [
    {
     "data": {
      "text/plain": [
       "array([[0.0000e+00, 4.0000e+00],\n",
       "       [0.0000e+00, 5.0000e+00],\n",
       "       [0.0000e+00, 7.0000e+00],\n",
       "       ...,\n",
       "       [7.5885e+04, 7.9000e+03],\n",
       "       [7.5885e+04, 1.6086e+04],\n",
       "       [7.5886e+04, 5.1414e+04]])"
      ]
     },
     "execution_count": 22,
     "metadata": {},
     "output_type": "execute_result"
    }
   ],
   "source": [
    "simulation"
   ]
  },
  {
   "cell_type": "code",
   "execution_count": 23,
   "metadata": {},
   "outputs": [],
   "source": [
    "def reach_node_size(live_edge, seed):\n",
    "    # グラフ作成\n",
    "    H = nx.DiGraph()\n",
    "    H.add_edges_from(live_edge)\n",
    "    \n",
    "    # 到達可能な頂点集合をシードごとに和集合して求める\n",
    "    reach_set = set([])\n",
    "    for s in seed:\n",
    "        # たどり着いているノードがシードでない場合だけ計算する\n",
    "        if s not in reach_set:\n",
    "            reach_set |= set(nx.dfs_preorder_nodes(H,source=s))\n",
    "    return len(reach_set)"
   ]
  },
  {
   "cell_type": "code",
   "execution_count": 24,
   "metadata": {},
   "outputs": [
    {
     "name": "stdout",
     "output_type": "stream",
     "text": [
      "CPU times: user 2.95 s, sys: 137 ms, total: 3.09 s\n",
      "Wall time: 3.11 s\n"
     ]
    },
    {
     "data": {
      "text/plain": [
       "23520"
      ]
     },
     "execution_count": 24,
     "metadata": {},
     "output_type": "execute_result"
    }
   ],
   "source": [
    "%time reach_node_size(simulation, [i for i in range(50)])"
   ]
  },
  {
   "cell_type": "code",
   "execution_count": 25,
   "metadata": {},
   "outputs": [],
   "source": [
    "# 影響数の期待値(近似)\n",
    "# approxim_expected_influence_num(枝確率, シード, ε, δ)\n",
    "def approx_expect_inf_size(p, seed, epsi, delta):\n",
    "    # グラフの作成\n",
    "    G = nx.DiGraph()\n",
    "    G.add_weighted_edges_from(p)\n",
    "    \n",
    "    # 頂点数\n",
    "    n = G.number_of_nodes()\n",
    "    \n",
    "    # 試行回数を算出する\n",
    "    T = int(((n**2) / (epsi**2)) * np.log(1/delta)) + 1\n",
    "        \n",
    "    # 各回のシュミレーションの結果の和が格納される\n",
    "    X = 0\n",
    "    len_p = len(p)\n",
    "    # T回シュミレーションしていく\n",
    "    for i in tqdm(range(T)):\n",
    "        # live_edgeグラフを作る\n",
    "        live_edge = live_edge_graph_edges(p, len_p)\n",
    "        X += reach_node_size(live_edge, seed)\n",
    "    expected_num = X / T\n",
    "    return expected_num"
   ]
  },
  {
   "cell_type": "code",
   "execution_count": 26,
   "metadata": {},
   "outputs": [],
   "source": [
    "# シュミレーションの結果的に変化していない場合は、回数を減らす関数\n",
    "# 影響数の期待値(近似)\n",
    "# approxim_expected_influence_num(枝確率, シード, ε, δ, 変化数)\n",
    "def approx_expect_inf_size_heuris(p, seed, epsi, delta, change):\n",
    "    # グラフの作成\n",
    "    G = nx.DiGraph()\n",
    "    G.add_weighted_edges_from(p)\n",
    "    \n",
    "    # 頂点数\n",
    "    n = G.number_of_nodes()\n",
    "    \n",
    "    # 試行回数を算出する\n",
    "    T = int(((n**2) / (epsi**2)) * np.log(1/delta)) + 1\n",
    "        \n",
    "    # 各回のシュミレーションの結果の和が格納される\n",
    "    X = 0\n",
    "    len_p = len(p)\n",
    "    # T回シュミレーションしていく\n",
    "    for i in tqdm(range(T)):\n",
    "        # live_edgeグラフを作る\n",
    "        live_edge = live_edge_graph_edges(p, len_p)\n",
    "        X += reach_node_size(live_edge, seed)\n",
    "        \n",
    "        # 前回と比較して変化なし\n",
    "        # if (i != 0) and (abs(((X / (i+1)) - expected_num) / expected_num) < rate_change):\n",
    "        if (i != 0) and (abs(((X / (i+1)) - expected_num) < change)):    \n",
    "            return expected_num\n",
    "        \n",
    "        expected_num = X / (i+1)\n",
    "    return expected_num"
   ]
  },
  {
   "cell_type": "code",
   "execution_count": 27,
   "metadata": {},
   "outputs": [
    {
     "data": {
      "text/plain": [
       "50"
      ]
     },
     "execution_count": 27,
     "metadata": {},
     "output_type": "execute_result"
    }
   ],
   "source": [
    "epsi = 0.999999999\n",
    "delta = 0.99999999\n",
    "n = 70000\n",
    "int(((n**2) / (epsi**2)) * np.log(1/delta)) + 1"
   ]
  },
  {
   "cell_type": "code",
   "execution_count": 28,
   "metadata": {
    "scrolled": true
   },
   "outputs": [
    {
     "data": {
      "application/vnd.jupyter.widget-view+json": {
       "model_id": "a80f6d9849db417ca7c172d2fa4b24eb",
       "version_major": 2,
       "version_minor": 0
      },
      "text/plain": [
       "HBox(children=(IntProgress(value=0, max=58), HTML(value='')))"
      ]
     },
     "metadata": {},
     "output_type": "display_data"
    },
    {
     "name": "stdout",
     "output_type": "stream",
     "text": [
      "CPU times: user 24.3 s, sys: 1.08 s, total: 25.4 s\n",
      "Wall time: 26.1 s\n"
     ]
    },
    {
     "data": {
      "text/plain": [
       "23428.333333333332"
      ]
     },
     "execution_count": 28,
     "metadata": {},
     "output_type": "execute_result"
    }
   ],
   "source": [
    "%time approx_expect_inf_size_heuris(network_np, [0,3], epsi, delta, 1)"
   ]
  },
  {
   "cell_type": "code",
   "execution_count": null,
   "metadata": {},
   "outputs": [],
   "source": []
  },
  {
   "cell_type": "code",
   "execution_count": null,
   "metadata": {},
   "outputs": [],
   "source": []
  }
 ],
 "metadata": {
  "kernelspec": {
   "display_name": "Python 3",
   "language": "python",
   "name": "python3"
  },
  "language_info": {
   "codemirror_mode": {
    "name": "ipython",
    "version": 3
   },
   "file_extension": ".py",
   "mimetype": "text/x-python",
   "name": "python",
   "nbconvert_exporter": "python",
   "pygments_lexer": "ipython3",
   "version": "3.7.4"
  }
 },
 "nbformat": 4,
 "nbformat_minor": 2
}
