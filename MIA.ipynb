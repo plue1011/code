{
 "cells": [
  {
   "cell_type": "code",
   "execution_count": 1,
   "metadata": {},
   "outputs": [],
   "source": [
    "import itertools\n",
    "import random\n",
    "import networkx as nx\n",
    "import matplotlib.pyplot as plt\n",
    "import numpy as np\n",
    "from tqdm import tqdm_notebook as tqdm\n",
    "import pandas as pd\n",
    "import time\n",
    "\n",
    "%matplotlib inline"
   ]
  },
  {
   "cell_type": "code",
   "execution_count": 2,
   "metadata": {},
   "outputs": [],
   "source": [
    "def make_random_graph_list(V_size, E_size):\n",
    "    network_list = np.array([np.random.choice(range(V_size),2,replace=False) for i in range(E_size)])\n",
    "    network_list = np.unique(network_list, axis=0)\n",
    "    weighted = np.random.uniform(0,1,len(network_list))\n",
    "    \n",
    "    # from to と　weightedを連結\n",
    "    return np.vstack([network_list.T, weighted]).T"
   ]
  },
  {
   "cell_type": "code",
   "execution_count": 3,
   "metadata": {},
   "outputs": [],
   "source": [
    "# def compute_MIOA_(v, G_table):\n",
    "#     MIOA = nx.DiGraph()\n",
    "#     for u_path in G_table[v][1].values():\n",
    "#         nx.add_path(MIOA, u_path)\n",
    "#     return MIOA\n",
    "\n",
    "# theta = 0.00001\n",
    "# G_table = compute_MIP_G(G, theta)\n",
    "\n",
    "# MIOA = compute_MIOA(0, G_table)\n",
    "# # nx.draw_networkx(MIOA)"
   ]
  },
  {
   "cell_type": "code",
   "execution_count": 4,
   "metadata": {},
   "outputs": [],
   "source": [
    "# def compute_MIIA_(v, G_table, G):\n",
    "#     MIIA = nx.DiGraph()\n",
    "#     for node in G:\n",
    "#         if (node not in MIIA) and (v in G_table[node][1]):\n",
    "#             nx.add_path(MIIA, G_table[node][1][v])\n",
    "#     return MIIA\n",
    "\n",
    "\n",
    "# # 試行錯誤したが、遅い。。。やはり自作か。\n",
    "# def compute_MIIA_osoi(v, G_table, G):\n",
    "#     MIIA = nx.DiGraph()\n",
    "#     for node in G:\n",
    "#         if not node in MIIA:\n",
    "#             path = G_table[node][1].get(v)\n",
    "#             if path:\n",
    "#                 nx.add_path(MIIA, path)\n",
    "#     return MIIA\n",
    "\n",
    "# def compute_MIIA_kai(v, G_path):\n",
    "#     MIIA = nx.DiGraph()\n",
    "#     for n, (dist, path) in tqdm(G_path):\n",
    "#         path_v = path.get(v)\n",
    "#         if path_v:\n",
    "#             nx.add_path(MIIA, path_v)\n",
    "#     return MIIA\n",
    "\n",
    "# # theta = 0.00001\n",
    "# # G_table = compute_MIP_G(G, theta)\n",
    "\n",
    "# # MIIA = compute_MIIA(2, G_table)\n",
    "# # # nx.draw_networkx(MIIA)"
   ]
  },
  {
   "cell_type": "code",
   "execution_count": 5,
   "metadata": {},
   "outputs": [],
   "source": [
    "def compute_MIIA(v, theta, G):\n",
    "\n",
    "    MIIA = nx.DiGraph()\n",
    "    MIIA.add_node(v)\n",
    "    MIIA_MIP = {v: [v]}\n",
    "\n",
    "    crossing_edges = set([in_edge for in_edge in G.in_edges([v])])\n",
    "    edge_weights = dict()\n",
    "    dist = {v: 0} # shortest paths from the root u\n",
    "\n",
    "    # grow MIIA\n",
    "    while crossing_edges:\n",
    "        # Dijkstra's greedy criteria\n",
    "        min_dist = float(\"Inf\")\n",
    "        sorted_crossing_edges = sorted(crossing_edges) # to break ties consistently\n",
    "        for edge in sorted_crossing_edges:\n",
    "            if edge not in edge_weights:\n",
    "                edge_weights[edge] = -np.log(G[edge[0]][edge[1]][\"weight\"])\n",
    "            edge_weight = edge_weights[edge]\n",
    "            # 更新条件\n",
    "            if dist[edge[1]] + edge_weight < min_dist:\n",
    "                min_dist = dist[edge[1]] + edge_weight\n",
    "                min_edge = edge\n",
    "        # check stopping criteria\n",
    "        if min_dist < -np.log(theta):\n",
    "            dist[min_edge[0]] = min_dist\n",
    "            MIIA.add_edge(min_edge[0], min_edge[1])\n",
    "            MIIA_MIP[min_edge[0]] = MIIA_MIP[min_edge[1]] + [min_edge[0]]\n",
    "            # update crossing edges\n",
    "            crossing_edges.difference_update(G.out_edges(min_edge[0]))\n",
    "            crossing_edges.update([in_edge for in_edge in G.in_edges(min_edge[0]) if (in_edge[0] not in MIIA)])\n",
    "        else:\n",
    "            break\n",
    "    return MIIA, MIIA_MIP"
   ]
  },
  {
   "cell_type": "code",
   "execution_count": 6,
   "metadata": {},
   "outputs": [],
   "source": [
    "def compute_MIOA(v, theta, G):\n",
    "\n",
    "    MIOA = nx.DiGraph()\n",
    "    MIOA.add_node(v)\n",
    "    MIOA_MIP = {v: [v]}\n",
    "\n",
    "    crossing_edges = set([out_edge for out_edge in G.out_edges([v])])\n",
    "    edge_weights = dict()\n",
    "    dist = {v: 0} # shortest paths from the root u\n",
    "\n",
    "    # grow MIOA\n",
    "    while crossing_edges:\n",
    "        # Dijkstra's greedy criteria\n",
    "        min_dist = float(\"Inf\")\n",
    "        sorted_crossing_edges = sorted(crossing_edges) # to break ties consistently\n",
    "        for edge in sorted_crossing_edges:\n",
    "            if edge not in edge_weights:\n",
    "                edge_weights[edge] = -np.log(G[edge[0]][edge[1]][\"weight\"])\n",
    "            edge_weight = edge_weights[edge]\n",
    "            # 更新条件\n",
    "            if dist[edge[0]] + edge_weight < min_dist:\n",
    "                min_dist = dist[edge[0]] + edge_weight\n",
    "                min_edge = edge\n",
    "        # check stopping criteria\n",
    "        if min_dist < -np.log(theta):\n",
    "            dist[min_edge[1]] = min_dist\n",
    "            MIOA.add_edge(min_edge[0], min_edge[1])\n",
    "            MIOA_MIP[min_edge[1]] = MIOA_MIP[min_edge[0]] + [min_edge[1]]\n",
    "            # update crossing edges\n",
    "            crossing_edges.difference_update(G.in_edges(min_edge[1]))\n",
    "            crossing_edges.update([out_edge for out_edge in G.out_edges(min_edge[1]) if (out_edge[1] not in MIOA)])\n",
    "        else:\n",
    "            break\n",
    "    return MIOA, MIOA_MIP"
   ]
  },
  {
   "cell_type": "code",
   "execution_count": 7,
   "metadata": {},
   "outputs": [],
   "source": [
    "def compute_ap(ap, S, MIIA_v, MIIA_MIP_v, G):\n",
    "    # MIIAtreeの末端から計算すれば、効率的になるため、ソート\n",
    "    sorted_path_len = sorted(MIIA_MIP_v.items(), key=lambda x:len(x[1]), reverse=True)\n",
    "    \n",
    "    for u, _ in sorted_path_len:\n",
    "        if u in S:\n",
    "            ap[(u, MIIA_v)] = 1\n",
    "        else:\n",
    "            N_in = MIIA_v.in_edges([u])\n",
    "            if not N_in:\n",
    "                ap[(u, MIIA_v)] = 0\n",
    "            else:\n",
    "                prod = 1\n",
    "                for w, _ in N_in:\n",
    "                    prod *= 1 - ap[(w, MIIA_v)] * G[w][u][\"weight\"]\n",
    "                ap[(u, MIIA_v)] = 1 - prod"
   ]
  },
  {
   "cell_type": "code",
   "execution_count": 8,
   "metadata": {},
   "outputs": [],
   "source": [
    "def compute_alpha(alpha, v, MIIA_v, MIIA_MIP_v, S, G, ap):\n",
    "    # 木のルートからはじめると効率的に計算できる\n",
    "    sorted_path_len = sorted(MIIA_MIP_v.items(), key=lambda x:len(x[1]))\n",
    "\n",
    "    for u, _ in sorted_path_len:\n",
    "        if u == v:\n",
    "            alpha[(MIIA_v, u)] = 1\n",
    "        else:\n",
    "            w = list(MIIA_v.out_edges([u]))[0][1]\n",
    "            if w in S:\n",
    "                alpha[(MIIA_v, u)] = 0\n",
    "            else:\n",
    "                N_in = MIIA_v.in_edges([w])\n",
    "                prod = 1\n",
    "                for u_, _ in N_in:\n",
    "                    if u_ != u:\n",
    "                        prod *= 1 - ap[(u_, MIIA_v)] * G[u_][w][\"weight\"]\n",
    "                alpha[(MIIA_v, u)] = alpha[(MIIA_v, w)] * G[u][w][\"weight\"] * prod"
   ]
  },
  {
   "cell_type": "code",
   "execution_count": 9,
   "metadata": {},
   "outputs": [],
   "source": [
    "def compute_MIA(G, k, theta):\n",
    "    # initialization\n",
    "    # 2\n",
    "    S = []\n",
    "    \n",
    "    # 3\n",
    "    IncInf = dict(zip(G.nodes(), [0]*len(G)))\n",
    "    \n",
    "    MIIA = dict()\n",
    "    MIOA = dict()\n",
    "    \n",
    "    MIIA_MIP = dict()\n",
    "    MIOA_MIP = dict()\n",
    "    \n",
    "    ap = dict()\n",
    "    alpha = dict()\n",
    "    \n",
    "    # ダイクストラの計算を一括で行う\n",
    "    # G_table = compute_MIP_G(G, theta)\n",
    "    \n",
    "    \n",
    "    # 4\n",
    "    for v in tqdm(G):\n",
    "        # 5\n",
    "        MIIA[v], MIIA_MIP[v] = compute_MIIA(v, theta, G)\n",
    "        MIOA[v], MIOA_MIP[v] = compute_MIOA(v, theta, G)\n",
    "        \n",
    "        # 6\n",
    "        for u in MIIA[v]:\n",
    "            ap[(u, MIIA[v])] = 0\n",
    "        \n",
    "        # 7\n",
    "        compute_alpha(alpha, v, MIIA[v], MIIA_MIP[v], S, G, ap)\n",
    "        \n",
    "        # 8\n",
    "        for u in MIIA[v]:\n",
    "            IncInf[u] += alpha[(MIIA[v], u)] * (1 - ap[(u, MIIA[v])])\n",
    "    print(\"complete initilization\")\n",
    "    \n",
    "    # main loop\n",
    "    # 13\n",
    "    for i in range(k):\n",
    "        # 14\n",
    "        u = sorted(IncInf.items(), key=lambda x:x[1], reverse=True)[0][0]\n",
    "        IncInf.pop(u)\n",
    "        print(\"u\",u)\n",
    "        \n",
    "        # 16\n",
    "        for v in MIOA[u]:\n",
    "            if not v in S:\n",
    "                for w in MIIA[v]:\n",
    "                    if not w in S + [u]:\n",
    "                        IncInf[w] -= alpha[(MIIA[v], w)] * (1 - ap[(w, MIIA[v])])\n",
    "        # 22\n",
    "        S += [u]\n",
    "        \n",
    "        if len(S) == k:\n",
    "            return S\n",
    "        \n",
    "        # 23\n",
    "        for v in MIOA[u]:\n",
    "            if not v in S:\n",
    "                # 24\n",
    "                compute_ap(ap, S, MIIA[v], MIIA_MIP[v], G)\n",
    "                \n",
    "                # 25\n",
    "                compute_alpha(alpha, v, MIIA[v], MIIA_MIP[v], S, G, ap)\n",
    "                \n",
    "                # 27\n",
    "                for w in MIIA[v]:\n",
    "                    if not w in S:\n",
    "                        # 28\n",
    "                        IncInf[w] += alpha[(MIIA[v], w)] * (1 - ap[(w, MIIA[v])])"
   ]
  },
  {
   "cell_type": "markdown",
   "metadata": {},
   "source": [
    "# データを読み込んで行う場合"
   ]
  },
  {
   "cell_type": "code",
   "execution_count": 10,
   "metadata": {
    "scrolled": true
   },
   "outputs": [
    {
     "data": {
      "text/html": [
       "<div>\n",
       "<style scoped>\n",
       "    .dataframe tbody tr th:only-of-type {\n",
       "        vertical-align: middle;\n",
       "    }\n",
       "\n",
       "    .dataframe tbody tr th {\n",
       "        vertical-align: top;\n",
       "    }\n",
       "\n",
       "    .dataframe thead th {\n",
       "        text-align: right;\n",
       "    }\n",
       "</style>\n",
       "<table border=\"1\" class=\"dataframe\">\n",
       "  <thead>\n",
       "    <tr style=\"text-align: right;\">\n",
       "      <th></th>\n",
       "      <th># FromNodeId</th>\n",
       "      <th>ToNodeId</th>\n",
       "      <th>TR</th>\n",
       "    </tr>\n",
       "  </thead>\n",
       "  <tbody>\n",
       "    <tr>\n",
       "      <th>0</th>\n",
       "      <td>0</td>\n",
       "      <td>4</td>\n",
       "      <td>0.100</td>\n",
       "    </tr>\n",
       "    <tr>\n",
       "      <th>1</th>\n",
       "      <td>0</td>\n",
       "      <td>5</td>\n",
       "      <td>0.100</td>\n",
       "    </tr>\n",
       "    <tr>\n",
       "      <th>2</th>\n",
       "      <td>0</td>\n",
       "      <td>7</td>\n",
       "      <td>0.010</td>\n",
       "    </tr>\n",
       "    <tr>\n",
       "      <th>3</th>\n",
       "      <td>0</td>\n",
       "      <td>8</td>\n",
       "      <td>0.001</td>\n",
       "    </tr>\n",
       "    <tr>\n",
       "      <th>4</th>\n",
       "      <td>0</td>\n",
       "      <td>9</td>\n",
       "      <td>0.010</td>\n",
       "    </tr>\n",
       "  </tbody>\n",
       "</table>\n",
       "</div>"
      ],
      "text/plain": [
       "   # FromNodeId  ToNodeId     TR\n",
       "0             0         4  0.100\n",
       "1             0         5  0.100\n",
       "2             0         7  0.010\n",
       "3             0         8  0.001\n",
       "4             0         9  0.010"
      ]
     },
     "execution_count": 10,
     "metadata": {},
     "output_type": "execute_result"
    }
   ],
   "source": [
    "# データの読み込み\n",
    "# 枝確率を計算済みのネットワークを読み込む\n",
    "network = pd.read_csv(\"data.csv\")\n",
    "network.head()"
   ]
  },
  {
   "cell_type": "code",
   "execution_count": 11,
   "metadata": {},
   "outputs": [],
   "source": [
    "# numpy型に変換\n",
    "network_np = network.values"
   ]
  },
  {
   "cell_type": "code",
   "execution_count": 12,
   "metadata": {},
   "outputs": [],
   "source": [
    "# 空の有向グラフを作成\n",
    "G = nx.DiGraph()"
   ]
  },
  {
   "cell_type": "code",
   "execution_count": 13,
   "metadata": {},
   "outputs": [],
   "source": [
    "# 重み付きの枝を加える\n",
    "G.add_weighted_edges_from(network_np)"
   ]
  },
  {
   "cell_type": "code",
   "execution_count": 14,
   "metadata": {
    "scrolled": true
   },
   "outputs": [
    {
     "name": "stderr",
     "output_type": "stream",
     "text": [
      "/home/fueki/anaconda3/envs/all/lib/python3.7/site-packages/ipykernel_launcher.py:23: TqdmDeprecationWarning: This function will be removed in tqdm==5.0.0\n",
      "Please use `tqdm.notebook.tqdm` instead of `tqdm.tqdm_notebook`\n"
     ]
    },
    {
     "data": {
      "application/vnd.jupyter.widget-view+json": {
       "model_id": "99601d51147c49f7944fc3a1445130fa",
       "version_major": 2,
       "version_minor": 0
      },
      "text/plain": [
       "HBox(children=(FloatProgress(value=0.0, max=1000.0), HTML(value='')))"
      ]
     },
     "metadata": {},
     "output_type": "display_data"
    },
    {
     "name": "stdout",
     "output_type": "stream",
     "text": [
      "\n",
      "complete initilization\n",
      "u 0.0\n",
      "u 4.0\n",
      "u 5.0\n",
      "CPU times: user 523 ms, sys: 12.2 ms, total: 535 ms\n",
      "Wall time: 528 ms\n"
     ]
    },
    {
     "data": {
      "text/plain": [
       "[0.0, 4.0, 5.0]"
      ]
     },
     "execution_count": 14,
     "metadata": {},
     "output_type": "execute_result"
    }
   ],
   "source": [
    "%time compute_MIA(G, 3, 0.5)"
   ]
  },
  {
   "cell_type": "code",
   "execution_count": null,
   "metadata": {},
   "outputs": [],
   "source": []
  },
  {
   "cell_type": "code",
   "execution_count": 430,
   "metadata": {},
   "outputs": [],
   "source": [
    "# MIIAの挙動確認用\n",
    "# v = 0.0\n",
    "# theta = 0.2\n",
    "# S = []\n",
    "\n",
    "# MIIA = nx.DiGraph()\n",
    "# MIIA.add_node(v)\n",
    "# MIIA_MIP = {v: [v]} # MIP(u,v) for u in PMIIA\n",
    "\n",
    "# crossing_edges = set([in_edge for in_edge in G.in_edges([v])])\n",
    "# edge_weights = dict()\n",
    "# dist = {v: 0} # shortest paths from the root u\n",
    "\n",
    "# # grow MIIA\n",
    "# print(\"crossing_edges\",crossing_edges)\n",
    "# while crossing_edges:\n",
    "#     # Dijkstra's greedy criteria\n",
    "#     min_dist = float(\"Inf\")\n",
    "#     sorted_crossing_edges = sorted(crossing_edges) # to break ties consistently\n",
    "#     print(\"sorted_crossing_edges\", sorted_crossing_edges)\n",
    "#     for edge in sorted_crossing_edges:\n",
    "#         print(\"edge\", edge)\n",
    "#         if edge not in edge_weights:\n",
    "#             edge_weights[edge] = -np.log(G[edge[0]][edge[1]][\"weight\"])\n",
    "#             print(\"edge_weight\", edge, edge_weights[edge])\n",
    "#         edge_weight = edge_weights[edge]\n",
    "#         # 更新条件\n",
    "#         if dist[edge[1]] + edge_weight < min_dist:\n",
    "#             print(\"new,dist\", dist[edge[1]], edge[1])\n",
    "#             min_dist = dist[edge[1]] + edge_weight\n",
    "#             min_edge = edge\n",
    "#     # check stopping criteria\n",
    "#     print(\"stop\")\n",
    "#     if min_dist < -np.log(theta):\n",
    "#         print(\"naka\")\n",
    "#         dist[min_edge[0]] = min_dist\n",
    "#         print(\"dist update\", dist[min_edge[0]], min_edge[0])\n",
    "#         print(\"kaktei! edge\",min_edge[0], min_edge[1])\n",
    "#         MIIA.add_edge(min_edge[0], min_edge[1])\n",
    "#         MIIA_MIP[min_edge[0]] = MIIA_MIP[min_edge[1]] + [min_edge[0]]\n",
    "#         print(\"MIP\",MIIA_MIP)\n",
    "#         # update crossing edges\n",
    "#         crossing_edges.difference_update(G.out_edges(min_edge[0]))\n",
    "#         print(\"updata crossing\", crossing_edges)\n",
    "#         print(\"new\",[in_edge for in_edge in G.in_edges(min_edge[0]) if (in_edge[0] not in MIIA)])\n",
    "#         crossing_edges.update([in_edge for in_edge in G.in_edges(min_edge[0]) if (in_edge[0] not in MIIA)])\n",
    "#     else:\n",
    "#         break\n",
    "\n",
    "# nx.draw_networkx(MIIA)"
   ]
  },
  {
   "cell_type": "code",
   "execution_count": null,
   "metadata": {},
   "outputs": [],
   "source": []
  }
 ],
 "metadata": {
  "kernelspec": {
   "display_name": "Python 3",
   "language": "python",
   "name": "python3"
  },
  "language_info": {
   "codemirror_mode": {
    "name": "ipython",
    "version": 3
   },
   "file_extension": ".py",
   "mimetype": "text/x-python",
   "name": "python",
   "nbconvert_exporter": "python",
   "pygments_lexer": "ipython3",
   "version": "3.7.5"
  }
 },
 "nbformat": 4,
 "nbformat_minor": 2
}
