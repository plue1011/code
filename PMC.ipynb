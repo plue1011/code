{
 "cells": [
  {
   "cell_type": "markdown",
   "metadata": {},
   "source": [
    "# Pruned Monte-Carlo"
   ]
  },
  {
   "cell_type": "markdown",
   "metadata": {},
   "source": [
    "* 強連結成分分解の関数を作る\n",
    "* GAINの再帰部分をどうするか？\n",
    "* Cでシュミレーションだけやってしまう"
   ]
  },
  {
   "cell_type": "code",
   "execution_count": 3,
   "metadata": {},
   "outputs": [],
   "source": [
    "import networkx as nx\n",
    "import pandas as pd\n",
    "import numpy as np\n",
    "import matplotlib.pyplot as plt\n",
    "from tqdm import tqdm_notebook as tqdm\n",
    "import random\n",
    "import time\n",
    "from collections import deque\n",
    "\n",
    "%matplotlib inline"
   ]
  },
  {
   "cell_type": "code",
   "execution_count": 4,
   "metadata": {},
   "outputs": [
    {
     "data": {
      "text/html": [
       "<div>\n",
       "<style scoped>\n",
       "    .dataframe tbody tr th:only-of-type {\n",
       "        vertical-align: middle;\n",
       "    }\n",
       "\n",
       "    .dataframe tbody tr th {\n",
       "        vertical-align: top;\n",
       "    }\n",
       "\n",
       "    .dataframe thead th {\n",
       "        text-align: right;\n",
       "    }\n",
       "</style>\n",
       "<table border=\"1\" class=\"dataframe\">\n",
       "  <thead>\n",
       "    <tr style=\"text-align: right;\">\n",
       "      <th></th>\n",
       "      <th># FromNodeId</th>\n",
       "      <th>ToNodeId</th>\n",
       "      <th>p</th>\n",
       "    </tr>\n",
       "  </thead>\n",
       "  <tbody>\n",
       "    <tr>\n",
       "      <th>0</th>\n",
       "      <td>0</td>\n",
       "      <td>4</td>\n",
       "      <td>0.008000</td>\n",
       "    </tr>\n",
       "    <tr>\n",
       "      <th>1</th>\n",
       "      <td>0</td>\n",
       "      <td>5</td>\n",
       "      <td>0.005682</td>\n",
       "    </tr>\n",
       "    <tr>\n",
       "      <th>2</th>\n",
       "      <td>0</td>\n",
       "      <td>7</td>\n",
       "      <td>0.033333</td>\n",
       "    </tr>\n",
       "    <tr>\n",
       "      <th>3</th>\n",
       "      <td>0</td>\n",
       "      <td>8</td>\n",
       "      <td>0.009615</td>\n",
       "    </tr>\n",
       "    <tr>\n",
       "      <th>4</th>\n",
       "      <td>0</td>\n",
       "      <td>9</td>\n",
       "      <td>0.066667</td>\n",
       "    </tr>\n",
       "  </tbody>\n",
       "</table>\n",
       "</div>"
      ],
      "text/plain": [
       "   # FromNodeId  ToNodeId         p\n",
       "0             0         4  0.008000\n",
       "1             0         5  0.005682\n",
       "2             0         7  0.033333\n",
       "3             0         8  0.009615\n",
       "4             0         9  0.066667"
      ]
     },
     "execution_count": 4,
     "metadata": {},
     "output_type": "execute_result"
    }
   ],
   "source": [
    "# データの読み込み\n",
    "# 枝確率を計算済みのネットワークを読み込む\n",
    "network = pd.read_csv(\"data.csv\")\n",
    "network.head()"
   ]
  },
  {
   "cell_type": "code",
   "execution_count": 6,
   "metadata": {},
   "outputs": [],
   "source": [
    "# numpy型に変換\n",
    "network_np = network.values"
   ]
  },
  {
   "cell_type": "code",
   "execution_count": 11,
   "metadata": {},
   "outputs": [],
   "source": [
    "# 入力は隣接リスト(numpy)[[from_node, to_node, edge_prob],...]\n",
    "def live_edge_graph_edges(p, p_len):\n",
    "    rand = np.random.uniform(0, 1, p_len)\n",
    "    return np.array([[p[i][0], p[i][1]] for i in range(p_len) if rand[i] < p[i][2]])"
   ]
  },
  {
   "cell_type": "code",
   "execution_count": 17,
   "metadata": {},
   "outputs": [],
   "source": [
    "# 幅優先探索によって、Sから到達可能なノードを返す\n",
    "def bfs(G, S):\n",
    "    visited = {s:None for s in S}\n",
    "    queue = deque(S)\n",
    "    while queue:\n",
    "        v = queue.popleft()\n",
    "        out_node = G[v]\n",
    "        for u in out_node:\n",
    "            if not (u in visited):\n",
    "                queue.append(u)\n",
    "                visited[u] = v\n",
    "    return visited"
   ]
  },
  {
   "cell_type": "code",
   "execution_count": 45,
   "metadata": {},
   "outputs": [],
   "source": [
    "# 幅優先探索によって、Sから到達可能なノードを返す\n",
    "def bfs_reverse(G, S):\n",
    "    visited = {s:None for s in S}\n",
    "    queue = deque(S)\n",
    "    while queue:\n",
    "        v = queue.popleft()\n",
    "        in_node = G.predecessors(v)\n",
    "        for u in in_node:\n",
    "            if not (u in visited):\n",
    "                queue.append(u)\n",
    "                visited[u] = v\n",
    "    return visited"
   ]
  },
  {
   "cell_type": "code",
   "execution_count": 14,
   "metadata": {},
   "outputs": [
    {
     "name": "stdout",
     "output_type": "stream",
     "text": [
      "CPU times: user 697 ms, sys: 21.3 ms, total: 718 ms\n",
      "Wall time: 761 ms\n"
     ]
    }
   ],
   "source": [
    "%time simulation = live_edge_graph_edges(network_np, len(network_np))"
   ]
  },
  {
   "cell_type": "code",
   "execution_count": 15,
   "metadata": {
    "scrolled": true
   },
   "outputs": [
    {
     "data": {
      "text/plain": [
       "51954"
      ]
     },
     "execution_count": 15,
     "metadata": {},
     "output_type": "execute_result"
    }
   ],
   "source": [
    "len(simulation)"
   ]
  },
  {
   "cell_type": "code",
   "execution_count": null,
   "metadata": {},
   "outputs": [],
   "source": [
    "# i回目のシュミレーションでv_Vが到達できる頂点数\n",
    "def GAIN(i, v, V, latest, A, h, D, E):\n",
    "    # v:i回目のシュミレーションで作成されたグラフのv_Vを含む強連結成分\n",
    "    \n",
    "    # v_Vが必要ないため、\n",
    "    #v = comp[i][v_V][\"members\"]\n",
    "    \n",
    "    # V[i]にvがない場合0(後に消されていくため)\n",
    "    if v not in V[i]:\n",
    "        return 0\n",
    "    \n",
    "    # ? delta\n",
    "    if latest[i][v]:\n",
    "        delta[i][v]\n",
    "        \n",
    "    latest[i][v] = True\n",
    "    \n",
    "    # len(S)==0の理由は初回のみ行えば良いため(h(ハブ)以降の到達頂点数は一回行えば十分であるため)\n",
    "    # vがhのacestorだった場合、hの到達頂点数を計算して、他のacestorの時にも使い回す\n",
    "    if (v in A[i]) and (len(S) == 0):\n",
    "        # GAINの引数は後で変える\n",
    "        # ?下手に再帰にしなくても、hのGAINが分かればいい\n",
    "        # hのGAINをはじめから足しておく\n",
    "        delta[i][v] = GAIN(i, h_V)\n",
    "    else:\n",
    "        delta[i][v] = 0\n",
    "    \n",
    "    # bfs\n",
    "    visited = {s:None for s in S}\n",
    "    Q = deque(v)\n",
    "    # Xは探索済みの強連結成分\n",
    "    X = set([v])\n",
    "    while Q:\n",
    "        u = Q.popleft()\n",
    "        \n",
    "        # 意味不明\n",
    "        if (v in A[i]) and (u in D[i]) and (len(S) == 0):\n",
    "            continue\n",
    "        \n",
    "        delta[i][v] += weight[i][u]\n",
    "        \n",
    "        \n",
    "        for u_, w in E[i]:\n",
    "            # uから出ている任意の枝について探索する\n",
    "            if u_ == u:\n",
    "                # 探索済みの強連結成分は探索しなくていいので、w not in X\n",
    "                # w in V[i]はのちのupdateでV[i]が変化するため\n",
    "                if (w not in X) and (w in V[i]):\n",
    "                    Q.append(w)\n",
    "                    X.add(w)\n",
    "    return delta[i][v]"
   ]
  },
  {
   "cell_type": "code",
   "execution_count": 80,
   "metadata": {},
   "outputs": [
    {
     "data": {
      "text/plain": [
       "{3, 4}"
      ]
     },
     "execution_count": 80,
     "metadata": {},
     "output_type": "execute_result"
    }
   ],
   "source": [
    "s = set([3])\n",
    "s.add(4)\n",
    "s"
   ]
  },
  {
   "cell_type": "code",
   "execution_count": 2,
   "metadata": {},
   "outputs": [],
   "source": [
    "def PMC_greedy(network_np, k, R):\n",
    "    E_ = dict([])\n",
    "    G_ = dict([])\n",
    "    G = dict([])\n",
    "    V = dict([])\n",
    "    E = dict([])\n",
    "    comp = dict([])\n",
    "    weight = dict([])\n",
    "    h = dict([])\n",
    "    D = dict([])\n",
    "    A = dict([])\n",
    "    latest =dict([])\n",
    "    \n",
    "    for i in range(R):\n",
    "        # 各辺 e を確率 pe で残すことで得られる辺集合\n",
    "        E_[i] = live_edge_graph_edges(network_np, len(network_np))\n",
    "        \n",
    "        G_[i] = nx.DiGraph()\n",
    "        G_[i].add_weighted_edges_from(E_[i])\n",
    "        # G_i_ = (V, E_i_) の強連結成分を計算\n",
    "        # G_i_より構築された頂点重み付き DAG\n",
    "        G[i] = nx.condensation(G_[i])\n",
    "        comp[i] = dict(G[i].node)\n",
    "        V[i] = G[i].node()\n",
    "        E[i] = G[i].edges()\n",
    "        \n",
    "        # 縮約後の各強連結成分のノード数\n",
    "        G_i_item = dict(G[i].nodes).items()\n",
    "        weight[i] = {node:len(list(w.values())[0]) for node, w in G_i_item}\n",
    "        \n",
    "        # h_i ← V_i において最大の次数をもつ頂点\n",
    "        G_i_deg = dict(G[i].degree())\n",
    "        h[i] = max(G_i_deg, key=G_i_deg.get)\n",
    "        \n",
    "        # h_iから到達可能な頂点集合\n",
    "        # ? 型は未定\n",
    "        # D:Descendant\n",
    "        D[i] = set(bfs(G[i], [h[i]]))\n",
    "        \n",
    "        # h_iに到達可能な頂点集合\n",
    "        # ? 型は未定\n",
    "        # A:Ancestor\n",
    "        A[i] = set(bfs_reverse(G[i], [h[i]]))\n",
    "        \n",
    "        latest[i] = [False for v in V[i]]\n",
    "        \n",
    "    \n",
    "    S = []\n",
    "    for i in range(k):\n",
    "        t = argmax()\n",
    "        S.append(t)\n",
    "    return S"
   ]
  },
  {
   "cell_type": "code",
   "execution_count": 28,
   "metadata": {},
   "outputs": [
    {
     "data": {
      "text/plain": [
       "{3, 4, 5}"
      ]
     },
     "execution_count": 28,
     "metadata": {},
     "output_type": "execute_result"
    }
   ],
   "source": [
    "set({3:1, 4:2, 5:6})"
   ]
  },
  {
   "cell_type": "code",
   "execution_count": 49,
   "metadata": {
    "scrolled": true
   },
   "outputs": [
    {
     "name": "stdout",
     "output_type": "stream",
     "text": [
      "1 0.5074639320373535\n",
      "2 0.24335122108459473\n",
      "3 0.9596779346466064\n",
      "4 0.02229785919189453\n",
      "5 0.07672572135925293\n",
      "6 0.037210941314697266\n",
      "7 0.003609180450439453\n",
      "8 1.5020370483398438e-05\n",
      "9 0.003695964813232422\n",
      "CPU times: user 2.06 s, sys: 51.4 ms, total: 2.11 s\n",
      "Wall time: 1.94 s\n"
     ]
    }
   ],
   "source": [
    "%%time\n",
    "\n",
    "network_np = network.values\n",
    "k = 3\n",
    "R = 1\n",
    "\n",
    "\n",
    "E_ = dict([])\n",
    "G_ = dict([])\n",
    "G = dict([])\n",
    "V = dict([])\n",
    "E = dict([])\n",
    "comp = dict([])\n",
    "weight = dict([])\n",
    "h = dict([])\n",
    "D = dict([])\n",
    "A = dict([])\n",
    "latest =dict([])\n",
    "\n",
    "for i in range(R):\n",
    "    # 各辺 e を確率 pe で残すことで得られる辺集合\n",
    "    start = time.time()\n",
    "    E_[i] = live_edge_graph_edges(network_np, len(network_np))\n",
    "    print(\"1\",time.time() - start)\n",
    "\n",
    "    start = time.time()\n",
    "    G_[i] = nx.DiGraph()\n",
    "    G_[i].add_edges_from(E_[i])\n",
    "    print(\"2\",time.time() - start)\n",
    "    \n",
    "    # G_i_ = (V, E_i_) の強連結成分を計算\n",
    "    # G_i_より構築された頂点重み付き DAG\n",
    "    start = time.time()\n",
    "    G[i] = nx.condensation(G_[i])\n",
    "    print(\"3\",time.time() - start)\n",
    "    \n",
    "    start = time.time()\n",
    "    comp[i] = dict(G[i].node)\n",
    "    V[i] = G[i].node()\n",
    "    E[i] = G[i].edges()\n",
    "    print(\"4\",time.time() - start)\n",
    "\n",
    "    # 縮約後の各強連結成分のノード数\n",
    "    start = time.time()\n",
    "    G_i_item = dict(G[i].nodes).items()\n",
    "    weight[i] = {node:len(list(w.values())[0]) for node, w in G_i_item}\n",
    "    print(\"5\",time.time() - start)\n",
    "\n",
    "    # h_i ← V_i において最大の次数をもつ頂点\n",
    "    start = time.time()\n",
    "    G_i_deg = dict(G[i].degree())\n",
    "    h[i] = max(G_i_deg, key=G_i_deg.get)\n",
    "    print(\"6\",time.time() - start)\n",
    "\n",
    "    # h_iから到達可能な頂点集合\n",
    "    # ? 型は未定\n",
    "    # D:Descendant\n",
    "    start = time.time()\n",
    "    D[i] = set(bfs(G[i], [h[i]]))\n",
    "    print(\"7\",time.time() - start)\n",
    "\n",
    "    # h_iに到達可能な頂点集合\n",
    "    # ? 型は未定\n",
    "    # A:Ancestor\n",
    "    start = time.time()\n",
    "    A[i] = set(bfs_reverse(G[i], [h[i]]))\n",
    "    print(\"8\",time.time() - start)\n",
    "\n",
    "    start = time.time()\n",
    "    latest[i] = [False for v in V[i]]\n",
    "    print(\"9\",time.time() - start)"
   ]
  },
  {
   "cell_type": "code",
   "execution_count": 58,
   "metadata": {},
   "outputs": [
    {
     "name": "stdout",
     "output_type": "stream",
     "text": [
      "81\n"
     ]
    }
   ],
   "source": [
    "for i in range(10000):\n",
    "    if len(comp[0][i][\"members\"]) >= 2:\n",
    "        print(i)\n",
    "        break"
   ]
  },
  {
   "cell_type": "code",
   "execution_count": 59,
   "metadata": {},
   "outputs": [
    {
     "data": {
      "text/plain": [
       "{2379.0, 26963.0}"
      ]
     },
     "execution_count": 59,
     "metadata": {},
     "output_type": "execute_result"
    }
   ],
   "source": [
    "comp[0][81][\"members\"]"
   ]
  },
  {
   "cell_type": "code",
   "execution_count": 66,
   "metadata": {},
   "outputs": [
    {
     "data": {
      "text/plain": [
       "2"
      ]
     },
     "execution_count": 66,
     "metadata": {},
     "output_type": "execute_result"
    }
   ],
   "source": [
    "weight[0][81]"
   ]
  },
  {
   "cell_type": "code",
   "execution_count": null,
   "metadata": {},
   "outputs": [],
   "source": [
    "# シュミレーションはC++かCで計算させて読み込んだ方がいいのでは?\n",
    "# 強連結成分分解は自作..."
   ]
  },
  {
   "cell_type": "code",
   "execution_count": 72,
   "metadata": {},
   "outputs": [
    {
     "name": "stdout",
     "output_type": "stream",
     "text": [
      "4 0\n",
      "4 1\n",
      "4 2\n",
      "4 3\n"
     ]
    }
   ],
   "source": [
    "for u_,w in E[0]:\n",
    "    if u_ == 4:\n",
    "        print(u_ ,w)"
   ]
  },
  {
   "cell_type": "code",
   "execution_count": null,
   "metadata": {},
   "outputs": [],
   "source": []
  },
  {
   "cell_type": "code",
   "execution_count": null,
   "metadata": {},
   "outputs": [],
   "source": []
  }
 ],
 "metadata": {
  "kernelspec": {
   "display_name": "Python 3",
   "language": "python",
   "name": "python3"
  },
  "language_info": {
   "codemirror_mode": {
    "name": "ipython",
    "version": 3
   },
   "file_extension": ".py",
   "mimetype": "text/x-python",
   "name": "python",
   "nbconvert_exporter": "python",
   "pygments_lexer": "ipython3",
   "version": "3.7.3"
  }
 },
 "nbformat": 4,
 "nbformat_minor": 2
}
