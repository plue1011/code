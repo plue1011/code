{
 "cells": [
  {
   "cell_type": "code",
   "execution_count": 277,
   "metadata": {},
   "outputs": [],
   "source": [
    "import networkx as nx\n",
    "import pandas as pd\n",
    "import numpy as np\n",
    "import matplotlib.pyplot as plt\n",
    "from tqdm import tqdm_notebook as tqdm\n",
    "import random\n",
    "import time\n",
    "from collections import deque\n",
    "\n",
    "%matplotlib inline"
   ]
  },
  {
   "cell_type": "markdown",
   "metadata": {},
   "source": [
    "# 実データを扱う場合"
   ]
  },
  {
   "cell_type": "code",
   "execution_count": 2,
   "metadata": {},
   "outputs": [],
   "source": [
    "# 元データに対しては、以下の処理を行う\n",
    "# # text形式の元データを読み込む\n",
    "# network = pd.read_table(\"soc-Epinions1.txt\",header=3)\n",
    "# # ノードidをユニークする\n",
    "# node_id = network[\"ToNodeId\"].unique()\n",
    "# # 入次数を計算する\n",
    "# in_deg = []\n",
    "# for i in tqdm(node_id):\n",
    "#     in_deg.append(sum(network[\"ToNodeId\"]==i))\n",
    "# # ノード毎の入次数を表にまとめた\n",
    "# in_deg_df = pd.DataFrame({\"ToNodeId\":node_id, \"in_degree\":in_deg})\n",
    "# in_deg_df = in_deg_df.sort_values(\"ToNodeId\").reset_index(drop=True)\n",
    "# # 入次数から枝確率を計算する\n",
    "# in_deg_df[\"p\"] = 1/in_deg_df[\"in_degree\"]\n",
    "# network_p = pd.merge(network, in_deg_df, on=\"ToNodeId\", how=\"left\").drop(columns=\"in_degree\")"
   ]
  },
  {
   "cell_type": "code",
   "execution_count": 169,
   "metadata": {},
   "outputs": [
    {
     "data": {
      "text/html": [
       "<div>\n",
       "<style scoped>\n",
       "    .dataframe tbody tr th:only-of-type {\n",
       "        vertical-align: middle;\n",
       "    }\n",
       "\n",
       "    .dataframe tbody tr th {\n",
       "        vertical-align: top;\n",
       "    }\n",
       "\n",
       "    .dataframe thead th {\n",
       "        text-align: right;\n",
       "    }\n",
       "</style>\n",
       "<table border=\"1\" class=\"dataframe\">\n",
       "  <thead>\n",
       "    <tr style=\"text-align: right;\">\n",
       "      <th></th>\n",
       "      <th># FromNodeId</th>\n",
       "      <th>ToNodeId</th>\n",
       "      <th>p</th>\n",
       "    </tr>\n",
       "  </thead>\n",
       "  <tbody>\n",
       "    <tr>\n",
       "      <th>0</th>\n",
       "      <td>0</td>\n",
       "      <td>4</td>\n",
       "      <td>0.008000</td>\n",
       "    </tr>\n",
       "    <tr>\n",
       "      <th>1</th>\n",
       "      <td>0</td>\n",
       "      <td>5</td>\n",
       "      <td>0.005682</td>\n",
       "    </tr>\n",
       "    <tr>\n",
       "      <th>2</th>\n",
       "      <td>0</td>\n",
       "      <td>7</td>\n",
       "      <td>0.033333</td>\n",
       "    </tr>\n",
       "    <tr>\n",
       "      <th>3</th>\n",
       "      <td>0</td>\n",
       "      <td>8</td>\n",
       "      <td>0.009615</td>\n",
       "    </tr>\n",
       "    <tr>\n",
       "      <th>4</th>\n",
       "      <td>0</td>\n",
       "      <td>9</td>\n",
       "      <td>0.066667</td>\n",
       "    </tr>\n",
       "  </tbody>\n",
       "</table>\n",
       "</div>"
      ],
      "text/plain": [
       "   # FromNodeId  ToNodeId         p\n",
       "0             0         4  0.008000\n",
       "1             0         5  0.005682\n",
       "2             0         7  0.033333\n",
       "3             0         8  0.009615\n",
       "4             0         9  0.066667"
      ]
     },
     "execution_count": 169,
     "metadata": {},
     "output_type": "execute_result"
    }
   ],
   "source": [
    "# データの読み込み\n",
    "# 枝確率を計算済みのネットワークを読み込む\n",
    "network = pd.read_csv(\"data.csv\")\n",
    "network.head()"
   ]
  },
  {
   "cell_type": "code",
   "execution_count": 170,
   "metadata": {},
   "outputs": [],
   "source": [
    "# numpy型に変換\n",
    "network_np = network.values"
   ]
  },
  {
   "cell_type": "code",
   "execution_count": 171,
   "metadata": {},
   "outputs": [],
   "source": [
    "# 空の有向グラフを作成\n",
    "G_real = nx.DiGraph()"
   ]
  },
  {
   "cell_type": "code",
   "execution_count": 172,
   "metadata": {},
   "outputs": [],
   "source": [
    "# 重み付きの枝を加える\n",
    "G_real.add_weighted_edges_from(network_np)"
   ]
  },
  {
   "cell_type": "markdown",
   "metadata": {},
   "source": [
    "# 練習"
   ]
  },
  {
   "cell_type": "code",
   "execution_count": 231,
   "metadata": {},
   "outputs": [],
   "source": [
    "G_practice = nx.DiGraph()"
   ]
  },
  {
   "cell_type": "code",
   "execution_count": 232,
   "metadata": {},
   "outputs": [],
   "source": [
    "weighted_edges = [[0,1,0.1],\n",
    "                  [0,2,0.2],\n",
    "                  [1,3,0.3],\n",
    "                  [1,4,0.4],\n",
    "                  [2,4,0.5],\n",
    "                  [2,0,0.6],\n",
    "                  [3,0,0.7],\n",
    "                  [3,1,0.8],\n",
    "                  [4,3,0.9],\n",
    "                  [4,2,1.0]\n",
    "                 ]"
   ]
  },
  {
   "cell_type": "code",
   "execution_count": 233,
   "metadata": {},
   "outputs": [],
   "source": [
    "G_practice.add_weighted_edges_from(weighted_edges)"
   ]
  },
  {
   "cell_type": "code",
   "execution_count": 376,
   "metadata": {
    "scrolled": true
   },
   "outputs": [
    {
     "data": {
      "image/png": "[encoded data removed]",
      "text/plain": [
       "<Figure size 432x288 with 1 Axes>"
      ]
     },
     "metadata": {},
     "output_type": "display_data"
    }
   ],
   "source": [
    "# ネットワークを描画できる\n",
    "nx.draw_networkx(G_practice)\n",
    "plt.show()"
   ]
  },
  {
   "cell_type": "code",
   "execution_count": 380,
   "metadata": {},
   "outputs": [
    {
     "data": {
      "text/plain": [
       "AtlasView({0: {'weight': 0.7}, 1: {'weight': 0.8}})"
      ]
     },
     "execution_count": 380,
     "metadata": {},
     "output_type": "execute_result"
    }
   ],
   "source": [
    "G_practice[3]"
   ]
  },
  {
   "cell_type": "code",
   "execution_count": 379,
   "metadata": {},
   "outputs": [
    {
     "data": {
      "text/plain": [
       "[0, 1]"
      ]
     },
     "execution_count": 379,
     "metadata": {},
     "output_type": "execute_result"
    }
   ],
   "source": [
    "list(G_practice.successors(3))"
   ]
  },
  {
   "cell_type": "code",
   "execution_count": 177,
   "metadata": {},
   "outputs": [
    {
     "data": {
      "image/png": "[encoded data removed]",
      "text/plain": [
       "<Figure size 432x288 with 1 Axes>"
      ]
     },
     "metadata": {},
     "output_type": "display_data"
    }
   ],
   "source": [
    "# ネットワークの枝の向きを逆にする\n",
    "G_reverse = nx.reverse(G_practice, copy=True)\n",
    "nx.draw_networkx(G_reverse)\n",
    "plt.show()"
   ]
  },
  {
   "cell_type": "code",
   "execution_count": 178,
   "metadata": {},
   "outputs": [
    {
     "name": "stdout",
     "output_type": "stream",
     "text": [
      "[0, 1, 2, 3, 4]\n"
     ]
    }
   ],
   "source": [
    "# ノード\n",
    "print(nx.nodes(G_practice))"
   ]
  },
  {
   "cell_type": "code",
   "execution_count": 179,
   "metadata": {},
   "outputs": [
    {
     "name": "stdout",
     "output_type": "stream",
     "text": [
      "5\n"
     ]
    }
   ],
   "source": [
    "# ノード数\n",
    "print(nx.number_of_nodes(G_practice))"
   ]
  },
  {
   "cell_type": "code",
   "execution_count": 180,
   "metadata": {},
   "outputs": [
    {
     "name": "stdout",
     "output_type": "stream",
     "text": [
      "0.5\n"
     ]
    }
   ],
   "source": [
    "# グラフのdensity\n",
    "print(nx.density(G_practice))"
   ]
  },
  {
   "cell_type": "code",
   "execution_count": 181,
   "metadata": {},
   "outputs": [
    {
     "name": "stdout",
     "output_type": "stream",
     "text": [
      "[(0, 2), (1, 2), (2, 2), (3, 2), (4, 2)]\n"
     ]
    }
   ],
   "source": [
    "# 各ノードの入次数(ノードid,入次数)\n",
    "print(G_practice.in_degree())"
   ]
  },
  {
   "cell_type": "code",
   "execution_count": 182,
   "metadata": {
    "scrolled": false
   },
   "outputs": [
    {
     "name": "stdout",
     "output_type": "stream",
     "text": [
      "[(0, 2), (1, 2), (2, 2), (3, 2), (4, 2)]\n"
     ]
    }
   ],
   "source": [
    "# 各ノードの出次数(ノードid,出次数)\n",
    "print(G_practice.out_degree())\n",
    "# [(3, 3), (0, 3), (2, 2), (1, 2), (4, 2)]\n",
    "\n",
    "# ノード1の出次数\n",
    "# out_deg = G_practice.out_degree()\n",
    "# out_deg[1]\n",
    "# 2"
   ]
  },
  {
   "cell_type": "code",
   "execution_count": 183,
   "metadata": {},
   "outputs": [
    {
     "name": "stdout",
     "output_type": "stream",
     "text": [
      "[(3, 0), (3, 1)]\n",
      "[(3, 0), (3, 1)]\n",
      "[(3, 0), (3, 1), (2, 4), (2, 0)]\n"
     ]
    }
   ],
   "source": [
    "# 指定されたノードから出る枝を列挙\n",
    "print(G_practice.out_edges(3))\n",
    "# [(3, 0), (3, 2), (3, 1)]\n",
    "\n",
    "print(G_practice.out_edges([3]))\n",
    "# [(3, 0), (3, 2), (3, 1)]\n",
    "\n",
    "print(G_practice.out_edges([3,2]))\n",
    "# [(3, 0), (3, 2), (3, 1), (2, 0), (2, 4)]"
   ]
  },
  {
   "cell_type": "code",
   "execution_count": 186,
   "metadata": {
    "scrolled": true
   },
   "outputs": [
    {
     "name": "stdout",
     "output_type": "stream",
     "text": [
      "[(1, 3), (4, 3)]\n",
      "[(1, 3), (4, 3)]\n",
      "[(1, 3), (4, 3), (0, 2), (4, 2)]\n"
     ]
    }
   ],
   "source": [
    "# 指定されたノードに入る枝を列挙\n",
    "print(G_practice.in_edges(3))\n",
    "# [(1, 3), (4, 3)]\n",
    "\n",
    "print(G_practice.in_edges([3]))\n",
    "# [(1, 3), (4, 3)]\n",
    "\n",
    "print(G_practice.in_edges([3,2]))\n",
    "# [(1, 3), (4, 3), (0, 2), (4, 2)]"
   ]
  },
  {
   "cell_type": "code",
   "execution_count": 188,
   "metadata": {},
   "outputs": [
    {
     "name": "stdout",
     "output_type": "stream",
     "text": [
      "{'weight': 0.1}\n"
     ]
    }
   ],
   "source": [
    "# (0,1)の重みを知りたい場合\n",
    "print(G_practice[0][1])\n",
    "# {'weight': 0.1}"
   ]
  },
  {
   "cell_type": "code",
   "execution_count": 236,
   "metadata": {},
   "outputs": [
    {
     "name": "stdout",
     "output_type": "stream",
     "text": [
      "[(0, 4), (1, 4), (2, 4), (3, 4), (4, 4)]\n"
     ]
    }
   ],
   "source": [
    "# 各ノードの次数\n",
    "print(G_practice.degree)\n",
    "# [(0, 4), (1, 4), (2, 4), (3, 4), (4, 4)]"
   ]
  },
  {
   "cell_type": "code",
   "execution_count": 189,
   "metadata": {},
   "outputs": [
    {
     "name": "stdout",
     "output_type": "stream",
     "text": [
      "[0, 1]\n"
     ]
    }
   ],
   "source": [
    "# ノード3のout-neighbor頂点\n",
    "print(list(G_practice.successors(3)))\n",
    "# [0, 1]"
   ]
  },
  {
   "cell_type": "code",
   "execution_count": 190,
   "metadata": {},
   "outputs": [
    {
     "name": "stdout",
     "output_type": "stream",
     "text": [
      "[1, 4]\n"
     ]
    }
   ],
   "source": [
    "# ノード3のin-neighbor頂点\n",
    "print(list(G_practice.predecessors(3)))\n",
    "# [1, 4]"
   ]
  },
  {
   "cell_type": "code",
   "execution_count": 191,
   "metadata": {},
   "outputs": [
    {
     "name": "stdout",
     "output_type": "stream",
     "text": [
      "{0: [0], 1: [0, 1], 2: [0, 2], 3: [0, 1, 3], 4: [0, 1, 4]}\n"
     ]
    }
   ],
   "source": [
    "# ノード0からの到達可能ノードまでの最短パス\n",
    "print(nx.single_source_shortest_path(G_practice, 0))\n",
    "# {0: [0], 1: [0, 1], 2: [0, 2], 3: [0, 1, 3], 4: [0, 1, 4]}"
   ]
  },
  {
   "cell_type": "code",
   "execution_count": 192,
   "metadata": {},
   "outputs": [
    {
     "name": "stdout",
     "output_type": "stream",
     "text": [
      "{0: [0], 2: [2, 0], 3: [3, 0], 4: [4, 2, 0], 1: [1, 3, 0]}\n"
     ]
    }
   ],
   "source": [
    "# ノード0までの到達可能ノードまでの最短パス\n",
    "print(nx.single_target_shortest_path(G_practice, 0))\n",
    "# {0: [0], 2: [2, 0], 3: [3, 0], 4: [4, 2, 0], 1: [1, 3, 0]}"
   ]
  },
  {
   "cell_type": "code",
   "execution_count": 193,
   "metadata": {},
   "outputs": [
    {
     "name": "stdout",
     "output_type": "stream",
     "text": [
      "[(0, []), (1, [0]), (2, [0]), (3, [1]), (4, [1])]\n",
      "[(0, 0), (1, 0.1), (2, 0.2), (3, 0.4), (4, 0.5)]\n"
     ]
    }
   ],
   "source": [
    "pred, dist = nx.dijkstra_predecessor_and_distance(G_practice, 0)\n",
    "# ノード0から各ノードへの最短経路の一個手前のノード\n",
    "print(sorted(pred.items()))\n",
    "# [(0, []), (1, [0]), (2, [0]), (3, [1]), (4, [1])]\n",
    "\n",
    "# ノード0から各頂点までの距離\n",
    "print(sorted(dist.items()))\n",
    "# [(0, 0), (1, 0.1), (2, 0.2), (3, 0.4), (4, 0.5)]"
   ]
  },
  {
   "cell_type": "code",
   "execution_count": 194,
   "metadata": {},
   "outputs": [
    {
     "name": "stdout",
     "output_type": "stream",
     "text": [
      "[0, 1, 4]\n"
     ]
    }
   ],
   "source": [
    "# ノード0からノード4までの最短経路 \n",
    "print(nx.dijkstra_path(G_practice,0,4))\n",
    "# [0, 1, 4]"
   ]
  },
  {
   "cell_type": "code",
   "execution_count": 196,
   "metadata": {},
   "outputs": [
    {
     "name": "stdout",
     "output_type": "stream",
     "text": [
      "{3: 0, 0: 0.7, 1: 0.7999999999999999, 2: 0.8999999999999999, 4: 1.2}\n",
      "{3: [3], 0: [3, 0], 1: [3, 0, 1], 2: [3, 0, 2], 4: [3, 0, 1, 4]}\n"
     ]
    }
   ],
   "source": [
    "# 任意のノード間についてダイクストラで計算\n",
    "len_path = dict(nx.all_pairs_dijkstra(G_practice))\n",
    "\n",
    "# ノード3から各ノードへの最短距離\n",
    "print(len_path[3][0])\n",
    "# {3: 0, 0: 0.7, 1: 0.7999999999999999, 2: 0.8999999999999999, 4: 1.2}\n",
    "\n",
    "# ノード3から各ノードへの最短経路\n",
    "print(len_path[3][1])\n",
    "# {3: [3], 0: [3, 0], 1: [3, 0, 1], 2: [3, 0, 2], 4: [3, 0, 1, 4]}"
   ]
  },
  {
   "cell_type": "code",
   "execution_count": 199,
   "metadata": {},
   "outputs": [
    {
     "name": "stdout",
     "output_type": "stream",
     "text": [
      "{3: 0, 0: 0.7, 1: 0.7999999999999999, 2: 0.8999999999999999}\n",
      "{3: [3], 0: [3, 0], 1: [3, 0, 1], 2: [3, 0, 2]}\n"
     ]
    }
   ],
   "source": [
    "# 任意のノード間について最短距離が1以下の経路をダイクストラで計算\n",
    "len_path = dict(nx.all_pairs_dijkstra(G_practice, cutoff=1))\n",
    "\n",
    "# 上と比較すると、ノード3から4への経路が消えている\n",
    "# ノード3から各ノードへの最短距離\n",
    "print(len_path[3][0])\n",
    "# {3: 0, 0: 0.7, 1: 0.7999999999999999, 2: 0.8999999999999999}\n",
    "\n",
    "# ノード3から各ノードへの最短経路\n",
    "print(len_path[3][1])\n",
    "# {3: [3], 0: [3, 0], 1: [3, 0, 1], 2: [3, 0, 2]}"
   ]
  },
  {
   "cell_type": "code",
   "execution_count": 200,
   "metadata": {},
   "outputs": [
    {
     "name": "stdout",
     "output_type": "stream",
     "text": [
      "76.8 µs ± 3.9 µs per loop (mean ± std. dev. of 7 runs, 10000 loops each)\n",
      "61.5 µs ± 3.39 µs per loop (mean ± std. dev. of 7 runs, 10000 loops each)\n"
     ]
    }
   ],
   "source": [
    "%timeit len_path = dict(nx.all_pairs_dijkstra(G_practice))\n",
    "%timeit len_path = dict(nx.all_pairs_dijkstra(G_practice, cutoff=1))\n",
    "\n",
    "# 70.7 µs ± 5.55 µs per loop (mean ± std. dev. of 7 runs, 10000 loops each)\n",
    "# 57.1 µs ± 461 ns per loop (mean ± std. dev. of 7 runs, 10000 loops each)\n",
    "# わずかに速くなっている"
   ]
  },
  {
   "cell_type": "code",
   "execution_count": 201,
   "metadata": {},
   "outputs": [
    {
     "name": "stdout",
     "output_type": "stream",
     "text": [
      "[0, 1, 4]\n",
      "[1, 4]\n",
      "[2, 4]\n",
      "[3, 0, 1, 4]\n",
      "[4]\n"
     ]
    }
   ],
   "source": [
    "for n, (dist, path) in nx.all_pairs_dijkstra(G_practice):\n",
    "    print(path.get(4))\n",
    "    \n",
    "# [0, 1, 4]\n",
    "# [1, 4]\n",
    "# [2, 4]\n",
    "# [3, 0, 1, 4]\n",
    "# [4]"
   ]
  },
  {
   "cell_type": "code",
   "execution_count": 208,
   "metadata": {
    "scrolled": true
   },
   "outputs": [
    {
     "name": "stdout",
     "output_type": "stream",
     "text": [
      "False\n"
     ]
    }
   ],
   "source": [
    "# グラフが木構造であるかどうかを判定する\n",
    "print(nx.is_tree(G_practice))\n",
    "# False"
   ]
  },
  {
   "cell_type": "code",
   "execution_count": null,
   "metadata": {},
   "outputs": [],
   "source": []
  },
  {
   "cell_type": "code",
   "execution_count": null,
   "metadata": {},
   "outputs": [],
   "source": []
  },
  {
   "cell_type": "code",
   "execution_count": 237,
   "metadata": {},
   "outputs": [],
   "source": [
    "G_practice2 = nx.DiGraph()\n",
    "\n",
    "weighted_edges = [[0,2,0.1],\n",
    "                  [0,1,0.1],\n",
    "                  [2,0,0.1],\n",
    "                  [1,2,0.1],\n",
    "                  [0,7,0.1],\n",
    "                  [2,7,0.1],\n",
    "                  [7,4,0.1],\n",
    "                  [7,5,0.1],\n",
    "                  [7,6,0.1],\n",
    "                  [4,5,0.1],\n",
    "                  [5,4,0.1],\n",
    "                  [5,6,0.1],\n",
    "                 ]\n",
    "\n",
    "G_practice2.add_weighted_edges_from(weighted_edges)"
   ]
  },
  {
   "cell_type": "code",
   "execution_count": 204,
   "metadata": {
    "scrolled": false
   },
   "outputs": [
    {
     "data": {
      "image/png": "[encoded data removed]",
      "text/plain": [
       "<Figure size 1080x720 with 1 Axes>"
      ]
     },
     "metadata": {},
     "output_type": "display_data"
    }
   ],
   "source": [
    "plt.figure(figsize=(15,10))\n",
    "nx.draw_networkx(G_practice2)\n",
    "plt.show()"
   ]
  },
  {
   "cell_type": "code",
   "execution_count": 271,
   "metadata": {},
   "outputs": [
    {
     "name": "stdout",
     "output_type": "stream",
     "text": [
      "7\n"
     ]
    }
   ],
   "source": [
    "# 次数最大のノード\n",
    "G_practice2_deg = dict(G_practice2.degree())\n",
    "print(max(G_practice2_deg, key=G_practice2_deg.get))"
   ]
  },
  {
   "cell_type": "code",
   "execution_count": 238,
   "metadata": {},
   "outputs": [
    {
     "name": "stdout",
     "output_type": "stream",
     "text": [
      "[{6}, {4, 5}, {7}, {0, 1, 2}]\n"
     ]
    }
   ],
   "source": [
    "# 強連結成分の計算\n",
    "print(list(nx.strongly_connected_components(G_practice2)))\n",
    "# [{6}, {4, 5}, {7}, {0, 1, 2}]"
   ]
  },
  {
   "cell_type": "code",
   "execution_count": 239,
   "metadata": {},
   "outputs": [
    {
     "data": {
      "image/png": "[encoded data removed]",
      "text/plain": [
       "<Figure size 432x288 with 1 Axes>"
      ]
     },
     "metadata": {},
     "output_type": "display_data"
    }
   ],
   "source": [
    "# グラフを縮約し、DAGを作成する\n",
    "DAG = nx.condensation(G_practice2)\n",
    "nx.draw_networkx(DAG)\n",
    "plt.show()"
   ]
  },
  {
   "cell_type": "code",
   "execution_count": 288,
   "metadata": {
    "scrolled": true
   },
   "outputs": [
    {
     "name": "stdout",
     "output_type": "stream",
     "text": [
      "{0: {'members': {6}}, 1: {'members': {4, 5}}, 2: {'members': {7}}, 3: {'members': {0, 1, 2}}}\n"
     ]
    }
   ],
   "source": [
    "# DAGに変換させたときに、どのノードを何に縮約したか\n",
    "print(dict(DAG.nodes))\n",
    "# {0: {'members': {6}}, 1: {'members': {4, 5}}, 2: {'members': {7}}, 3: {'members': {0, 1, 2}}}"
   ]
  },
  {
   "cell_type": "code",
   "execution_count": 310,
   "metadata": {},
   "outputs": [
    {
     "data": {
      "text/plain": [
       "{4, 5}"
      ]
     },
     "execution_count": 310,
     "metadata": {},
     "output_type": "execute_result"
    }
   ],
   "source": [
    "dict(DAG.nodes)[1][\"members\"]"
   ]
  },
  {
   "cell_type": "code",
   "execution_count": 304,
   "metadata": {},
   "outputs": [
    {
     "name": "stdout",
     "output_type": "stream",
     "text": [
      "{0: 1, 1: 2, 2: 1, 3: 3}\n"
     ]
    }
   ],
   "source": [
    "# 縮約後の各強連結成分のノード数\n",
    "DAG_item = dict(DAG.nodes).items()\n",
    "weight_i = {node:len(list(w.values())[0]) for node, w in DAG_item}\n",
    "print(weight_i)\n",
    "# {0: 1, 1: 2, 2: 1, 3: 3}"
   ]
  },
  {
   "cell_type": "code",
   "execution_count": 210,
   "metadata": {},
   "outputs": [
    {
     "name": "stdout",
     "output_type": "stream",
     "text": [
      "CPU times: user 1.97 s, sys: 37.9 ms, total: 2 s\n",
      "Wall time: 2.02 s\n"
     ]
    },
    {
     "data": {
      "text/plain": [
       "<networkx.classes.digraph.DiGraph at 0xa22761eb8>"
      ]
     },
     "execution_count": 210,
     "metadata": {},
     "output_type": "execute_result"
    }
   ],
   "source": [
    "# 縮約がどれくらいの時間がかかるのか実データで実験してみる\n",
    "%time nx.condensation(G_real)"
   ]
  },
  {
   "cell_type": "code",
   "execution_count": 212,
   "metadata": {
    "scrolled": true
   },
   "outputs": [
    {
     "name": "stdout",
     "output_type": "stream",
     "text": [
      "42176\n"
     ]
    }
   ],
   "source": [
    "# 強連結成分の個数\n",
    "print(len(dict(DAG.nodes)))\n",
    "# 42176"
   ]
  },
  {
   "cell_type": "code",
   "execution_count": null,
   "metadata": {},
   "outputs": [],
   "source": []
  },
  {
   "cell_type": "code",
   "execution_count": 275,
   "metadata": {},
   "outputs": [],
   "source": [
    "# 幅優先探索によって、Sから到達可能なノードを返す\n",
    "def bfs(G, S):\n",
    "    visited = {s:None for s in S}\n",
    "    queue = deque(S)\n",
    "    while queue:\n",
    "        v = queue.popleft()\n",
    "        out_node = G[v]\n",
    "        for u in out_node:\n",
    "            if not (u in visited):\n",
    "                queue.append(u)\n",
    "                visited[u] = v\n",
    "    return visited"
   ]
  },
  {
   "cell_type": "code",
   "execution_count": 285,
   "metadata": {},
   "outputs": [
    {
     "name": "stdout",
     "output_type": "stream",
     "text": [
      "47676\n",
      "47676\n",
      "47676\n",
      "47676\n",
      "47676\n",
      "47676\n",
      "47676\n",
      "47676\n",
      "443 ms ± 20.8 ms per loop (mean ± std. dev. of 7 runs, 1 loop each)\n"
     ]
    }
   ],
   "source": [
    "%timeit print(len(set(nx.dfs_preorder_nodes(G_real,source=0))))"
   ]
  },
  {
   "cell_type": "code",
   "execution_count": 286,
   "metadata": {},
   "outputs": [
    {
     "name": "stdout",
     "output_type": "stream",
     "text": [
      "47676\n",
      "47676\n",
      "47676\n",
      "47676\n",
      "47676\n",
      "47676\n",
      "47676\n",
      "47676\n",
      "203 ms ± 21.3 ms per loop (mean ± std. dev. of 7 runs, 1 loop each)\n"
     ]
    }
   ],
   "source": [
    "%timeit print(len(set(bfs(G_real, [0]))))"
   ]
  },
  {
   "cell_type": "markdown",
   "metadata": {},
   "source": [
    "自作関数の方が速い"
   ]
  },
  {
   "cell_type": "markdown",
   "metadata": {},
   "source": [
    "## Gをreverseしてからbfsするのとbfs_reverse(枝を逆だと考えてbfs)のとどちらが速いか?"
   ]
  },
  {
   "cell_type": "code",
   "execution_count": 382,
   "metadata": {},
   "outputs": [],
   "source": [
    "# 幅優先探索によって、Sから到達可能なノードを返す\n",
    "def bfs_reverse(G, S):\n",
    "    visited = {s:None for s in S}\n",
    "    queue = deque(S)\n",
    "    while queue:\n",
    "        v = queue.popleft()\n",
    "        in_node = G.predecessors(v)\n",
    "        for u in in_node:\n",
    "            if not (u in visited):\n",
    "                queue.append(u)\n",
    "                visited[u] = v\n",
    "    return visited"
   ]
  },
  {
   "cell_type": "code",
   "execution_count": 383,
   "metadata": {},
   "outputs": [
    {
     "name": "stdout",
     "output_type": "stream",
     "text": [
      "56459\n",
      "CPU times: user 5.99 s, sys: 127 ms, total: 6.12 s\n",
      "Wall time: 6.13 s\n"
     ]
    }
   ],
   "source": [
    "%%time\n",
    "G_real_reverse = nx.reverse(G_real, copy=True)\n",
    "print(len(bfs(G_real_reverse, [0])))"
   ]
  },
  {
   "cell_type": "code",
   "execution_count": 384,
   "metadata": {},
   "outputs": [
    {
     "name": "stdout",
     "output_type": "stream",
     "text": [
      "56459\n",
      "CPU times: user 247 ms, sys: 5.05 ms, total: 252 ms\n",
      "Wall time: 250 ms\n"
     ]
    }
   ],
   "source": [
    "%time print(len(bfs_reverse(G_real, [0])))"
   ]
  },
  {
   "cell_type": "code",
   "execution_count": null,
   "metadata": {},
   "outputs": [],
   "source": []
  }
 ],
 "metadata": {
  "kernelspec": {
   "display_name": "Python 3",
   "language": "python",
   "name": "python3"
  },
  "language_info": {
   "codemirror_mode": {
    "name": "ipython",
    "version": 3
   },
   "file_extension": ".py",
   "mimetype": "text/x-python",
   "name": "python",
   "nbconvert_exporter": "python",
   "pygments_lexer": "ipython3",
   "version": "3.7.3"
  }
 },
 "nbformat": 4,
 "nbformat_minor": 2
}
