{
 "cells": [
  {
   "cell_type": "code",
   "execution_count": 2,
   "metadata": {},
   "outputs": [],
   "source": [
    "import networkx as nx\n",
    "import pandas as pd\n",
    "import numpy as np\n",
    "import matplotlib.pyplot as plt\n",
    "from tqdm import tqdm_notebook as tqdm\n",
    "import random\n",
    "import time\n",
    "from collections import deque\n",
    "\n",
    "%matplotlib inline"
   ]
  },
  {
   "cell_type": "code",
   "execution_count": 3,
   "metadata": {},
   "outputs": [
    {
     "data": {
      "text/html": [
       "<div>\n",
       "<style scoped>\n",
       "    .dataframe tbody tr th:only-of-type {\n",
       "        vertical-align: middle;\n",
       "    }\n",
       "\n",
       "    .dataframe tbody tr th {\n",
       "        vertical-align: top;\n",
       "    }\n",
       "\n",
       "    .dataframe thead th {\n",
       "        text-align: right;\n",
       "    }\n",
       "</style>\n",
       "<table border=\"1\" class=\"dataframe\">\n",
       "  <thead>\n",
       "    <tr style=\"text-align: right;\">\n",
       "      <th></th>\n",
       "      <th># FromNodeId</th>\n",
       "      <th>ToNodeId</th>\n",
       "      <th>p</th>\n",
       "    </tr>\n",
       "  </thead>\n",
       "  <tbody>\n",
       "    <tr>\n",
       "      <th>0</th>\n",
       "      <td>0</td>\n",
       "      <td>4</td>\n",
       "      <td>0.008000</td>\n",
       "    </tr>\n",
       "    <tr>\n",
       "      <th>1</th>\n",
       "      <td>0</td>\n",
       "      <td>5</td>\n",
       "      <td>0.005682</td>\n",
       "    </tr>\n",
       "    <tr>\n",
       "      <th>2</th>\n",
       "      <td>0</td>\n",
       "      <td>7</td>\n",
       "      <td>0.033333</td>\n",
       "    </tr>\n",
       "    <tr>\n",
       "      <th>3</th>\n",
       "      <td>0</td>\n",
       "      <td>8</td>\n",
       "      <td>0.009615</td>\n",
       "    </tr>\n",
       "    <tr>\n",
       "      <th>4</th>\n",
       "      <td>0</td>\n",
       "      <td>9</td>\n",
       "      <td>0.066667</td>\n",
       "    </tr>\n",
       "  </tbody>\n",
       "</table>\n",
       "</div>"
      ],
      "text/plain": [
       "   # FromNodeId  ToNodeId         p\n",
       "0             0         4  0.008000\n",
       "1             0         5  0.005682\n",
       "2             0         7  0.033333\n",
       "3             0         8  0.009615\n",
       "4             0         9  0.066667"
      ]
     },
     "execution_count": 3,
     "metadata": {},
     "output_type": "execute_result"
    }
   ],
   "source": [
    "# データの読み込み\n",
    "# 枝確率を計算済みのネットワークを読み込む\n",
    "network = pd.read_csv(\"data.csv\")\n",
    "network.head()"
   ]
  },
  {
   "cell_type": "code",
   "execution_count": 4,
   "metadata": {},
   "outputs": [],
   "source": [
    "# numpy型に変換\n",
    "network_np = network.values"
   ]
  },
  {
   "cell_type": "code",
   "execution_count": 5,
   "metadata": {},
   "outputs": [],
   "source": [
    "# 空の有向グラフを作成\n",
    "G = nx.DiGraph()"
   ]
  },
  {
   "cell_type": "code",
   "execution_count": 6,
   "metadata": {},
   "outputs": [],
   "source": [
    "# 重み付きの枝を加える\n",
    "G.add_weighted_edges_from(network_np)"
   ]
  },
  {
   "cell_type": "code",
   "execution_count": 50,
   "metadata": {},
   "outputs": [],
   "source": [
    "# 入力は隣接リスト(numpy)[[from_node, to_node, edge_prob],...]\n",
    "def live_edge_graph_edges(p, p_len):\n",
    "    rand = np.random.uniform(0, 1, p_len)\n",
    "    return np.array([[p[i][0], p[i][1]] for i in range(p_len) if rand[i] < p[i][2]])"
   ]
  },
  {
   "cell_type": "code",
   "execution_count": 21,
   "metadata": {},
   "outputs": [
    {
     "name": "stdout",
     "output_type": "stream",
     "text": [
      "0.6661914204751673\n",
      "CPU times: user 461 ms, sys: 11.6 ms, total: 473 ms\n",
      "Wall time: 500 ms\n"
     ]
    }
   ],
   "source": [
    "%time simulation = live_edge_graph_edges(network_np, len(network_np))"
   ]
  },
  {
   "cell_type": "code",
   "execution_count": 22,
   "metadata": {},
   "outputs": [
    {
     "data": {
      "text/plain": [
       "array([[0.0000e+00, 2.6000e+01],\n",
       "       [0.0000e+00, 1.1400e+02],\n",
       "       [0.0000e+00, 7.9900e+02],\n",
       "       ...,\n",
       "       [7.5869e+04, 7.5868e+04],\n",
       "       [7.5876e+04, 7.5877e+04],\n",
       "       [7.5887e+04, 5.2098e+04]])"
      ]
     },
     "execution_count": 22,
     "metadata": {},
     "output_type": "execute_result"
    }
   ],
   "source": [
    "simulation"
   ]
  },
  {
   "cell_type": "code",
   "execution_count": 64,
   "metadata": {},
   "outputs": [],
   "source": [
    "def reach_node_size(live_edge, seed):\n",
    "    # グラフ作成\n",
    "    H = nx.DiGraph()\n",
    "    H.add_edges_from(live_edge)\n",
    "    \n",
    "    # 到達可能な頂点集合をシードごとに和集合して求める\n",
    "    reach_set = set([])\n",
    "    for s in seed:\n",
    "        # たどり着いているノードがシードでない場合だけ計算する\n",
    "        if s not in reach_set:\n",
    "            try:\n",
    "                reach_set |= set(nx.dfs_preorder_nodes(H,source=s))\n",
    "            except:\n",
    "                return H\n",
    "    return len(reach_set)"
   ]
  },
  {
   "cell_type": "code",
   "execution_count": 65,
   "metadata": {},
   "outputs": [
    {
     "name": "stdout",
     "output_type": "stream",
     "text": [
      "CPU times: user 791 ms, sys: 31 ms, total: 822 ms\n",
      "Wall time: 824 ms\n"
     ]
    },
    {
     "data": {
      "text/plain": [
       "44"
      ]
     },
     "execution_count": 65,
     "metadata": {},
     "output_type": "execute_result"
    }
   ],
   "source": [
    "%time reach_node_size(simulation, [0])"
   ]
  },
  {
   "cell_type": "code",
   "execution_count": 73,
   "metadata": {},
   "outputs": [],
   "source": [
    "# 影響数の期待値(近似)\n",
    "# approxim_expected_influence_num(枝確率, シード, ε, δ)\n",
    "def approx_expect_inf_size(p, seed, epsi, delta):\n",
    "    # グラフの作成\n",
    "    G = nx.DiGraph()\n",
    "    G.add_weighted_edges_from(p)\n",
    "    \n",
    "    # 頂点数\n",
    "    n = G.number_of_nodes()\n",
    "    \n",
    "    # 試行回数を算出する\n",
    "    T = int(((n**2) / (epsi**2)) * np.log(1/delta)) + 1\n",
    "        \n",
    "    # 各回のシュミレーションの結果の和が格納される\n",
    "    X = 0\n",
    "    len_p = len(p)\n",
    "    # T回シュミレーションしていく\n",
    "    for i in tqdm(range(T)):\n",
    "        # live_edgeグラフを作る\n",
    "        live_edge = live_edge_graph_edges(p, len_p)\n",
    "        try:\n",
    "            X += reach_node_size(live_edge, seed)\n",
    "        except:\n",
    "            return reach_node_size(live_edge, seed)\n",
    "    expected_num = X / T\n",
    "    return expected_num"
   ]
  },
  {
   "cell_type": "code",
   "execution_count": 67,
   "metadata": {},
   "outputs": [],
   "source": [
    "# シュミレーションの結果的に変化していない場合は、回数を減らす関数\n",
    "# 影響数の期待値(近似)\n",
    "# approxim_expected_influence_num(枝確率, シード, ε, δ, 変化数)\n",
    "def approx_expect_inf_size_heuris(p, seed, epsi, delta, change):\n",
    "    # グラフの作成\n",
    "    G = nx.DiGraph()\n",
    "    G.add_weighted_edges_from(p)\n",
    "    \n",
    "    # 頂点数\n",
    "    n = G.number_of_nodes()\n",
    "    \n",
    "    # 試行回数を算出する\n",
    "    T = int(((n**2) / (epsi**2)) * np.log(1/delta)) + 1\n",
    "        \n",
    "    # 各回のシュミレーションの結果の和が格納される\n",
    "    X = 0\n",
    "    len_p = len(p)\n",
    "    # T回シュミレーションしていく\n",
    "    for i in tqdm(range(T)):\n",
    "        # live_edgeグラフを作る\n",
    "        live_edge = live_edge_graph_edges(p, len_p)\n",
    "        X += reach_node_size(live_edge, seed)\n",
    "        \n",
    "        # 前回と比較して変化なし\n",
    "        # if (i != 0) and (abs(((X / (i+1)) - expected_num) / expected_num) < rate_change):\n",
    "        if (i != 0) and (abs(((X / (i+1)) - expected_num) < change)):    \n",
    "            return expected_num\n",
    "        \n",
    "        expected_num = X / (i+1)\n",
    "    return expected_num"
   ]
  },
  {
   "cell_type": "code",
   "execution_count": null,
   "metadata": {},
   "outputs": [],
   "source": []
  },
  {
   "cell_type": "code",
   "execution_count": 68,
   "metadata": {},
   "outputs": [],
   "source": [
    "# 幅優先探索\n",
    "# アルゴリズム by https://todo314.hatenadiary.org/entry/20151013/1444720166"
   ]
  },
  {
   "cell_type": "code",
   "execution_count": 69,
   "metadata": {},
   "outputs": [],
   "source": [
    "def IC_simulation(G, S):\n",
    "    visited = {s:None for s in S}\n",
    "    queue = deque(S)\n",
    "    while queue:\n",
    "        v = queue.popleft()\n",
    "        out_node = G[v]\n",
    "        for u in out_node:\n",
    "            if not (u in visited):\n",
    "                coin = np.random.uniform(0,1)\n",
    "                if G[v][u][\"weight\"] > coin:\n",
    "                    queue.append(u)\n",
    "                    visited[u] = v\n",
    "    return visited"
   ]
  },
  {
   "cell_type": "code",
   "execution_count": 70,
   "metadata": {},
   "outputs": [],
   "source": [
    "def approx_expected_inf_size_IC(G, seed, epsi, delta):\n",
    "    # 試行回数を算出する\n",
    "    n = G.number_of_nodes()\n",
    "    T = int(((n**2) / (epsi**2)) * np.log(1/delta)) + 1\n",
    "    inf_size = sum([len(IC_simulation(G, seed)) for i in range(T)])\n",
    "    return inf_size / T"
   ]
  },
  {
   "cell_type": "code",
   "execution_count": 121,
   "metadata": {},
   "outputs": [],
   "source": [
    "def approx_expected_inf_size_IC_T(G, seed, T):\n",
    "    # 試行回数を算出する\n",
    "    n = G.number_of_nodes()\n",
    "    inf_size = sum([len(IC_simulation(G, seed)) for i in range(T)])\n",
    "    return inf_size / T"
   ]
  },
  {
   "cell_type": "markdown",
   "metadata": {},
   "source": [
    "# 実行時間実験"
   ]
  },
  {
   "cell_type": "code",
   "execution_count": 119,
   "metadata": {},
   "outputs": [
    {
     "data": {
      "text/plain": [
       "606747434"
      ]
     },
     "execution_count": 119,
     "metadata": {},
     "output_type": "execute_result"
    }
   ],
   "source": [
    "epsi = 0.9999\n",
    "delta = 0.9\n",
    "seed = [0,3]\n",
    "n = G.number_of_nodes()\n",
    "int(((n**2) / (epsi**2)) * np.log(1/delta)) + 1"
   ]
  },
  {
   "cell_type": "code",
   "execution_count": 120,
   "metadata": {
    "scrolled": true
   },
   "outputs": [],
   "source": [
    "# %time approx_expected_inf_size_IC(G, seed, epsi, delta)"
   ]
  },
  {
   "cell_type": "code",
   "execution_count": 159,
   "metadata": {},
   "outputs": [
    {
     "data": {
      "application/vnd.jupyter.widget-view+json": {
       "model_id": "222447bf92a647e98f57b11991456a3a",
       "version_major": 2,
       "version_minor": 0
      },
      "text/plain": [
       "HBox(children=(IntProgress(value=0, max=1000), HTML(value='')))"
      ]
     },
     "metadata": {},
     "output_type": "display_data"
    }
   ],
   "source": [
    "time_list = []\n",
    "x_cnt = []\n",
    "result = []\n",
    "seed = [0,5]\n",
    "sum_inf = 0\n",
    "T = 100\n",
    "\n",
    "for t in tqdm(range(1000)):\n",
    "    start = time.time()\n",
    "    sum_inf += sum([len(IC_simulation(G, seed)) for i in range(T)])\n",
    "    time_list.append(time.time() - start)\n",
    "    result.append(sum_inf / (T*(t+1)))\n",
    "    x_cnt.append(T*(t+1))"
   ]
  },
  {
   "cell_type": "code",
   "execution_count": 160,
   "metadata": {},
   "outputs": [
    {
     "data": {
      "image/png": "[encoded data removed]",
      "text/plain": [
       "<Figure size 432x288 with 1 Axes>"
      ]
     },
     "metadata": {
      "needs_background": "light"
     },
     "output_type": "display_data"
    }
   ],
   "source": [
    "time_df = pd.DataFrame({\"T\":x_cnt, \"time\":np.cumsum(time_list)}).set_index(\"T\")\n",
    "time_df.plot()\n",
    "plt.show()"
   ]
  },
  {
   "cell_type": "code",
   "execution_count": 161,
   "metadata": {},
   "outputs": [
    {
     "data": {
      "image/png": "[encoded data removed]",
      "text/plain": [
       "<Figure size 432x288 with 1 Axes>"
      ]
     },
     "metadata": {
      "needs_background": "light"
     },
     "output_type": "display_data"
    }
   ],
   "source": [
    "inf_df = pd.DataFrame({\"T\":x_cnt, \"Influence spread\":result}).set_index(\"T\")\n",
    "inf_df.plot()\n",
    "plt.show()"
   ]
  },
  {
   "cell_type": "code",
   "execution_count": null,
   "metadata": {},
   "outputs": [],
   "source": []
  }
 ],
 "metadata": {
  "kernelspec": {
   "display_name": "Python 3",
   "language": "python",
   "name": "python3"
  },
  "language_info": {
   "codemirror_mode": {
    "name": "ipython",
    "version": 3
   },
   "file_extension": ".py",
   "mimetype": "text/x-python",
   "name": "python",
   "nbconvert_exporter": "python",
   "pygments_lexer": "ipython3",
   "version": "3.7.3"
  }
 },
 "nbformat": 4,
 "nbformat_minor": 2
}
